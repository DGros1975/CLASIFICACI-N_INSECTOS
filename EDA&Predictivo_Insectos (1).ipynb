{
  "cells": [
    {
      "cell_type": "code",
      "execution_count": 760,
      "metadata": {
        "colab": {
          "base_uri": "https://localhost:8080/"
        },
        "id": "6lc9CUK2_FwC",
        "outputId": "15ca7669-d3f1-41bd-ddbe-72cfe2debd98"
      },
      "outputs": [
        {
          "output_type": "stream",
          "name": "stdout",
          "text": [
            "Drive already mounted at /content/drive; to attempt to forcibly remount, call drive.mount(\"/content/drive\", force_remount=True).\n"
          ]
        }
      ],
      "source": [
        "from google.colab import drive\n",
        "drive.mount('/content/drive')"
      ]
    },
    {
      "cell_type": "markdown",
      "metadata": {
        "id": "q3fFVaCA1XZ5"
      },
      "source": [
        "#IMPORTACIÓN DE LIBRERÍAS"
      ]
    },
    {
      "cell_type": "code",
      "execution_count": 1241,
      "metadata": {
        "colab": {
          "base_uri": "https://localhost:8080/"
        },
        "id": "ZGzQJ7t9_I94",
        "outputId": "3d4637a1-fb2a-45d7-c29f-d80cabf341b9"
      },
      "outputs": [
        {
          "output_type": "stream",
          "name": "stdout",
          "text": [
            "/bin/bash: conda: command not found\n"
          ]
        }
      ],
      "source": [
        "#importamos librerías\n",
        "import time\n",
        "\n",
        "import pandas as pd \n",
        "import numpy as np\n",
        "import matplotlib.pyplot as plt\n",
        "import seaborn as sns\n",
        "import math\n",
        "from imblearn.under_sampling import RandomUnderSampler\n",
        "from sklearn.preprocessing import LabelEncoder,MinMaxScaler\n",
        "import plotly.express as px\n",
        "\n",
        "from sklearn.model_selection import train_test_split\n",
        "from xgboost import XGBClassifier\n",
        "from sklearn.metrics import roc_auc_score\n",
        "from sklearn import preprocessing\n",
        "\n",
        "from sklearn.preprocessing import StandardScaler, MinMaxScaler\n",
        "from sklearn.base import BaseEstimator, TransformerMixin\n",
        "from sklearn.impute import KNNImputer, SimpleImputer\n",
        "from sklearn.cluster import KMeans\n",
        "\n",
        "from numpy import where\n",
        "from collections import Counter\n",
        "from sklearn.datasets import make_blobs\n",
        "from matplotlib import pyplot\n",
        "\n",
        "from sklearn import model_selection # model assesment and model selection strategies\n",
        "from sklearn import metrics # model evaluation metrics\n",
        "\n",
        "!conda install pydot -y\n",
        "from sklearn.tree import DecisionTreeClassifier\n",
        "from sklearn.ensemble import RandomForestClassifier, GradientBoostingClassifier\n",
        "from sklearn.svm import LinearSVC\n",
        "from sklearn.preprocessing import label_binarize\n",
        "from sklearn.tree import export_graphviz\n",
        "import graphviz\n",
        "\n",
        "\n",
        "from yellowbrick.classifier import ROCAUC"
      ]
    },
    {
      "cell_type": "markdown",
      "metadata": {
        "id": "2lz7TsVM1cPm"
      },
      "source": [
        "#IMPORTACIÓN DE DATOS"
      ]
    },
    {
      "cell_type": "markdown",
      "metadata": {
        "id": "-TahqbM00O0-"
      },
      "source": [
        "Cargamos el dataset para el training\n"
      ]
    },
    {
      "cell_type": "code",
      "execution_count": 762,
      "metadata": {
        "colab": {
          "base_uri": "https://localhost:8080/"
        },
        "id": "kvBlYYgIsa33",
        "outputId": "0d757211-45e4-4ba8-e131-b0d1a7b3a39f"
      },
      "outputs": [
        {
          "output_type": "stream",
          "name": "stderr",
          "text": [
            "/usr/local/lib/python3.7/dist-packages/IPython/core/interactiveshell.py:2882: FutureWarning: The error_bad_lines argument has been deprecated and will be removed in a future version.\n",
            "\n",
            "\n",
            "  exec(code_obj, self.user_global_ns, self.user_ns)\n"
          ]
        }
      ],
      "source": [
        "df_train = pd.read_csv(\"/content/drive/MyDrive/COMPETICION JOBARCELONA´22/train.csv\", sep=\",\", error_bad_lines = False, low_memory=False, index_col = 0)"
      ]
    },
    {
      "cell_type": "code",
      "execution_count": 763,
      "metadata": {
        "colab": {
          "base_uri": "https://localhost:8080/",
          "height": 270
        },
        "id": "SohvjT4Q2BXt",
        "outputId": "acebb9d7-2dce-4f44-d632-40990ab02da5"
      },
      "outputs": [
        {
          "output_type": "execute_result",
          "data": {
            "text/plain": [
              "   Hour  Minutes  Sensor_alpha  Sensor_beta  Sensor_gamma  Sensor_alpha_plus  \\\n",
              "0    22       26    119.910995   242.838324   -316.819222         250.195048   \n",
              "1    10       16    -90.790536  -269.470767   -182.581844          95.394941   \n",
              "2    21       42    -20.028003  -147.070212     50.280872         -90.750386   \n",
              "3    21       17    -21.258567     0.467070    -86.164153         -21.813529   \n",
              "4    18       16    -58.154501   -13.051195   -156.501167          48.392938   \n",
              "\n",
              "   Sensor_beta_plus  Sensor_gamma_plus  Insect  \n",
              "0        -53.547777        -112.049983       2  \n",
              "1         37.291944          48.525180       0  \n",
              "2        -50.476556          85.399009       1  \n",
              "3       -209.256006          16.291882       0  \n",
              "4       -110.008860         -10.285138       2  "
            ],
            "text/html": [
              "\n",
              "  <div id=\"df-61ac6c18-c28d-4f6c-b7ca-20eccb634414\">\n",
              "    <div class=\"colab-df-container\">\n",
              "      <div>\n",
              "<style scoped>\n",
              "    .dataframe tbody tr th:only-of-type {\n",
              "        vertical-align: middle;\n",
              "    }\n",
              "\n",
              "    .dataframe tbody tr th {\n",
              "        vertical-align: top;\n",
              "    }\n",
              "\n",
              "    .dataframe thead th {\n",
              "        text-align: right;\n",
              "    }\n",
              "</style>\n",
              "<table border=\"1\" class=\"dataframe\">\n",
              "  <thead>\n",
              "    <tr style=\"text-align: right;\">\n",
              "      <th></th>\n",
              "      <th>Hour</th>\n",
              "      <th>Minutes</th>\n",
              "      <th>Sensor_alpha</th>\n",
              "      <th>Sensor_beta</th>\n",
              "      <th>Sensor_gamma</th>\n",
              "      <th>Sensor_alpha_plus</th>\n",
              "      <th>Sensor_beta_plus</th>\n",
              "      <th>Sensor_gamma_plus</th>\n",
              "      <th>Insect</th>\n",
              "    </tr>\n",
              "  </thead>\n",
              "  <tbody>\n",
              "    <tr>\n",
              "      <th>0</th>\n",
              "      <td>22</td>\n",
              "      <td>26</td>\n",
              "      <td>119.910995</td>\n",
              "      <td>242.838324</td>\n",
              "      <td>-316.819222</td>\n",
              "      <td>250.195048</td>\n",
              "      <td>-53.547777</td>\n",
              "      <td>-112.049983</td>\n",
              "      <td>2</td>\n",
              "    </tr>\n",
              "    <tr>\n",
              "      <th>1</th>\n",
              "      <td>10</td>\n",
              "      <td>16</td>\n",
              "      <td>-90.790536</td>\n",
              "      <td>-269.470767</td>\n",
              "      <td>-182.581844</td>\n",
              "      <td>95.394941</td>\n",
              "      <td>37.291944</td>\n",
              "      <td>48.525180</td>\n",
              "      <td>0</td>\n",
              "    </tr>\n",
              "    <tr>\n",
              "      <th>2</th>\n",
              "      <td>21</td>\n",
              "      <td>42</td>\n",
              "      <td>-20.028003</td>\n",
              "      <td>-147.070212</td>\n",
              "      <td>50.280872</td>\n",
              "      <td>-90.750386</td>\n",
              "      <td>-50.476556</td>\n",
              "      <td>85.399009</td>\n",
              "      <td>1</td>\n",
              "    </tr>\n",
              "    <tr>\n",
              "      <th>3</th>\n",
              "      <td>21</td>\n",
              "      <td>17</td>\n",
              "      <td>-21.258567</td>\n",
              "      <td>0.467070</td>\n",
              "      <td>-86.164153</td>\n",
              "      <td>-21.813529</td>\n",
              "      <td>-209.256006</td>\n",
              "      <td>16.291882</td>\n",
              "      <td>0</td>\n",
              "    </tr>\n",
              "    <tr>\n",
              "      <th>4</th>\n",
              "      <td>18</td>\n",
              "      <td>16</td>\n",
              "      <td>-58.154501</td>\n",
              "      <td>-13.051195</td>\n",
              "      <td>-156.501167</td>\n",
              "      <td>48.392938</td>\n",
              "      <td>-110.008860</td>\n",
              "      <td>-10.285138</td>\n",
              "      <td>2</td>\n",
              "    </tr>\n",
              "  </tbody>\n",
              "</table>\n",
              "</div>\n",
              "      <button class=\"colab-df-convert\" onclick=\"convertToInteractive('df-61ac6c18-c28d-4f6c-b7ca-20eccb634414')\"\n",
              "              title=\"Convert this dataframe to an interactive table.\"\n",
              "              style=\"display:none;\">\n",
              "        \n",
              "  <svg xmlns=\"http://www.w3.org/2000/svg\" height=\"24px\"viewBox=\"0 0 24 24\"\n",
              "       width=\"24px\">\n",
              "    <path d=\"M0 0h24v24H0V0z\" fill=\"none\"/>\n",
              "    <path d=\"M18.56 5.44l.94 2.06.94-2.06 2.06-.94-2.06-.94-.94-2.06-.94 2.06-2.06.94zm-11 1L8.5 8.5l.94-2.06 2.06-.94-2.06-.94L8.5 2.5l-.94 2.06-2.06.94zm10 10l.94 2.06.94-2.06 2.06-.94-2.06-.94-.94-2.06-.94 2.06-2.06.94z\"/><path d=\"M17.41 7.96l-1.37-1.37c-.4-.4-.92-.59-1.43-.59-.52 0-1.04.2-1.43.59L10.3 9.45l-7.72 7.72c-.78.78-.78 2.05 0 2.83L4 21.41c.39.39.9.59 1.41.59.51 0 1.02-.2 1.41-.59l7.78-7.78 2.81-2.81c.8-.78.8-2.07 0-2.86zM5.41 20L4 18.59l7.72-7.72 1.47 1.35L5.41 20z\"/>\n",
              "  </svg>\n",
              "      </button>\n",
              "      \n",
              "  <style>\n",
              "    .colab-df-container {\n",
              "      display:flex;\n",
              "      flex-wrap:wrap;\n",
              "      gap: 12px;\n",
              "    }\n",
              "\n",
              "    .colab-df-convert {\n",
              "      background-color: #E8F0FE;\n",
              "      border: none;\n",
              "      border-radius: 50%;\n",
              "      cursor: pointer;\n",
              "      display: none;\n",
              "      fill: #1967D2;\n",
              "      height: 32px;\n",
              "      padding: 0 0 0 0;\n",
              "      width: 32px;\n",
              "    }\n",
              "\n",
              "    .colab-df-convert:hover {\n",
              "      background-color: #E2EBFA;\n",
              "      box-shadow: 0px 1px 2px rgba(60, 64, 67, 0.3), 0px 1px 3px 1px rgba(60, 64, 67, 0.15);\n",
              "      fill: #174EA6;\n",
              "    }\n",
              "\n",
              "    [theme=dark] .colab-df-convert {\n",
              "      background-color: #3B4455;\n",
              "      fill: #D2E3FC;\n",
              "    }\n",
              "\n",
              "    [theme=dark] .colab-df-convert:hover {\n",
              "      background-color: #434B5C;\n",
              "      box-shadow: 0px 1px 3px 1px rgba(0, 0, 0, 0.15);\n",
              "      filter: drop-shadow(0px 1px 2px rgba(0, 0, 0, 0.3));\n",
              "      fill: #FFFFFF;\n",
              "    }\n",
              "  </style>\n",
              "\n",
              "      <script>\n",
              "        const buttonEl =\n",
              "          document.querySelector('#df-61ac6c18-c28d-4f6c-b7ca-20eccb634414 button.colab-df-convert');\n",
              "        buttonEl.style.display =\n",
              "          google.colab.kernel.accessAllowed ? 'block' : 'none';\n",
              "\n",
              "        async function convertToInteractive(key) {\n",
              "          const element = document.querySelector('#df-61ac6c18-c28d-4f6c-b7ca-20eccb634414');\n",
              "          const dataTable =\n",
              "            await google.colab.kernel.invokeFunction('convertToInteractive',\n",
              "                                                     [key], {});\n",
              "          if (!dataTable) return;\n",
              "\n",
              "          const docLinkHtml = 'Like what you see? Visit the ' +\n",
              "            '<a target=\"_blank\" href=https://colab.research.google.com/notebooks/data_table.ipynb>data table notebook</a>'\n",
              "            + ' to learn more about interactive tables.';\n",
              "          element.innerHTML = '';\n",
              "          dataTable['output_type'] = 'display_data';\n",
              "          await google.colab.output.renderOutput(dataTable, element);\n",
              "          const docLink = document.createElement('div');\n",
              "          docLink.innerHTML = docLinkHtml;\n",
              "          element.appendChild(docLink);\n",
              "        }\n",
              "      </script>\n",
              "    </div>\n",
              "  </div>\n",
              "  "
            ]
          },
          "metadata": {},
          "execution_count": 763
        }
      ],
      "source": [
        "df_train .head()"
      ]
    },
    {
      "cell_type": "code",
      "execution_count": 764,
      "metadata": {
        "colab": {
          "base_uri": "https://localhost:8080/"
        },
        "id": "_rBqJZeZvp48",
        "outputId": "dca4ead1-b39c-48b7-ff5d-9429783d96ff"
      },
      "outputs": [
        {
          "output_type": "stream",
          "name": "stdout",
          "text": [
            "<class 'pandas.core.frame.DataFrame'>\n",
            "Int64Index: 7001 entries, 0 to 7000\n",
            "Data columns (total 9 columns):\n",
            " #   Column             Non-Null Count  Dtype  \n",
            "---  ------             --------------  -----  \n",
            " 0   Hour               7001 non-null   int64  \n",
            " 1   Minutes            7001 non-null   int64  \n",
            " 2   Sensor_alpha       7001 non-null   float64\n",
            " 3   Sensor_beta        7001 non-null   float64\n",
            " 4   Sensor_gamma       7001 non-null   float64\n",
            " 5   Sensor_alpha_plus  7001 non-null   float64\n",
            " 6   Sensor_beta_plus   7001 non-null   float64\n",
            " 7   Sensor_gamma_plus  7001 non-null   float64\n",
            " 8   Insect             7001 non-null   int64  \n",
            "dtypes: float64(6), int64(3)\n",
            "memory usage: 547.0 KB\n"
          ]
        }
      ],
      "source": [
        "df_train.info()"
      ]
    },
    {
      "cell_type": "markdown",
      "metadata": {
        "id": "gcxpVRso0LKm"
      },
      "source": [
        "Cargamos el dataset para el test para observarlo\n",
        "\n",
        "\n",
        "\n"
      ]
    },
    {
      "cell_type": "code",
      "execution_count": 1582,
      "metadata": {
        "colab": {
          "base_uri": "https://localhost:8080/"
        },
        "id": "dq6EpATgRJEw",
        "outputId": "1bff0ec8-f4fb-4180-c059-87f1564ddca1"
      },
      "outputs": [
        {
          "output_type": "stream",
          "name": "stderr",
          "text": [
            "/usr/local/lib/python3.7/dist-packages/IPython/core/interactiveshell.py:2882: FutureWarning: The error_bad_lines argument has been deprecated and will be removed in a future version.\n",
            "\n",
            "\n",
            "  exec(code_obj, self.user_global_ns, self.user_ns)\n"
          ]
        }
      ],
      "source": [
        "df_test = pd.read_csv(\"/content/drive/MyDrive/COMPETICION JOBARCELONA´22/test_x.csv\", sep=\",\", error_bad_lines = False, low_memory=False, index_col = 0)"
      ]
    },
    {
      "cell_type": "code",
      "execution_count": 1583,
      "metadata": {
        "colab": {
          "base_uri": "https://localhost:8080/"
        },
        "id": "TKzfsFMFwLnF",
        "outputId": "a47f6f5f-8696-4bcf-db0b-92476f0894d6"
      },
      "outputs": [
        {
          "output_type": "stream",
          "name": "stdout",
          "text": [
            "<class 'pandas.core.frame.DataFrame'>\n",
            "Int64Index: 3000 entries, 7000 to 9999\n",
            "Data columns (total 8 columns):\n",
            " #   Column             Non-Null Count  Dtype  \n",
            "---  ------             --------------  -----  \n",
            " 0   Hour               3000 non-null   int64  \n",
            " 1   Minutes            3000 non-null   int64  \n",
            " 2   Sensor_alpha       3000 non-null   float64\n",
            " 3   Sensor_beta        3000 non-null   float64\n",
            " 4   Sensor_gamma       3000 non-null   float64\n",
            " 5   Sensor_alpha_plus  3000 non-null   float64\n",
            " 6   Sensor_beta_plus   3000 non-null   float64\n",
            " 7   Sensor_gamma_plus  3000 non-null   float64\n",
            "dtypes: float64(6), int64(2)\n",
            "memory usage: 210.9 KB\n"
          ]
        }
      ],
      "source": [
        "df_test.info()"
      ]
    },
    {
      "cell_type": "code",
      "execution_count": 767,
      "metadata": {
        "colab": {
          "base_uri": "https://localhost:8080/",
          "height": 270
        },
        "id": "ZDGm6MHcwIrJ",
        "outputId": "e53d6ee0-f849-4a4b-9a99-745e7e63894d"
      },
      "outputs": [
        {
          "output_type": "execute_result",
          "data": {
            "text/plain": [
              "      Hour  Minutes  Sensor_alpha  Sensor_beta  Sensor_gamma  \\\n",
              "7000    21       31    -72.083585   -11.434977    -52.961743   \n",
              "7001    21        3   -193.619980    40.137081     85.419244   \n",
              "7002    22       31     42.578382   -51.613402    125.055611   \n",
              "7003    21       25    -64.150951   287.306752    -70.965473   \n",
              "7004    18       11    193.750787   -61.989533   -110.347066   \n",
              "\n",
              "      Sensor_alpha_plus  Sensor_beta_plus  Sensor_gamma_plus  \n",
              "7000         -72.696385        145.299227        -143.856243  \n",
              "7001         -26.266801       -125.391237          80.904973  \n",
              "7002         182.136746         -9.726951        -114.913402  \n",
              "7003          13.789738         38.187260         137.761691  \n",
              "7004         -16.864786        148.541916         232.424616  "
            ],
            "text/html": [
              "\n",
              "  <div id=\"df-9a47a6b4-e47d-4878-84ce-10591e60997c\">\n",
              "    <div class=\"colab-df-container\">\n",
              "      <div>\n",
              "<style scoped>\n",
              "    .dataframe tbody tr th:only-of-type {\n",
              "        vertical-align: middle;\n",
              "    }\n",
              "\n",
              "    .dataframe tbody tr th {\n",
              "        vertical-align: top;\n",
              "    }\n",
              "\n",
              "    .dataframe thead th {\n",
              "        text-align: right;\n",
              "    }\n",
              "</style>\n",
              "<table border=\"1\" class=\"dataframe\">\n",
              "  <thead>\n",
              "    <tr style=\"text-align: right;\">\n",
              "      <th></th>\n",
              "      <th>Hour</th>\n",
              "      <th>Minutes</th>\n",
              "      <th>Sensor_alpha</th>\n",
              "      <th>Sensor_beta</th>\n",
              "      <th>Sensor_gamma</th>\n",
              "      <th>Sensor_alpha_plus</th>\n",
              "      <th>Sensor_beta_plus</th>\n",
              "      <th>Sensor_gamma_plus</th>\n",
              "    </tr>\n",
              "  </thead>\n",
              "  <tbody>\n",
              "    <tr>\n",
              "      <th>7000</th>\n",
              "      <td>21</td>\n",
              "      <td>31</td>\n",
              "      <td>-72.083585</td>\n",
              "      <td>-11.434977</td>\n",
              "      <td>-52.961743</td>\n",
              "      <td>-72.696385</td>\n",
              "      <td>145.299227</td>\n",
              "      <td>-143.856243</td>\n",
              "    </tr>\n",
              "    <tr>\n",
              "      <th>7001</th>\n",
              "      <td>21</td>\n",
              "      <td>3</td>\n",
              "      <td>-193.619980</td>\n",
              "      <td>40.137081</td>\n",
              "      <td>85.419244</td>\n",
              "      <td>-26.266801</td>\n",
              "      <td>-125.391237</td>\n",
              "      <td>80.904973</td>\n",
              "    </tr>\n",
              "    <tr>\n",
              "      <th>7002</th>\n",
              "      <td>22</td>\n",
              "      <td>31</td>\n",
              "      <td>42.578382</td>\n",
              "      <td>-51.613402</td>\n",
              "      <td>125.055611</td>\n",
              "      <td>182.136746</td>\n",
              "      <td>-9.726951</td>\n",
              "      <td>-114.913402</td>\n",
              "    </tr>\n",
              "    <tr>\n",
              "      <th>7003</th>\n",
              "      <td>21</td>\n",
              "      <td>25</td>\n",
              "      <td>-64.150951</td>\n",
              "      <td>287.306752</td>\n",
              "      <td>-70.965473</td>\n",
              "      <td>13.789738</td>\n",
              "      <td>38.187260</td>\n",
              "      <td>137.761691</td>\n",
              "    </tr>\n",
              "    <tr>\n",
              "      <th>7004</th>\n",
              "      <td>18</td>\n",
              "      <td>11</td>\n",
              "      <td>193.750787</td>\n",
              "      <td>-61.989533</td>\n",
              "      <td>-110.347066</td>\n",
              "      <td>-16.864786</td>\n",
              "      <td>148.541916</td>\n",
              "      <td>232.424616</td>\n",
              "    </tr>\n",
              "  </tbody>\n",
              "</table>\n",
              "</div>\n",
              "      <button class=\"colab-df-convert\" onclick=\"convertToInteractive('df-9a47a6b4-e47d-4878-84ce-10591e60997c')\"\n",
              "              title=\"Convert this dataframe to an interactive table.\"\n",
              "              style=\"display:none;\">\n",
              "        \n",
              "  <svg xmlns=\"http://www.w3.org/2000/svg\" height=\"24px\"viewBox=\"0 0 24 24\"\n",
              "       width=\"24px\">\n",
              "    <path d=\"M0 0h24v24H0V0z\" fill=\"none\"/>\n",
              "    <path d=\"M18.56 5.44l.94 2.06.94-2.06 2.06-.94-2.06-.94-.94-2.06-.94 2.06-2.06.94zm-11 1L8.5 8.5l.94-2.06 2.06-.94-2.06-.94L8.5 2.5l-.94 2.06-2.06.94zm10 10l.94 2.06.94-2.06 2.06-.94-2.06-.94-.94-2.06-.94 2.06-2.06.94z\"/><path d=\"M17.41 7.96l-1.37-1.37c-.4-.4-.92-.59-1.43-.59-.52 0-1.04.2-1.43.59L10.3 9.45l-7.72 7.72c-.78.78-.78 2.05 0 2.83L4 21.41c.39.39.9.59 1.41.59.51 0 1.02-.2 1.41-.59l7.78-7.78 2.81-2.81c.8-.78.8-2.07 0-2.86zM5.41 20L4 18.59l7.72-7.72 1.47 1.35L5.41 20z\"/>\n",
              "  </svg>\n",
              "      </button>\n",
              "      \n",
              "  <style>\n",
              "    .colab-df-container {\n",
              "      display:flex;\n",
              "      flex-wrap:wrap;\n",
              "      gap: 12px;\n",
              "    }\n",
              "\n",
              "    .colab-df-convert {\n",
              "      background-color: #E8F0FE;\n",
              "      border: none;\n",
              "      border-radius: 50%;\n",
              "      cursor: pointer;\n",
              "      display: none;\n",
              "      fill: #1967D2;\n",
              "      height: 32px;\n",
              "      padding: 0 0 0 0;\n",
              "      width: 32px;\n",
              "    }\n",
              "\n",
              "    .colab-df-convert:hover {\n",
              "      background-color: #E2EBFA;\n",
              "      box-shadow: 0px 1px 2px rgba(60, 64, 67, 0.3), 0px 1px 3px 1px rgba(60, 64, 67, 0.15);\n",
              "      fill: #174EA6;\n",
              "    }\n",
              "\n",
              "    [theme=dark] .colab-df-convert {\n",
              "      background-color: #3B4455;\n",
              "      fill: #D2E3FC;\n",
              "    }\n",
              "\n",
              "    [theme=dark] .colab-df-convert:hover {\n",
              "      background-color: #434B5C;\n",
              "      box-shadow: 0px 1px 3px 1px rgba(0, 0, 0, 0.15);\n",
              "      filter: drop-shadow(0px 1px 2px rgba(0, 0, 0, 0.3));\n",
              "      fill: #FFFFFF;\n",
              "    }\n",
              "  </style>\n",
              "\n",
              "      <script>\n",
              "        const buttonEl =\n",
              "          document.querySelector('#df-9a47a6b4-e47d-4878-84ce-10591e60997c button.colab-df-convert');\n",
              "        buttonEl.style.display =\n",
              "          google.colab.kernel.accessAllowed ? 'block' : 'none';\n",
              "\n",
              "        async function convertToInteractive(key) {\n",
              "          const element = document.querySelector('#df-9a47a6b4-e47d-4878-84ce-10591e60997c');\n",
              "          const dataTable =\n",
              "            await google.colab.kernel.invokeFunction('convertToInteractive',\n",
              "                                                     [key], {});\n",
              "          if (!dataTable) return;\n",
              "\n",
              "          const docLinkHtml = 'Like what you see? Visit the ' +\n",
              "            '<a target=\"_blank\" href=https://colab.research.google.com/notebooks/data_table.ipynb>data table notebook</a>'\n",
              "            + ' to learn more about interactive tables.';\n",
              "          element.innerHTML = '';\n",
              "          dataTable['output_type'] = 'display_data';\n",
              "          await google.colab.output.renderOutput(dataTable, element);\n",
              "          const docLink = document.createElement('div');\n",
              "          docLink.innerHTML = docLinkHtml;\n",
              "          element.appendChild(docLink);\n",
              "        }\n",
              "      </script>\n",
              "    </div>\n",
              "  </div>\n",
              "  "
            ]
          },
          "metadata": {},
          "execution_count": 767
        }
      ],
      "source": [
        "df_test.head()"
      ]
    },
    {
      "cell_type": "markdown",
      "metadata": {
        "id": "pmhsk8n02E1z"
      },
      "source": [
        "Una vez cargados los datos podemos empezar el análisis exploratorio"
      ]
    },
    {
      "cell_type": "markdown",
      "metadata": {
        "id": "N0lQ-dqCsdwh"
      },
      "source": [
        "#DATA UNDERSTANDING"
      ]
    },
    {
      "cell_type": "markdown",
      "metadata": {
        "id": "qMFhg1y3sV69"
      },
      "source": [
        "##1 Tamaño del data set"
      ]
    },
    {
      "cell_type": "markdown",
      "metadata": {
        "id": "T2ZBdTp8IvjG"
      },
      "source": [
        "Vemos la distribución de las variables que tenemos, así como el tipo de variable que son."
      ]
    },
    {
      "cell_type": "code",
      "execution_count": 769,
      "metadata": {
        "colab": {
          "base_uri": "https://localhost:8080/"
        },
        "id": "zWxbkdO_oc9e",
        "outputId": "7eeb4029-8086-44eb-c0d7-e8c990bf689a"
      },
      "outputs": [
        {
          "output_type": "stream",
          "name": "stdout",
          "text": [
            "<class 'pandas.core.frame.DataFrame'>\n",
            "Int64Index: 7001 entries, 0 to 7000\n",
            "Columns: 9 entries, Hour to Insect\n",
            "dtypes: float64(6), int64(3)\n",
            "memory usage: 547.0 KB\n"
          ]
        }
      ],
      "source": [
        "df_train.info(verbose = False\n",
        "                )"
      ]
    },
    {
      "cell_type": "code",
      "execution_count": 770,
      "metadata": {
        "colab": {
          "base_uri": "https://localhost:8080/"
        },
        "id": "5RweuS9W_UVh",
        "outputId": "a085280b-daec-4da6-bd3c-ca5c2c6795c8"
      },
      "outputs": [
        {
          "output_type": "execute_result",
          "data": {
            "text/plain": [
              "(7001, 9)"
            ]
          },
          "metadata": {},
          "execution_count": 770
        }
      ],
      "source": [
        "df_train.shape"
      ]
    },
    {
      "cell_type": "markdown",
      "metadata": {
        "id": "n8JY49BGs7sf"
      },
      "source": [
        "##2 Visualización directa de los datos"
      ]
    },
    {
      "cell_type": "markdown",
      "metadata": {
        "id": "Ct5bMREVtau5"
      },
      "source": [
        "##3 Tipo de atributos"
      ]
    },
    {
      "cell_type": "markdown",
      "metadata": {
        "id": "1o_bDQsNJjd6"
      },
      "source": [
        "Ahora haremos un análisis más específico de los atributos disponibles"
      ]
    },
    {
      "cell_type": "code",
      "execution_count": 776,
      "metadata": {
        "colab": {
          "base_uri": "https://localhost:8080/"
        },
        "id": "PuTP-fhYtfqF",
        "outputId": "58820879-c6c0-4c00-9a50-9924d4c65ea6"
      },
      "outputs": [
        {
          "output_type": "stream",
          "name": "stdout",
          "text": [
            "<class 'pandas.core.frame.DataFrame'>\n",
            "Int64Index: 7001 entries, 0 to 7000\n",
            "Columns: 9 entries, Hour to Insect\n",
            "dtypes: float64(6), int64(3)\n",
            "memory usage: 547.0 KB\n"
          ]
        }
      ],
      "source": [
        "df_train.info(verbose = False)"
      ]
    },
    {
      "cell_type": "code",
      "execution_count": 777,
      "metadata": {
        "colab": {
          "base_uri": "https://localhost:8080/",
          "height": 425
        },
        "id": "I5zRhbhIlQWI",
        "outputId": "c45032aa-840e-40e8-b3ba-37a4d02d25c6"
      },
      "outputs": [
        {
          "output_type": "execute_result",
          "data": {
            "text/plain": [
              "                         0           1           2           3           4     \\\n",
              "Hour                22.000000   10.000000   21.000000   21.000000   18.000000   \n",
              "Minutes             26.000000   16.000000   42.000000   17.000000   16.000000   \n",
              "Sensor_alpha       119.910995  -90.790536  -20.028003  -21.258567  -58.154501   \n",
              "Sensor_beta        242.838324 -269.470767 -147.070212    0.467070  -13.051195   \n",
              "Sensor_gamma      -316.819222 -182.581844   50.280872  -86.164153 -156.501167   \n",
              "Sensor_alpha_plus  250.195048   95.394941  -90.750386  -21.813529   48.392938   \n",
              "Sensor_beta_plus   -53.547777   37.291944  -50.476556 -209.256006 -110.008860   \n",
              "Sensor_gamma_plus -112.049983   48.525180   85.399009   16.291882  -10.285138   \n",
              "Insect               2.000000    0.000000    1.000000    0.000000    2.000000   \n",
              "\n",
              "                         5           6           7           8           9     \\\n",
              "Hour                21.000000   21.000000    7.000000   20.000000   21.000000   \n",
              "Minutes             23.000000   10.000000   34.000000   12.000000    1.000000   \n",
              "Sensor_alpha       -46.761031  108.268101 -103.673329 -146.492155  -60.924066   \n",
              "Sensor_beta        237.863074  -26.196569 -234.696711   12.444229  -66.598591   \n",
              "Sensor_gamma       208.008700  -96.568491 -103.499400  -42.473037  -63.173520   \n",
              "Sensor_alpha_plus -125.729185  117.432706   98.081187   60.356941 -104.830957   \n",
              "Sensor_beta_plus   -33.298749  -96.707760  -28.156253  -73.822742  123.155306   \n",
              "Sensor_gamma_plus   -1.362840   70.639947   45.068583  -31.022915  158.866955   \n",
              "Insect               1.000000    0.000000    0.000000    0.000000    1.000000   \n",
              "\n",
              "                   ...        6991        6992        6993        6994  \\\n",
              "Hour               ...   21.000000   20.000000   21.000000   21.000000   \n",
              "Minutes            ...   48.000000    7.000000   22.000000   14.000000   \n",
              "Sensor_alpha       ...  -13.366860   55.595621  -33.147444  -20.563368   \n",
              "Sensor_beta        ...  -76.755189   99.185744 -153.539698  -32.423407   \n",
              "Sensor_gamma       ...  -39.744548  -52.000605   41.306153 -159.475454   \n",
              "Sensor_alpha_plus  ... -167.618164 -103.412701  -23.156436   49.764046   \n",
              "Sensor_beta_plus   ...  249.757385    1.506748 -213.578373   63.920093   \n",
              "Sensor_gamma_plus  ...  -50.300485    3.260006   32.239747   -7.179916   \n",
              "Insect             ...    0.000000    0.000000    1.000000    1.000000   \n",
              "\n",
              "                         6995        6996        6997        6998        6999  \\\n",
              "Hour                20.000000   21.000000   18.000000   22.000000   18.000000   \n",
              "Minutes              8.000000    0.000000   57.000000   47.000000   14.000000   \n",
              "Sensor_alpha       -39.382006    6.576106   -6.169382   -7.289684  -92.317105   \n",
              "Sensor_beta         52.839192  301.050638 -317.652257 -406.732525 -191.555040   \n",
              "Sensor_gamma       -24.548637  146.682819 -161.644320 -212.097250   88.371271   \n",
              "Sensor_alpha_plus  106.791797 -209.480741  248.055724  248.745127   38.728565   \n",
              "Sensor_beta_plus    95.658834 -129.776336 -112.626344  116.893077  -39.050466   \n",
              "Sensor_gamma_plus -120.334880  -51.226256   99.463913   32.806150   20.356711   \n",
              "Insect               0.000000    1.000000    0.000000    0.000000    0.000000   \n",
              "\n",
              "                         7000  \n",
              "Hour                21.000000  \n",
              "Minutes             31.000000  \n",
              "Sensor_alpha       -72.083585  \n",
              "Sensor_beta        -11.434977  \n",
              "Sensor_gamma       -52.961743  \n",
              "Sensor_alpha_plus  -72.696385  \n",
              "Sensor_beta_plus   145.299227  \n",
              "Sensor_gamma_plus -143.856243  \n",
              "Insect               1.000000  \n",
              "\n",
              "[9 rows x 7001 columns]"
            ],
            "text/html": [
              "\n",
              "  <div id=\"df-59127f9a-5f91-4da9-ac38-69536f58540d\">\n",
              "    <div class=\"colab-df-container\">\n",
              "      <div>\n",
              "<style scoped>\n",
              "    .dataframe tbody tr th:only-of-type {\n",
              "        vertical-align: middle;\n",
              "    }\n",
              "\n",
              "    .dataframe tbody tr th {\n",
              "        vertical-align: top;\n",
              "    }\n",
              "\n",
              "    .dataframe thead th {\n",
              "        text-align: right;\n",
              "    }\n",
              "</style>\n",
              "<table border=\"1\" class=\"dataframe\">\n",
              "  <thead>\n",
              "    <tr style=\"text-align: right;\">\n",
              "      <th></th>\n",
              "      <th>0</th>\n",
              "      <th>1</th>\n",
              "      <th>2</th>\n",
              "      <th>3</th>\n",
              "      <th>4</th>\n",
              "      <th>5</th>\n",
              "      <th>6</th>\n",
              "      <th>7</th>\n",
              "      <th>8</th>\n",
              "      <th>9</th>\n",
              "      <th>...</th>\n",
              "      <th>6991</th>\n",
              "      <th>6992</th>\n",
              "      <th>6993</th>\n",
              "      <th>6994</th>\n",
              "      <th>6995</th>\n",
              "      <th>6996</th>\n",
              "      <th>6997</th>\n",
              "      <th>6998</th>\n",
              "      <th>6999</th>\n",
              "      <th>7000</th>\n",
              "    </tr>\n",
              "  </thead>\n",
              "  <tbody>\n",
              "    <tr>\n",
              "      <th>Hour</th>\n",
              "      <td>22.000000</td>\n",
              "      <td>10.000000</td>\n",
              "      <td>21.000000</td>\n",
              "      <td>21.000000</td>\n",
              "      <td>18.000000</td>\n",
              "      <td>21.000000</td>\n",
              "      <td>21.000000</td>\n",
              "      <td>7.000000</td>\n",
              "      <td>20.000000</td>\n",
              "      <td>21.000000</td>\n",
              "      <td>...</td>\n",
              "      <td>21.000000</td>\n",
              "      <td>20.000000</td>\n",
              "      <td>21.000000</td>\n",
              "      <td>21.000000</td>\n",
              "      <td>20.000000</td>\n",
              "      <td>21.000000</td>\n",
              "      <td>18.000000</td>\n",
              "      <td>22.000000</td>\n",
              "      <td>18.000000</td>\n",
              "      <td>21.000000</td>\n",
              "    </tr>\n",
              "    <tr>\n",
              "      <th>Minutes</th>\n",
              "      <td>26.000000</td>\n",
              "      <td>16.000000</td>\n",
              "      <td>42.000000</td>\n",
              "      <td>17.000000</td>\n",
              "      <td>16.000000</td>\n",
              "      <td>23.000000</td>\n",
              "      <td>10.000000</td>\n",
              "      <td>34.000000</td>\n",
              "      <td>12.000000</td>\n",
              "      <td>1.000000</td>\n",
              "      <td>...</td>\n",
              "      <td>48.000000</td>\n",
              "      <td>7.000000</td>\n",
              "      <td>22.000000</td>\n",
              "      <td>14.000000</td>\n",
              "      <td>8.000000</td>\n",
              "      <td>0.000000</td>\n",
              "      <td>57.000000</td>\n",
              "      <td>47.000000</td>\n",
              "      <td>14.000000</td>\n",
              "      <td>31.000000</td>\n",
              "    </tr>\n",
              "    <tr>\n",
              "      <th>Sensor_alpha</th>\n",
              "      <td>119.910995</td>\n",
              "      <td>-90.790536</td>\n",
              "      <td>-20.028003</td>\n",
              "      <td>-21.258567</td>\n",
              "      <td>-58.154501</td>\n",
              "      <td>-46.761031</td>\n",
              "      <td>108.268101</td>\n",
              "      <td>-103.673329</td>\n",
              "      <td>-146.492155</td>\n",
              "      <td>-60.924066</td>\n",
              "      <td>...</td>\n",
              "      <td>-13.366860</td>\n",
              "      <td>55.595621</td>\n",
              "      <td>-33.147444</td>\n",
              "      <td>-20.563368</td>\n",
              "      <td>-39.382006</td>\n",
              "      <td>6.576106</td>\n",
              "      <td>-6.169382</td>\n",
              "      <td>-7.289684</td>\n",
              "      <td>-92.317105</td>\n",
              "      <td>-72.083585</td>\n",
              "    </tr>\n",
              "    <tr>\n",
              "      <th>Sensor_beta</th>\n",
              "      <td>242.838324</td>\n",
              "      <td>-269.470767</td>\n",
              "      <td>-147.070212</td>\n",
              "      <td>0.467070</td>\n",
              "      <td>-13.051195</td>\n",
              "      <td>237.863074</td>\n",
              "      <td>-26.196569</td>\n",
              "      <td>-234.696711</td>\n",
              "      <td>12.444229</td>\n",
              "      <td>-66.598591</td>\n",
              "      <td>...</td>\n",
              "      <td>-76.755189</td>\n",
              "      <td>99.185744</td>\n",
              "      <td>-153.539698</td>\n",
              "      <td>-32.423407</td>\n",
              "      <td>52.839192</td>\n",
              "      <td>301.050638</td>\n",
              "      <td>-317.652257</td>\n",
              "      <td>-406.732525</td>\n",
              "      <td>-191.555040</td>\n",
              "      <td>-11.434977</td>\n",
              "    </tr>\n",
              "    <tr>\n",
              "      <th>Sensor_gamma</th>\n",
              "      <td>-316.819222</td>\n",
              "      <td>-182.581844</td>\n",
              "      <td>50.280872</td>\n",
              "      <td>-86.164153</td>\n",
              "      <td>-156.501167</td>\n",
              "      <td>208.008700</td>\n",
              "      <td>-96.568491</td>\n",
              "      <td>-103.499400</td>\n",
              "      <td>-42.473037</td>\n",
              "      <td>-63.173520</td>\n",
              "      <td>...</td>\n",
              "      <td>-39.744548</td>\n",
              "      <td>-52.000605</td>\n",
              "      <td>41.306153</td>\n",
              "      <td>-159.475454</td>\n",
              "      <td>-24.548637</td>\n",
              "      <td>146.682819</td>\n",
              "      <td>-161.644320</td>\n",
              "      <td>-212.097250</td>\n",
              "      <td>88.371271</td>\n",
              "      <td>-52.961743</td>\n",
              "    </tr>\n",
              "    <tr>\n",
              "      <th>Sensor_alpha_plus</th>\n",
              "      <td>250.195048</td>\n",
              "      <td>95.394941</td>\n",
              "      <td>-90.750386</td>\n",
              "      <td>-21.813529</td>\n",
              "      <td>48.392938</td>\n",
              "      <td>-125.729185</td>\n",
              "      <td>117.432706</td>\n",
              "      <td>98.081187</td>\n",
              "      <td>60.356941</td>\n",
              "      <td>-104.830957</td>\n",
              "      <td>...</td>\n",
              "      <td>-167.618164</td>\n",
              "      <td>-103.412701</td>\n",
              "      <td>-23.156436</td>\n",
              "      <td>49.764046</td>\n",
              "      <td>106.791797</td>\n",
              "      <td>-209.480741</td>\n",
              "      <td>248.055724</td>\n",
              "      <td>248.745127</td>\n",
              "      <td>38.728565</td>\n",
              "      <td>-72.696385</td>\n",
              "    </tr>\n",
              "    <tr>\n",
              "      <th>Sensor_beta_plus</th>\n",
              "      <td>-53.547777</td>\n",
              "      <td>37.291944</td>\n",
              "      <td>-50.476556</td>\n",
              "      <td>-209.256006</td>\n",
              "      <td>-110.008860</td>\n",
              "      <td>-33.298749</td>\n",
              "      <td>-96.707760</td>\n",
              "      <td>-28.156253</td>\n",
              "      <td>-73.822742</td>\n",
              "      <td>123.155306</td>\n",
              "      <td>...</td>\n",
              "      <td>249.757385</td>\n",
              "      <td>1.506748</td>\n",
              "      <td>-213.578373</td>\n",
              "      <td>63.920093</td>\n",
              "      <td>95.658834</td>\n",
              "      <td>-129.776336</td>\n",
              "      <td>-112.626344</td>\n",
              "      <td>116.893077</td>\n",
              "      <td>-39.050466</td>\n",
              "      <td>145.299227</td>\n",
              "    </tr>\n",
              "    <tr>\n",
              "      <th>Sensor_gamma_plus</th>\n",
              "      <td>-112.049983</td>\n",
              "      <td>48.525180</td>\n",
              "      <td>85.399009</td>\n",
              "      <td>16.291882</td>\n",
              "      <td>-10.285138</td>\n",
              "      <td>-1.362840</td>\n",
              "      <td>70.639947</td>\n",
              "      <td>45.068583</td>\n",
              "      <td>-31.022915</td>\n",
              "      <td>158.866955</td>\n",
              "      <td>...</td>\n",
              "      <td>-50.300485</td>\n",
              "      <td>3.260006</td>\n",
              "      <td>32.239747</td>\n",
              "      <td>-7.179916</td>\n",
              "      <td>-120.334880</td>\n",
              "      <td>-51.226256</td>\n",
              "      <td>99.463913</td>\n",
              "      <td>32.806150</td>\n",
              "      <td>20.356711</td>\n",
              "      <td>-143.856243</td>\n",
              "    </tr>\n",
              "    <tr>\n",
              "      <th>Insect</th>\n",
              "      <td>2.000000</td>\n",
              "      <td>0.000000</td>\n",
              "      <td>1.000000</td>\n",
              "      <td>0.000000</td>\n",
              "      <td>2.000000</td>\n",
              "      <td>1.000000</td>\n",
              "      <td>0.000000</td>\n",
              "      <td>0.000000</td>\n",
              "      <td>0.000000</td>\n",
              "      <td>1.000000</td>\n",
              "      <td>...</td>\n",
              "      <td>0.000000</td>\n",
              "      <td>0.000000</td>\n",
              "      <td>1.000000</td>\n",
              "      <td>1.000000</td>\n",
              "      <td>0.000000</td>\n",
              "      <td>1.000000</td>\n",
              "      <td>0.000000</td>\n",
              "      <td>0.000000</td>\n",
              "      <td>0.000000</td>\n",
              "      <td>1.000000</td>\n",
              "    </tr>\n",
              "  </tbody>\n",
              "</table>\n",
              "<p>9 rows × 7001 columns</p>\n",
              "</div>\n",
              "      <button class=\"colab-df-convert\" onclick=\"convertToInteractive('df-59127f9a-5f91-4da9-ac38-69536f58540d')\"\n",
              "              title=\"Convert this dataframe to an interactive table.\"\n",
              "              style=\"display:none;\">\n",
              "        \n",
              "  <svg xmlns=\"http://www.w3.org/2000/svg\" height=\"24px\"viewBox=\"0 0 24 24\"\n",
              "       width=\"24px\">\n",
              "    <path d=\"M0 0h24v24H0V0z\" fill=\"none\"/>\n",
              "    <path d=\"M18.56 5.44l.94 2.06.94-2.06 2.06-.94-2.06-.94-.94-2.06-.94 2.06-2.06.94zm-11 1L8.5 8.5l.94-2.06 2.06-.94-2.06-.94L8.5 2.5l-.94 2.06-2.06.94zm10 10l.94 2.06.94-2.06 2.06-.94-2.06-.94-.94-2.06-.94 2.06-2.06.94z\"/><path d=\"M17.41 7.96l-1.37-1.37c-.4-.4-.92-.59-1.43-.59-.52 0-1.04.2-1.43.59L10.3 9.45l-7.72 7.72c-.78.78-.78 2.05 0 2.83L4 21.41c.39.39.9.59 1.41.59.51 0 1.02-.2 1.41-.59l7.78-7.78 2.81-2.81c.8-.78.8-2.07 0-2.86zM5.41 20L4 18.59l7.72-7.72 1.47 1.35L5.41 20z\"/>\n",
              "  </svg>\n",
              "      </button>\n",
              "      \n",
              "  <style>\n",
              "    .colab-df-container {\n",
              "      display:flex;\n",
              "      flex-wrap:wrap;\n",
              "      gap: 12px;\n",
              "    }\n",
              "\n",
              "    .colab-df-convert {\n",
              "      background-color: #E8F0FE;\n",
              "      border: none;\n",
              "      border-radius: 50%;\n",
              "      cursor: pointer;\n",
              "      display: none;\n",
              "      fill: #1967D2;\n",
              "      height: 32px;\n",
              "      padding: 0 0 0 0;\n",
              "      width: 32px;\n",
              "    }\n",
              "\n",
              "    .colab-df-convert:hover {\n",
              "      background-color: #E2EBFA;\n",
              "      box-shadow: 0px 1px 2px rgba(60, 64, 67, 0.3), 0px 1px 3px 1px rgba(60, 64, 67, 0.15);\n",
              "      fill: #174EA6;\n",
              "    }\n",
              "\n",
              "    [theme=dark] .colab-df-convert {\n",
              "      background-color: #3B4455;\n",
              "      fill: #D2E3FC;\n",
              "    }\n",
              "\n",
              "    [theme=dark] .colab-df-convert:hover {\n",
              "      background-color: #434B5C;\n",
              "      box-shadow: 0px 1px 3px 1px rgba(0, 0, 0, 0.15);\n",
              "      filter: drop-shadow(0px 1px 2px rgba(0, 0, 0, 0.3));\n",
              "      fill: #FFFFFF;\n",
              "    }\n",
              "  </style>\n",
              "\n",
              "      <script>\n",
              "        const buttonEl =\n",
              "          document.querySelector('#df-59127f9a-5f91-4da9-ac38-69536f58540d button.colab-df-convert');\n",
              "        buttonEl.style.display =\n",
              "          google.colab.kernel.accessAllowed ? 'block' : 'none';\n",
              "\n",
              "        async function convertToInteractive(key) {\n",
              "          const element = document.querySelector('#df-59127f9a-5f91-4da9-ac38-69536f58540d');\n",
              "          const dataTable =\n",
              "            await google.colab.kernel.invokeFunction('convertToInteractive',\n",
              "                                                     [key], {});\n",
              "          if (!dataTable) return;\n",
              "\n",
              "          const docLinkHtml = 'Like what you see? Visit the ' +\n",
              "            '<a target=\"_blank\" href=https://colab.research.google.com/notebooks/data_table.ipynb>data table notebook</a>'\n",
              "            + ' to learn more about interactive tables.';\n",
              "          element.innerHTML = '';\n",
              "          dataTable['output_type'] = 'display_data';\n",
              "          await google.colab.output.renderOutput(dataTable, element);\n",
              "          const docLink = document.createElement('div');\n",
              "          docLink.innerHTML = docLinkHtml;\n",
              "          element.appendChild(docLink);\n",
              "        }\n",
              "      </script>\n",
              "    </div>\n",
              "  </div>\n",
              "  "
            ]
          },
          "metadata": {},
          "execution_count": 777
        }
      ],
      "source": [
        "df_train.select_dtypes(include = [\"number\"]).T"
      ]
    },
    {
      "cell_type": "markdown",
      "source": [
        "Todas las variables son numéricas."
      ],
      "metadata": {
        "id": "-k383zD3OfoX"
      }
    },
    {
      "cell_type": "markdown",
      "metadata": {
        "id": "E16maU7TtjIv"
      },
      "source": [
        "##4 Estadísticos descriptivos"
      ]
    },
    {
      "cell_type": "code",
      "execution_count": 778,
      "metadata": {
        "colab": {
          "base_uri": "https://localhost:8080/",
          "height": 332
        },
        "id": "tlD-iw0JwVfH",
        "outputId": "d65f5a95-7ed2-4a32-900c-b7fe51091c84"
      },
      "outputs": [
        {
          "output_type": "execute_result",
          "data": {
            "text/plain": [
              "                    count       mean         std         min         25%  \\\n",
              "Hour               7001.0  19.598914    3.507008    1.000000   19.000000   \n",
              "Minutes            7001.0  29.405942   17.375830    0.000000   14.000000   \n",
              "Sensor_alpha       7001.0   0.477171   99.294856 -404.898823  -68.573905   \n",
              "Sensor_beta        7001.0 -29.974117  133.095125 -656.272666 -116.060383   \n",
              "Sensor_gamma       7001.0  -5.624690  115.871391 -448.478039  -83.508747   \n",
              "Sensor_alpha_plus  7001.0   7.188060  122.327980 -437.205393  -79.496687   \n",
              "Sensor_beta_plus   7001.0  -0.757901  100.039477 -387.567443  -68.061596   \n",
              "Sensor_gamma_plus  7001.0  -0.554533  100.535951 -374.961689  -69.652647   \n",
              "Insect             7001.0   0.595772    0.661604    0.000000    0.000000   \n",
              "\n",
              "                         50%        75%         max  \n",
              "Hour               21.000000  21.000000   23.000000  \n",
              "Minutes            29.000000  44.000000   59.000000  \n",
              "Sensor_alpha       -0.287447  66.480795  351.256221  \n",
              "Sensor_beta       -36.171567  56.637778  518.395878  \n",
              "Sensor_gamma       -1.217606  76.870277  378.349287  \n",
              "Sensor_alpha_plus  -1.133567  93.285286  462.556319  \n",
              "Sensor_beta_plus   -0.444124  66.181909  345.279240  \n",
              "Sensor_gamma_plus   0.027128  67.838524  363.682391  \n",
              "Insect              0.000000   1.000000    2.000000  "
            ],
            "text/html": [
              "\n",
              "  <div id=\"df-98b4e097-7640-4d95-8baa-bd50807f06dd\">\n",
              "    <div class=\"colab-df-container\">\n",
              "      <div>\n",
              "<style scoped>\n",
              "    .dataframe tbody tr th:only-of-type {\n",
              "        vertical-align: middle;\n",
              "    }\n",
              "\n",
              "    .dataframe tbody tr th {\n",
              "        vertical-align: top;\n",
              "    }\n",
              "\n",
              "    .dataframe thead th {\n",
              "        text-align: right;\n",
              "    }\n",
              "</style>\n",
              "<table border=\"1\" class=\"dataframe\">\n",
              "  <thead>\n",
              "    <tr style=\"text-align: right;\">\n",
              "      <th></th>\n",
              "      <th>count</th>\n",
              "      <th>mean</th>\n",
              "      <th>std</th>\n",
              "      <th>min</th>\n",
              "      <th>25%</th>\n",
              "      <th>50%</th>\n",
              "      <th>75%</th>\n",
              "      <th>max</th>\n",
              "    </tr>\n",
              "  </thead>\n",
              "  <tbody>\n",
              "    <tr>\n",
              "      <th>Hour</th>\n",
              "      <td>7001.0</td>\n",
              "      <td>19.598914</td>\n",
              "      <td>3.507008</td>\n",
              "      <td>1.000000</td>\n",
              "      <td>19.000000</td>\n",
              "      <td>21.000000</td>\n",
              "      <td>21.000000</td>\n",
              "      <td>23.000000</td>\n",
              "    </tr>\n",
              "    <tr>\n",
              "      <th>Minutes</th>\n",
              "      <td>7001.0</td>\n",
              "      <td>29.405942</td>\n",
              "      <td>17.375830</td>\n",
              "      <td>0.000000</td>\n",
              "      <td>14.000000</td>\n",
              "      <td>29.000000</td>\n",
              "      <td>44.000000</td>\n",
              "      <td>59.000000</td>\n",
              "    </tr>\n",
              "    <tr>\n",
              "      <th>Sensor_alpha</th>\n",
              "      <td>7001.0</td>\n",
              "      <td>0.477171</td>\n",
              "      <td>99.294856</td>\n",
              "      <td>-404.898823</td>\n",
              "      <td>-68.573905</td>\n",
              "      <td>-0.287447</td>\n",
              "      <td>66.480795</td>\n",
              "      <td>351.256221</td>\n",
              "    </tr>\n",
              "    <tr>\n",
              "      <th>Sensor_beta</th>\n",
              "      <td>7001.0</td>\n",
              "      <td>-29.974117</td>\n",
              "      <td>133.095125</td>\n",
              "      <td>-656.272666</td>\n",
              "      <td>-116.060383</td>\n",
              "      <td>-36.171567</td>\n",
              "      <td>56.637778</td>\n",
              "      <td>518.395878</td>\n",
              "    </tr>\n",
              "    <tr>\n",
              "      <th>Sensor_gamma</th>\n",
              "      <td>7001.0</td>\n",
              "      <td>-5.624690</td>\n",
              "      <td>115.871391</td>\n",
              "      <td>-448.478039</td>\n",
              "      <td>-83.508747</td>\n",
              "      <td>-1.217606</td>\n",
              "      <td>76.870277</td>\n",
              "      <td>378.349287</td>\n",
              "    </tr>\n",
              "    <tr>\n",
              "      <th>Sensor_alpha_plus</th>\n",
              "      <td>7001.0</td>\n",
              "      <td>7.188060</td>\n",
              "      <td>122.327980</td>\n",
              "      <td>-437.205393</td>\n",
              "      <td>-79.496687</td>\n",
              "      <td>-1.133567</td>\n",
              "      <td>93.285286</td>\n",
              "      <td>462.556319</td>\n",
              "    </tr>\n",
              "    <tr>\n",
              "      <th>Sensor_beta_plus</th>\n",
              "      <td>7001.0</td>\n",
              "      <td>-0.757901</td>\n",
              "      <td>100.039477</td>\n",
              "      <td>-387.567443</td>\n",
              "      <td>-68.061596</td>\n",
              "      <td>-0.444124</td>\n",
              "      <td>66.181909</td>\n",
              "      <td>345.279240</td>\n",
              "    </tr>\n",
              "    <tr>\n",
              "      <th>Sensor_gamma_plus</th>\n",
              "      <td>7001.0</td>\n",
              "      <td>-0.554533</td>\n",
              "      <td>100.535951</td>\n",
              "      <td>-374.961689</td>\n",
              "      <td>-69.652647</td>\n",
              "      <td>0.027128</td>\n",
              "      <td>67.838524</td>\n",
              "      <td>363.682391</td>\n",
              "    </tr>\n",
              "    <tr>\n",
              "      <th>Insect</th>\n",
              "      <td>7001.0</td>\n",
              "      <td>0.595772</td>\n",
              "      <td>0.661604</td>\n",
              "      <td>0.000000</td>\n",
              "      <td>0.000000</td>\n",
              "      <td>0.000000</td>\n",
              "      <td>1.000000</td>\n",
              "      <td>2.000000</td>\n",
              "    </tr>\n",
              "  </tbody>\n",
              "</table>\n",
              "</div>\n",
              "      <button class=\"colab-df-convert\" onclick=\"convertToInteractive('df-98b4e097-7640-4d95-8baa-bd50807f06dd')\"\n",
              "              title=\"Convert this dataframe to an interactive table.\"\n",
              "              style=\"display:none;\">\n",
              "        \n",
              "  <svg xmlns=\"http://www.w3.org/2000/svg\" height=\"24px\"viewBox=\"0 0 24 24\"\n",
              "       width=\"24px\">\n",
              "    <path d=\"M0 0h24v24H0V0z\" fill=\"none\"/>\n",
              "    <path d=\"M18.56 5.44l.94 2.06.94-2.06 2.06-.94-2.06-.94-.94-2.06-.94 2.06-2.06.94zm-11 1L8.5 8.5l.94-2.06 2.06-.94-2.06-.94L8.5 2.5l-.94 2.06-2.06.94zm10 10l.94 2.06.94-2.06 2.06-.94-2.06-.94-.94-2.06-.94 2.06-2.06.94z\"/><path d=\"M17.41 7.96l-1.37-1.37c-.4-.4-.92-.59-1.43-.59-.52 0-1.04.2-1.43.59L10.3 9.45l-7.72 7.72c-.78.78-.78 2.05 0 2.83L4 21.41c.39.39.9.59 1.41.59.51 0 1.02-.2 1.41-.59l7.78-7.78 2.81-2.81c.8-.78.8-2.07 0-2.86zM5.41 20L4 18.59l7.72-7.72 1.47 1.35L5.41 20z\"/>\n",
              "  </svg>\n",
              "      </button>\n",
              "      \n",
              "  <style>\n",
              "    .colab-df-container {\n",
              "      display:flex;\n",
              "      flex-wrap:wrap;\n",
              "      gap: 12px;\n",
              "    }\n",
              "\n",
              "    .colab-df-convert {\n",
              "      background-color: #E8F0FE;\n",
              "      border: none;\n",
              "      border-radius: 50%;\n",
              "      cursor: pointer;\n",
              "      display: none;\n",
              "      fill: #1967D2;\n",
              "      height: 32px;\n",
              "      padding: 0 0 0 0;\n",
              "      width: 32px;\n",
              "    }\n",
              "\n",
              "    .colab-df-convert:hover {\n",
              "      background-color: #E2EBFA;\n",
              "      box-shadow: 0px 1px 2px rgba(60, 64, 67, 0.3), 0px 1px 3px 1px rgba(60, 64, 67, 0.15);\n",
              "      fill: #174EA6;\n",
              "    }\n",
              "\n",
              "    [theme=dark] .colab-df-convert {\n",
              "      background-color: #3B4455;\n",
              "      fill: #D2E3FC;\n",
              "    }\n",
              "\n",
              "    [theme=dark] .colab-df-convert:hover {\n",
              "      background-color: #434B5C;\n",
              "      box-shadow: 0px 1px 3px 1px rgba(0, 0, 0, 0.15);\n",
              "      filter: drop-shadow(0px 1px 2px rgba(0, 0, 0, 0.3));\n",
              "      fill: #FFFFFF;\n",
              "    }\n",
              "  </style>\n",
              "\n",
              "      <script>\n",
              "        const buttonEl =\n",
              "          document.querySelector('#df-98b4e097-7640-4d95-8baa-bd50807f06dd button.colab-df-convert');\n",
              "        buttonEl.style.display =\n",
              "          google.colab.kernel.accessAllowed ? 'block' : 'none';\n",
              "\n",
              "        async function convertToInteractive(key) {\n",
              "          const element = document.querySelector('#df-98b4e097-7640-4d95-8baa-bd50807f06dd');\n",
              "          const dataTable =\n",
              "            await google.colab.kernel.invokeFunction('convertToInteractive',\n",
              "                                                     [key], {});\n",
              "          if (!dataTable) return;\n",
              "\n",
              "          const docLinkHtml = 'Like what you see? Visit the ' +\n",
              "            '<a target=\"_blank\" href=https://colab.research.google.com/notebooks/data_table.ipynb>data table notebook</a>'\n",
              "            + ' to learn more about interactive tables.';\n",
              "          element.innerHTML = '';\n",
              "          dataTable['output_type'] = 'display_data';\n",
              "          await google.colab.output.renderOutput(dataTable, element);\n",
              "          const docLink = document.createElement('div');\n",
              "          docLink.innerHTML = docLinkHtml;\n",
              "          element.appendChild(docLink);\n",
              "        }\n",
              "      </script>\n",
              "    </div>\n",
              "  </div>\n",
              "  "
            ]
          },
          "metadata": {},
          "execution_count": 778
        }
      ],
      "source": [
        "df_train.describe().T"
      ]
    },
    {
      "cell_type": "markdown",
      "metadata": {
        "id": "EpyDTZIbvPNC"
      },
      "source": [
        "## 5 Ver número de valores nulos"
      ]
    },
    {
      "cell_type": "code",
      "execution_count": 780,
      "metadata": {
        "colab": {
          "base_uri": "https://localhost:8080/"
        },
        "id": "O8YlzjZJwHv6",
        "outputId": "8141759e-d1a8-4f91-ba74-78cc722d92fa"
      },
      "outputs": [
        {
          "output_type": "execute_result",
          "data": {
            "text/plain": [
              "Hour                 0\n",
              "Minutes              0\n",
              "Sensor_alpha         0\n",
              "Sensor_beta          0\n",
              "Sensor_gamma         0\n",
              "Sensor_alpha_plus    0\n",
              "Sensor_beta_plus     0\n",
              "Sensor_gamma_plus    0\n",
              "Insect               0\n",
              "dtype: int64"
            ]
          },
          "metadata": {},
          "execution_count": 780
        }
      ],
      "source": [
        "df_train.isnull().sum()"
      ]
    },
    {
      "cell_type": "markdown",
      "metadata": {
        "id": "3uJsDYNQ03xa"
      },
      "source": [
        "No hay nulos, no habrá que hacer ningún tratamiento de nulos."
      ]
    },
    {
      "cell_type": "markdown",
      "metadata": {
        "id": "W1NCRkKYuS5R"
      },
      "source": [
        "## 6 Análisis del target. Distribución/rango de valores"
      ]
    },
    {
      "cell_type": "code",
      "execution_count": 781,
      "metadata": {
        "colab": {
          "base_uri": "https://localhost:8080/",
          "height": 270
        },
        "id": "ctWjFzvy1Ajd",
        "outputId": "368ac4fa-d26f-4304-a744-7b8b9e5504a3"
      },
      "outputs": [
        {
          "output_type": "execute_result",
          "data": {
            "text/plain": [
              "   Hour  Minutes  Sensor_alpha  Sensor_beta  Sensor_gamma  Sensor_alpha_plus  \\\n",
              "0    22       26    119.910995   242.838324   -316.819222         250.195048   \n",
              "1    10       16    -90.790536  -269.470767   -182.581844          95.394941   \n",
              "2    21       42    -20.028003  -147.070212     50.280872         -90.750386   \n",
              "3    21       17    -21.258567     0.467070    -86.164153         -21.813529   \n",
              "4    18       16    -58.154501   -13.051195   -156.501167          48.392938   \n",
              "\n",
              "   Sensor_beta_plus  Sensor_gamma_plus  Insect  \n",
              "0        -53.547777        -112.049983       2  \n",
              "1         37.291944          48.525180       0  \n",
              "2        -50.476556          85.399009       1  \n",
              "3       -209.256006          16.291882       0  \n",
              "4       -110.008860         -10.285138       2  "
            ],
            "text/html": [
              "\n",
              "  <div id=\"df-7a52d338-d099-4ba7-839a-7f3cea4272e2\">\n",
              "    <div class=\"colab-df-container\">\n",
              "      <div>\n",
              "<style scoped>\n",
              "    .dataframe tbody tr th:only-of-type {\n",
              "        vertical-align: middle;\n",
              "    }\n",
              "\n",
              "    .dataframe tbody tr th {\n",
              "        vertical-align: top;\n",
              "    }\n",
              "\n",
              "    .dataframe thead th {\n",
              "        text-align: right;\n",
              "    }\n",
              "</style>\n",
              "<table border=\"1\" class=\"dataframe\">\n",
              "  <thead>\n",
              "    <tr style=\"text-align: right;\">\n",
              "      <th></th>\n",
              "      <th>Hour</th>\n",
              "      <th>Minutes</th>\n",
              "      <th>Sensor_alpha</th>\n",
              "      <th>Sensor_beta</th>\n",
              "      <th>Sensor_gamma</th>\n",
              "      <th>Sensor_alpha_plus</th>\n",
              "      <th>Sensor_beta_plus</th>\n",
              "      <th>Sensor_gamma_plus</th>\n",
              "      <th>Insect</th>\n",
              "    </tr>\n",
              "  </thead>\n",
              "  <tbody>\n",
              "    <tr>\n",
              "      <th>0</th>\n",
              "      <td>22</td>\n",
              "      <td>26</td>\n",
              "      <td>119.910995</td>\n",
              "      <td>242.838324</td>\n",
              "      <td>-316.819222</td>\n",
              "      <td>250.195048</td>\n",
              "      <td>-53.547777</td>\n",
              "      <td>-112.049983</td>\n",
              "      <td>2</td>\n",
              "    </tr>\n",
              "    <tr>\n",
              "      <th>1</th>\n",
              "      <td>10</td>\n",
              "      <td>16</td>\n",
              "      <td>-90.790536</td>\n",
              "      <td>-269.470767</td>\n",
              "      <td>-182.581844</td>\n",
              "      <td>95.394941</td>\n",
              "      <td>37.291944</td>\n",
              "      <td>48.525180</td>\n",
              "      <td>0</td>\n",
              "    </tr>\n",
              "    <tr>\n",
              "      <th>2</th>\n",
              "      <td>21</td>\n",
              "      <td>42</td>\n",
              "      <td>-20.028003</td>\n",
              "      <td>-147.070212</td>\n",
              "      <td>50.280872</td>\n",
              "      <td>-90.750386</td>\n",
              "      <td>-50.476556</td>\n",
              "      <td>85.399009</td>\n",
              "      <td>1</td>\n",
              "    </tr>\n",
              "    <tr>\n",
              "      <th>3</th>\n",
              "      <td>21</td>\n",
              "      <td>17</td>\n",
              "      <td>-21.258567</td>\n",
              "      <td>0.467070</td>\n",
              "      <td>-86.164153</td>\n",
              "      <td>-21.813529</td>\n",
              "      <td>-209.256006</td>\n",
              "      <td>16.291882</td>\n",
              "      <td>0</td>\n",
              "    </tr>\n",
              "    <tr>\n",
              "      <th>4</th>\n",
              "      <td>18</td>\n",
              "      <td>16</td>\n",
              "      <td>-58.154501</td>\n",
              "      <td>-13.051195</td>\n",
              "      <td>-156.501167</td>\n",
              "      <td>48.392938</td>\n",
              "      <td>-110.008860</td>\n",
              "      <td>-10.285138</td>\n",
              "      <td>2</td>\n",
              "    </tr>\n",
              "  </tbody>\n",
              "</table>\n",
              "</div>\n",
              "      <button class=\"colab-df-convert\" onclick=\"convertToInteractive('df-7a52d338-d099-4ba7-839a-7f3cea4272e2')\"\n",
              "              title=\"Convert this dataframe to an interactive table.\"\n",
              "              style=\"display:none;\">\n",
              "        \n",
              "  <svg xmlns=\"http://www.w3.org/2000/svg\" height=\"24px\"viewBox=\"0 0 24 24\"\n",
              "       width=\"24px\">\n",
              "    <path d=\"M0 0h24v24H0V0z\" fill=\"none\"/>\n",
              "    <path d=\"M18.56 5.44l.94 2.06.94-2.06 2.06-.94-2.06-.94-.94-2.06-.94 2.06-2.06.94zm-11 1L8.5 8.5l.94-2.06 2.06-.94-2.06-.94L8.5 2.5l-.94 2.06-2.06.94zm10 10l.94 2.06.94-2.06 2.06-.94-2.06-.94-.94-2.06-.94 2.06-2.06.94z\"/><path d=\"M17.41 7.96l-1.37-1.37c-.4-.4-.92-.59-1.43-.59-.52 0-1.04.2-1.43.59L10.3 9.45l-7.72 7.72c-.78.78-.78 2.05 0 2.83L4 21.41c.39.39.9.59 1.41.59.51 0 1.02-.2 1.41-.59l7.78-7.78 2.81-2.81c.8-.78.8-2.07 0-2.86zM5.41 20L4 18.59l7.72-7.72 1.47 1.35L5.41 20z\"/>\n",
              "  </svg>\n",
              "      </button>\n",
              "      \n",
              "  <style>\n",
              "    .colab-df-container {\n",
              "      display:flex;\n",
              "      flex-wrap:wrap;\n",
              "      gap: 12px;\n",
              "    }\n",
              "\n",
              "    .colab-df-convert {\n",
              "      background-color: #E8F0FE;\n",
              "      border: none;\n",
              "      border-radius: 50%;\n",
              "      cursor: pointer;\n",
              "      display: none;\n",
              "      fill: #1967D2;\n",
              "      height: 32px;\n",
              "      padding: 0 0 0 0;\n",
              "      width: 32px;\n",
              "    }\n",
              "\n",
              "    .colab-df-convert:hover {\n",
              "      background-color: #E2EBFA;\n",
              "      box-shadow: 0px 1px 2px rgba(60, 64, 67, 0.3), 0px 1px 3px 1px rgba(60, 64, 67, 0.15);\n",
              "      fill: #174EA6;\n",
              "    }\n",
              "\n",
              "    [theme=dark] .colab-df-convert {\n",
              "      background-color: #3B4455;\n",
              "      fill: #D2E3FC;\n",
              "    }\n",
              "\n",
              "    [theme=dark] .colab-df-convert:hover {\n",
              "      background-color: #434B5C;\n",
              "      box-shadow: 0px 1px 3px 1px rgba(0, 0, 0, 0.15);\n",
              "      filter: drop-shadow(0px 1px 2px rgba(0, 0, 0, 0.3));\n",
              "      fill: #FFFFFF;\n",
              "    }\n",
              "  </style>\n",
              "\n",
              "      <script>\n",
              "        const buttonEl =\n",
              "          document.querySelector('#df-7a52d338-d099-4ba7-839a-7f3cea4272e2 button.colab-df-convert');\n",
              "        buttonEl.style.display =\n",
              "          google.colab.kernel.accessAllowed ? 'block' : 'none';\n",
              "\n",
              "        async function convertToInteractive(key) {\n",
              "          const element = document.querySelector('#df-7a52d338-d099-4ba7-839a-7f3cea4272e2');\n",
              "          const dataTable =\n",
              "            await google.colab.kernel.invokeFunction('convertToInteractive',\n",
              "                                                     [key], {});\n",
              "          if (!dataTable) return;\n",
              "\n",
              "          const docLinkHtml = 'Like what you see? Visit the ' +\n",
              "            '<a target=\"_blank\" href=https://colab.research.google.com/notebooks/data_table.ipynb>data table notebook</a>'\n",
              "            + ' to learn more about interactive tables.';\n",
              "          element.innerHTML = '';\n",
              "          dataTable['output_type'] = 'display_data';\n",
              "          await google.colab.output.renderOutput(dataTable, element);\n",
              "          const docLink = document.createElement('div');\n",
              "          docLink.innerHTML = docLinkHtml;\n",
              "          element.appendChild(docLink);\n",
              "        }\n",
              "      </script>\n",
              "    </div>\n",
              "  </div>\n",
              "  "
            ]
          },
          "metadata": {},
          "execution_count": 781
        }
      ],
      "source": [
        "df_train.head()"
      ]
    },
    {
      "cell_type": "code",
      "execution_count": 782,
      "metadata": {
        "colab": {
          "base_uri": "https://localhost:8080/"
        },
        "id": "fyTSZc3HuuLo",
        "outputId": "7840c728-2da6-43a4-a42f-792209f9ad0a"
      },
      "outputs": [
        {
          "output_type": "execute_result",
          "data": {
            "text/plain": [
              "0    3519\n",
              "1    2793\n",
              "2     689\n",
              "Name: Insect, dtype: int64"
            ]
          },
          "metadata": {},
          "execution_count": 782
        }
      ],
      "source": [
        "df_train[\"Insect\"].value_counts()"
      ]
    },
    {
      "cell_type": "markdown",
      "metadata": {
        "id": "hAW5YC141OfK"
      },
      "source": [
        "0- Lepidoptero\n",
        "\n",
        "1- Himenoptera\n",
        "\n",
        "2- Diptera\n",
        "\n",
        "Vemos que el dataset está desbalanceado, por cuanto una clase (2) está claramente subrepresentada. Esto podría afectar a la construcción del modelo predictivo."
      ]
    },
    {
      "cell_type": "markdown",
      "source": [
        "Ahora vamos a ver si Hour y Minutes aportan información relevante para diferencias las clases?"
      ],
      "metadata": {
        "id": "munifru8O8bq"
      }
    },
    {
      "cell_type": "code",
      "execution_count": null,
      "metadata": {
        "id": "GYRk45Uje_8M"
      },
      "outputs": [],
      "source": [
        "df_train[df_train [\"Insect\"]== 0][[\"Hour\", \"Minutes\"]].describe()"
      ]
    },
    {
      "cell_type": "code",
      "execution_count": null,
      "metadata": {
        "id": "kwO70fHtfeIK"
      },
      "outputs": [],
      "source": [
        "df_train[df_train [\"Insect\"]== 1][[\"Hour\", \"Minutes\"]].describe()"
      ]
    },
    {
      "cell_type": "code",
      "execution_count": null,
      "metadata": {
        "id": "sdZt1KzJfgyi"
      },
      "outputs": [],
      "source": [
        "df_train[df_train [\"Insect\"]== 2][[\"Hour\", \"Minutes\"]].describe()"
      ]
    },
    {
      "cell_type": "code",
      "execution_count": 786,
      "metadata": {
        "colab": {
          "base_uri": "https://localhost:8080/"
        },
        "id": "khccXFRjuyeq",
        "outputId": "89fb228b-b698-4b28-a949-4a16303d74af"
      },
      "outputs": [
        {
          "output_type": "execute_result",
          "data": {
            "text/plain": [
              "0"
            ]
          },
          "metadata": {},
          "execution_count": 786
        }
      ],
      "source": [
        "df_train[\"Insect\"].isnull().sum()"
      ]
    },
    {
      "cell_type": "markdown",
      "metadata": {
        "id": "TGgubT6TTUGp"
      },
      "source": [
        "El target no tiene nulos"
      ]
    },
    {
      "cell_type": "code",
      "execution_count": 787,
      "metadata": {
        "id": "XDcf1bg7uyV4"
      },
      "outputs": [],
      "source": [
        "TARGET = \"Insect\""
      ]
    },
    {
      "cell_type": "code",
      "execution_count": 788,
      "metadata": {
        "colab": {
          "base_uri": "https://localhost:8080/"
        },
        "id": "tvYl50S1uyTt",
        "outputId": "f1a1db2b-bbf8-4b6a-bf48-fbe172071dbc"
      },
      "outputs": [
        {
          "output_type": "execute_result",
          "data": {
            "text/plain": [
              "7001"
            ]
          },
          "metadata": {},
          "execution_count": 788
        }
      ],
      "source": [
        "df_train[TARGET].count()"
      ]
    },
    {
      "cell_type": "markdown",
      "metadata": {
        "id": "pNFGNpC7R55T"
      },
      "source": [
        "Comprobamos la distribución del target de forma gráfica"
      ]
    },
    {
      "cell_type": "code",
      "execution_count": 789,
      "metadata": {
        "colab": {
          "base_uri": "https://localhost:8080/",
          "height": 378
        },
        "id": "tfJXluwHR_5z",
        "outputId": "4eb64431-a702-4917-84d9-456dd45cb1e4"
      },
      "outputs": [
        {
          "output_type": "execute_result",
          "data": {
            "text/plain": [
              "<matplotlib.axes._subplots.AxesSubplot at 0x7f2cfa500b50>"
            ]
          },
          "metadata": {},
          "execution_count": 789
        },
        {
          "output_type": "display_data",
          "data": {
            "text/plain": [
              "<Figure size 576x396 with 1 Axes>"
            ],
            "image/png": "[encoded data removed]"
          },
          "metadata": {}
        }
      ],
      "source": [
        "#plt.figure(figsize= (15,5))\n",
        "#px.histogram(df_malware, x= TARGET)\n",
        "sns.countplot(data=df_train, x=TARGET)"
      ]
    },
    {
      "cell_type": "code",
      "execution_count": 790,
      "metadata": {
        "colab": {
          "base_uri": "https://localhost:8080/"
        },
        "id": "Wl0wFDCACD7P",
        "outputId": "2cac7bcf-f6ec-4ee9-8c32-0e623a4c38cc"
      },
      "outputs": [
        {
          "output_type": "execute_result",
          "data": {
            "text/plain": [
              "0    3519\n",
              "1    2793\n",
              "2     689\n",
              "Name: Insect, dtype: int64"
            ]
          },
          "metadata": {},
          "execution_count": 790
        }
      ],
      "source": [
        "df_train[TARGET].value_counts()"
      ]
    },
    {
      "cell_type": "markdown",
      "metadata": {
        "id": "1Tubd0y8sIjL"
      },
      "source": [
        "##7 Eliminación de outliers\n"
      ]
    },
    {
      "cell_type": "markdown",
      "metadata": {
        "id": "c7QtPFrYDxgG"
      },
      "source": [
        "Los decision trees no sufren con los outliers, por eso esta vez no vamos a eliminarlos"
      ]
    },
    {
      "cell_type": "markdown",
      "metadata": {
        "id": "Ks8qtr9pxPTj"
      },
      "source": [
        "##8 Tratamiento de nulos"
      ]
    },
    {
      "cell_type": "code",
      "execution_count": 791,
      "metadata": {
        "colab": {
          "base_uri": "https://localhost:8080/"
        },
        "id": "tJd2nyGPm1N5",
        "outputId": "6b34f7d5-9725-44ec-9560-ffa604185b3e"
      },
      "outputs": [
        {
          "output_type": "execute_result",
          "data": {
            "text/plain": [
              "Hour                 0\n",
              "Minutes              0\n",
              "Sensor_alpha         0\n",
              "Sensor_beta          0\n",
              "Sensor_gamma         0\n",
              "Sensor_alpha_plus    0\n",
              "Sensor_beta_plus     0\n",
              "Sensor_gamma_plus    0\n",
              "Insect               0\n",
              "dtype: int64"
            ]
          },
          "metadata": {},
          "execution_count": 791
        }
      ],
      "source": [
        "df_train.isnull().sum()"
      ]
    },
    {
      "cell_type": "markdown",
      "metadata": {
        "id": "7Z_Cy29F2Bpn"
      },
      "source": [
        "Vemos que no hay nulos, por lo tanto no habrá que hacer ningún tratamiento"
      ]
    },
    {
      "cell_type": "markdown",
      "metadata": {
        "id": "CMr_hDB5yA8r"
      },
      "source": [
        "##9 Correlación de variables con el target"
      ]
    },
    {
      "cell_type": "code",
      "execution_count": 792,
      "metadata": {
        "colab": {
          "base_uri": "https://localhost:8080/",
          "height": 425
        },
        "id": "mttodlngeEXe",
        "outputId": "4f52e8a6-9057-4401-f46f-0341b5986ac1"
      },
      "outputs": [
        {
          "output_type": "execute_result",
          "data": {
            "text/plain": [
              "                         0           1           2           3           4     \\\n",
              "Hour                22.000000   10.000000   21.000000   21.000000   18.000000   \n",
              "Minutes             26.000000   16.000000   42.000000   17.000000   16.000000   \n",
              "Sensor_alpha       119.910995  -90.790536  -20.028003  -21.258567  -58.154501   \n",
              "Sensor_beta        242.838324 -269.470767 -147.070212    0.467070  -13.051195   \n",
              "Sensor_gamma      -316.819222 -182.581844   50.280872  -86.164153 -156.501167   \n",
              "Sensor_alpha_plus  250.195048   95.394941  -90.750386  -21.813529   48.392938   \n",
              "Sensor_beta_plus   -53.547777   37.291944  -50.476556 -209.256006 -110.008860   \n",
              "Sensor_gamma_plus -112.049983   48.525180   85.399009   16.291882  -10.285138   \n",
              "Insect               2.000000    0.000000    1.000000    0.000000    2.000000   \n",
              "\n",
              "                         5           6           7           8           9     \\\n",
              "Hour                21.000000   21.000000    7.000000   20.000000   21.000000   \n",
              "Minutes             23.000000   10.000000   34.000000   12.000000    1.000000   \n",
              "Sensor_alpha       -46.761031  108.268101 -103.673329 -146.492155  -60.924066   \n",
              "Sensor_beta        237.863074  -26.196569 -234.696711   12.444229  -66.598591   \n",
              "Sensor_gamma       208.008700  -96.568491 -103.499400  -42.473037  -63.173520   \n",
              "Sensor_alpha_plus -125.729185  117.432706   98.081187   60.356941 -104.830957   \n",
              "Sensor_beta_plus   -33.298749  -96.707760  -28.156253  -73.822742  123.155306   \n",
              "Sensor_gamma_plus   -1.362840   70.639947   45.068583  -31.022915  158.866955   \n",
              "Insect               1.000000    0.000000    0.000000    0.000000    1.000000   \n",
              "\n",
              "                   ...        6991        6992        6993        6994  \\\n",
              "Hour               ...   21.000000   20.000000   21.000000   21.000000   \n",
              "Minutes            ...   48.000000    7.000000   22.000000   14.000000   \n",
              "Sensor_alpha       ...  -13.366860   55.595621  -33.147444  -20.563368   \n",
              "Sensor_beta        ...  -76.755189   99.185744 -153.539698  -32.423407   \n",
              "Sensor_gamma       ...  -39.744548  -52.000605   41.306153 -159.475454   \n",
              "Sensor_alpha_plus  ... -167.618164 -103.412701  -23.156436   49.764046   \n",
              "Sensor_beta_plus   ...  249.757385    1.506748 -213.578373   63.920093   \n",
              "Sensor_gamma_plus  ...  -50.300485    3.260006   32.239747   -7.179916   \n",
              "Insect             ...    0.000000    0.000000    1.000000    1.000000   \n",
              "\n",
              "                         6995        6996        6997        6998        6999  \\\n",
              "Hour                20.000000   21.000000   18.000000   22.000000   18.000000   \n",
              "Minutes              8.000000    0.000000   57.000000   47.000000   14.000000   \n",
              "Sensor_alpha       -39.382006    6.576106   -6.169382   -7.289684  -92.317105   \n",
              "Sensor_beta         52.839192  301.050638 -317.652257 -406.732525 -191.555040   \n",
              "Sensor_gamma       -24.548637  146.682819 -161.644320 -212.097250   88.371271   \n",
              "Sensor_alpha_plus  106.791797 -209.480741  248.055724  248.745127   38.728565   \n",
              "Sensor_beta_plus    95.658834 -129.776336 -112.626344  116.893077  -39.050466   \n",
              "Sensor_gamma_plus -120.334880  -51.226256   99.463913   32.806150   20.356711   \n",
              "Insect               0.000000    1.000000    0.000000    0.000000    0.000000   \n",
              "\n",
              "                         7000  \n",
              "Hour                21.000000  \n",
              "Minutes             31.000000  \n",
              "Sensor_alpha       -72.083585  \n",
              "Sensor_beta        -11.434977  \n",
              "Sensor_gamma       -52.961743  \n",
              "Sensor_alpha_plus  -72.696385  \n",
              "Sensor_beta_plus   145.299227  \n",
              "Sensor_gamma_plus -143.856243  \n",
              "Insect               1.000000  \n",
              "\n",
              "[9 rows x 7001 columns]"
            ],
            "text/html": [
              "\n",
              "  <div id=\"df-4a2ee265-40d5-455e-92d6-1a5950e84ca5\">\n",
              "    <div class=\"colab-df-container\">\n",
              "      <div>\n",
              "<style scoped>\n",
              "    .dataframe tbody tr th:only-of-type {\n",
              "        vertical-align: middle;\n",
              "    }\n",
              "\n",
              "    .dataframe tbody tr th {\n",
              "        vertical-align: top;\n",
              "    }\n",
              "\n",
              "    .dataframe thead th {\n",
              "        text-align: right;\n",
              "    }\n",
              "</style>\n",
              "<table border=\"1\" class=\"dataframe\">\n",
              "  <thead>\n",
              "    <tr style=\"text-align: right;\">\n",
              "      <th></th>\n",
              "      <th>0</th>\n",
              "      <th>1</th>\n",
              "      <th>2</th>\n",
              "      <th>3</th>\n",
              "      <th>4</th>\n",
              "      <th>5</th>\n",
              "      <th>6</th>\n",
              "      <th>7</th>\n",
              "      <th>8</th>\n",
              "      <th>9</th>\n",
              "      <th>...</th>\n",
              "      <th>6991</th>\n",
              "      <th>6992</th>\n",
              "      <th>6993</th>\n",
              "      <th>6994</th>\n",
              "      <th>6995</th>\n",
              "      <th>6996</th>\n",
              "      <th>6997</th>\n",
              "      <th>6998</th>\n",
              "      <th>6999</th>\n",
              "      <th>7000</th>\n",
              "    </tr>\n",
              "  </thead>\n",
              "  <tbody>\n",
              "    <tr>\n",
              "      <th>Hour</th>\n",
              "      <td>22.000000</td>\n",
              "      <td>10.000000</td>\n",
              "      <td>21.000000</td>\n",
              "      <td>21.000000</td>\n",
              "      <td>18.000000</td>\n",
              "      <td>21.000000</td>\n",
              "      <td>21.000000</td>\n",
              "      <td>7.000000</td>\n",
              "      <td>20.000000</td>\n",
              "      <td>21.000000</td>\n",
              "      <td>...</td>\n",
              "      <td>21.000000</td>\n",
              "      <td>20.000000</td>\n",
              "      <td>21.000000</td>\n",
              "      <td>21.000000</td>\n",
              "      <td>20.000000</td>\n",
              "      <td>21.000000</td>\n",
              "      <td>18.000000</td>\n",
              "      <td>22.000000</td>\n",
              "      <td>18.000000</td>\n",
              "      <td>21.000000</td>\n",
              "    </tr>\n",
              "    <tr>\n",
              "      <th>Minutes</th>\n",
              "      <td>26.000000</td>\n",
              "      <td>16.000000</td>\n",
              "      <td>42.000000</td>\n",
              "      <td>17.000000</td>\n",
              "      <td>16.000000</td>\n",
              "      <td>23.000000</td>\n",
              "      <td>10.000000</td>\n",
              "      <td>34.000000</td>\n",
              "      <td>12.000000</td>\n",
              "      <td>1.000000</td>\n",
              "      <td>...</td>\n",
              "      <td>48.000000</td>\n",
              "      <td>7.000000</td>\n",
              "      <td>22.000000</td>\n",
              "      <td>14.000000</td>\n",
              "      <td>8.000000</td>\n",
              "      <td>0.000000</td>\n",
              "      <td>57.000000</td>\n",
              "      <td>47.000000</td>\n",
              "      <td>14.000000</td>\n",
              "      <td>31.000000</td>\n",
              "    </tr>\n",
              "    <tr>\n",
              "      <th>Sensor_alpha</th>\n",
              "      <td>119.910995</td>\n",
              "      <td>-90.790536</td>\n",
              "      <td>-20.028003</td>\n",
              "      <td>-21.258567</td>\n",
              "      <td>-58.154501</td>\n",
              "      <td>-46.761031</td>\n",
              "      <td>108.268101</td>\n",
              "      <td>-103.673329</td>\n",
              "      <td>-146.492155</td>\n",
              "      <td>-60.924066</td>\n",
              "      <td>...</td>\n",
              "      <td>-13.366860</td>\n",
              "      <td>55.595621</td>\n",
              "      <td>-33.147444</td>\n",
              "      <td>-20.563368</td>\n",
              "      <td>-39.382006</td>\n",
              "      <td>6.576106</td>\n",
              "      <td>-6.169382</td>\n",
              "      <td>-7.289684</td>\n",
              "      <td>-92.317105</td>\n",
              "      <td>-72.083585</td>\n",
              "    </tr>\n",
              "    <tr>\n",
              "      <th>Sensor_beta</th>\n",
              "      <td>242.838324</td>\n",
              "      <td>-269.470767</td>\n",
              "      <td>-147.070212</td>\n",
              "      <td>0.467070</td>\n",
              "      <td>-13.051195</td>\n",
              "      <td>237.863074</td>\n",
              "      <td>-26.196569</td>\n",
              "      <td>-234.696711</td>\n",
              "      <td>12.444229</td>\n",
              "      <td>-66.598591</td>\n",
              "      <td>...</td>\n",
              "      <td>-76.755189</td>\n",
              "      <td>99.185744</td>\n",
              "      <td>-153.539698</td>\n",
              "      <td>-32.423407</td>\n",
              "      <td>52.839192</td>\n",
              "      <td>301.050638</td>\n",
              "      <td>-317.652257</td>\n",
              "      <td>-406.732525</td>\n",
              "      <td>-191.555040</td>\n",
              "      <td>-11.434977</td>\n",
              "    </tr>\n",
              "    <tr>\n",
              "      <th>Sensor_gamma</th>\n",
              "      <td>-316.819222</td>\n",
              "      <td>-182.581844</td>\n",
              "      <td>50.280872</td>\n",
              "      <td>-86.164153</td>\n",
              "      <td>-156.501167</td>\n",
              "      <td>208.008700</td>\n",
              "      <td>-96.568491</td>\n",
              "      <td>-103.499400</td>\n",
              "      <td>-42.473037</td>\n",
              "      <td>-63.173520</td>\n",
              "      <td>...</td>\n",
              "      <td>-39.744548</td>\n",
              "      <td>-52.000605</td>\n",
              "      <td>41.306153</td>\n",
              "      <td>-159.475454</td>\n",
              "      <td>-24.548637</td>\n",
              "      <td>146.682819</td>\n",
              "      <td>-161.644320</td>\n",
              "      <td>-212.097250</td>\n",
              "      <td>88.371271</td>\n",
              "      <td>-52.961743</td>\n",
              "    </tr>\n",
              "    <tr>\n",
              "      <th>Sensor_alpha_plus</th>\n",
              "      <td>250.195048</td>\n",
              "      <td>95.394941</td>\n",
              "      <td>-90.750386</td>\n",
              "      <td>-21.813529</td>\n",
              "      <td>48.392938</td>\n",
              "      <td>-125.729185</td>\n",
              "      <td>117.432706</td>\n",
              "      <td>98.081187</td>\n",
              "      <td>60.356941</td>\n",
              "      <td>-104.830957</td>\n",
              "      <td>...</td>\n",
              "      <td>-167.618164</td>\n",
              "      <td>-103.412701</td>\n",
              "      <td>-23.156436</td>\n",
              "      <td>49.764046</td>\n",
              "      <td>106.791797</td>\n",
              "      <td>-209.480741</td>\n",
              "      <td>248.055724</td>\n",
              "      <td>248.745127</td>\n",
              "      <td>38.728565</td>\n",
              "      <td>-72.696385</td>\n",
              "    </tr>\n",
              "    <tr>\n",
              "      <th>Sensor_beta_plus</th>\n",
              "      <td>-53.547777</td>\n",
              "      <td>37.291944</td>\n",
              "      <td>-50.476556</td>\n",
              "      <td>-209.256006</td>\n",
              "      <td>-110.008860</td>\n",
              "      <td>-33.298749</td>\n",
              "      <td>-96.707760</td>\n",
              "      <td>-28.156253</td>\n",
              "      <td>-73.822742</td>\n",
              "      <td>123.155306</td>\n",
              "      <td>...</td>\n",
              "      <td>249.757385</td>\n",
              "      <td>1.506748</td>\n",
              "      <td>-213.578373</td>\n",
              "      <td>63.920093</td>\n",
              "      <td>95.658834</td>\n",
              "      <td>-129.776336</td>\n",
              "      <td>-112.626344</td>\n",
              "      <td>116.893077</td>\n",
              "      <td>-39.050466</td>\n",
              "      <td>145.299227</td>\n",
              "    </tr>\n",
              "    <tr>\n",
              "      <th>Sensor_gamma_plus</th>\n",
              "      <td>-112.049983</td>\n",
              "      <td>48.525180</td>\n",
              "      <td>85.399009</td>\n",
              "      <td>16.291882</td>\n",
              "      <td>-10.285138</td>\n",
              "      <td>-1.362840</td>\n",
              "      <td>70.639947</td>\n",
              "      <td>45.068583</td>\n",
              "      <td>-31.022915</td>\n",
              "      <td>158.866955</td>\n",
              "      <td>...</td>\n",
              "      <td>-50.300485</td>\n",
              "      <td>3.260006</td>\n",
              "      <td>32.239747</td>\n",
              "      <td>-7.179916</td>\n",
              "      <td>-120.334880</td>\n",
              "      <td>-51.226256</td>\n",
              "      <td>99.463913</td>\n",
              "      <td>32.806150</td>\n",
              "      <td>20.356711</td>\n",
              "      <td>-143.856243</td>\n",
              "    </tr>\n",
              "    <tr>\n",
              "      <th>Insect</th>\n",
              "      <td>2.000000</td>\n",
              "      <td>0.000000</td>\n",
              "      <td>1.000000</td>\n",
              "      <td>0.000000</td>\n",
              "      <td>2.000000</td>\n",
              "      <td>1.000000</td>\n",
              "      <td>0.000000</td>\n",
              "      <td>0.000000</td>\n",
              "      <td>0.000000</td>\n",
              "      <td>1.000000</td>\n",
              "      <td>...</td>\n",
              "      <td>0.000000</td>\n",
              "      <td>0.000000</td>\n",
              "      <td>1.000000</td>\n",
              "      <td>1.000000</td>\n",
              "      <td>0.000000</td>\n",
              "      <td>1.000000</td>\n",
              "      <td>0.000000</td>\n",
              "      <td>0.000000</td>\n",
              "      <td>0.000000</td>\n",
              "      <td>1.000000</td>\n",
              "    </tr>\n",
              "  </tbody>\n",
              "</table>\n",
              "<p>9 rows × 7001 columns</p>\n",
              "</div>\n",
              "      <button class=\"colab-df-convert\" onclick=\"convertToInteractive('df-4a2ee265-40d5-455e-92d6-1a5950e84ca5')\"\n",
              "              title=\"Convert this dataframe to an interactive table.\"\n",
              "              style=\"display:none;\">\n",
              "        \n",
              "  <svg xmlns=\"http://www.w3.org/2000/svg\" height=\"24px\"viewBox=\"0 0 24 24\"\n",
              "       width=\"24px\">\n",
              "    <path d=\"M0 0h24v24H0V0z\" fill=\"none\"/>\n",
              "    <path d=\"M18.56 5.44l.94 2.06.94-2.06 2.06-.94-2.06-.94-.94-2.06-.94 2.06-2.06.94zm-11 1L8.5 8.5l.94-2.06 2.06-.94-2.06-.94L8.5 2.5l-.94 2.06-2.06.94zm10 10l.94 2.06.94-2.06 2.06-.94-2.06-.94-.94-2.06-.94 2.06-2.06.94z\"/><path d=\"M17.41 7.96l-1.37-1.37c-.4-.4-.92-.59-1.43-.59-.52 0-1.04.2-1.43.59L10.3 9.45l-7.72 7.72c-.78.78-.78 2.05 0 2.83L4 21.41c.39.39.9.59 1.41.59.51 0 1.02-.2 1.41-.59l7.78-7.78 2.81-2.81c.8-.78.8-2.07 0-2.86zM5.41 20L4 18.59l7.72-7.72 1.47 1.35L5.41 20z\"/>\n",
              "  </svg>\n",
              "      </button>\n",
              "      \n",
              "  <style>\n",
              "    .colab-df-container {\n",
              "      display:flex;\n",
              "      flex-wrap:wrap;\n",
              "      gap: 12px;\n",
              "    }\n",
              "\n",
              "    .colab-df-convert {\n",
              "      background-color: #E8F0FE;\n",
              "      border: none;\n",
              "      border-radius: 50%;\n",
              "      cursor: pointer;\n",
              "      display: none;\n",
              "      fill: #1967D2;\n",
              "      height: 32px;\n",
              "      padding: 0 0 0 0;\n",
              "      width: 32px;\n",
              "    }\n",
              "\n",
              "    .colab-df-convert:hover {\n",
              "      background-color: #E2EBFA;\n",
              "      box-shadow: 0px 1px 2px rgba(60, 64, 67, 0.3), 0px 1px 3px 1px rgba(60, 64, 67, 0.15);\n",
              "      fill: #174EA6;\n",
              "    }\n",
              "\n",
              "    [theme=dark] .colab-df-convert {\n",
              "      background-color: #3B4455;\n",
              "      fill: #D2E3FC;\n",
              "    }\n",
              "\n",
              "    [theme=dark] .colab-df-convert:hover {\n",
              "      background-color: #434B5C;\n",
              "      box-shadow: 0px 1px 3px 1px rgba(0, 0, 0, 0.15);\n",
              "      filter: drop-shadow(0px 1px 2px rgba(0, 0, 0, 0.3));\n",
              "      fill: #FFFFFF;\n",
              "    }\n",
              "  </style>\n",
              "\n",
              "      <script>\n",
              "        const buttonEl =\n",
              "          document.querySelector('#df-4a2ee265-40d5-455e-92d6-1a5950e84ca5 button.colab-df-convert');\n",
              "        buttonEl.style.display =\n",
              "          google.colab.kernel.accessAllowed ? 'block' : 'none';\n",
              "\n",
              "        async function convertToInteractive(key) {\n",
              "          const element = document.querySelector('#df-4a2ee265-40d5-455e-92d6-1a5950e84ca5');\n",
              "          const dataTable =\n",
              "            await google.colab.kernel.invokeFunction('convertToInteractive',\n",
              "                                                     [key], {});\n",
              "          if (!dataTable) return;\n",
              "\n",
              "          const docLinkHtml = 'Like what you see? Visit the ' +\n",
              "            '<a target=\"_blank\" href=https://colab.research.google.com/notebooks/data_table.ipynb>data table notebook</a>'\n",
              "            + ' to learn more about interactive tables.';\n",
              "          element.innerHTML = '';\n",
              "          dataTable['output_type'] = 'display_data';\n",
              "          await google.colab.output.renderOutput(dataTable, element);\n",
              "          const docLink = document.createElement('div');\n",
              "          docLink.innerHTML = docLinkHtml;\n",
              "          element.appendChild(docLink);\n",
              "        }\n",
              "      </script>\n",
              "    </div>\n",
              "  </div>\n",
              "  "
            ]
          },
          "metadata": {},
          "execution_count": 792
        }
      ],
      "source": [
        "df_train.select_dtypes(include = [\"number\"]).T\n"
      ]
    },
    {
      "cell_type": "markdown",
      "metadata": {
        "id": "vcTRlBjcyA0M"
      },
      "source": [
        "Vamos a comprobar si alguna de las variables está altamente correlacionada, y por lo tanto puede ser repetitiva en cuánto a la información que aporte al modelo final. Si se encontrara alguna, se podría eliminar."
      ]
    },
    {
      "cell_type": "code",
      "execution_count": 793,
      "metadata": {
        "id": "GjAikXlfZIJ2"
      },
      "outputs": [],
      "source": [
        "corr = df_train.corr()"
      ]
    },
    {
      "cell_type": "code",
      "execution_count": 794,
      "metadata": {
        "id": "D9geHZC1ZIJ2"
      },
      "outputs": [],
      "source": [
        "corr_final = corr.style.background_gradient(cmap=\"coolwarm\")"
      ]
    },
    {
      "cell_type": "code",
      "execution_count": 795,
      "metadata": {
        "colab": {
          "base_uri": "https://localhost:8080/",
          "height": 352
        },
        "id": "73vcjxAMZIJ2",
        "outputId": "52b9ffec-c560-4606-835c-53b9ce3122d5"
      },
      "outputs": [
        {
          "output_type": "execute_result",
          "data": {
            "text/plain": [
              "<pandas.io.formats.style.Styler at 0x7f2cfa474490>"
            ],
            "text/html": [
              "<style type=\"text/css\">\n",
              "#T_893c7_row0_col0, #T_893c7_row1_col1, #T_893c7_row2_col2, #T_893c7_row3_col3, #T_893c7_row4_col4, #T_893c7_row5_col5, #T_893c7_row6_col6, #T_893c7_row7_col7, #T_893c7_row8_col8 {\n",
              "  background-color: #b40426;\n",
              "  color: #f1f1f1;\n",
              "}\n",
              "#T_893c7_row0_col1, #T_893c7_row1_col2, #T_893c7_row3_col1, #T_893c7_row8_col1, #T_893c7_row8_col6 {\n",
              "  background-color: #3d50c3;\n",
              "  color: #f1f1f1;\n",
              "}\n",
              "#T_893c7_row0_col2, #T_893c7_row2_col1 {\n",
              "  background-color: #3e51c5;\n",
              "  color: #f1f1f1;\n",
              "}\n",
              "#T_893c7_row0_col3 {\n",
              "  background-color: #b7cff9;\n",
              "  color: #000000;\n",
              "}\n",
              "#T_893c7_row0_col4, #T_893c7_row2_col4, #T_893c7_row3_col0 {\n",
              "  background-color: #5e7de7;\n",
              "  color: #f1f1f1;\n",
              "}\n",
              "#T_893c7_row0_col5, #T_893c7_row2_col8 {\n",
              "  background-color: #9bbcff;\n",
              "  color: #000000;\n",
              "}\n",
              "#T_893c7_row0_col6, #T_893c7_row1_col7, #T_893c7_row3_col5, #T_893c7_row3_col7, #T_893c7_row5_col0, #T_893c7_row5_col2, #T_893c7_row5_col3, #T_893c7_row5_col8, #T_893c7_row7_col1, #T_893c7_row8_col4 {\n",
              "  background-color: #3b4cc0;\n",
              "  color: #f1f1f1;\n",
              "}\n",
              "#T_893c7_row0_col7, #T_893c7_row2_col7, #T_893c7_row4_col2, #T_893c7_row8_col2 {\n",
              "  background-color: #4257c9;\n",
              "  color: #f1f1f1;\n",
              "}\n",
              "#T_893c7_row0_col8, #T_893c7_row6_col3 {\n",
              "  background-color: #aec9fc;\n",
              "  color: #000000;\n",
              "}\n",
              "#T_893c7_row1_col0, #T_893c7_row6_col0 {\n",
              "  background-color: #4b64d5;\n",
              "  color: #f1f1f1;\n",
              "}\n",
              "#T_893c7_row1_col3 {\n",
              "  background-color: #a9c6fd;\n",
              "  color: #000000;\n",
              "}\n",
              "#T_893c7_row1_col4 {\n",
              "  background-color: #6384eb;\n",
              "  color: #f1f1f1;\n",
              "}\n",
              "#T_893c7_row1_col5, #T_893c7_row7_col5 {\n",
              "  background-color: #afcafc;\n",
              "  color: #000000;\n",
              "}\n",
              "#T_893c7_row1_col6, #T_893c7_row5_col6 {\n",
              "  background-color: #3c4ec2;\n",
              "  color: #f1f1f1;\n",
              "}\n",
              "#T_893c7_row1_col8 {\n",
              "  background-color: #96b7ff;\n",
              "  color: #000000;\n",
              "}\n",
              "#T_893c7_row2_col0 {\n",
              "  background-color: #4c66d6;\n",
              "  color: #f1f1f1;\n",
              "}\n",
              "#T_893c7_row2_col3 {\n",
              "  background-color: #b1cbfc;\n",
              "  color: #000000;\n",
              "}\n",
              "#T_893c7_row2_col5, #T_893c7_row7_col3 {\n",
              "  background-color: #a7c5fe;\n",
              "  color: #000000;\n",
              "}\n",
              "#T_893c7_row2_col6, #T_893c7_row4_col6, #T_893c7_row7_col6 {\n",
              "  background-color: #4358cb;\n",
              "  color: #f1f1f1;\n",
              "}\n",
              "#T_893c7_row3_col2 {\n",
              "  background-color: #465ecf;\n",
              "  color: #f1f1f1;\n",
              "}\n",
              "#T_893c7_row3_col4 {\n",
              "  background-color: #7b9ff9;\n",
              "  color: #f1f1f1;\n",
              "}\n",
              "#T_893c7_row3_col6, #T_893c7_row4_col7, #T_893c7_row7_col2, #T_893c7_row8_col7 {\n",
              "  background-color: #4055c8;\n",
              "  color: #f1f1f1;\n",
              "}\n",
              "#T_893c7_row3_col8 {\n",
              "  background-color: #e8d6cc;\n",
              "  color: #000000;\n",
              "}\n",
              "#T_893c7_row4_col0 {\n",
              "  background-color: #506bda;\n",
              "  color: #f1f1f1;\n",
              "}\n",
              "#T_893c7_row4_col1 {\n",
              "  background-color: #4961d2;\n",
              "  color: #f1f1f1;\n",
              "}\n",
              "#T_893c7_row4_col3 {\n",
              "  background-color: #c3d5f4;\n",
              "  color: #000000;\n",
              "}\n",
              "#T_893c7_row4_col5, #T_893c7_row6_col5 {\n",
              "  background-color: #aac7fd;\n",
              "  color: #000000;\n",
              "}\n",
              "#T_893c7_row4_col8 {\n",
              "  background-color: #7a9df8;\n",
              "  color: #f1f1f1;\n",
              "}\n",
              "#T_893c7_row5_col1, #T_893c7_row5_col7, #T_893c7_row6_col2, #T_893c7_row6_col7 {\n",
              "  background-color: #455cce;\n",
              "  color: #f1f1f1;\n",
              "}\n",
              "#T_893c7_row5_col4 {\n",
              "  background-color: #5a78e4;\n",
              "  color: #f1f1f1;\n",
              "}\n",
              "#T_893c7_row6_col1 {\n",
              "  background-color: #3f53c6;\n",
              "  color: #f1f1f1;\n",
              "}\n",
              "#T_893c7_row6_col4 {\n",
              "  background-color: #6282ea;\n",
              "  color: #f1f1f1;\n",
              "}\n",
              "#T_893c7_row6_col8, #T_893c7_row7_col8 {\n",
              "  background-color: #98b9ff;\n",
              "  color: #000000;\n",
              "}\n",
              "#T_893c7_row7_col0 {\n",
              "  background-color: #4f69d9;\n",
              "  color: #f1f1f1;\n",
              "}\n",
              "#T_893c7_row7_col4 {\n",
              "  background-color: #5b7ae5;\n",
              "  color: #f1f1f1;\n",
              "}\n",
              "#T_893c7_row8_col0 {\n",
              "  background-color: #688aef;\n",
              "  color: #f1f1f1;\n",
              "}\n",
              "#T_893c7_row8_col3 {\n",
              "  background-color: #efcfbf;\n",
              "  color: #000000;\n",
              "}\n",
              "#T_893c7_row8_col5 {\n",
              "  background-color: #516ddb;\n",
              "  color: #f1f1f1;\n",
              "}\n",
              "</style>\n",
              "<table id=\"T_893c7_\" class=\"dataframe\">\n",
              "  <thead>\n",
              "    <tr>\n",
              "      <th class=\"blank level0\" >&nbsp;</th>\n",
              "      <th class=\"col_heading level0 col0\" >Hour</th>\n",
              "      <th class=\"col_heading level0 col1\" >Minutes</th>\n",
              "      <th class=\"col_heading level0 col2\" >Sensor_alpha</th>\n",
              "      <th class=\"col_heading level0 col3\" >Sensor_beta</th>\n",
              "      <th class=\"col_heading level0 col4\" >Sensor_gamma</th>\n",
              "      <th class=\"col_heading level0 col5\" >Sensor_alpha_plus</th>\n",
              "      <th class=\"col_heading level0 col6\" >Sensor_beta_plus</th>\n",
              "      <th class=\"col_heading level0 col7\" >Sensor_gamma_plus</th>\n",
              "      <th class=\"col_heading level0 col8\" >Insect</th>\n",
              "    </tr>\n",
              "  </thead>\n",
              "  <tbody>\n",
              "    <tr>\n",
              "      <th id=\"T_893c7_level0_row0\" class=\"row_heading level0 row0\" >Hour</th>\n",
              "      <td id=\"T_893c7_row0_col0\" class=\"data row0 col0\" >1.000000</td>\n",
              "      <td id=\"T_893c7_row0_col1\" class=\"data row0 col1\" >-0.010428</td>\n",
              "      <td id=\"T_893c7_row0_col2\" class=\"data row0 col2\" >-0.004315</td>\n",
              "      <td id=\"T_893c7_row0_col3\" class=\"data row0 col3\" >0.052001</td>\n",
              "      <td id=\"T_893c7_row0_col4\" class=\"data row0 col4\" >0.008003</td>\n",
              "      <td id=\"T_893c7_row0_col5\" class=\"data row0 col5\" >-0.070914</td>\n",
              "      <td id=\"T_893c7_row0_col6\" class=\"data row0 col6\" >-0.011380</td>\n",
              "      <td id=\"T_893c7_row0_col7\" class=\"data row0 col7\" >0.003773</td>\n",
              "      <td id=\"T_893c7_row0_col8\" class=\"data row0 col8\" >0.085208</td>\n",
              "    </tr>\n",
              "    <tr>\n",
              "      <th id=\"T_893c7_level0_row1\" class=\"row_heading level0 row1\" >Minutes</th>\n",
              "      <td id=\"T_893c7_row1_col0\" class=\"data row1 col0\" >-0.010428</td>\n",
              "      <td id=\"T_893c7_row1_col1\" class=\"data row1 col1\" >1.000000</td>\n",
              "      <td id=\"T_893c7_row1_col2\" class=\"data row1 col2\" >-0.006835</td>\n",
              "      <td id=\"T_893c7_row1_col3\" class=\"data row1 col3\" >-0.011605</td>\n",
              "      <td id=\"T_893c7_row1_col4\" class=\"data row1 col4\" >0.027355</td>\n",
              "      <td id=\"T_893c7_row1_col5\" class=\"data row1 col5\" >0.015953</td>\n",
              "      <td id=\"T_893c7_row1_col6\" class=\"data row1 col6\" >-0.004444</td>\n",
              "      <td id=\"T_893c7_row1_col7\" class=\"data row1 col7\" >-0.021566</td>\n",
              "      <td id=\"T_893c7_row1_col8\" class=\"data row1 col8\" >-0.011447</td>\n",
              "    </tr>\n",
              "    <tr>\n",
              "      <th id=\"T_893c7_level0_row2\" class=\"row_heading level0 row2\" >Sensor_alpha</th>\n",
              "      <td id=\"T_893c7_row2_col0\" class=\"data row2 col0\" >-0.004315</td>\n",
              "      <td id=\"T_893c7_row2_col1\" class=\"data row2 col1\" >-0.006835</td>\n",
              "      <td id=\"T_893c7_row2_col2\" class=\"data row2 col2\" >1.000000</td>\n",
              "      <td id=\"T_893c7_row2_col3\" class=\"data row2 col3\" >0.022326</td>\n",
              "      <td id=\"T_893c7_row2_col4\" class=\"data row2 col4\" >0.006586</td>\n",
              "      <td id=\"T_893c7_row2_col5\" class=\"data row2 col5\" >-0.018265</td>\n",
              "      <td id=\"T_893c7_row2_col6\" class=\"data row2 col6\" >0.017574</td>\n",
              "      <td id=\"T_893c7_row2_col7\" class=\"data row2 col7\" >0.004248</td>\n",
              "      <td id=\"T_893c7_row2_col8\" class=\"data row2 col8\" >0.008430</td>\n",
              "    </tr>\n",
              "    <tr>\n",
              "      <th id=\"T_893c7_level0_row3\" class=\"row_heading level0 row3\" >Sensor_beta</th>\n",
              "      <td id=\"T_893c7_row3_col0\" class=\"data row3 col0\" >0.052001</td>\n",
              "      <td id=\"T_893c7_row3_col1\" class=\"data row3 col1\" >-0.011605</td>\n",
              "      <td id=\"T_893c7_row3_col2\" class=\"data row3 col2\" >0.022326</td>\n",
              "      <td id=\"T_893c7_row3_col3\" class=\"data row3 col3\" >1.000000</td>\n",
              "      <td id=\"T_893c7_row3_col4\" class=\"data row3 col4\" >0.104676</td>\n",
              "      <td id=\"T_893c7_row3_col5\" class=\"data row3 col5\" >-0.512785</td>\n",
              "      <td id=\"T_893c7_row3_col6\" class=\"data row3 col6\" >0.010635</td>\n",
              "      <td id=\"T_893c7_row3_col7\" class=\"data row3 col7\" >-0.022064</td>\n",
              "      <td id=\"T_893c7_row3_col8\" class=\"data row3 col8\" >0.366754</td>\n",
              "    </tr>\n",
              "    <tr>\n",
              "      <th id=\"T_893c7_level0_row4\" class=\"row_heading level0 row4\" >Sensor_gamma</th>\n",
              "      <td id=\"T_893c7_row4_col0\" class=\"data row4 col0\" >0.008003</td>\n",
              "      <td id=\"T_893c7_row4_col1\" class=\"data row4 col1\" >0.027355</td>\n",
              "      <td id=\"T_893c7_row4_col2\" class=\"data row4 col2\" >0.006586</td>\n",
              "      <td id=\"T_893c7_row4_col3\" class=\"data row4 col3\" >0.104676</td>\n",
              "      <td id=\"T_893c7_row4_col4\" class=\"data row4 col4\" >1.000000</td>\n",
              "      <td id=\"T_893c7_row4_col5\" class=\"data row4 col5\" >-0.005966</td>\n",
              "      <td id=\"T_893c7_row4_col6\" class=\"data row4 col6\" >0.018890</td>\n",
              "      <td id=\"T_893c7_row4_col7\" class=\"data row4 col7\" >0.000970</td>\n",
              "      <td id=\"T_893c7_row4_col8\" class=\"data row4 col8\" >-0.121449</td>\n",
              "    </tr>\n",
              "    <tr>\n",
              "      <th id=\"T_893c7_level0_row5\" class=\"row_heading level0 row5\" >Sensor_alpha_plus</th>\n",
              "      <td id=\"T_893c7_row5_col0\" class=\"data row5 col0\" >-0.070914</td>\n",
              "      <td id=\"T_893c7_row5_col1\" class=\"data row5 col1\" >0.015953</td>\n",
              "      <td id=\"T_893c7_row5_col2\" class=\"data row5 col2\" >-0.018265</td>\n",
              "      <td id=\"T_893c7_row5_col3\" class=\"data row5 col3\" >-0.512785</td>\n",
              "      <td id=\"T_893c7_row5_col4\" class=\"data row5 col4\" >-0.005966</td>\n",
              "      <td id=\"T_893c7_row5_col5\" class=\"data row5 col5\" >1.000000</td>\n",
              "      <td id=\"T_893c7_row5_col6\" class=\"data row5 col6\" >-0.006376</td>\n",
              "      <td id=\"T_893c7_row5_col7\" class=\"data row5 col7\" >0.015937</td>\n",
              "      <td id=\"T_893c7_row5_col8\" class=\"data row5 col8\" >-0.397456</td>\n",
              "    </tr>\n",
              "    <tr>\n",
              "      <th id=\"T_893c7_level0_row6\" class=\"row_heading level0 row6\" >Sensor_beta_plus</th>\n",
              "      <td id=\"T_893c7_row6_col0\" class=\"data row6 col0\" >-0.011380</td>\n",
              "      <td id=\"T_893c7_row6_col1\" class=\"data row6 col1\" >-0.004444</td>\n",
              "      <td id=\"T_893c7_row6_col2\" class=\"data row6 col2\" >0.017574</td>\n",
              "      <td id=\"T_893c7_row6_col3\" class=\"data row6 col3\" >0.010635</td>\n",
              "      <td id=\"T_893c7_row6_col4\" class=\"data row6 col4\" >0.018890</td>\n",
              "      <td id=\"T_893c7_row6_col5\" class=\"data row6 col5\" >-0.006376</td>\n",
              "      <td id=\"T_893c7_row6_col6\" class=\"data row6 col6\" >1.000000</td>\n",
              "      <td id=\"T_893c7_row6_col7\" class=\"data row6 col7\" >0.017376</td>\n",
              "      <td id=\"T_893c7_row6_col8\" class=\"data row6 col8\" >0.000202</td>\n",
              "    </tr>\n",
              "    <tr>\n",
              "      <th id=\"T_893c7_level0_row7\" class=\"row_heading level0 row7\" >Sensor_gamma_plus</th>\n",
              "      <td id=\"T_893c7_row7_col0\" class=\"data row7 col0\" >0.003773</td>\n",
              "      <td id=\"T_893c7_row7_col1\" class=\"data row7 col1\" >-0.021566</td>\n",
              "      <td id=\"T_893c7_row7_col2\" class=\"data row7 col2\" >0.004248</td>\n",
              "      <td id=\"T_893c7_row7_col3\" class=\"data row7 col3\" >-0.022064</td>\n",
              "      <td id=\"T_893c7_row7_col4\" class=\"data row7 col4\" >0.000970</td>\n",
              "      <td id=\"T_893c7_row7_col5\" class=\"data row7 col5\" >0.015937</td>\n",
              "      <td id=\"T_893c7_row7_col6\" class=\"data row7 col6\" >0.017376</td>\n",
              "      <td id=\"T_893c7_row7_col7\" class=\"data row7 col7\" >1.000000</td>\n",
              "      <td id=\"T_893c7_row7_col8\" class=\"data row7 col8\" >-0.001430</td>\n",
              "    </tr>\n",
              "    <tr>\n",
              "      <th id=\"T_893c7_level0_row8\" class=\"row_heading level0 row8\" >Insect</th>\n",
              "      <td id=\"T_893c7_row8_col0\" class=\"data row8 col0\" >0.085208</td>\n",
              "      <td id=\"T_893c7_row8_col1\" class=\"data row8 col1\" >-0.011447</td>\n",
              "      <td id=\"T_893c7_row8_col2\" class=\"data row8 col2\" >0.008430</td>\n",
              "      <td id=\"T_893c7_row8_col3\" class=\"data row8 col3\" >0.366754</td>\n",
              "      <td id=\"T_893c7_row8_col4\" class=\"data row8 col4\" >-0.121449</td>\n",
              "      <td id=\"T_893c7_row8_col5\" class=\"data row8 col5\" >-0.397456</td>\n",
              "      <td id=\"T_893c7_row8_col6\" class=\"data row8 col6\" >0.000202</td>\n",
              "      <td id=\"T_893c7_row8_col7\" class=\"data row8 col7\" >-0.001430</td>\n",
              "      <td id=\"T_893c7_row8_col8\" class=\"data row8 col8\" >1.000000</td>\n",
              "    </tr>\n",
              "  </tbody>\n",
              "</table>\n"
            ]
          },
          "metadata": {},
          "execution_count": 795
        }
      ],
      "source": [
        "corr_final"
      ]
    },
    {
      "cell_type": "markdown",
      "metadata": {
        "id": "tJW52r1VgmmG"
      },
      "source": [
        "Vemos que la variable más correlacionada con el TARGET es \"Sensor_beta\"\n",
        "\n",
        "Por lo demás no hay variables altamente correlacionadas con otras, es decir que no añadirán información adicional al modelo, con lo cual contaremos con todas las variables a la hora de pasarlas al modelo."
      ]
    },
    {
      "cell_type": "markdown",
      "metadata": {
        "id": "QvuR_flRyPnX"
      },
      "source": [
        "##10 Visualización gráfica de las distribuciones\n",
        "\n",
        "- HISTOGRAMA, para ver la distribución de cada variable.\n",
        "\n",
        "- BOXPLOT, para comparar la variable con el TARGET."
      ]
    },
    {
      "cell_type": "code",
      "execution_count": 796,
      "metadata": {
        "colab": {
          "base_uri": "https://localhost:8080/",
          "height": 332
        },
        "id": "ZY05iHrt13O8",
        "outputId": "966f1377-eff5-4ec2-c7fe-e68fdf6e42af"
      },
      "outputs": [
        {
          "output_type": "execute_result",
          "data": {
            "text/plain": [
              "                    count       mean         std         min         25%  \\\n",
              "Hour               7001.0  19.598914    3.507008    1.000000   19.000000   \n",
              "Minutes            7001.0  29.405942   17.375830    0.000000   14.000000   \n",
              "Sensor_alpha       7001.0   0.477171   99.294856 -404.898823  -68.573905   \n",
              "Sensor_beta        7001.0 -29.974117  133.095125 -656.272666 -116.060383   \n",
              "Sensor_gamma       7001.0  -5.624690  115.871391 -448.478039  -83.508747   \n",
              "Sensor_alpha_plus  7001.0   7.188060  122.327980 -437.205393  -79.496687   \n",
              "Sensor_beta_plus   7001.0  -0.757901  100.039477 -387.567443  -68.061596   \n",
              "Sensor_gamma_plus  7001.0  -0.554533  100.535951 -374.961689  -69.652647   \n",
              "Insect             7001.0   0.595772    0.661604    0.000000    0.000000   \n",
              "\n",
              "                         50%        75%         max  \n",
              "Hour               21.000000  21.000000   23.000000  \n",
              "Minutes            29.000000  44.000000   59.000000  \n",
              "Sensor_alpha       -0.287447  66.480795  351.256221  \n",
              "Sensor_beta       -36.171567  56.637778  518.395878  \n",
              "Sensor_gamma       -1.217606  76.870277  378.349287  \n",
              "Sensor_alpha_plus  -1.133567  93.285286  462.556319  \n",
              "Sensor_beta_plus   -0.444124  66.181909  345.279240  \n",
              "Sensor_gamma_plus   0.027128  67.838524  363.682391  \n",
              "Insect              0.000000   1.000000    2.000000  "
            ],
            "text/html": [
              "\n",
              "  <div id=\"df-022d305b-19ed-4023-89d5-51606a6ae0a1\">\n",
              "    <div class=\"colab-df-container\">\n",
              "      <div>\n",
              "<style scoped>\n",
              "    .dataframe tbody tr th:only-of-type {\n",
              "        vertical-align: middle;\n",
              "    }\n",
              "\n",
              "    .dataframe tbody tr th {\n",
              "        vertical-align: top;\n",
              "    }\n",
              "\n",
              "    .dataframe thead th {\n",
              "        text-align: right;\n",
              "    }\n",
              "</style>\n",
              "<table border=\"1\" class=\"dataframe\">\n",
              "  <thead>\n",
              "    <tr style=\"text-align: right;\">\n",
              "      <th></th>\n",
              "      <th>count</th>\n",
              "      <th>mean</th>\n",
              "      <th>std</th>\n",
              "      <th>min</th>\n",
              "      <th>25%</th>\n",
              "      <th>50%</th>\n",
              "      <th>75%</th>\n",
              "      <th>max</th>\n",
              "    </tr>\n",
              "  </thead>\n",
              "  <tbody>\n",
              "    <tr>\n",
              "      <th>Hour</th>\n",
              "      <td>7001.0</td>\n",
              "      <td>19.598914</td>\n",
              "      <td>3.507008</td>\n",
              "      <td>1.000000</td>\n",
              "      <td>19.000000</td>\n",
              "      <td>21.000000</td>\n",
              "      <td>21.000000</td>\n",
              "      <td>23.000000</td>\n",
              "    </tr>\n",
              "    <tr>\n",
              "      <th>Minutes</th>\n",
              "      <td>7001.0</td>\n",
              "      <td>29.405942</td>\n",
              "      <td>17.375830</td>\n",
              "      <td>0.000000</td>\n",
              "      <td>14.000000</td>\n",
              "      <td>29.000000</td>\n",
              "      <td>44.000000</td>\n",
              "      <td>59.000000</td>\n",
              "    </tr>\n",
              "    <tr>\n",
              "      <th>Sensor_alpha</th>\n",
              "      <td>7001.0</td>\n",
              "      <td>0.477171</td>\n",
              "      <td>99.294856</td>\n",
              "      <td>-404.898823</td>\n",
              "      <td>-68.573905</td>\n",
              "      <td>-0.287447</td>\n",
              "      <td>66.480795</td>\n",
              "      <td>351.256221</td>\n",
              "    </tr>\n",
              "    <tr>\n",
              "      <th>Sensor_beta</th>\n",
              "      <td>7001.0</td>\n",
              "      <td>-29.974117</td>\n",
              "      <td>133.095125</td>\n",
              "      <td>-656.272666</td>\n",
              "      <td>-116.060383</td>\n",
              "      <td>-36.171567</td>\n",
              "      <td>56.637778</td>\n",
              "      <td>518.395878</td>\n",
              "    </tr>\n",
              "    <tr>\n",
              "      <th>Sensor_gamma</th>\n",
              "      <td>7001.0</td>\n",
              "      <td>-5.624690</td>\n",
              "      <td>115.871391</td>\n",
              "      <td>-448.478039</td>\n",
              "      <td>-83.508747</td>\n",
              "      <td>-1.217606</td>\n",
              "      <td>76.870277</td>\n",
              "      <td>378.349287</td>\n",
              "    </tr>\n",
              "    <tr>\n",
              "      <th>Sensor_alpha_plus</th>\n",
              "      <td>7001.0</td>\n",
              "      <td>7.188060</td>\n",
              "      <td>122.327980</td>\n",
              "      <td>-437.205393</td>\n",
              "      <td>-79.496687</td>\n",
              "      <td>-1.133567</td>\n",
              "      <td>93.285286</td>\n",
              "      <td>462.556319</td>\n",
              "    </tr>\n",
              "    <tr>\n",
              "      <th>Sensor_beta_plus</th>\n",
              "      <td>7001.0</td>\n",
              "      <td>-0.757901</td>\n",
              "      <td>100.039477</td>\n",
              "      <td>-387.567443</td>\n",
              "      <td>-68.061596</td>\n",
              "      <td>-0.444124</td>\n",
              "      <td>66.181909</td>\n",
              "      <td>345.279240</td>\n",
              "    </tr>\n",
              "    <tr>\n",
              "      <th>Sensor_gamma_plus</th>\n",
              "      <td>7001.0</td>\n",
              "      <td>-0.554533</td>\n",
              "      <td>100.535951</td>\n",
              "      <td>-374.961689</td>\n",
              "      <td>-69.652647</td>\n",
              "      <td>0.027128</td>\n",
              "      <td>67.838524</td>\n",
              "      <td>363.682391</td>\n",
              "    </tr>\n",
              "    <tr>\n",
              "      <th>Insect</th>\n",
              "      <td>7001.0</td>\n",
              "      <td>0.595772</td>\n",
              "      <td>0.661604</td>\n",
              "      <td>0.000000</td>\n",
              "      <td>0.000000</td>\n",
              "      <td>0.000000</td>\n",
              "      <td>1.000000</td>\n",
              "      <td>2.000000</td>\n",
              "    </tr>\n",
              "  </tbody>\n",
              "</table>\n",
              "</div>\n",
              "      <button class=\"colab-df-convert\" onclick=\"convertToInteractive('df-022d305b-19ed-4023-89d5-51606a6ae0a1')\"\n",
              "              title=\"Convert this dataframe to an interactive table.\"\n",
              "              style=\"display:none;\">\n",
              "        \n",
              "  <svg xmlns=\"http://www.w3.org/2000/svg\" height=\"24px\"viewBox=\"0 0 24 24\"\n",
              "       width=\"24px\">\n",
              "    <path d=\"M0 0h24v24H0V0z\" fill=\"none\"/>\n",
              "    <path d=\"M18.56 5.44l.94 2.06.94-2.06 2.06-.94-2.06-.94-.94-2.06-.94 2.06-2.06.94zm-11 1L8.5 8.5l.94-2.06 2.06-.94-2.06-.94L8.5 2.5l-.94 2.06-2.06.94zm10 10l.94 2.06.94-2.06 2.06-.94-2.06-.94-.94-2.06-.94 2.06-2.06.94z\"/><path d=\"M17.41 7.96l-1.37-1.37c-.4-.4-.92-.59-1.43-.59-.52 0-1.04.2-1.43.59L10.3 9.45l-7.72 7.72c-.78.78-.78 2.05 0 2.83L4 21.41c.39.39.9.59 1.41.59.51 0 1.02-.2 1.41-.59l7.78-7.78 2.81-2.81c.8-.78.8-2.07 0-2.86zM5.41 20L4 18.59l7.72-7.72 1.47 1.35L5.41 20z\"/>\n",
              "  </svg>\n",
              "      </button>\n",
              "      \n",
              "  <style>\n",
              "    .colab-df-container {\n",
              "      display:flex;\n",
              "      flex-wrap:wrap;\n",
              "      gap: 12px;\n",
              "    }\n",
              "\n",
              "    .colab-df-convert {\n",
              "      background-color: #E8F0FE;\n",
              "      border: none;\n",
              "      border-radius: 50%;\n",
              "      cursor: pointer;\n",
              "      display: none;\n",
              "      fill: #1967D2;\n",
              "      height: 32px;\n",
              "      padding: 0 0 0 0;\n",
              "      width: 32px;\n",
              "    }\n",
              "\n",
              "    .colab-df-convert:hover {\n",
              "      background-color: #E2EBFA;\n",
              "      box-shadow: 0px 1px 2px rgba(60, 64, 67, 0.3), 0px 1px 3px 1px rgba(60, 64, 67, 0.15);\n",
              "      fill: #174EA6;\n",
              "    }\n",
              "\n",
              "    [theme=dark] .colab-df-convert {\n",
              "      background-color: #3B4455;\n",
              "      fill: #D2E3FC;\n",
              "    }\n",
              "\n",
              "    [theme=dark] .colab-df-convert:hover {\n",
              "      background-color: #434B5C;\n",
              "      box-shadow: 0px 1px 3px 1px rgba(0, 0, 0, 0.15);\n",
              "      filter: drop-shadow(0px 1px 2px rgba(0, 0, 0, 0.3));\n",
              "      fill: #FFFFFF;\n",
              "    }\n",
              "  </style>\n",
              "\n",
              "      <script>\n",
              "        const buttonEl =\n",
              "          document.querySelector('#df-022d305b-19ed-4023-89d5-51606a6ae0a1 button.colab-df-convert');\n",
              "        buttonEl.style.display =\n",
              "          google.colab.kernel.accessAllowed ? 'block' : 'none';\n",
              "\n",
              "        async function convertToInteractive(key) {\n",
              "          const element = document.querySelector('#df-022d305b-19ed-4023-89d5-51606a6ae0a1');\n",
              "          const dataTable =\n",
              "            await google.colab.kernel.invokeFunction('convertToInteractive',\n",
              "                                                     [key], {});\n",
              "          if (!dataTable) return;\n",
              "\n",
              "          const docLinkHtml = 'Like what you see? Visit the ' +\n",
              "            '<a target=\"_blank\" href=https://colab.research.google.com/notebooks/data_table.ipynb>data table notebook</a>'\n",
              "            + ' to learn more about interactive tables.';\n",
              "          element.innerHTML = '';\n",
              "          dataTable['output_type'] = 'display_data';\n",
              "          await google.colab.output.renderOutput(dataTable, element);\n",
              "          const docLink = document.createElement('div');\n",
              "          docLink.innerHTML = docLinkHtml;\n",
              "          element.appendChild(docLink);\n",
              "        }\n",
              "      </script>\n",
              "    </div>\n",
              "  </div>\n",
              "  "
            ]
          },
          "metadata": {},
          "execution_count": 796
        }
      ],
      "source": [
        "df_train.select_dtypes(include = [\"number\"]).describe().T"
      ]
    },
    {
      "cell_type": "code",
      "execution_count": 797,
      "metadata": {
        "colab": {
          "base_uri": "https://localhost:8080/"
        },
        "id": "BIkW_K9p3EyN",
        "outputId": "8d469ca3-efcf-4187-8204-1e75f6ba28dc"
      },
      "outputs": [
        {
          "output_type": "execute_result",
          "data": {
            "text/plain": [
              "Index(['Hour', 'Minutes', 'Sensor_alpha', 'Sensor_beta', 'Sensor_gamma',\n",
              "       'Sensor_alpha_plus', 'Sensor_beta_plus', 'Sensor_gamma_plus', 'Insect'],\n",
              "      dtype='object')"
            ]
          },
          "metadata": {},
          "execution_count": 797
        }
      ],
      "source": [
        "df_train.columns"
      ]
    },
    {
      "cell_type": "markdown",
      "metadata": {
        "id": "0jLmwNzR4CiC"
      },
      "source": [
        "Sensor_gamma_plus"
      ]
    },
    {
      "cell_type": "code",
      "execution_count": 798,
      "metadata": {
        "colab": {
          "base_uri": "https://localhost:8080/",
          "height": 364
        },
        "id": "GozaYP5530bR",
        "outputId": "94672fc6-5216-4437-e1ac-9bdbaa7ad4d5"
      },
      "outputs": [
        {
          "output_type": "execute_result",
          "data": {
            "text/plain": [
              "<matplotlib.axes._subplots.AxesSubplot at 0x7f2cfa417490>"
            ]
          },
          "metadata": {},
          "execution_count": 798
        },
        {
          "output_type": "display_data",
          "data": {
            "text/plain": [
              "<Figure size 576x396 with 1 Axes>"
            ],
            "image/png": "[encoded data removed]"
          },
          "metadata": {}
        }
      ],
      "source": [
        "#HISTOGRAMA. Ver su distribución.\n",
        "df_train[\"Sensor_gamma_plus\"].plot(kind = \"hist\", bins = 100)"
      ]
    },
    {
      "cell_type": "code",
      "execution_count": 799,
      "metadata": {
        "colab": {
          "base_uri": "https://localhost:8080/",
          "height": 382
        },
        "id": "tq0dEsEZ30bR",
        "outputId": "bdcf1ada-b593-42e9-f582-902c0e45180f"
      },
      "outputs": [
        {
          "output_type": "execute_result",
          "data": {
            "text/plain": [
              "<matplotlib.axes._subplots.AxesSubplot at 0x7f2cfa41cad0>"
            ]
          },
          "metadata": {},
          "execution_count": 799
        },
        {
          "output_type": "display_data",
          "data": {
            "text/plain": [
              "<Figure size 576x396 with 1 Axes>"
            ],
            "image/png": "[encoded data removed]"
          },
          "metadata": {}
        }
      ],
      "source": [
        "#BOXPLOT, con boxplot se compara la variable con el TARGET\n",
        "sns.boxplot(data = df_train , x= TARGET, y = \"Sensor_gamma_plus\")\n"
      ]
    },
    {
      "cell_type": "markdown",
      "metadata": {
        "id": "LIoAThr74IfW"
      },
      "source": [
        "Sensor_beta_plus"
      ]
    },
    {
      "cell_type": "code",
      "execution_count": 800,
      "metadata": {
        "colab": {
          "base_uri": "https://localhost:8080/",
          "height": 364
        },
        "id": "SQroPsfN30bS",
        "outputId": "081f4b0b-68db-498f-973f-ce267ad4e56d"
      },
      "outputs": [
        {
          "output_type": "execute_result",
          "data": {
            "text/plain": [
              "<matplotlib.axes._subplots.AxesSubplot at 0x7f2cfa245750>"
            ]
          },
          "metadata": {},
          "execution_count": 800
        },
        {
          "output_type": "display_data",
          "data": {
            "text/plain": [
              "<Figure size 576x396 with 1 Axes>"
            ],
            "image/png": "[encoded data removed]"
          },
          "metadata": {}
        }
      ],
      "source": [
        "#HISTOGRAMA. Ver su distribución.\n",
        "df_train[\"Sensor_beta_plus\"].plot(kind = \"hist\", bins = 100)"
      ]
    },
    {
      "cell_type": "code",
      "execution_count": 801,
      "metadata": {
        "colab": {
          "base_uri": "https://localhost:8080/",
          "height": 378
        },
        "id": "AVLMvS-Q30bS",
        "outputId": "25e5efda-27e2-4f73-a64f-921b5bfbaf0b"
      },
      "outputs": [
        {
          "output_type": "execute_result",
          "data": {
            "text/plain": [
              "<matplotlib.axes._subplots.AxesSubplot at 0x7f2cfcd4ab90>"
            ]
          },
          "metadata": {},
          "execution_count": 801
        },
        {
          "output_type": "display_data",
          "data": {
            "text/plain": [
              "<Figure size 576x396 with 1 Axes>"
            ],
            "image/png": "[encoded data removed]"
          },
          "metadata": {}
        }
      ],
      "source": [
        "#BOXPLOT, con boxplot se compara la variable con el TARGET\n",
        "sns.boxplot(data = df_train , x= TARGET, y = \"Sensor_beta_plus\")\n"
      ]
    },
    {
      "cell_type": "markdown",
      "metadata": {
        "id": "M4nXQdeV4MgO"
      },
      "source": [
        "Sensor_alpha_plus"
      ]
    },
    {
      "cell_type": "code",
      "execution_count": 802,
      "metadata": {
        "colab": {
          "base_uri": "https://localhost:8080/",
          "height": 364
        },
        "id": "k93su2H13l28",
        "outputId": "145e899d-0696-40c0-d2f4-d0f9d1f0f21f"
      },
      "outputs": [
        {
          "output_type": "execute_result",
          "data": {
            "text/plain": [
              "<matplotlib.axes._subplots.AxesSubplot at 0x7f2cfcda0590>"
            ]
          },
          "metadata": {},
          "execution_count": 802
        },
        {
          "output_type": "display_data",
          "data": {
            "text/plain": [
              "<Figure size 576x396 with 1 Axes>"
            ],
            "image/png": "[encoded data removed]"
          },
          "metadata": {}
        }
      ],
      "source": [
        "#HISTOGRAMA. Ver su distribución.\n",
        "df_train[\"Sensor_alpha_plus\"].plot(kind = \"hist\", bins = 100)"
      ]
    },
    {
      "cell_type": "code",
      "execution_count": 803,
      "metadata": {
        "colab": {
          "base_uri": "https://localhost:8080/",
          "height": 378
        },
        "id": "hUQe2at_3l29",
        "outputId": "059cdf73-7940-4781-fb3e-b85362327888"
      },
      "outputs": [
        {
          "output_type": "execute_result",
          "data": {
            "text/plain": [
              "<matplotlib.axes._subplots.AxesSubplot at 0x7f2cfcdbffd0>"
            ]
          },
          "metadata": {},
          "execution_count": 803
        },
        {
          "output_type": "display_data",
          "data": {
            "text/plain": [
              "<Figure size 576x396 with 1 Axes>"
            ],
            "image/png": "[encoded data removed]"
          },
          "metadata": {}
        }
      ],
      "source": [
        "#BOXPLOT, con boxplot se compara la variable con el TARGET\n",
        "sns.boxplot(data = df_train , x= TARGET, y = \"Sensor_alpha_plus\")\n"
      ]
    },
    {
      "cell_type": "markdown",
      "metadata": {
        "id": "PufWrJzA4QNK"
      },
      "source": [
        "Sensor_gamma"
      ]
    },
    {
      "cell_type": "code",
      "execution_count": 804,
      "metadata": {
        "colab": {
          "base_uri": "https://localhost:8080/",
          "height": 364
        },
        "id": "O3kRP5yQ3l29",
        "outputId": "808d8822-ed3a-4073-9f9f-5a1cf4136aee"
      },
      "outputs": [
        {
          "output_type": "execute_result",
          "data": {
            "text/plain": [
              "<matplotlib.axes._subplots.AxesSubplot at 0x7f2cf9f7be10>"
            ]
          },
          "metadata": {},
          "execution_count": 804
        },
        {
          "output_type": "display_data",
          "data": {
            "text/plain": [
              "<Figure size 576x396 with 1 Axes>"
            ],
            "image/png": "[encoded data removed]"
          },
          "metadata": {}
        }
      ],
      "source": [
        "#HISTOGRAMA. Ver su distribución.\n",
        "df_train[\"Sensor_gamma\"].plot(kind = \"hist\", bins = 100)"
      ]
    },
    {
      "cell_type": "code",
      "execution_count": 805,
      "metadata": {
        "colab": {
          "base_uri": "https://localhost:8080/",
          "height": 378
        },
        "id": "bnfhNtlb3l29",
        "outputId": "ce851bc3-7854-4c7b-e2d2-f15aa7a043f5"
      },
      "outputs": [
        {
          "output_type": "execute_result",
          "data": {
            "text/plain": [
              "<matplotlib.axes._subplots.AxesSubplot at 0x7f2cf9f2b250>"
            ]
          },
          "metadata": {},
          "execution_count": 805
        },
        {
          "output_type": "display_data",
          "data": {
            "text/plain": [
              "<Figure size 576x396 with 1 Axes>"
            ],
            "image/png": "[encoded data removed]"
          },
          "metadata": {}
        }
      ],
      "source": [
        "#BOXPLOT, con boxplot se compara la variable con el TARGET\n",
        "sns.boxplot(data = df_train , x= TARGET, y = \"Sensor_gamma\")\n"
      ]
    },
    {
      "cell_type": "markdown",
      "metadata": {
        "id": "JExVMx9n4Tks"
      },
      "source": [
        "Sensor_beta"
      ]
    },
    {
      "cell_type": "code",
      "execution_count": 806,
      "metadata": {
        "colab": {
          "base_uri": "https://localhost:8080/",
          "height": 364
        },
        "id": "RKV8DM5L3a52",
        "outputId": "51f221b8-e416-47ce-8f32-384ddd195d0b"
      },
      "outputs": [
        {
          "output_type": "execute_result",
          "data": {
            "text/plain": [
              "<matplotlib.axes._subplots.AxesSubplot at 0x7f2cf9d12cd0>"
            ]
          },
          "metadata": {},
          "execution_count": 806
        },
        {
          "output_type": "display_data",
          "data": {
            "text/plain": [
              "<Figure size 576x396 with 1 Axes>"
            ],
            "image/png": "[encoded data removed]"
          },
          "metadata": {}
        }
      ],
      "source": [
        "#HISTOGRAMA. Ver su distribución.\n",
        "df_train[\"Sensor_beta\"].plot(kind = \"hist\", bins = 100)"
      ]
    },
    {
      "cell_type": "markdown",
      "metadata": {
        "id": "VSG_y6xbDfZD"
      },
      "source": [
        "Es la variable con una distribución más normal"
      ]
    },
    {
      "cell_type": "code",
      "execution_count": 807,
      "metadata": {
        "colab": {
          "base_uri": "https://localhost:8080/",
          "height": 378
        },
        "id": "1n4qoMjC3a53",
        "outputId": "2b2c47ab-ac01-4c80-ce8f-3a0e2b936d45"
      },
      "outputs": [
        {
          "output_type": "execute_result",
          "data": {
            "text/plain": [
              "<matplotlib.axes._subplots.AxesSubplot at 0x7f2cf9bc09d0>"
            ]
          },
          "metadata": {},
          "execution_count": 807
        },
        {
          "output_type": "display_data",
          "data": {
            "text/plain": [
              "<Figure size 576x396 with 1 Axes>"
            ],
            "image/png": "[encoded data removed]"
          },
          "metadata": {}
        }
      ],
      "source": [
        "#BOXPLOT, con boxplot se compara la variable con el TARGET\n",
        "sns.boxplot(data = df_train , x= TARGET, y = \"Sensor_beta\")\n"
      ]
    },
    {
      "cell_type": "markdown",
      "metadata": {
        "id": "PxzPIWia4Wn8"
      },
      "source": [
        "Sensor_alpha"
      ]
    },
    {
      "cell_type": "code",
      "execution_count": 808,
      "metadata": {
        "colab": {
          "base_uri": "https://localhost:8080/",
          "height": 364
        },
        "id": "6XAGIsopyPka",
        "outputId": "c682ba10-851a-46fe-b3dd-d2c4895a2510"
      },
      "outputs": [
        {
          "output_type": "execute_result",
          "data": {
            "text/plain": [
              "<matplotlib.axes._subplots.AxesSubplot at 0x7f2cf9b26090>"
            ]
          },
          "metadata": {},
          "execution_count": 808
        },
        {
          "output_type": "display_data",
          "data": {
            "text/plain": [
              "<Figure size 576x396 with 1 Axes>"
            ],
            "image/png": "[encoded data removed]"
          },
          "metadata": {}
        }
      ],
      "source": [
        "#HISTOGRAMA. Ver su distribución.\n",
        "df_train[\"Sensor_alpha\"].plot(kind = \"hist\", bins = 100)"
      ]
    },
    {
      "cell_type": "code",
      "execution_count": 809,
      "metadata": {
        "colab": {
          "base_uri": "https://localhost:8080/",
          "height": 378
        },
        "id": "HwoEPjdb1piT",
        "outputId": "b49859ea-ad3f-44b9-bcc1-0d8e5ef1d412"
      },
      "outputs": [
        {
          "output_type": "execute_result",
          "data": {
            "text/plain": [
              "<matplotlib.axes._subplots.AxesSubplot at 0x7f2cf9970cd0>"
            ]
          },
          "metadata": {},
          "execution_count": 809
        },
        {
          "output_type": "display_data",
          "data": {
            "text/plain": [
              "<Figure size 576x396 with 1 Axes>"
            ],
            "image/png": "[encoded data removed]"
          },
          "metadata": {}
        }
      ],
      "source": [
        "#BOXPLOT, con boxplot se compara la variable con el TARGET\n",
        "sns.boxplot(data = df_train , x= TARGET, y = \"Sensor_alpha\")\n"
      ]
    },
    {
      "cell_type": "markdown",
      "metadata": {
        "id": "DIzZnTWCy_Mz"
      },
      "source": [
        "#DATA PREPARATION\n"
      ]
    },
    {
      "cell_type": "markdown",
      "metadata": {
        "id": "YDrw1QMLy-CP"
      },
      "source": [
        "##1 Limpieza de atributos"
      ]
    },
    {
      "cell_type": "markdown",
      "metadata": {
        "id": "kqI7NmUKy-Ak"
      },
      "source": [
        "1.1 Ajuste de tipo de datos"
      ]
    },
    {
      "cell_type": "code",
      "execution_count": 810,
      "metadata": {
        "colab": {
          "base_uri": "https://localhost:8080/",
          "height": 113
        },
        "id": "AJbFTPC2y93d",
        "outputId": "310871a4-ec54-4017-ea4e-b170a680d490"
      },
      "outputs": [
        {
          "output_type": "execute_result",
          "data": {
            "text/plain": [
              "Empty DataFrame\n",
              "Columns: [Hour, Minutes, Sensor_alpha, Sensor_beta, Sensor_gamma, Sensor_alpha_plus, Sensor_beta_plus, Sensor_gamma_plus, Insect]\n",
              "Index: []"
            ],
            "text/html": [
              "\n",
              "  <div id=\"df-8d45082a-5027-490f-995f-5e5c47fc23ea\">\n",
              "    <div class=\"colab-df-container\">\n",
              "      <div>\n",
              "<style scoped>\n",
              "    .dataframe tbody tr th:only-of-type {\n",
              "        vertical-align: middle;\n",
              "    }\n",
              "\n",
              "    .dataframe tbody tr th {\n",
              "        vertical-align: top;\n",
              "    }\n",
              "\n",
              "    .dataframe thead th {\n",
              "        text-align: right;\n",
              "    }\n",
              "</style>\n",
              "<table border=\"1\" class=\"dataframe\">\n",
              "  <thead>\n",
              "    <tr style=\"text-align: right;\">\n",
              "      <th></th>\n",
              "      <th>Hour</th>\n",
              "      <th>Minutes</th>\n",
              "      <th>Sensor_alpha</th>\n",
              "      <th>Sensor_beta</th>\n",
              "      <th>Sensor_gamma</th>\n",
              "      <th>Sensor_alpha_plus</th>\n",
              "      <th>Sensor_beta_plus</th>\n",
              "      <th>Sensor_gamma_plus</th>\n",
              "      <th>Insect</th>\n",
              "    </tr>\n",
              "  </thead>\n",
              "  <tbody>\n",
              "  </tbody>\n",
              "</table>\n",
              "</div>\n",
              "      <button class=\"colab-df-convert\" onclick=\"convertToInteractive('df-8d45082a-5027-490f-995f-5e5c47fc23ea')\"\n",
              "              title=\"Convert this dataframe to an interactive table.\"\n",
              "              style=\"display:none;\">\n",
              "        \n",
              "  <svg xmlns=\"http://www.w3.org/2000/svg\" height=\"24px\"viewBox=\"0 0 24 24\"\n",
              "       width=\"24px\">\n",
              "    <path d=\"M0 0h24v24H0V0z\" fill=\"none\"/>\n",
              "    <path d=\"M18.56 5.44l.94 2.06.94-2.06 2.06-.94-2.06-.94-.94-2.06-.94 2.06-2.06.94zm-11 1L8.5 8.5l.94-2.06 2.06-.94-2.06-.94L8.5 2.5l-.94 2.06-2.06.94zm10 10l.94 2.06.94-2.06 2.06-.94-2.06-.94-.94-2.06-.94 2.06-2.06.94z\"/><path d=\"M17.41 7.96l-1.37-1.37c-.4-.4-.92-.59-1.43-.59-.52 0-1.04.2-1.43.59L10.3 9.45l-7.72 7.72c-.78.78-.78 2.05 0 2.83L4 21.41c.39.39.9.59 1.41.59.51 0 1.02-.2 1.41-.59l7.78-7.78 2.81-2.81c.8-.78.8-2.07 0-2.86zM5.41 20L4 18.59l7.72-7.72 1.47 1.35L5.41 20z\"/>\n",
              "  </svg>\n",
              "      </button>\n",
              "      \n",
              "  <style>\n",
              "    .colab-df-container {\n",
              "      display:flex;\n",
              "      flex-wrap:wrap;\n",
              "      gap: 12px;\n",
              "    }\n",
              "\n",
              "    .colab-df-convert {\n",
              "      background-color: #E8F0FE;\n",
              "      border: none;\n",
              "      border-radius: 50%;\n",
              "      cursor: pointer;\n",
              "      display: none;\n",
              "      fill: #1967D2;\n",
              "      height: 32px;\n",
              "      padding: 0 0 0 0;\n",
              "      width: 32px;\n",
              "    }\n",
              "\n",
              "    .colab-df-convert:hover {\n",
              "      background-color: #E2EBFA;\n",
              "      box-shadow: 0px 1px 2px rgba(60, 64, 67, 0.3), 0px 1px 3px 1px rgba(60, 64, 67, 0.15);\n",
              "      fill: #174EA6;\n",
              "    }\n",
              "\n",
              "    [theme=dark] .colab-df-convert {\n",
              "      background-color: #3B4455;\n",
              "      fill: #D2E3FC;\n",
              "    }\n",
              "\n",
              "    [theme=dark] .colab-df-convert:hover {\n",
              "      background-color: #434B5C;\n",
              "      box-shadow: 0px 1px 3px 1px rgba(0, 0, 0, 0.15);\n",
              "      filter: drop-shadow(0px 1px 2px rgba(0, 0, 0, 0.3));\n",
              "      fill: #FFFFFF;\n",
              "    }\n",
              "  </style>\n",
              "\n",
              "      <script>\n",
              "        const buttonEl =\n",
              "          document.querySelector('#df-8d45082a-5027-490f-995f-5e5c47fc23ea button.colab-df-convert');\n",
              "        buttonEl.style.display =\n",
              "          google.colab.kernel.accessAllowed ? 'block' : 'none';\n",
              "\n",
              "        async function convertToInteractive(key) {\n",
              "          const element = document.querySelector('#df-8d45082a-5027-490f-995f-5e5c47fc23ea');\n",
              "          const dataTable =\n",
              "            await google.colab.kernel.invokeFunction('convertToInteractive',\n",
              "                                                     [key], {});\n",
              "          if (!dataTable) return;\n",
              "\n",
              "          const docLinkHtml = 'Like what you see? Visit the ' +\n",
              "            '<a target=\"_blank\" href=https://colab.research.google.com/notebooks/data_table.ipynb>data table notebook</a>'\n",
              "            + ' to learn more about interactive tables.';\n",
              "          element.innerHTML = '';\n",
              "          dataTable['output_type'] = 'display_data';\n",
              "          await google.colab.output.renderOutput(dataTable, element);\n",
              "          const docLink = document.createElement('div');\n",
              "          docLink.innerHTML = docLinkHtml;\n",
              "          element.appendChild(docLink);\n",
              "        }\n",
              "      </script>\n",
              "    </div>\n",
              "  </div>\n",
              "  "
            ]
          },
          "metadata": {},
          "execution_count": 810
        }
      ],
      "source": [
        "#VER LOS DUPLICADOS\n",
        "#Me da todos los duplicados.\n",
        "df_train[df_train.duplicated(keep=False)]"
      ]
    },
    {
      "cell_type": "markdown",
      "source": [
        "No hay duplicados"
      ],
      "metadata": {
        "id": "1Z7FaK3S1hFA"
      }
    },
    {
      "cell_type": "markdown",
      "metadata": {
        "id": "Q0TWr499y9y-"
      },
      "source": [
        "1.2 Imputación de valores nulos(cero, media, moda, valor fijo, etc.), o eliminación de los registros que los contengan"
      ]
    },
    {
      "cell_type": "markdown",
      "metadata": {
        "id": "e-zoXI90mMZ5"
      },
      "source": [
        "No hay nada que imputar puesto que no hay nulos."
      ]
    },
    {
      "cell_type": "markdown",
      "metadata": {
        "id": "_aRotgGuzyKa"
      },
      "source": [
        "##2 Transformación de atributos"
      ]
    },
    {
      "cell_type": "markdown",
      "source": [
        "Trataremos las columnas Hour y Minutes"
      ],
      "metadata": {
        "id": "yTYBeuyQ1kff"
      }
    },
    {
      "cell_type": "code",
      "source": [
        "df_train.head()"
      ],
      "metadata": {
        "colab": {
          "base_uri": "https://localhost:8080/",
          "height": 270
        },
        "id": "k5h5QAzh1n5X",
        "outputId": "cdb8105f-98df-4fa1-b95f-ac5275b02683"
      },
      "execution_count": 811,
      "outputs": [
        {
          "output_type": "execute_result",
          "data": {
            "text/plain": [
              "   Hour  Minutes  Sensor_alpha  Sensor_beta  Sensor_gamma  Sensor_alpha_plus  \\\n",
              "0    22       26    119.910995   242.838324   -316.819222         250.195048   \n",
              "1    10       16    -90.790536  -269.470767   -182.581844          95.394941   \n",
              "2    21       42    -20.028003  -147.070212     50.280872         -90.750386   \n",
              "3    21       17    -21.258567     0.467070    -86.164153         -21.813529   \n",
              "4    18       16    -58.154501   -13.051195   -156.501167          48.392938   \n",
              "\n",
              "   Sensor_beta_plus  Sensor_gamma_plus  Insect  \n",
              "0        -53.547777        -112.049983       2  \n",
              "1         37.291944          48.525180       0  \n",
              "2        -50.476556          85.399009       1  \n",
              "3       -209.256006          16.291882       0  \n",
              "4       -110.008860         -10.285138       2  "
            ],
            "text/html": [
              "\n",
              "  <div id=\"df-f7e4c37f-fdfa-4a4d-a382-a8beb532e4fe\">\n",
              "    <div class=\"colab-df-container\">\n",
              "      <div>\n",
              "<style scoped>\n",
              "    .dataframe tbody tr th:only-of-type {\n",
              "        vertical-align: middle;\n",
              "    }\n",
              "\n",
              "    .dataframe tbody tr th {\n",
              "        vertical-align: top;\n",
              "    }\n",
              "\n",
              "    .dataframe thead th {\n",
              "        text-align: right;\n",
              "    }\n",
              "</style>\n",
              "<table border=\"1\" class=\"dataframe\">\n",
              "  <thead>\n",
              "    <tr style=\"text-align: right;\">\n",
              "      <th></th>\n",
              "      <th>Hour</th>\n",
              "      <th>Minutes</th>\n",
              "      <th>Sensor_alpha</th>\n",
              "      <th>Sensor_beta</th>\n",
              "      <th>Sensor_gamma</th>\n",
              "      <th>Sensor_alpha_plus</th>\n",
              "      <th>Sensor_beta_plus</th>\n",
              "      <th>Sensor_gamma_plus</th>\n",
              "      <th>Insect</th>\n",
              "    </tr>\n",
              "  </thead>\n",
              "  <tbody>\n",
              "    <tr>\n",
              "      <th>0</th>\n",
              "      <td>22</td>\n",
              "      <td>26</td>\n",
              "      <td>119.910995</td>\n",
              "      <td>242.838324</td>\n",
              "      <td>-316.819222</td>\n",
              "      <td>250.195048</td>\n",
              "      <td>-53.547777</td>\n",
              "      <td>-112.049983</td>\n",
              "      <td>2</td>\n",
              "    </tr>\n",
              "    <tr>\n",
              "      <th>1</th>\n",
              "      <td>10</td>\n",
              "      <td>16</td>\n",
              "      <td>-90.790536</td>\n",
              "      <td>-269.470767</td>\n",
              "      <td>-182.581844</td>\n",
              "      <td>95.394941</td>\n",
              "      <td>37.291944</td>\n",
              "      <td>48.525180</td>\n",
              "      <td>0</td>\n",
              "    </tr>\n",
              "    <tr>\n",
              "      <th>2</th>\n",
              "      <td>21</td>\n",
              "      <td>42</td>\n",
              "      <td>-20.028003</td>\n",
              "      <td>-147.070212</td>\n",
              "      <td>50.280872</td>\n",
              "      <td>-90.750386</td>\n",
              "      <td>-50.476556</td>\n",
              "      <td>85.399009</td>\n",
              "      <td>1</td>\n",
              "    </tr>\n",
              "    <tr>\n",
              "      <th>3</th>\n",
              "      <td>21</td>\n",
              "      <td>17</td>\n",
              "      <td>-21.258567</td>\n",
              "      <td>0.467070</td>\n",
              "      <td>-86.164153</td>\n",
              "      <td>-21.813529</td>\n",
              "      <td>-209.256006</td>\n",
              "      <td>16.291882</td>\n",
              "      <td>0</td>\n",
              "    </tr>\n",
              "    <tr>\n",
              "      <th>4</th>\n",
              "      <td>18</td>\n",
              "      <td>16</td>\n",
              "      <td>-58.154501</td>\n",
              "      <td>-13.051195</td>\n",
              "      <td>-156.501167</td>\n",
              "      <td>48.392938</td>\n",
              "      <td>-110.008860</td>\n",
              "      <td>-10.285138</td>\n",
              "      <td>2</td>\n",
              "    </tr>\n",
              "  </tbody>\n",
              "</table>\n",
              "</div>\n",
              "      <button class=\"colab-df-convert\" onclick=\"convertToInteractive('df-f7e4c37f-fdfa-4a4d-a382-a8beb532e4fe')\"\n",
              "              title=\"Convert this dataframe to an interactive table.\"\n",
              "              style=\"display:none;\">\n",
              "        \n",
              "  <svg xmlns=\"http://www.w3.org/2000/svg\" height=\"24px\"viewBox=\"0 0 24 24\"\n",
              "       width=\"24px\">\n",
              "    <path d=\"M0 0h24v24H0V0z\" fill=\"none\"/>\n",
              "    <path d=\"M18.56 5.44l.94 2.06.94-2.06 2.06-.94-2.06-.94-.94-2.06-.94 2.06-2.06.94zm-11 1L8.5 8.5l.94-2.06 2.06-.94-2.06-.94L8.5 2.5l-.94 2.06-2.06.94zm10 10l.94 2.06.94-2.06 2.06-.94-2.06-.94-.94-2.06-.94 2.06-2.06.94z\"/><path d=\"M17.41 7.96l-1.37-1.37c-.4-.4-.92-.59-1.43-.59-.52 0-1.04.2-1.43.59L10.3 9.45l-7.72 7.72c-.78.78-.78 2.05 0 2.83L4 21.41c.39.39.9.59 1.41.59.51 0 1.02-.2 1.41-.59l7.78-7.78 2.81-2.81c.8-.78.8-2.07 0-2.86zM5.41 20L4 18.59l7.72-7.72 1.47 1.35L5.41 20z\"/>\n",
              "  </svg>\n",
              "      </button>\n",
              "      \n",
              "  <style>\n",
              "    .colab-df-container {\n",
              "      display:flex;\n",
              "      flex-wrap:wrap;\n",
              "      gap: 12px;\n",
              "    }\n",
              "\n",
              "    .colab-df-convert {\n",
              "      background-color: #E8F0FE;\n",
              "      border: none;\n",
              "      border-radius: 50%;\n",
              "      cursor: pointer;\n",
              "      display: none;\n",
              "      fill: #1967D2;\n",
              "      height: 32px;\n",
              "      padding: 0 0 0 0;\n",
              "      width: 32px;\n",
              "    }\n",
              "\n",
              "    .colab-df-convert:hover {\n",
              "      background-color: #E2EBFA;\n",
              "      box-shadow: 0px 1px 2px rgba(60, 64, 67, 0.3), 0px 1px 3px 1px rgba(60, 64, 67, 0.15);\n",
              "      fill: #174EA6;\n",
              "    }\n",
              "\n",
              "    [theme=dark] .colab-df-convert {\n",
              "      background-color: #3B4455;\n",
              "      fill: #D2E3FC;\n",
              "    }\n",
              "\n",
              "    [theme=dark] .colab-df-convert:hover {\n",
              "      background-color: #434B5C;\n",
              "      box-shadow: 0px 1px 3px 1px rgba(0, 0, 0, 0.15);\n",
              "      filter: drop-shadow(0px 1px 2px rgba(0, 0, 0, 0.3));\n",
              "      fill: #FFFFFF;\n",
              "    }\n",
              "  </style>\n",
              "\n",
              "      <script>\n",
              "        const buttonEl =\n",
              "          document.querySelector('#df-f7e4c37f-fdfa-4a4d-a382-a8beb532e4fe button.colab-df-convert');\n",
              "        buttonEl.style.display =\n",
              "          google.colab.kernel.accessAllowed ? 'block' : 'none';\n",
              "\n",
              "        async function convertToInteractive(key) {\n",
              "          const element = document.querySelector('#df-f7e4c37f-fdfa-4a4d-a382-a8beb532e4fe');\n",
              "          const dataTable =\n",
              "            await google.colab.kernel.invokeFunction('convertToInteractive',\n",
              "                                                     [key], {});\n",
              "          if (!dataTable) return;\n",
              "\n",
              "          const docLinkHtml = 'Like what you see? Visit the ' +\n",
              "            '<a target=\"_blank\" href=https://colab.research.google.com/notebooks/data_table.ipynb>data table notebook</a>'\n",
              "            + ' to learn more about interactive tables.';\n",
              "          element.innerHTML = '';\n",
              "          dataTable['output_type'] = 'display_data';\n",
              "          await google.colab.output.renderOutput(dataTable, element);\n",
              "          const docLink = document.createElement('div');\n",
              "          docLink.innerHTML = docLinkHtml;\n",
              "          element.appendChild(docLink);\n",
              "        }\n",
              "      </script>\n",
              "    </div>\n",
              "  </div>\n",
              "  "
            ]
          },
          "metadata": {},
          "execution_count": 811
        }
      ]
    },
    {
      "cell_type": "code",
      "source": [
        "#Uniremos Hour y Minutes, y la convertiremos a datetime.\n",
        "\"\"\"df_train[\"Time\"] = (pd.to_datetime(df_train['Hour'].astype(str) + ':' + df_train['Minutes'].astype(str), format='%H:%M')\n",
        "          .dt.time)\"\"\""
      ],
      "metadata": {
        "id": "bRsvIUsG2eUv",
        "colab": {
          "base_uri": "https://localhost:8080/",
          "height": 53
        },
        "outputId": "6c920bf9-d99c-4db4-b650-c3c8d54e13e6"
      },
      "execution_count": 812,
      "outputs": [
        {
          "output_type": "execute_result",
          "data": {
            "text/plain": [
              "'df_train[\"Time\"] = (pd.to_datetime(df_train[\\'Hour\\'].astype(str) + \\':\\' + df_train[\\'Minutes\\'].astype(str), format=\\'%H:%M\\')\\n          .dt.time)'"
            ],
            "application/vnd.google.colaboratory.intrinsic+json": {
              "type": "string"
            }
          },
          "metadata": {},
          "execution_count": 812
        }
      ]
    },
    {
      "cell_type": "code",
      "source": [
        "#Vamos a eliminar Hour y Minutes porque parece que no aportan al modelo, tal y como hemos visto antes\n",
        "df_train.drop ([\"Hour\", \"Minutes\"], axis = 1, inplace = True)"
      ],
      "metadata": {
        "id": "Hy_jzXPk251C"
      },
      "execution_count": 813,
      "outputs": []
    },
    {
      "cell_type": "markdown",
      "metadata": {
        "id": "NWJLyShbZc51"
      },
      "source": [
        "# MLC4. Modelling"
      ]
    },
    {
      "cell_type": "markdown",
      "metadata": {
        "id": "mDwpvLCCZc51"
      },
      "source": [
        "En este punto iniciamos con la fase de modelización, que ocupa los pasos de generación de la estrategia de validación, el entrenamiento del modelo y el desarrollo de predicciones y la validación de éstas. "
      ]
    },
    {
      "cell_type": "markdown",
      "metadata": {
        "id": "ha5M7t_hZc51"
      },
      "source": [
        "### 4.1 Train / Test Split"
      ]
    },
    {
      "cell_type": "markdown",
      "metadata": {
        "id": "cU2YFlzfZc51"
      },
      "source": [
        "Para ello utilizaremos los scikits de estrategias de validación y selección de modelos **model_selection** y métricas de validación **metrics**. \n",
        "\n",
        "Ya los hemos importado anteriormente"
      ]
    },
    {
      "cell_type": "markdown",
      "metadata": {
        "id": "KqD8W1QlZc51"
      },
      "source": [
        "#### Generación de la partición de validación y development"
      ]
    },
    {
      "cell_type": "code",
      "execution_count": 1254,
      "metadata": {
        "collapsed": true,
        "id": "ICko1tvDZc52"
      },
      "outputs": [],
      "source": [
        "dev_df = df_train.iloc[:5000, :]"
      ]
    },
    {
      "cell_type": "code",
      "execution_count": null,
      "metadata": {
        "id": "rmUa0TbkNZRQ"
      },
      "outputs": [],
      "source": [
        "dev_df.info()"
      ]
    },
    {
      "cell_type": "code",
      "execution_count": 1259,
      "metadata": {
        "colab": {
          "base_uri": "https://localhost:8080/"
        },
        "id": "JOufB91-Zc52",
        "outputId": "e644f15d-57da-4248-88aa-e1ffc5193430"
      },
      "outputs": [
        {
          "output_type": "execute_result",
          "data": {
            "text/plain": [
              "(5000, 7)"
            ]
          },
          "metadata": {},
          "execution_count": 1259
        }
      ],
      "source": [
        "dev_df.shape"
      ]
    },
    {
      "cell_type": "code",
      "execution_count": 1255,
      "metadata": {
        "id": "IU4-xmSPHtVW"
      },
      "outputs": [],
      "source": [
        "val_df = df_train.iloc[5000:, :]"
      ]
    },
    {
      "cell_type": "code",
      "execution_count": 1257,
      "metadata": {
        "colab": {
          "base_uri": "https://localhost:8080/"
        },
        "id": "ewO0KzJUZc52",
        "outputId": "c5f1072f-7aa7-490d-b399-6cb412f3a5db"
      },
      "outputs": [
        {
          "output_type": "execute_result",
          "data": {
            "text/plain": [
              "(2001, 7)"
            ]
          },
          "metadata": {},
          "execution_count": 1257
        }
      ],
      "source": [
        "val_df.shape"
      ]
    },
    {
      "cell_type": "markdown",
      "metadata": {
        "id": "OqqugvErN4xt"
      },
      "source": [
        "La suma de los shapes es 7001, que es el total de las observaciones"
      ]
    },
    {
      "cell_type": "code",
      "execution_count": 1260,
      "metadata": {
        "colab": {
          "base_uri": "https://localhost:8080/"
        },
        "id": "rYIJ7Mp-RRjz",
        "outputId": "734f3e12-71f4-4fde-9b3e-c80796636c33"
      },
      "outputs": [
        {
          "output_type": "execute_result",
          "data": {
            "text/plain": [
              "5001"
            ]
          },
          "metadata": {},
          "execution_count": 1260
        }
      ],
      "source": [
        " 2001+ 3000"
      ]
    },
    {
      "cell_type": "markdown",
      "metadata": {
        "id": "2ztzGGzSZc52"
      },
      "source": [
        "Una vez realizada la selección de particiones, vamos a asignar los atributos y el target a las variables X e y, respectivamente.\\\n",
        "Para seleccionar, utilizaremos el método Drop sin el atributo inplace y haciendo asignación y la indexación directa."
      ]
    },
    {
      "cell_type": "code",
      "execution_count": 1261,
      "metadata": {
        "collapsed": true,
        "id": "PqIAh-p9Zc52"
      },
      "outputs": [],
      "source": [
        "dev_df_X = dev_df.drop('Insect', axis=1)\n",
        "dev_df_y = dev_df[['Insect']]"
      ]
    },
    {
      "cell_type": "code",
      "execution_count": 1262,
      "metadata": {
        "collapsed": true,
        "id": "pwIKAYnXZc52"
      },
      "outputs": [],
      "source": [
        "val_df_X = val_df.drop('Insect', axis=1)\n",
        "val_df_y = val_df[['Insect']]"
      ]
    },
    {
      "cell_type": "markdown",
      "metadata": {
        "id": "BruDVplVfJnU"
      },
      "source": [
        "Hacemos una comprobación"
      ]
    },
    {
      "cell_type": "code",
      "execution_count": 1263,
      "metadata": {
        "colab": {
          "base_uri": "https://localhost:8080/",
          "height": 237
        },
        "id": "bpFAXBxqZc52",
        "outputId": "3a5d9537-73a4-4884-d566-c08e0ab53c16"
      },
      "outputs": [
        {
          "output_type": "execute_result",
          "data": {
            "text/plain": [
              "                            0           1           2           3           4\n",
              "Sensor_alpha       119.910995  -90.790536  -20.028003  -21.258567  -58.154501\n",
              "Sensor_beta        242.838324 -269.470767 -147.070212    0.467070  -13.051195\n",
              "Sensor_gamma      -316.819222 -182.581844   50.280872  -86.164153 -156.501167\n",
              "Sensor_alpha_plus  250.195048   95.394941  -90.750386  -21.813529   48.392938\n",
              "Sensor_beta_plus   -53.547777   37.291944  -50.476556 -209.256006 -110.008860\n",
              "Sensor_gamma_plus -112.049983   48.525180   85.399009   16.291882  -10.285138"
            ],
            "text/html": [
              "\n",
              "  <div id=\"df-2cf98c72-ee9e-4312-b9a9-44e675d3ce80\">\n",
              "    <div class=\"colab-df-container\">\n",
              "      <div>\n",
              "<style scoped>\n",
              "    .dataframe tbody tr th:only-of-type {\n",
              "        vertical-align: middle;\n",
              "    }\n",
              "\n",
              "    .dataframe tbody tr th {\n",
              "        vertical-align: top;\n",
              "    }\n",
              "\n",
              "    .dataframe thead th {\n",
              "        text-align: right;\n",
              "    }\n",
              "</style>\n",
              "<table border=\"1\" class=\"dataframe\">\n",
              "  <thead>\n",
              "    <tr style=\"text-align: right;\">\n",
              "      <th></th>\n",
              "      <th>0</th>\n",
              "      <th>1</th>\n",
              "      <th>2</th>\n",
              "      <th>3</th>\n",
              "      <th>4</th>\n",
              "    </tr>\n",
              "  </thead>\n",
              "  <tbody>\n",
              "    <tr>\n",
              "      <th>Sensor_alpha</th>\n",
              "      <td>119.910995</td>\n",
              "      <td>-90.790536</td>\n",
              "      <td>-20.028003</td>\n",
              "      <td>-21.258567</td>\n",
              "      <td>-58.154501</td>\n",
              "    </tr>\n",
              "    <tr>\n",
              "      <th>Sensor_beta</th>\n",
              "      <td>242.838324</td>\n",
              "      <td>-269.470767</td>\n",
              "      <td>-147.070212</td>\n",
              "      <td>0.467070</td>\n",
              "      <td>-13.051195</td>\n",
              "    </tr>\n",
              "    <tr>\n",
              "      <th>Sensor_gamma</th>\n",
              "      <td>-316.819222</td>\n",
              "      <td>-182.581844</td>\n",
              "      <td>50.280872</td>\n",
              "      <td>-86.164153</td>\n",
              "      <td>-156.501167</td>\n",
              "    </tr>\n",
              "    <tr>\n",
              "      <th>Sensor_alpha_plus</th>\n",
              "      <td>250.195048</td>\n",
              "      <td>95.394941</td>\n",
              "      <td>-90.750386</td>\n",
              "      <td>-21.813529</td>\n",
              "      <td>48.392938</td>\n",
              "    </tr>\n",
              "    <tr>\n",
              "      <th>Sensor_beta_plus</th>\n",
              "      <td>-53.547777</td>\n",
              "      <td>37.291944</td>\n",
              "      <td>-50.476556</td>\n",
              "      <td>-209.256006</td>\n",
              "      <td>-110.008860</td>\n",
              "    </tr>\n",
              "    <tr>\n",
              "      <th>Sensor_gamma_plus</th>\n",
              "      <td>-112.049983</td>\n",
              "      <td>48.525180</td>\n",
              "      <td>85.399009</td>\n",
              "      <td>16.291882</td>\n",
              "      <td>-10.285138</td>\n",
              "    </tr>\n",
              "  </tbody>\n",
              "</table>\n",
              "</div>\n",
              "      <button class=\"colab-df-convert\" onclick=\"convertToInteractive('df-2cf98c72-ee9e-4312-b9a9-44e675d3ce80')\"\n",
              "              title=\"Convert this dataframe to an interactive table.\"\n",
              "              style=\"display:none;\">\n",
              "        \n",
              "  <svg xmlns=\"http://www.w3.org/2000/svg\" height=\"24px\"viewBox=\"0 0 24 24\"\n",
              "       width=\"24px\">\n",
              "    <path d=\"M0 0h24v24H0V0z\" fill=\"none\"/>\n",
              "    <path d=\"M18.56 5.44l.94 2.06.94-2.06 2.06-.94-2.06-.94-.94-2.06-.94 2.06-2.06.94zm-11 1L8.5 8.5l.94-2.06 2.06-.94-2.06-.94L8.5 2.5l-.94 2.06-2.06.94zm10 10l.94 2.06.94-2.06 2.06-.94-2.06-.94-.94-2.06-.94 2.06-2.06.94z\"/><path d=\"M17.41 7.96l-1.37-1.37c-.4-.4-.92-.59-1.43-.59-.52 0-1.04.2-1.43.59L10.3 9.45l-7.72 7.72c-.78.78-.78 2.05 0 2.83L4 21.41c.39.39.9.59 1.41.59.51 0 1.02-.2 1.41-.59l7.78-7.78 2.81-2.81c.8-.78.8-2.07 0-2.86zM5.41 20L4 18.59l7.72-7.72 1.47 1.35L5.41 20z\"/>\n",
              "  </svg>\n",
              "      </button>\n",
              "      \n",
              "  <style>\n",
              "    .colab-df-container {\n",
              "      display:flex;\n",
              "      flex-wrap:wrap;\n",
              "      gap: 12px;\n",
              "    }\n",
              "\n",
              "    .colab-df-convert {\n",
              "      background-color: #E8F0FE;\n",
              "      border: none;\n",
              "      border-radius: 50%;\n",
              "      cursor: pointer;\n",
              "      display: none;\n",
              "      fill: #1967D2;\n",
              "      height: 32px;\n",
              "      padding: 0 0 0 0;\n",
              "      width: 32px;\n",
              "    }\n",
              "\n",
              "    .colab-df-convert:hover {\n",
              "      background-color: #E2EBFA;\n",
              "      box-shadow: 0px 1px 2px rgba(60, 64, 67, 0.3), 0px 1px 3px 1px rgba(60, 64, 67, 0.15);\n",
              "      fill: #174EA6;\n",
              "    }\n",
              "\n",
              "    [theme=dark] .colab-df-convert {\n",
              "      background-color: #3B4455;\n",
              "      fill: #D2E3FC;\n",
              "    }\n",
              "\n",
              "    [theme=dark] .colab-df-convert:hover {\n",
              "      background-color: #434B5C;\n",
              "      box-shadow: 0px 1px 3px 1px rgba(0, 0, 0, 0.15);\n",
              "      filter: drop-shadow(0px 1px 2px rgba(0, 0, 0, 0.3));\n",
              "      fill: #FFFFFF;\n",
              "    }\n",
              "  </style>\n",
              "\n",
              "      <script>\n",
              "        const buttonEl =\n",
              "          document.querySelector('#df-2cf98c72-ee9e-4312-b9a9-44e675d3ce80 button.colab-df-convert');\n",
              "        buttonEl.style.display =\n",
              "          google.colab.kernel.accessAllowed ? 'block' : 'none';\n",
              "\n",
              "        async function convertToInteractive(key) {\n",
              "          const element = document.querySelector('#df-2cf98c72-ee9e-4312-b9a9-44e675d3ce80');\n",
              "          const dataTable =\n",
              "            await google.colab.kernel.invokeFunction('convertToInteractive',\n",
              "                                                     [key], {});\n",
              "          if (!dataTable) return;\n",
              "\n",
              "          const docLinkHtml = 'Like what you see? Visit the ' +\n",
              "            '<a target=\"_blank\" href=https://colab.research.google.com/notebooks/data_table.ipynb>data table notebook</a>'\n",
              "            + ' to learn more about interactive tables.';\n",
              "          element.innerHTML = '';\n",
              "          dataTable['output_type'] = 'display_data';\n",
              "          await google.colab.output.renderOutput(dataTable, element);\n",
              "          const docLink = document.createElement('div');\n",
              "          docLink.innerHTML = docLinkHtml;\n",
              "          element.appendChild(docLink);\n",
              "        }\n",
              "      </script>\n",
              "    </div>\n",
              "  </div>\n",
              "  "
            ]
          },
          "metadata": {},
          "execution_count": 1263
        }
      ],
      "source": [
        "dev_df_X.head().T\n",
        "#Vemos que la columna Insect ya no está"
      ]
    },
    {
      "cell_type": "markdown",
      "source": [
        "Vemos que la columna Insect ya no está"
      ],
      "metadata": {
        "id": "JBx2LK-n3saV"
      }
    },
    {
      "cell_type": "code",
      "execution_count": 1264,
      "metadata": {
        "colab": {
          "base_uri": "https://localhost:8080/",
          "height": 81
        },
        "id": "gznZLy1iZc52",
        "outputId": "bd4d554e-e593-44b4-8bf3-369300bfcb19"
      },
      "outputs": [
        {
          "output_type": "execute_result",
          "data": {
            "text/plain": [
              "        0  1  2  3  4\n",
              "Insect  2  0  1  0  2"
            ],
            "text/html": [
              "\n",
              "  <div id=\"df-65520eb2-c517-4b78-b552-25d5bb1c685e\">\n",
              "    <div class=\"colab-df-container\">\n",
              "      <div>\n",
              "<style scoped>\n",
              "    .dataframe tbody tr th:only-of-type {\n",
              "        vertical-align: middle;\n",
              "    }\n",
              "\n",
              "    .dataframe tbody tr th {\n",
              "        vertical-align: top;\n",
              "    }\n",
              "\n",
              "    .dataframe thead th {\n",
              "        text-align: right;\n",
              "    }\n",
              "</style>\n",
              "<table border=\"1\" class=\"dataframe\">\n",
              "  <thead>\n",
              "    <tr style=\"text-align: right;\">\n",
              "      <th></th>\n",
              "      <th>0</th>\n",
              "      <th>1</th>\n",
              "      <th>2</th>\n",
              "      <th>3</th>\n",
              "      <th>4</th>\n",
              "    </tr>\n",
              "  </thead>\n",
              "  <tbody>\n",
              "    <tr>\n",
              "      <th>Insect</th>\n",
              "      <td>2</td>\n",
              "      <td>0</td>\n",
              "      <td>1</td>\n",
              "      <td>0</td>\n",
              "      <td>2</td>\n",
              "    </tr>\n",
              "  </tbody>\n",
              "</table>\n",
              "</div>\n",
              "      <button class=\"colab-df-convert\" onclick=\"convertToInteractive('df-65520eb2-c517-4b78-b552-25d5bb1c685e')\"\n",
              "              title=\"Convert this dataframe to an interactive table.\"\n",
              "              style=\"display:none;\">\n",
              "        \n",
              "  <svg xmlns=\"http://www.w3.org/2000/svg\" height=\"24px\"viewBox=\"0 0 24 24\"\n",
              "       width=\"24px\">\n",
              "    <path d=\"M0 0h24v24H0V0z\" fill=\"none\"/>\n",
              "    <path d=\"M18.56 5.44l.94 2.06.94-2.06 2.06-.94-2.06-.94-.94-2.06-.94 2.06-2.06.94zm-11 1L8.5 8.5l.94-2.06 2.06-.94-2.06-.94L8.5 2.5l-.94 2.06-2.06.94zm10 10l.94 2.06.94-2.06 2.06-.94-2.06-.94-.94-2.06-.94 2.06-2.06.94z\"/><path d=\"M17.41 7.96l-1.37-1.37c-.4-.4-.92-.59-1.43-.59-.52 0-1.04.2-1.43.59L10.3 9.45l-7.72 7.72c-.78.78-.78 2.05 0 2.83L4 21.41c.39.39.9.59 1.41.59.51 0 1.02-.2 1.41-.59l7.78-7.78 2.81-2.81c.8-.78.8-2.07 0-2.86zM5.41 20L4 18.59l7.72-7.72 1.47 1.35L5.41 20z\"/>\n",
              "  </svg>\n",
              "      </button>\n",
              "      \n",
              "  <style>\n",
              "    .colab-df-container {\n",
              "      display:flex;\n",
              "      flex-wrap:wrap;\n",
              "      gap: 12px;\n",
              "    }\n",
              "\n",
              "    .colab-df-convert {\n",
              "      background-color: #E8F0FE;\n",
              "      border: none;\n",
              "      border-radius: 50%;\n",
              "      cursor: pointer;\n",
              "      display: none;\n",
              "      fill: #1967D2;\n",
              "      height: 32px;\n",
              "      padding: 0 0 0 0;\n",
              "      width: 32px;\n",
              "    }\n",
              "\n",
              "    .colab-df-convert:hover {\n",
              "      background-color: #E2EBFA;\n",
              "      box-shadow: 0px 1px 2px rgba(60, 64, 67, 0.3), 0px 1px 3px 1px rgba(60, 64, 67, 0.15);\n",
              "      fill: #174EA6;\n",
              "    }\n",
              "\n",
              "    [theme=dark] .colab-df-convert {\n",
              "      background-color: #3B4455;\n",
              "      fill: #D2E3FC;\n",
              "    }\n",
              "\n",
              "    [theme=dark] .colab-df-convert:hover {\n",
              "      background-color: #434B5C;\n",
              "      box-shadow: 0px 1px 3px 1px rgba(0, 0, 0, 0.15);\n",
              "      filter: drop-shadow(0px 1px 2px rgba(0, 0, 0, 0.3));\n",
              "      fill: #FFFFFF;\n",
              "    }\n",
              "  </style>\n",
              "\n",
              "      <script>\n",
              "        const buttonEl =\n",
              "          document.querySelector('#df-65520eb2-c517-4b78-b552-25d5bb1c685e button.colab-df-convert');\n",
              "        buttonEl.style.display =\n",
              "          google.colab.kernel.accessAllowed ? 'block' : 'none';\n",
              "\n",
              "        async function convertToInteractive(key) {\n",
              "          const element = document.querySelector('#df-65520eb2-c517-4b78-b552-25d5bb1c685e');\n",
              "          const dataTable =\n",
              "            await google.colab.kernel.invokeFunction('convertToInteractive',\n",
              "                                                     [key], {});\n",
              "          if (!dataTable) return;\n",
              "\n",
              "          const docLinkHtml = 'Like what you see? Visit the ' +\n",
              "            '<a target=\"_blank\" href=https://colab.research.google.com/notebooks/data_table.ipynb>data table notebook</a>'\n",
              "            + ' to learn more about interactive tables.';\n",
              "          element.innerHTML = '';\n",
              "          dataTable['output_type'] = 'display_data';\n",
              "          await google.colab.output.renderOutput(dataTable, element);\n",
              "          const docLink = document.createElement('div');\n",
              "          docLink.innerHTML = docLinkHtml;\n",
              "          element.appendChild(docLink);\n",
              "        }\n",
              "      </script>\n",
              "    </div>\n",
              "  </div>\n",
              "  "
            ]
          },
          "metadata": {},
          "execution_count": 1264
        }
      ],
      "source": [
        "dev_df_y.head().T"
      ]
    },
    {
      "cell_type": "markdown",
      "source": [
        "Y que la partición de entrenamiento y tiene el target (las clases)"
      ],
      "metadata": {
        "id": "W5O8Ng9P3whl"
      }
    },
    {
      "cell_type": "code",
      "execution_count": 1267,
      "metadata": {
        "colab": {
          "base_uri": "https://localhost:8080/",
          "height": 237
        },
        "id": "RqtCfBzlbfHs",
        "outputId": "a400fad8-d0ed-4a35-928c-d2c6f8633d81"
      },
      "outputs": [
        {
          "output_type": "execute_result",
          "data": {
            "text/plain": [
              "                         5000        5001        5002       5003        5004\n",
              "Sensor_alpha       165.959093   28.854234 -112.427873 -26.396727    4.260985\n",
              "Sensor_beta         -6.970415   19.892505   10.410879  25.118826   38.542805\n",
              "Sensor_gamma        30.311623   44.466920    5.317877 -28.790005   76.083572\n",
              "Sensor_alpha_plus   54.899814  126.922641  136.953971  50.636446  -58.284849\n",
              "Sensor_beta_plus   -74.785403   21.225569   95.572714 -68.199438 -196.309611\n",
              "Sensor_gamma_plus -217.100364   31.496458  109.789760 -60.110984   57.348196"
            ],
            "text/html": [
              "\n",
              "  <div id=\"df-97bc7907-ae3f-46a3-bc12-15e029d89938\">\n",
              "    <div class=\"colab-df-container\">\n",
              "      <div>\n",
              "<style scoped>\n",
              "    .dataframe tbody tr th:only-of-type {\n",
              "        vertical-align: middle;\n",
              "    }\n",
              "\n",
              "    .dataframe tbody tr th {\n",
              "        vertical-align: top;\n",
              "    }\n",
              "\n",
              "    .dataframe thead th {\n",
              "        text-align: right;\n",
              "    }\n",
              "</style>\n",
              "<table border=\"1\" class=\"dataframe\">\n",
              "  <thead>\n",
              "    <tr style=\"text-align: right;\">\n",
              "      <th></th>\n",
              "      <th>5000</th>\n",
              "      <th>5001</th>\n",
              "      <th>5002</th>\n",
              "      <th>5003</th>\n",
              "      <th>5004</th>\n",
              "    </tr>\n",
              "  </thead>\n",
              "  <tbody>\n",
              "    <tr>\n",
              "      <th>Sensor_alpha</th>\n",
              "      <td>165.959093</td>\n",
              "      <td>28.854234</td>\n",
              "      <td>-112.427873</td>\n",
              "      <td>-26.396727</td>\n",
              "      <td>4.260985</td>\n",
              "    </tr>\n",
              "    <tr>\n",
              "      <th>Sensor_beta</th>\n",
              "      <td>-6.970415</td>\n",
              "      <td>19.892505</td>\n",
              "      <td>10.410879</td>\n",
              "      <td>25.118826</td>\n",
              "      <td>38.542805</td>\n",
              "    </tr>\n",
              "    <tr>\n",
              "      <th>Sensor_gamma</th>\n",
              "      <td>30.311623</td>\n",
              "      <td>44.466920</td>\n",
              "      <td>5.317877</td>\n",
              "      <td>-28.790005</td>\n",
              "      <td>76.083572</td>\n",
              "    </tr>\n",
              "    <tr>\n",
              "      <th>Sensor_alpha_plus</th>\n",
              "      <td>54.899814</td>\n",
              "      <td>126.922641</td>\n",
              "      <td>136.953971</td>\n",
              "      <td>50.636446</td>\n",
              "      <td>-58.284849</td>\n",
              "    </tr>\n",
              "    <tr>\n",
              "      <th>Sensor_beta_plus</th>\n",
              "      <td>-74.785403</td>\n",
              "      <td>21.225569</td>\n",
              "      <td>95.572714</td>\n",
              "      <td>-68.199438</td>\n",
              "      <td>-196.309611</td>\n",
              "    </tr>\n",
              "    <tr>\n",
              "      <th>Sensor_gamma_plus</th>\n",
              "      <td>-217.100364</td>\n",
              "      <td>31.496458</td>\n",
              "      <td>109.789760</td>\n",
              "      <td>-60.110984</td>\n",
              "      <td>57.348196</td>\n",
              "    </tr>\n",
              "  </tbody>\n",
              "</table>\n",
              "</div>\n",
              "      <button class=\"colab-df-convert\" onclick=\"convertToInteractive('df-97bc7907-ae3f-46a3-bc12-15e029d89938')\"\n",
              "              title=\"Convert this dataframe to an interactive table.\"\n",
              "              style=\"display:none;\">\n",
              "        \n",
              "  <svg xmlns=\"http://www.w3.org/2000/svg\" height=\"24px\"viewBox=\"0 0 24 24\"\n",
              "       width=\"24px\">\n",
              "    <path d=\"M0 0h24v24H0V0z\" fill=\"none\"/>\n",
              "    <path d=\"M18.56 5.44l.94 2.06.94-2.06 2.06-.94-2.06-.94-.94-2.06-.94 2.06-2.06.94zm-11 1L8.5 8.5l.94-2.06 2.06-.94-2.06-.94L8.5 2.5l-.94 2.06-2.06.94zm10 10l.94 2.06.94-2.06 2.06-.94-2.06-.94-.94-2.06-.94 2.06-2.06.94z\"/><path d=\"M17.41 7.96l-1.37-1.37c-.4-.4-.92-.59-1.43-.59-.52 0-1.04.2-1.43.59L10.3 9.45l-7.72 7.72c-.78.78-.78 2.05 0 2.83L4 21.41c.39.39.9.59 1.41.59.51 0 1.02-.2 1.41-.59l7.78-7.78 2.81-2.81c.8-.78.8-2.07 0-2.86zM5.41 20L4 18.59l7.72-7.72 1.47 1.35L5.41 20z\"/>\n",
              "  </svg>\n",
              "      </button>\n",
              "      \n",
              "  <style>\n",
              "    .colab-df-container {\n",
              "      display:flex;\n",
              "      flex-wrap:wrap;\n",
              "      gap: 12px;\n",
              "    }\n",
              "\n",
              "    .colab-df-convert {\n",
              "      background-color: #E8F0FE;\n",
              "      border: none;\n",
              "      border-radius: 50%;\n",
              "      cursor: pointer;\n",
              "      display: none;\n",
              "      fill: #1967D2;\n",
              "      height: 32px;\n",
              "      padding: 0 0 0 0;\n",
              "      width: 32px;\n",
              "    }\n",
              "\n",
              "    .colab-df-convert:hover {\n",
              "      background-color: #E2EBFA;\n",
              "      box-shadow: 0px 1px 2px rgba(60, 64, 67, 0.3), 0px 1px 3px 1px rgba(60, 64, 67, 0.15);\n",
              "      fill: #174EA6;\n",
              "    }\n",
              "\n",
              "    [theme=dark] .colab-df-convert {\n",
              "      background-color: #3B4455;\n",
              "      fill: #D2E3FC;\n",
              "    }\n",
              "\n",
              "    [theme=dark] .colab-df-convert:hover {\n",
              "      background-color: #434B5C;\n",
              "      box-shadow: 0px 1px 3px 1px rgba(0, 0, 0, 0.15);\n",
              "      filter: drop-shadow(0px 1px 2px rgba(0, 0, 0, 0.3));\n",
              "      fill: #FFFFFF;\n",
              "    }\n",
              "  </style>\n",
              "\n",
              "      <script>\n",
              "        const buttonEl =\n",
              "          document.querySelector('#df-97bc7907-ae3f-46a3-bc12-15e029d89938 button.colab-df-convert');\n",
              "        buttonEl.style.display =\n",
              "          google.colab.kernel.accessAllowed ? 'block' : 'none';\n",
              "\n",
              "        async function convertToInteractive(key) {\n",
              "          const element = document.querySelector('#df-97bc7907-ae3f-46a3-bc12-15e029d89938');\n",
              "          const dataTable =\n",
              "            await google.colab.kernel.invokeFunction('convertToInteractive',\n",
              "                                                     [key], {});\n",
              "          if (!dataTable) return;\n",
              "\n",
              "          const docLinkHtml = 'Like what you see? Visit the ' +\n",
              "            '<a target=\"_blank\" href=https://colab.research.google.com/notebooks/data_table.ipynb>data table notebook</a>'\n",
              "            + ' to learn more about interactive tables.';\n",
              "          element.innerHTML = '';\n",
              "          dataTable['output_type'] = 'display_data';\n",
              "          await google.colab.output.renderOutput(dataTable, element);\n",
              "          const docLink = document.createElement('div');\n",
              "          docLink.innerHTML = docLinkHtml;\n",
              "          element.appendChild(docLink);\n",
              "        }\n",
              "      </script>\n",
              "    </div>\n",
              "  </div>\n",
              "  "
            ]
          },
          "metadata": {},
          "execution_count": 1267
        }
      ],
      "source": [
        "val_df_X.head().T\n",
        "#Vemos que la columna Insect ya no está"
      ]
    },
    {
      "cell_type": "markdown",
      "source": [
        "Vemos que la columna Insect ya no está"
      ],
      "metadata": {
        "id": "i5mQpnwB34-S"
      }
    },
    {
      "cell_type": "code",
      "execution_count": 1266,
      "metadata": {
        "colab": {
          "base_uri": "https://localhost:8080/",
          "height": 81
        },
        "id": "06aNLfAlbe68",
        "outputId": "df75410b-a344-4aa0-bfa9-6653c80f3b05"
      },
      "outputs": [
        {
          "output_type": "execute_result",
          "data": {
            "text/plain": [
              "        5000  5001  5002  5003  5004\n",
              "Insect     0     0     0     0     1"
            ],
            "text/html": [
              "\n",
              "  <div id=\"df-9a3e2ab0-f24e-4e12-a899-fc2df01aac75\">\n",
              "    <div class=\"colab-df-container\">\n",
              "      <div>\n",
              "<style scoped>\n",
              "    .dataframe tbody tr th:only-of-type {\n",
              "        vertical-align: middle;\n",
              "    }\n",
              "\n",
              "    .dataframe tbody tr th {\n",
              "        vertical-align: top;\n",
              "    }\n",
              "\n",
              "    .dataframe thead th {\n",
              "        text-align: right;\n",
              "    }\n",
              "</style>\n",
              "<table border=\"1\" class=\"dataframe\">\n",
              "  <thead>\n",
              "    <tr style=\"text-align: right;\">\n",
              "      <th></th>\n",
              "      <th>5000</th>\n",
              "      <th>5001</th>\n",
              "      <th>5002</th>\n",
              "      <th>5003</th>\n",
              "      <th>5004</th>\n",
              "    </tr>\n",
              "  </thead>\n",
              "  <tbody>\n",
              "    <tr>\n",
              "      <th>Insect</th>\n",
              "      <td>0</td>\n",
              "      <td>0</td>\n",
              "      <td>0</td>\n",
              "      <td>0</td>\n",
              "      <td>1</td>\n",
              "    </tr>\n",
              "  </tbody>\n",
              "</table>\n",
              "</div>\n",
              "      <button class=\"colab-df-convert\" onclick=\"convertToInteractive('df-9a3e2ab0-f24e-4e12-a899-fc2df01aac75')\"\n",
              "              title=\"Convert this dataframe to an interactive table.\"\n",
              "              style=\"display:none;\">\n",
              "        \n",
              "  <svg xmlns=\"http://www.w3.org/2000/svg\" height=\"24px\"viewBox=\"0 0 24 24\"\n",
              "       width=\"24px\">\n",
              "    <path d=\"M0 0h24v24H0V0z\" fill=\"none\"/>\n",
              "    <path d=\"M18.56 5.44l.94 2.06.94-2.06 2.06-.94-2.06-.94-.94-2.06-.94 2.06-2.06.94zm-11 1L8.5 8.5l.94-2.06 2.06-.94-2.06-.94L8.5 2.5l-.94 2.06-2.06.94zm10 10l.94 2.06.94-2.06 2.06-.94-2.06-.94-.94-2.06-.94 2.06-2.06.94z\"/><path d=\"M17.41 7.96l-1.37-1.37c-.4-.4-.92-.59-1.43-.59-.52 0-1.04.2-1.43.59L10.3 9.45l-7.72 7.72c-.78.78-.78 2.05 0 2.83L4 21.41c.39.39.9.59 1.41.59.51 0 1.02-.2 1.41-.59l7.78-7.78 2.81-2.81c.8-.78.8-2.07 0-2.86zM5.41 20L4 18.59l7.72-7.72 1.47 1.35L5.41 20z\"/>\n",
              "  </svg>\n",
              "      </button>\n",
              "      \n",
              "  <style>\n",
              "    .colab-df-container {\n",
              "      display:flex;\n",
              "      flex-wrap:wrap;\n",
              "      gap: 12px;\n",
              "    }\n",
              "\n",
              "    .colab-df-convert {\n",
              "      background-color: #E8F0FE;\n",
              "      border: none;\n",
              "      border-radius: 50%;\n",
              "      cursor: pointer;\n",
              "      display: none;\n",
              "      fill: #1967D2;\n",
              "      height: 32px;\n",
              "      padding: 0 0 0 0;\n",
              "      width: 32px;\n",
              "    }\n",
              "\n",
              "    .colab-df-convert:hover {\n",
              "      background-color: #E2EBFA;\n",
              "      box-shadow: 0px 1px 2px rgba(60, 64, 67, 0.3), 0px 1px 3px 1px rgba(60, 64, 67, 0.15);\n",
              "      fill: #174EA6;\n",
              "    }\n",
              "\n",
              "    [theme=dark] .colab-df-convert {\n",
              "      background-color: #3B4455;\n",
              "      fill: #D2E3FC;\n",
              "    }\n",
              "\n",
              "    [theme=dark] .colab-df-convert:hover {\n",
              "      background-color: #434B5C;\n",
              "      box-shadow: 0px 1px 3px 1px rgba(0, 0, 0, 0.15);\n",
              "      filter: drop-shadow(0px 1px 2px rgba(0, 0, 0, 0.3));\n",
              "      fill: #FFFFFF;\n",
              "    }\n",
              "  </style>\n",
              "\n",
              "      <script>\n",
              "        const buttonEl =\n",
              "          document.querySelector('#df-9a3e2ab0-f24e-4e12-a899-fc2df01aac75 button.colab-df-convert');\n",
              "        buttonEl.style.display =\n",
              "          google.colab.kernel.accessAllowed ? 'block' : 'none';\n",
              "\n",
              "        async function convertToInteractive(key) {\n",
              "          const element = document.querySelector('#df-9a3e2ab0-f24e-4e12-a899-fc2df01aac75');\n",
              "          const dataTable =\n",
              "            await google.colab.kernel.invokeFunction('convertToInteractive',\n",
              "                                                     [key], {});\n",
              "          if (!dataTable) return;\n",
              "\n",
              "          const docLinkHtml = 'Like what you see? Visit the ' +\n",
              "            '<a target=\"_blank\" href=https://colab.research.google.com/notebooks/data_table.ipynb>data table notebook</a>'\n",
              "            + ' to learn more about interactive tables.';\n",
              "          element.innerHTML = '';\n",
              "          dataTable['output_type'] = 'display_data';\n",
              "          await google.colab.output.renderOutput(dataTable, element);\n",
              "          const docLink = document.createElement('div');\n",
              "          docLink.innerHTML = docLinkHtml;\n",
              "          element.appendChild(docLink);\n",
              "        }\n",
              "      </script>\n",
              "    </div>\n",
              "  </div>\n",
              "  "
            ]
          },
          "metadata": {},
          "execution_count": 1266
        }
      ],
      "source": [
        "val_df_y.head().T"
      ]
    },
    {
      "cell_type": "markdown",
      "source": [
        "Y que la partición de validación y tiene el target (las clases)"
      ],
      "metadata": {
        "id": "NTZXB81Z4Bo7"
      }
    },
    {
      "cell_type": "markdown",
      "metadata": {
        "id": "7YFGjGtgZc52"
      },
      "source": [
        "#### Random Holdout. Hacemos la partición del development"
      ]
    },
    {
      "cell_type": "code",
      "source": [
        "df_train[TARGET].value_counts()"
      ],
      "metadata": {
        "colab": {
          "base_uri": "https://localhost:8080/"
        },
        "id": "KD_pkwvW4RYs",
        "outputId": "72744289-4686-4876-9406-85b65054930d"
      },
      "execution_count": 1268,
      "outputs": [
        {
          "output_type": "execute_result",
          "data": {
            "text/plain": [
              "0    3519\n",
              "1    2793\n",
              "2     689\n",
              "Name: Insect, dtype: int64"
            ]
          },
          "metadata": {},
          "execution_count": 1268
        }
      ]
    },
    {
      "cell_type": "markdown",
      "source": [
        "Como las clases están un poco desbalanceadas, haremos un over sampling para pasar una muestra menor y mejor distribuida de las tres clases."
      ],
      "metadata": {
        "id": "T93PMPZ64TxK"
      }
    },
    {
      "cell_type": "code",
      "source": [
        "from imblearn.over_sampling import SMOTE"
      ],
      "metadata": {
        "id": "GQP-oCgTJmAl"
      },
      "execution_count": 1269,
      "outputs": []
    },
    {
      "cell_type": "code",
      "source": [
        "oversample = SMOTE()\n",
        "X, y = oversample.fit_resample(X, y)"
      ],
      "metadata": {
        "id": "BY-Spvi6JqmE"
      },
      "execution_count": 1270,
      "outputs": []
    },
    {
      "cell_type": "code",
      "execution_count": 1271,
      "metadata": {
        "collapsed": true,
        "id": "v-YzkpyEZc52"
      },
      "outputs": [],
      "source": [
        "X_train, X_test, y_train, y_test = model_selection.train_test_split(\n",
        "                                        dev_df_X, # X \n",
        "                                        dev_df_y, # y\n",
        "                                        test_size = 0.30, # tamaño del split aleatorio \n",
        "                                        random_state = 42\n",
        "                                     )"
      ]
    },
    {
      "cell_type": "code",
      "execution_count": 1273,
      "metadata": {
        "colab": {
          "base_uri": "https://localhost:8080/"
        },
        "id": "yuvK3eRkZc52",
        "outputId": "ec795e7f-2443-4783-dcd8-516f62316364"
      },
      "outputs": [
        {
          "output_type": "stream",
          "name": "stdout",
          "text": [
            "<class 'pandas.core.frame.DataFrame'>\n",
            "Int64Index: 3500 entries, 1840 to 860\n",
            "Columns: 6 entries, Sensor_alpha to Sensor_gamma_plus\n",
            "dtypes: float64(6)\n",
            "memory usage: 191.4 KB\n"
          ]
        }
      ],
      "source": [
        "X_train.info(verbose=False)"
      ]
    },
    {
      "cell_type": "code",
      "execution_count": 1274,
      "metadata": {
        "colab": {
          "base_uri": "https://localhost:8080/"
        },
        "id": "AGe64ElmZc53",
        "outputId": "d45c3926-cdb9-4107-9c16-afc95ebccf44"
      },
      "outputs": [
        {
          "output_type": "stream",
          "name": "stdout",
          "text": [
            "<class 'pandas.core.frame.DataFrame'>\n",
            "Int64Index: 1500 entries, 1501 to 1912\n",
            "Columns: 6 entries, Sensor_alpha to Sensor_gamma_plus\n",
            "dtypes: float64(6)\n",
            "memory usage: 82.0 KB\n"
          ]
        }
      ],
      "source": [
        "X_test.info(verbose=False)"
      ]
    },
    {
      "cell_type": "code",
      "execution_count": 1275,
      "metadata": {
        "colab": {
          "base_uri": "https://localhost:8080/"
        },
        "id": "KbNg2crBbx9v",
        "outputId": "6c0ef04b-a8f3-4283-d73e-7a4ee40fc56a"
      },
      "outputs": [
        {
          "output_type": "stream",
          "name": "stdout",
          "text": [
            "<class 'pandas.core.frame.DataFrame'>\n",
            "Int64Index: 3500 entries, 1840 to 860\n",
            "Columns: 1 entries, Insect to Insect\n",
            "dtypes: int64(1)\n",
            "memory usage: 54.7 KB\n"
          ]
        }
      ],
      "source": [
        "y_train.info(verbose=False)"
      ]
    },
    {
      "cell_type": "code",
      "execution_count": 1276,
      "metadata": {
        "colab": {
          "base_uri": "https://localhost:8080/"
        },
        "id": "yxlM6lwHbxto",
        "outputId": "908d3e0a-598e-4486-a1ff-cae98ed1cbe2"
      },
      "outputs": [
        {
          "output_type": "stream",
          "name": "stdout",
          "text": [
            "<class 'pandas.core.frame.DataFrame'>\n",
            "Int64Index: 1500 entries, 1501 to 1912\n",
            "Columns: 1 entries, Insect to Insect\n",
            "dtypes: int64(1)\n",
            "memory usage: 23.4 KB\n"
          ]
        }
      ],
      "source": [
        "y_test.info(verbose=False)"
      ]
    },
    {
      "cell_type": "markdown",
      "metadata": {
        "id": "q0P98AoxgFgj"
      },
      "source": [
        "Hacemos un describe sobre las nuevas variables"
      ]
    },
    {
      "cell_type": "code",
      "execution_count": 1277,
      "metadata": {
        "colab": {
          "base_uri": "https://localhost:8080/",
          "height": 206
        },
        "id": "mtkTVIlbZc53",
        "outputId": "dc5b5799-e74b-47d5-e66f-403472071fa5"
      },
      "outputs": [
        {
          "output_type": "execute_result",
          "data": {
            "text/plain": [
              "                    count       mean         std         min         25%  \\\n",
              "Sensor_alpha       3500.0  -0.135014   99.697817 -367.610815  -69.106364   \n",
              "Sensor_beta        3500.0 -33.379193  130.578298 -609.633422 -117.257235   \n",
              "Sensor_gamma       3500.0  -6.355617  116.325086 -437.240073  -85.467865   \n",
              "Sensor_alpha_plus  3500.0  10.159933  121.184117 -437.205393  -75.926706   \n",
              "Sensor_beta_plus   3500.0  -0.422508   99.885931 -358.457767  -67.326273   \n",
              "\n",
              "                         50%        75%         max  \n",
              "Sensor_alpha        0.327191  66.492311  339.206060  \n",
              "Sensor_beta       -39.539898  50.467605  482.189198  \n",
              "Sensor_gamma       -3.160123  74.612008  358.570603  \n",
              "Sensor_alpha_plus   1.790872  95.599950  416.620810  \n",
              "Sensor_beta_plus    0.057831  67.315217  345.279240  "
            ],
            "text/html": [
              "\n",
              "  <div id=\"df-e421d620-0867-4354-a0ae-e327e759c7e8\">\n",
              "    <div class=\"colab-df-container\">\n",
              "      <div>\n",
              "<style scoped>\n",
              "    .dataframe tbody tr th:only-of-type {\n",
              "        vertical-align: middle;\n",
              "    }\n",
              "\n",
              "    .dataframe tbody tr th {\n",
              "        vertical-align: top;\n",
              "    }\n",
              "\n",
              "    .dataframe thead th {\n",
              "        text-align: right;\n",
              "    }\n",
              "</style>\n",
              "<table border=\"1\" class=\"dataframe\">\n",
              "  <thead>\n",
              "    <tr style=\"text-align: right;\">\n",
              "      <th></th>\n",
              "      <th>count</th>\n",
              "      <th>mean</th>\n",
              "      <th>std</th>\n",
              "      <th>min</th>\n",
              "      <th>25%</th>\n",
              "      <th>50%</th>\n",
              "      <th>75%</th>\n",
              "      <th>max</th>\n",
              "    </tr>\n",
              "  </thead>\n",
              "  <tbody>\n",
              "    <tr>\n",
              "      <th>Sensor_alpha</th>\n",
              "      <td>3500.0</td>\n",
              "      <td>-0.135014</td>\n",
              "      <td>99.697817</td>\n",
              "      <td>-367.610815</td>\n",
              "      <td>-69.106364</td>\n",
              "      <td>0.327191</td>\n",
              "      <td>66.492311</td>\n",
              "      <td>339.206060</td>\n",
              "    </tr>\n",
              "    <tr>\n",
              "      <th>Sensor_beta</th>\n",
              "      <td>3500.0</td>\n",
              "      <td>-33.379193</td>\n",
              "      <td>130.578298</td>\n",
              "      <td>-609.633422</td>\n",
              "      <td>-117.257235</td>\n",
              "      <td>-39.539898</td>\n",
              "      <td>50.467605</td>\n",
              "      <td>482.189198</td>\n",
              "    </tr>\n",
              "    <tr>\n",
              "      <th>Sensor_gamma</th>\n",
              "      <td>3500.0</td>\n",
              "      <td>-6.355617</td>\n",
              "      <td>116.325086</td>\n",
              "      <td>-437.240073</td>\n",
              "      <td>-85.467865</td>\n",
              "      <td>-3.160123</td>\n",
              "      <td>74.612008</td>\n",
              "      <td>358.570603</td>\n",
              "    </tr>\n",
              "    <tr>\n",
              "      <th>Sensor_alpha_plus</th>\n",
              "      <td>3500.0</td>\n",
              "      <td>10.159933</td>\n",
              "      <td>121.184117</td>\n",
              "      <td>-437.205393</td>\n",
              "      <td>-75.926706</td>\n",
              "      <td>1.790872</td>\n",
              "      <td>95.599950</td>\n",
              "      <td>416.620810</td>\n",
              "    </tr>\n",
              "    <tr>\n",
              "      <th>Sensor_beta_plus</th>\n",
              "      <td>3500.0</td>\n",
              "      <td>-0.422508</td>\n",
              "      <td>99.885931</td>\n",
              "      <td>-358.457767</td>\n",
              "      <td>-67.326273</td>\n",
              "      <td>0.057831</td>\n",
              "      <td>67.315217</td>\n",
              "      <td>345.279240</td>\n",
              "    </tr>\n",
              "  </tbody>\n",
              "</table>\n",
              "</div>\n",
              "      <button class=\"colab-df-convert\" onclick=\"convertToInteractive('df-e421d620-0867-4354-a0ae-e327e759c7e8')\"\n",
              "              title=\"Convert this dataframe to an interactive table.\"\n",
              "              style=\"display:none;\">\n",
              "        \n",
              "  <svg xmlns=\"http://www.w3.org/2000/svg\" height=\"24px\"viewBox=\"0 0 24 24\"\n",
              "       width=\"24px\">\n",
              "    <path d=\"M0 0h24v24H0V0z\" fill=\"none\"/>\n",
              "    <path d=\"M18.56 5.44l.94 2.06.94-2.06 2.06-.94-2.06-.94-.94-2.06-.94 2.06-2.06.94zm-11 1L8.5 8.5l.94-2.06 2.06-.94-2.06-.94L8.5 2.5l-.94 2.06-2.06.94zm10 10l.94 2.06.94-2.06 2.06-.94-2.06-.94-.94-2.06-.94 2.06-2.06.94z\"/><path d=\"M17.41 7.96l-1.37-1.37c-.4-.4-.92-.59-1.43-.59-.52 0-1.04.2-1.43.59L10.3 9.45l-7.72 7.72c-.78.78-.78 2.05 0 2.83L4 21.41c.39.39.9.59 1.41.59.51 0 1.02-.2 1.41-.59l7.78-7.78 2.81-2.81c.8-.78.8-2.07 0-2.86zM5.41 20L4 18.59l7.72-7.72 1.47 1.35L5.41 20z\"/>\n",
              "  </svg>\n",
              "      </button>\n",
              "      \n",
              "  <style>\n",
              "    .colab-df-container {\n",
              "      display:flex;\n",
              "      flex-wrap:wrap;\n",
              "      gap: 12px;\n",
              "    }\n",
              "\n",
              "    .colab-df-convert {\n",
              "      background-color: #E8F0FE;\n",
              "      border: none;\n",
              "      border-radius: 50%;\n",
              "      cursor: pointer;\n",
              "      display: none;\n",
              "      fill: #1967D2;\n",
              "      height: 32px;\n",
              "      padding: 0 0 0 0;\n",
              "      width: 32px;\n",
              "    }\n",
              "\n",
              "    .colab-df-convert:hover {\n",
              "      background-color: #E2EBFA;\n",
              "      box-shadow: 0px 1px 2px rgba(60, 64, 67, 0.3), 0px 1px 3px 1px rgba(60, 64, 67, 0.15);\n",
              "      fill: #174EA6;\n",
              "    }\n",
              "\n",
              "    [theme=dark] .colab-df-convert {\n",
              "      background-color: #3B4455;\n",
              "      fill: #D2E3FC;\n",
              "    }\n",
              "\n",
              "    [theme=dark] .colab-df-convert:hover {\n",
              "      background-color: #434B5C;\n",
              "      box-shadow: 0px 1px 3px 1px rgba(0, 0, 0, 0.15);\n",
              "      filter: drop-shadow(0px 1px 2px rgba(0, 0, 0, 0.3));\n",
              "      fill: #FFFFFF;\n",
              "    }\n",
              "  </style>\n",
              "\n",
              "      <script>\n",
              "        const buttonEl =\n",
              "          document.querySelector('#df-e421d620-0867-4354-a0ae-e327e759c7e8 button.colab-df-convert');\n",
              "        buttonEl.style.display =\n",
              "          google.colab.kernel.accessAllowed ? 'block' : 'none';\n",
              "\n",
              "        async function convertToInteractive(key) {\n",
              "          const element = document.querySelector('#df-e421d620-0867-4354-a0ae-e327e759c7e8');\n",
              "          const dataTable =\n",
              "            await google.colab.kernel.invokeFunction('convertToInteractive',\n",
              "                                                     [key], {});\n",
              "          if (!dataTable) return;\n",
              "\n",
              "          const docLinkHtml = 'Like what you see? Visit the ' +\n",
              "            '<a target=\"_blank\" href=https://colab.research.google.com/notebooks/data_table.ipynb>data table notebook</a>'\n",
              "            + ' to learn more about interactive tables.';\n",
              "          element.innerHTML = '';\n",
              "          dataTable['output_type'] = 'display_data';\n",
              "          await google.colab.output.renderOutput(dataTable, element);\n",
              "          const docLink = document.createElement('div');\n",
              "          docLink.innerHTML = docLinkHtml;\n",
              "          element.appendChild(docLink);\n",
              "        }\n",
              "      </script>\n",
              "    </div>\n",
              "  </div>\n",
              "  "
            ]
          },
          "metadata": {},
          "execution_count": 1277
        }
      ],
      "source": [
        "X_train.describe().T.head()"
      ]
    },
    {
      "cell_type": "code",
      "execution_count": 1278,
      "metadata": {
        "colab": {
          "base_uri": "https://localhost:8080/",
          "height": 206
        },
        "id": "Ta6p7UYlZc53",
        "outputId": "8d6cac07-cbd9-435b-a02a-7c9f43c0e2f9"
      },
      "outputs": [
        {
          "output_type": "execute_result",
          "data": {
            "text/plain": [
              "                    count       mean         std         min         25%  \\\n",
              "Sensor_alpha       1500.0   1.951533  101.628321 -404.898823  -67.373304   \n",
              "Sensor_beta        1500.0 -19.030438  137.636011 -518.720176 -108.727874   \n",
              "Sensor_gamma       1500.0  -1.629327  116.035621 -403.239599  -80.192025   \n",
              "Sensor_alpha_plus  1500.0   0.860409  124.244703 -381.191190  -86.630772   \n",
              "Sensor_beta_plus   1500.0  -3.697676  100.718139 -322.380996  -70.700810   \n",
              "\n",
              "                         50%        75%         max  \n",
              "Sensor_alpha       -3.839977  66.756192  335.958476  \n",
              "Sensor_beta       -25.840770  75.935117  518.395878  \n",
              "Sensor_gamma        3.667333  81.174788  378.349287  \n",
              "Sensor_alpha_plus  -8.747985  87.733546  413.896548  \n",
              "Sensor_beta_plus   -4.519712  61.439269  328.253906  "
            ],
            "text/html": [
              "\n",
              "  <div id=\"df-860092da-aca5-4fe5-bd19-b1d46828b10f\">\n",
              "    <div class=\"colab-df-container\">\n",
              "      <div>\n",
              "<style scoped>\n",
              "    .dataframe tbody tr th:only-of-type {\n",
              "        vertical-align: middle;\n",
              "    }\n",
              "\n",
              "    .dataframe tbody tr th {\n",
              "        vertical-align: top;\n",
              "    }\n",
              "\n",
              "    .dataframe thead th {\n",
              "        text-align: right;\n",
              "    }\n",
              "</style>\n",
              "<table border=\"1\" class=\"dataframe\">\n",
              "  <thead>\n",
              "    <tr style=\"text-align: right;\">\n",
              "      <th></th>\n",
              "      <th>count</th>\n",
              "      <th>mean</th>\n",
              "      <th>std</th>\n",
              "      <th>min</th>\n",
              "      <th>25%</th>\n",
              "      <th>50%</th>\n",
              "      <th>75%</th>\n",
              "      <th>max</th>\n",
              "    </tr>\n",
              "  </thead>\n",
              "  <tbody>\n",
              "    <tr>\n",
              "      <th>Sensor_alpha</th>\n",
              "      <td>1500.0</td>\n",
              "      <td>1.951533</td>\n",
              "      <td>101.628321</td>\n",
              "      <td>-404.898823</td>\n",
              "      <td>-67.373304</td>\n",
              "      <td>-3.839977</td>\n",
              "      <td>66.756192</td>\n",
              "      <td>335.958476</td>\n",
              "    </tr>\n",
              "    <tr>\n",
              "      <th>Sensor_beta</th>\n",
              "      <td>1500.0</td>\n",
              "      <td>-19.030438</td>\n",
              "      <td>137.636011</td>\n",
              "      <td>-518.720176</td>\n",
              "      <td>-108.727874</td>\n",
              "      <td>-25.840770</td>\n",
              "      <td>75.935117</td>\n",
              "      <td>518.395878</td>\n",
              "    </tr>\n",
              "    <tr>\n",
              "      <th>Sensor_gamma</th>\n",
              "      <td>1500.0</td>\n",
              "      <td>-1.629327</td>\n",
              "      <td>116.035621</td>\n",
              "      <td>-403.239599</td>\n",
              "      <td>-80.192025</td>\n",
              "      <td>3.667333</td>\n",
              "      <td>81.174788</td>\n",
              "      <td>378.349287</td>\n",
              "    </tr>\n",
              "    <tr>\n",
              "      <th>Sensor_alpha_plus</th>\n",
              "      <td>1500.0</td>\n",
              "      <td>0.860409</td>\n",
              "      <td>124.244703</td>\n",
              "      <td>-381.191190</td>\n",
              "      <td>-86.630772</td>\n",
              "      <td>-8.747985</td>\n",
              "      <td>87.733546</td>\n",
              "      <td>413.896548</td>\n",
              "    </tr>\n",
              "    <tr>\n",
              "      <th>Sensor_beta_plus</th>\n",
              "      <td>1500.0</td>\n",
              "      <td>-3.697676</td>\n",
              "      <td>100.718139</td>\n",
              "      <td>-322.380996</td>\n",
              "      <td>-70.700810</td>\n",
              "      <td>-4.519712</td>\n",
              "      <td>61.439269</td>\n",
              "      <td>328.253906</td>\n",
              "    </tr>\n",
              "  </tbody>\n",
              "</table>\n",
              "</div>\n",
              "      <button class=\"colab-df-convert\" onclick=\"convertToInteractive('df-860092da-aca5-4fe5-bd19-b1d46828b10f')\"\n",
              "              title=\"Convert this dataframe to an interactive table.\"\n",
              "              style=\"display:none;\">\n",
              "        \n",
              "  <svg xmlns=\"http://www.w3.org/2000/svg\" height=\"24px\"viewBox=\"0 0 24 24\"\n",
              "       width=\"24px\">\n",
              "    <path d=\"M0 0h24v24H0V0z\" fill=\"none\"/>\n",
              "    <path d=\"M18.56 5.44l.94 2.06.94-2.06 2.06-.94-2.06-.94-.94-2.06-.94 2.06-2.06.94zm-11 1L8.5 8.5l.94-2.06 2.06-.94-2.06-.94L8.5 2.5l-.94 2.06-2.06.94zm10 10l.94 2.06.94-2.06 2.06-.94-2.06-.94-.94-2.06-.94 2.06-2.06.94z\"/><path d=\"M17.41 7.96l-1.37-1.37c-.4-.4-.92-.59-1.43-.59-.52 0-1.04.2-1.43.59L10.3 9.45l-7.72 7.72c-.78.78-.78 2.05 0 2.83L4 21.41c.39.39.9.59 1.41.59.51 0 1.02-.2 1.41-.59l7.78-7.78 2.81-2.81c.8-.78.8-2.07 0-2.86zM5.41 20L4 18.59l7.72-7.72 1.47 1.35L5.41 20z\"/>\n",
              "  </svg>\n",
              "      </button>\n",
              "      \n",
              "  <style>\n",
              "    .colab-df-container {\n",
              "      display:flex;\n",
              "      flex-wrap:wrap;\n",
              "      gap: 12px;\n",
              "    }\n",
              "\n",
              "    .colab-df-convert {\n",
              "      background-color: #E8F0FE;\n",
              "      border: none;\n",
              "      border-radius: 50%;\n",
              "      cursor: pointer;\n",
              "      display: none;\n",
              "      fill: #1967D2;\n",
              "      height: 32px;\n",
              "      padding: 0 0 0 0;\n",
              "      width: 32px;\n",
              "    }\n",
              "\n",
              "    .colab-df-convert:hover {\n",
              "      background-color: #E2EBFA;\n",
              "      box-shadow: 0px 1px 2px rgba(60, 64, 67, 0.3), 0px 1px 3px 1px rgba(60, 64, 67, 0.15);\n",
              "      fill: #174EA6;\n",
              "    }\n",
              "\n",
              "    [theme=dark] .colab-df-convert {\n",
              "      background-color: #3B4455;\n",
              "      fill: #D2E3FC;\n",
              "    }\n",
              "\n",
              "    [theme=dark] .colab-df-convert:hover {\n",
              "      background-color: #434B5C;\n",
              "      box-shadow: 0px 1px 3px 1px rgba(0, 0, 0, 0.15);\n",
              "      filter: drop-shadow(0px 1px 2px rgba(0, 0, 0, 0.3));\n",
              "      fill: #FFFFFF;\n",
              "    }\n",
              "  </style>\n",
              "\n",
              "      <script>\n",
              "        const buttonEl =\n",
              "          document.querySelector('#df-860092da-aca5-4fe5-bd19-b1d46828b10f button.colab-df-convert');\n",
              "        buttonEl.style.display =\n",
              "          google.colab.kernel.accessAllowed ? 'block' : 'none';\n",
              "\n",
              "        async function convertToInteractive(key) {\n",
              "          const element = document.querySelector('#df-860092da-aca5-4fe5-bd19-b1d46828b10f');\n",
              "          const dataTable =\n",
              "            await google.colab.kernel.invokeFunction('convertToInteractive',\n",
              "                                                     [key], {});\n",
              "          if (!dataTable) return;\n",
              "\n",
              "          const docLinkHtml = 'Like what you see? Visit the ' +\n",
              "            '<a target=\"_blank\" href=https://colab.research.google.com/notebooks/data_table.ipynb>data table notebook</a>'\n",
              "            + ' to learn more about interactive tables.';\n",
              "          element.innerHTML = '';\n",
              "          dataTable['output_type'] = 'display_data';\n",
              "          await google.colab.output.renderOutput(dataTable, element);\n",
              "          const docLink = document.createElement('div');\n",
              "          docLink.innerHTML = docLinkHtml;\n",
              "          element.appendChild(docLink);\n",
              "        }\n",
              "      </script>\n",
              "    </div>\n",
              "  </div>\n",
              "  "
            ]
          },
          "metadata": {},
          "execution_count": 1278
        }
      ],
      "source": [
        "X_test.describe().T.head()"
      ]
    },
    {
      "cell_type": "code",
      "execution_count": 1279,
      "metadata": {
        "colab": {
          "base_uri": "https://localhost:8080/",
          "height": 81
        },
        "id": "hr2MFxtdZc53",
        "outputId": "abfc20d9-a3af-47ee-c0e6-99b80cde772a"
      },
      "outputs": [
        {
          "output_type": "execute_result",
          "data": {
            "text/plain": [
              "         count      mean       std  min  25%  50%  75%  max\n",
              "Insect  3500.0  0.582571  0.654122  0.0  0.0  0.0  1.0  2.0"
            ],
            "text/html": [
              "\n",
              "  <div id=\"df-91809460-ff2a-4356-8010-5c3ea1d4e064\">\n",
              "    <div class=\"colab-df-container\">\n",
              "      <div>\n",
              "<style scoped>\n",
              "    .dataframe tbody tr th:only-of-type {\n",
              "        vertical-align: middle;\n",
              "    }\n",
              "\n",
              "    .dataframe tbody tr th {\n",
              "        vertical-align: top;\n",
              "    }\n",
              "\n",
              "    .dataframe thead th {\n",
              "        text-align: right;\n",
              "    }\n",
              "</style>\n",
              "<table border=\"1\" class=\"dataframe\">\n",
              "  <thead>\n",
              "    <tr style=\"text-align: right;\">\n",
              "      <th></th>\n",
              "      <th>count</th>\n",
              "      <th>mean</th>\n",
              "      <th>std</th>\n",
              "      <th>min</th>\n",
              "      <th>25%</th>\n",
              "      <th>50%</th>\n",
              "      <th>75%</th>\n",
              "      <th>max</th>\n",
              "    </tr>\n",
              "  </thead>\n",
              "  <tbody>\n",
              "    <tr>\n",
              "      <th>Insect</th>\n",
              "      <td>3500.0</td>\n",
              "      <td>0.582571</td>\n",
              "      <td>0.654122</td>\n",
              "      <td>0.0</td>\n",
              "      <td>0.0</td>\n",
              "      <td>0.0</td>\n",
              "      <td>1.0</td>\n",
              "      <td>2.0</td>\n",
              "    </tr>\n",
              "  </tbody>\n",
              "</table>\n",
              "</div>\n",
              "      <button class=\"colab-df-convert\" onclick=\"convertToInteractive('df-91809460-ff2a-4356-8010-5c3ea1d4e064')\"\n",
              "              title=\"Convert this dataframe to an interactive table.\"\n",
              "              style=\"display:none;\">\n",
              "        \n",
              "  <svg xmlns=\"http://www.w3.org/2000/svg\" height=\"24px\"viewBox=\"0 0 24 24\"\n",
              "       width=\"24px\">\n",
              "    <path d=\"M0 0h24v24H0V0z\" fill=\"none\"/>\n",
              "    <path d=\"M18.56 5.44l.94 2.06.94-2.06 2.06-.94-2.06-.94-.94-2.06-.94 2.06-2.06.94zm-11 1L8.5 8.5l.94-2.06 2.06-.94-2.06-.94L8.5 2.5l-.94 2.06-2.06.94zm10 10l.94 2.06.94-2.06 2.06-.94-2.06-.94-.94-2.06-.94 2.06-2.06.94z\"/><path d=\"M17.41 7.96l-1.37-1.37c-.4-.4-.92-.59-1.43-.59-.52 0-1.04.2-1.43.59L10.3 9.45l-7.72 7.72c-.78.78-.78 2.05 0 2.83L4 21.41c.39.39.9.59 1.41.59.51 0 1.02-.2 1.41-.59l7.78-7.78 2.81-2.81c.8-.78.8-2.07 0-2.86zM5.41 20L4 18.59l7.72-7.72 1.47 1.35L5.41 20z\"/>\n",
              "  </svg>\n",
              "      </button>\n",
              "      \n",
              "  <style>\n",
              "    .colab-df-container {\n",
              "      display:flex;\n",
              "      flex-wrap:wrap;\n",
              "      gap: 12px;\n",
              "    }\n",
              "\n",
              "    .colab-df-convert {\n",
              "      background-color: #E8F0FE;\n",
              "      border: none;\n",
              "      border-radius: 50%;\n",
              "      cursor: pointer;\n",
              "      display: none;\n",
              "      fill: #1967D2;\n",
              "      height: 32px;\n",
              "      padding: 0 0 0 0;\n",
              "      width: 32px;\n",
              "    }\n",
              "\n",
              "    .colab-df-convert:hover {\n",
              "      background-color: #E2EBFA;\n",
              "      box-shadow: 0px 1px 2px rgba(60, 64, 67, 0.3), 0px 1px 3px 1px rgba(60, 64, 67, 0.15);\n",
              "      fill: #174EA6;\n",
              "    }\n",
              "\n",
              "    [theme=dark] .colab-df-convert {\n",
              "      background-color: #3B4455;\n",
              "      fill: #D2E3FC;\n",
              "    }\n",
              "\n",
              "    [theme=dark] .colab-df-convert:hover {\n",
              "      background-color: #434B5C;\n",
              "      box-shadow: 0px 1px 3px 1px rgba(0, 0, 0, 0.15);\n",
              "      filter: drop-shadow(0px 1px 2px rgba(0, 0, 0, 0.3));\n",
              "      fill: #FFFFFF;\n",
              "    }\n",
              "  </style>\n",
              "\n",
              "      <script>\n",
              "        const buttonEl =\n",
              "          document.querySelector('#df-91809460-ff2a-4356-8010-5c3ea1d4e064 button.colab-df-convert');\n",
              "        buttonEl.style.display =\n",
              "          google.colab.kernel.accessAllowed ? 'block' : 'none';\n",
              "\n",
              "        async function convertToInteractive(key) {\n",
              "          const element = document.querySelector('#df-91809460-ff2a-4356-8010-5c3ea1d4e064');\n",
              "          const dataTable =\n",
              "            await google.colab.kernel.invokeFunction('convertToInteractive',\n",
              "                                                     [key], {});\n",
              "          if (!dataTable) return;\n",
              "\n",
              "          const docLinkHtml = 'Like what you see? Visit the ' +\n",
              "            '<a target=\"_blank\" href=https://colab.research.google.com/notebooks/data_table.ipynb>data table notebook</a>'\n",
              "            + ' to learn more about interactive tables.';\n",
              "          element.innerHTML = '';\n",
              "          dataTable['output_type'] = 'display_data';\n",
              "          await google.colab.output.renderOutput(dataTable, element);\n",
              "          const docLink = document.createElement('div');\n",
              "          docLink.innerHTML = docLinkHtml;\n",
              "          element.appendChild(docLink);\n",
              "        }\n",
              "      </script>\n",
              "    </div>\n",
              "  </div>\n",
              "  "
            ]
          },
          "metadata": {},
          "execution_count": 1279
        }
      ],
      "source": [
        "y_train.describe().T.head()"
      ]
    },
    {
      "cell_type": "code",
      "execution_count": 1280,
      "metadata": {
        "colab": {
          "base_uri": "https://localhost:8080/",
          "height": 81
        },
        "id": "C1clk6-OZc53",
        "outputId": "28e02647-3234-44e9-bc85-622619fd4060"
      },
      "outputs": [
        {
          "output_type": "execute_result",
          "data": {
            "text/plain": [
              "         count      mean      std  min  25%  50%  75%  max\n",
              "Insect  1500.0  0.603333  0.66404  0.0  0.0  1.0  1.0  2.0"
            ],
            "text/html": [
              "\n",
              "  <div id=\"df-5ff405fb-3dc4-40bb-a8cd-974ae08d67a8\">\n",
              "    <div class=\"colab-df-container\">\n",
              "      <div>\n",
              "<style scoped>\n",
              "    .dataframe tbody tr th:only-of-type {\n",
              "        vertical-align: middle;\n",
              "    }\n",
              "\n",
              "    .dataframe tbody tr th {\n",
              "        vertical-align: top;\n",
              "    }\n",
              "\n",
              "    .dataframe thead th {\n",
              "        text-align: right;\n",
              "    }\n",
              "</style>\n",
              "<table border=\"1\" class=\"dataframe\">\n",
              "  <thead>\n",
              "    <tr style=\"text-align: right;\">\n",
              "      <th></th>\n",
              "      <th>count</th>\n",
              "      <th>mean</th>\n",
              "      <th>std</th>\n",
              "      <th>min</th>\n",
              "      <th>25%</th>\n",
              "      <th>50%</th>\n",
              "      <th>75%</th>\n",
              "      <th>max</th>\n",
              "    </tr>\n",
              "  </thead>\n",
              "  <tbody>\n",
              "    <tr>\n",
              "      <th>Insect</th>\n",
              "      <td>1500.0</td>\n",
              "      <td>0.603333</td>\n",
              "      <td>0.66404</td>\n",
              "      <td>0.0</td>\n",
              "      <td>0.0</td>\n",
              "      <td>1.0</td>\n",
              "      <td>1.0</td>\n",
              "      <td>2.0</td>\n",
              "    </tr>\n",
              "  </tbody>\n",
              "</table>\n",
              "</div>\n",
              "      <button class=\"colab-df-convert\" onclick=\"convertToInteractive('df-5ff405fb-3dc4-40bb-a8cd-974ae08d67a8')\"\n",
              "              title=\"Convert this dataframe to an interactive table.\"\n",
              "              style=\"display:none;\">\n",
              "        \n",
              "  <svg xmlns=\"http://www.w3.org/2000/svg\" height=\"24px\"viewBox=\"0 0 24 24\"\n",
              "       width=\"24px\">\n",
              "    <path d=\"M0 0h24v24H0V0z\" fill=\"none\"/>\n",
              "    <path d=\"M18.56 5.44l.94 2.06.94-2.06 2.06-.94-2.06-.94-.94-2.06-.94 2.06-2.06.94zm-11 1L8.5 8.5l.94-2.06 2.06-.94-2.06-.94L8.5 2.5l-.94 2.06-2.06.94zm10 10l.94 2.06.94-2.06 2.06-.94-2.06-.94-.94-2.06-.94 2.06-2.06.94z\"/><path d=\"M17.41 7.96l-1.37-1.37c-.4-.4-.92-.59-1.43-.59-.52 0-1.04.2-1.43.59L10.3 9.45l-7.72 7.72c-.78.78-.78 2.05 0 2.83L4 21.41c.39.39.9.59 1.41.59.51 0 1.02-.2 1.41-.59l7.78-7.78 2.81-2.81c.8-.78.8-2.07 0-2.86zM5.41 20L4 18.59l7.72-7.72 1.47 1.35L5.41 20z\"/>\n",
              "  </svg>\n",
              "      </button>\n",
              "      \n",
              "  <style>\n",
              "    .colab-df-container {\n",
              "      display:flex;\n",
              "      flex-wrap:wrap;\n",
              "      gap: 12px;\n",
              "    }\n",
              "\n",
              "    .colab-df-convert {\n",
              "      background-color: #E8F0FE;\n",
              "      border: none;\n",
              "      border-radius: 50%;\n",
              "      cursor: pointer;\n",
              "      display: none;\n",
              "      fill: #1967D2;\n",
              "      height: 32px;\n",
              "      padding: 0 0 0 0;\n",
              "      width: 32px;\n",
              "    }\n",
              "\n",
              "    .colab-df-convert:hover {\n",
              "      background-color: #E2EBFA;\n",
              "      box-shadow: 0px 1px 2px rgba(60, 64, 67, 0.3), 0px 1px 3px 1px rgba(60, 64, 67, 0.15);\n",
              "      fill: #174EA6;\n",
              "    }\n",
              "\n",
              "    [theme=dark] .colab-df-convert {\n",
              "      background-color: #3B4455;\n",
              "      fill: #D2E3FC;\n",
              "    }\n",
              "\n",
              "    [theme=dark] .colab-df-convert:hover {\n",
              "      background-color: #434B5C;\n",
              "      box-shadow: 0px 1px 3px 1px rgba(0, 0, 0, 0.15);\n",
              "      filter: drop-shadow(0px 1px 2px rgba(0, 0, 0, 0.3));\n",
              "      fill: #FFFFFF;\n",
              "    }\n",
              "  </style>\n",
              "\n",
              "      <script>\n",
              "        const buttonEl =\n",
              "          document.querySelector('#df-5ff405fb-3dc4-40bb-a8cd-974ae08d67a8 button.colab-df-convert');\n",
              "        buttonEl.style.display =\n",
              "          google.colab.kernel.accessAllowed ? 'block' : 'none';\n",
              "\n",
              "        async function convertToInteractive(key) {\n",
              "          const element = document.querySelector('#df-5ff405fb-3dc4-40bb-a8cd-974ae08d67a8');\n",
              "          const dataTable =\n",
              "            await google.colab.kernel.invokeFunction('convertToInteractive',\n",
              "                                                     [key], {});\n",
              "          if (!dataTable) return;\n",
              "\n",
              "          const docLinkHtml = 'Like what you see? Visit the ' +\n",
              "            '<a target=\"_blank\" href=https://colab.research.google.com/notebooks/data_table.ipynb>data table notebook</a>'\n",
              "            + ' to learn more about interactive tables.';\n",
              "          element.innerHTML = '';\n",
              "          dataTable['output_type'] = 'display_data';\n",
              "          await google.colab.output.renderOutput(dataTable, element);\n",
              "          const docLink = document.createElement('div');\n",
              "          docLink.innerHTML = docLinkHtml;\n",
              "          element.appendChild(docLink);\n",
              "        }\n",
              "      </script>\n",
              "    </div>\n",
              "  </div>\n",
              "  "
            ]
          },
          "metadata": {},
          "execution_count": 1280
        }
      ],
      "source": [
        "y_test.describe().T.head()"
      ]
    },
    {
      "cell_type": "markdown",
      "metadata": {
        "id": "1_65JC9mZc53"
      },
      "source": [
        "### 4.2 Definición del modelo\n",
        "\n"
      ]
    },
    {
      "cell_type": "markdown",
      "metadata": {
        "id": "Oyx-7nMtZc54"
      },
      "source": [
        "A continuación, y para entrenar el modelo utilizaremos siempre el mismo procedimiento\n",
        "- Instanciar el modelo (definir los parámetros)\n",
        "- Realizar el entrenamiento (inducción de las reglas concretas a partir de los datos)\n",
        "- Predecir (calcular la probabilidad de retraso sobre un dataset nuevo, test, que nos permita medir la bonanza del modelo)"
      ]
    },
    {
      "cell_type": "markdown",
      "metadata": {
        "id": "FkjUjGuzZc54"
      },
      "source": [
        "#### DecisionTreeClassifier"
      ]
    },
    {
      "cell_type": "markdown",
      "metadata": {
        "id": "eYUViKtIhbdU"
      },
      "source": [
        "DecisionTreeClassifier"
      ]
    },
    {
      "cell_type": "code",
      "execution_count": 1632,
      "metadata": {
        "collapsed": true,
        "id": "pyQZiQECZc54"
      },
      "outputs": [],
      "source": [
        "dt = DecisionTreeClassifier(\n",
        "                        # criterion='gini',\n",
        "                        # splitter='best',\n",
        "                        max_depth=3, # Importante, regulará el sobreajuste\n",
        "                         min_samples_split=500,\n",
        "                        # min_samples_leaf=1,\n",
        "                        # min_weight_fraction_leaf=0.0,\n",
        "                        # max_features=None,\n",
        "                        random_state=42,\n",
        "                        # max_leaf_nodes=None,\n",
        "                        # min_impurity_decrease=0.0,\n",
        "                        # min_impurity_split=None,\n",
        "                        # class_weight=None,\n",
        "                        # presort=False,  \n",
        "                )\n"
      ]
    },
    {
      "cell_type": "markdown",
      "metadata": {
        "id": "uvgZiriBZc54"
      },
      "source": [
        "Le hemos puesto una profundidad de 3 para empezar."
      ]
    },
    {
      "cell_type": "code",
      "execution_count": 1633,
      "metadata": {
        "colab": {
          "base_uri": "https://localhost:8080/"
        },
        "id": "6rWf__SEZc54",
        "outputId": "b556a278-02c8-4983-ab3b-ce425e7cadb1"
      },
      "outputs": [
        {
          "output_type": "execute_result",
          "data": {
            "text/plain": [
              "DecisionTreeClassifier(max_depth=3, min_samples_split=500, random_state=42)"
            ]
          },
          "metadata": {},
          "execution_count": 1633
        }
      ],
      "source": [
        "dt.fit(\n",
        "    X=X_train, \n",
        "    y=y_train, \n",
        "    # sample_weight=None, \n",
        "    # check_input=True, \n",
        "    # X_idx_sorted=None\n",
        ")"
      ]
    },
    {
      "cell_type": "markdown",
      "metadata": {
        "id": "MEJ-9bNKZc54"
      },
      "source": [
        "Una vez generado el árbol, podemos pasar a visualizarlo con export_graphviz."
      ]
    },
    {
      "cell_type": "code",
      "execution_count": 1283,
      "metadata": {
        "collapsed": true,
        "id": "tnT-hJAAZc54",
        "scrolled": false
      },
      "outputs": [],
      "source": [
        "dot_data = export_graphviz(\n",
        "                        decision_tree = dt,\n",
        "                        out_file=None,\n",
        "                        # max_depth=None,\n",
        "                        feature_names=X_test.columns,\n",
        "                        class_names=['Insect_0', 'Insect_1', \"Insect_2\"],\n",
        "                        # label='all',\n",
        "                        filled=True,\n",
        "                        # leaves_parallel=False,\n",
        "                        impurity=True,\n",
        "                        # node_ids=False,\n",
        "                        proportion=True,\n",
        "                        rotate=True,\n",
        "                        rounded=True,\n",
        "                        # special_characters=False,\n",
        "                        precision=4,\n",
        "                        )"
      ]
    },
    {
      "cell_type": "code",
      "execution_count": 1284,
      "metadata": {
        "colab": {
          "base_uri": "https://localhost:8080/",
          "height": 727
        },
        "id": "4FAN6vm8Zc54",
        "outputId": "586877dc-444e-4557-8c88-48e778e8d868",
        "scrolled": false
      },
      "outputs": [
        {
          "output_type": "execute_result",
          "data": {
            "text/plain": [
              "<graphviz.files.Source at 0x7f2c8ae0f0d0>"
            ],
            "image/svg+xml": "<?xml version=\"1.0\" encoding=\"UTF-8\" standalone=\"no\"?>\n<!DOCTYPE svg PUBLIC \"-//W3C//DTD SVG 1.1//EN\"\n \"http://www.w3.org/Graphics/SVG/1.1/DTD/svg11.dtd\">\n<!-- Generated by graphviz version 2.40.1 (20161225.0304)\n -->\n<!-- Title: Tree Pages: 1 -->\n<svg width=\"1008pt\" height=\"514pt\"\n viewBox=\"0.00 0.00 1008.00 514.00\" xmlns=\"http://www.w3.org/2000/svg\" xmlns:xlink=\"http://www.w3.org/1999/xlink\">\n<g id=\"graph0\" class=\"graph\" transform=\"scale(1 1) rotate(0) translate(4 510)\">\n<title>Tree</title>\n<polygon fill=\"#ffffff\" stroke=\"transparent\" points=\"-4,4 -4,-510 1004,-510 1004,4 -4,4\"/>\n<!-- 0 -->\n<g id=\"node1\" class=\"node\">\n<title>0</title>\n<path fill=\"#fae8da\" stroke=\"#000000\" d=\"M205,-247.5C205,-247.5 12,-247.5 12,-247.5 6,-247.5 0,-241.5 0,-235.5 0,-235.5 0,-176.5 0,-176.5 0,-170.5 6,-164.5 12,-164.5 12,-164.5 205,-164.5 205,-164.5 211,-164.5 217,-170.5 217,-176.5 217,-176.5 217,-235.5 217,-235.5 217,-241.5 211,-247.5 205,-247.5\"/>\n<text text-anchor=\"middle\" x=\"108.5\" y=\"-232.3\" font-family=\"Helvetica,sans-Serif\" font-size=\"14.00\" fill=\"#000000\">Sensor_alpha_plus &lt;= 9.955</text>\n<text text-anchor=\"middle\" x=\"108.5\" y=\"-217.3\" font-family=\"Helvetica,sans-Serif\" font-size=\"14.00\" fill=\"#000000\">gini = 0.5733</text>\n<text text-anchor=\"middle\" x=\"108.5\" y=\"-202.3\" font-family=\"Helvetica,sans-Serif\" font-size=\"14.00\" fill=\"#000000\">samples = 100.0%</text>\n<text text-anchor=\"middle\" x=\"108.5\" y=\"-187.3\" font-family=\"Helvetica,sans-Serif\" font-size=\"14.00\" fill=\"#000000\">value = [0.5097, 0.398, 0.0923]</text>\n<text text-anchor=\"middle\" x=\"108.5\" y=\"-172.3\" font-family=\"Helvetica,sans-Serif\" font-size=\"14.00\" fill=\"#000000\">class = Insect_0</text>\n</g>\n<!-- 1 -->\n<g id=\"node2\" class=\"node\">\n<title>1</title>\n<path fill=\"#9df2c0\" stroke=\"#000000\" d=\"M466,-298.5C466,-298.5 265,-298.5 265,-298.5 259,-298.5 253,-292.5 253,-286.5 253,-286.5 253,-227.5 253,-227.5 253,-221.5 259,-215.5 265,-215.5 265,-215.5 466,-215.5 466,-215.5 472,-215.5 478,-221.5 478,-227.5 478,-227.5 478,-286.5 478,-286.5 478,-292.5 472,-298.5 466,-298.5\"/>\n<text text-anchor=\"middle\" x=\"365.5\" y=\"-283.3\" font-family=\"Helvetica,sans-Serif\" font-size=\"14.00\" fill=\"#000000\">Sensor_alpha_plus &lt;= &#45;62.7141</text>\n<text text-anchor=\"middle\" x=\"365.5\" y=\"-268.3\" font-family=\"Helvetica,sans-Serif\" font-size=\"14.00\" fill=\"#000000\">gini = 0.5136</text>\n<text text-anchor=\"middle\" x=\"365.5\" y=\"-253.3\" font-family=\"Helvetica,sans-Serif\" font-size=\"14.00\" fill=\"#000000\">samples = 52.5%</text>\n<text text-anchor=\"middle\" x=\"365.5\" y=\"-238.3\" font-family=\"Helvetica,sans-Serif\" font-size=\"14.00\" fill=\"#000000\">value = [0.2746, 0.6346, 0.0908]</text>\n<text text-anchor=\"middle\" x=\"365.5\" y=\"-223.3\" font-family=\"Helvetica,sans-Serif\" font-size=\"14.00\" fill=\"#000000\">class = Insect_1</text>\n</g>\n<!-- 0&#45;&gt;1 -->\n<g id=\"edge1\" class=\"edge\">\n<title>0&#45;&gt;1</title>\n<path fill=\"none\" stroke=\"#000000\" d=\"M217.1186,-227.5547C225.5866,-229.2351 234.1726,-230.9389 242.7247,-232.636\"/>\n<polygon fill=\"#000000\" stroke=\"#000000\" points=\"242.2495,-236.1099 252.7395,-234.6234 243.6121,-229.2438 242.2495,-236.1099\"/>\n<text text-anchor=\"middle\" x=\"231.9591\" y=\"-244.822\" font-family=\"Helvetica,sans-Serif\" font-size=\"14.00\" fill=\"#000000\">True</text>\n</g>\n<!-- 8 -->\n<g id=\"node9\" class=\"node\">\n<title>8</title>\n<path fill=\"#eca36e\" stroke=\"#000000\" d=\"M458,-169.5C458,-169.5 273,-169.5 273,-169.5 267,-169.5 261,-163.5 261,-157.5 261,-157.5 261,-98.5 261,-98.5 261,-92.5 267,-86.5 273,-86.5 273,-86.5 458,-86.5 458,-86.5 464,-86.5 470,-92.5 470,-98.5 470,-98.5 470,-157.5 470,-157.5 470,-163.5 464,-169.5 458,-169.5\"/>\n<text text-anchor=\"middle\" x=\"365.5\" y=\"-154.3\" font-family=\"Helvetica,sans-Serif\" font-size=\"14.00\" fill=\"#000000\">Sensor_beta &lt;= 87.2414</text>\n<text text-anchor=\"middle\" x=\"365.5\" y=\"-139.3\" font-family=\"Helvetica,sans-Serif\" font-size=\"14.00\" fill=\"#000000\">gini = 0.3797</text>\n<text text-anchor=\"middle\" x=\"365.5\" y=\"-124.3\" font-family=\"Helvetica,sans-Serif\" font-size=\"14.00\" fill=\"#000000\">samples = 47.5%</text>\n<text text-anchor=\"middle\" x=\"365.5\" y=\"-109.3\" font-family=\"Helvetica,sans-Serif\" font-size=\"14.00\" fill=\"#000000\">value = [0.77, 0.1361, 0.0939]</text>\n<text text-anchor=\"middle\" x=\"365.5\" y=\"-94.3\" font-family=\"Helvetica,sans-Serif\" font-size=\"14.00\" fill=\"#000000\">class = Insect_0</text>\n</g>\n<!-- 0&#45;&gt;8 -->\n<g id=\"edge8\" class=\"edge\">\n<title>0&#45;&gt;8</title>\n<path fill=\"none\" stroke=\"#000000\" d=\"M217.1186,-173.034C228.35,-169.6253 239.7891,-166.1535 251.0813,-162.7263\"/>\n<polygon fill=\"#000000\" stroke=\"#000000\" points=\"252.4056,-165.9821 260.9581,-159.7287 250.3726,-159.2838 252.4056,-165.9821\"/>\n<text text-anchor=\"middle\" x=\"238.9084\" y=\"-144.2469\" font-family=\"Helvetica,sans-Serif\" font-size=\"14.00\" fill=\"#000000\">False</text>\n</g>\n<!-- 2 -->\n<g id=\"node3\" class=\"node\">\n<title>2</title>\n<path fill=\"#7deeac\" stroke=\"#000000\" d=\"M727,-427.5C727,-427.5 526,-427.5 526,-427.5 520,-427.5 514,-421.5 514,-415.5 514,-415.5 514,-356.5 514,-356.5 514,-350.5 520,-344.5 526,-344.5 526,-344.5 727,-344.5 727,-344.5 733,-344.5 739,-350.5 739,-356.5 739,-356.5 739,-415.5 739,-415.5 739,-421.5 733,-427.5 727,-427.5\"/>\n<text text-anchor=\"middle\" x=\"626.5\" y=\"-412.3\" font-family=\"Helvetica,sans-Serif\" font-size=\"14.00\" fill=\"#000000\">Sensor_gamma &lt;= 51.2719</text>\n<text text-anchor=\"middle\" x=\"626.5\" y=\"-397.3\" font-family=\"Helvetica,sans-Serif\" font-size=\"14.00\" fill=\"#000000\">gini = 0.4383</text>\n<text text-anchor=\"middle\" x=\"626.5\" y=\"-382.3\" font-family=\"Helvetica,sans-Serif\" font-size=\"14.00\" fill=\"#000000\">samples = 29.7%</text>\n<text text-anchor=\"middle\" x=\"626.5\" y=\"-367.3\" font-family=\"Helvetica,sans-Serif\" font-size=\"14.00\" fill=\"#000000\">value = [0.1811, 0.7206, 0.0983]</text>\n<text text-anchor=\"middle\" x=\"626.5\" y=\"-352.3\" font-family=\"Helvetica,sans-Serif\" font-size=\"14.00\" fill=\"#000000\">class = Insect_1</text>\n</g>\n<!-- 1&#45;&gt;2 -->\n<g id=\"edge2\" class=\"edge\">\n<title>1&#45;&gt;2</title>\n<path fill=\"none\" stroke=\"#000000\" d=\"M449.5187,-298.5265C476.162,-311.695 505.7786,-326.3331 533.0432,-339.8087\"/>\n<polygon fill=\"#000000\" stroke=\"#000000\" points=\"531.676,-343.0371 542.1916,-344.3303 534.7776,-336.7617 531.676,-343.0371\"/>\n</g>\n<!-- 5 -->\n<g id=\"node6\" class=\"node\">\n<title>5</title>\n<path fill=\"#d5fae4\" stroke=\"#000000\" d=\"M727,-298.5C727,-298.5 526,-298.5 526,-298.5 520,-298.5 514,-292.5 514,-286.5 514,-286.5 514,-227.5 514,-227.5 514,-221.5 520,-215.5 526,-215.5 526,-215.5 727,-215.5 727,-215.5 733,-215.5 739,-221.5 739,-227.5 739,-227.5 739,-286.5 739,-286.5 739,-292.5 733,-298.5 727,-298.5\"/>\n<text text-anchor=\"middle\" x=\"626.5\" y=\"-283.3\" font-family=\"Helvetica,sans-Serif\" font-size=\"14.00\" fill=\"#000000\">Sensor_beta &lt;= 79.6404</text>\n<text text-anchor=\"middle\" x=\"626.5\" y=\"-268.3\" font-family=\"Helvetica,sans-Serif\" font-size=\"14.00\" fill=\"#000000\">gini = 0.5632</text>\n<text text-anchor=\"middle\" x=\"626.5\" y=\"-253.3\" font-family=\"Helvetica,sans-Serif\" font-size=\"14.00\" fill=\"#000000\">samples = 22.9%</text>\n<text text-anchor=\"middle\" x=\"626.5\" y=\"-238.3\" font-family=\"Helvetica,sans-Serif\" font-size=\"14.00\" fill=\"#000000\">value = [0.3958, 0.5231, 0.0811]</text>\n<text text-anchor=\"middle\" x=\"626.5\" y=\"-223.3\" font-family=\"Helvetica,sans-Serif\" font-size=\"14.00\" fill=\"#000000\">class = Insect_1</text>\n</g>\n<!-- 1&#45;&gt;5 -->\n<g id=\"edge5\" class=\"edge\">\n<title>1&#45;&gt;5</title>\n<path fill=\"none\" stroke=\"#000000\" d=\"M478.0812,-257C486.6094,-257 495.2416,-257 503.8284,-257\"/>\n<polygon fill=\"#000000\" stroke=\"#000000\" points=\"503.8788,-260.5001 513.8788,-257 503.8787,-253.5001 503.8788,-260.5001\"/>\n</g>\n<!-- 3 -->\n<g id=\"node4\" class=\"node\">\n<title>3</title>\n<path fill=\"#91f1b9\" stroke=\"#000000\" d=\"M988,-506C988,-506 787,-506 787,-506 781,-506 775,-500 775,-494 775,-494 775,-450 775,-450 775,-444 781,-438 787,-438 787,-438 988,-438 988,-438 994,-438 1000,-444 1000,-450 1000,-450 1000,-494 1000,-494 1000,-500 994,-506 988,-506\"/>\n<text text-anchor=\"middle\" x=\"887.5\" y=\"-490.8\" font-family=\"Helvetica,sans-Serif\" font-size=\"14.00\" fill=\"#000000\">gini = 0.5006</text>\n<text text-anchor=\"middle\" x=\"887.5\" y=\"-475.8\" font-family=\"Helvetica,sans-Serif\" font-size=\"14.00\" fill=\"#000000\">samples = 20.1%</text>\n<text text-anchor=\"middle\" x=\"887.5\" y=\"-460.8\" font-family=\"Helvetica,sans-Serif\" font-size=\"14.00\" fill=\"#000000\">value = [0.2336, 0.6581, 0.1083]</text>\n<text text-anchor=\"middle\" x=\"887.5\" y=\"-445.8\" font-family=\"Helvetica,sans-Serif\" font-size=\"14.00\" fill=\"#000000\">class = Insect_1</text>\n</g>\n<!-- 2&#45;&gt;3 -->\n<g id=\"edge3\" class=\"edge\">\n<title>2&#45;&gt;3</title>\n<path fill=\"none\" stroke=\"#000000\" d=\"M739.0812,-423.0957C750.7223,-426.9315 762.5572,-430.8311 774.206,-434.6694\"/>\n<polygon fill=\"#000000\" stroke=\"#000000\" points=\"773.3457,-438.071 783.9388,-437.8764 775.5364,-431.4226 773.3457,-438.071\"/>\n</g>\n<!-- 4 -->\n<g id=\"node5\" class=\"node\">\n<title>4</title>\n<path fill=\"#59e995\" stroke=\"#000000\" d=\"M988,-420C988,-420 787,-420 787,-420 781,-420 775,-414 775,-408 775,-408 775,-364 775,-364 775,-358 781,-352 787,-352 787,-352 988,-352 988,-352 994,-352 1000,-358 1000,-364 1000,-364 1000,-408 1000,-408 1000,-414 994,-420 988,-420\"/>\n<text text-anchor=\"middle\" x=\"887.5\" y=\"-404.8\" font-family=\"Helvetica,sans-Serif\" font-size=\"14.00\" fill=\"#000000\">gini = 0.2644</text>\n<text text-anchor=\"middle\" x=\"887.5\" y=\"-389.8\" font-family=\"Helvetica,sans-Serif\" font-size=\"14.00\" fill=\"#000000\">samples = 9.6%</text>\n<text text-anchor=\"middle\" x=\"887.5\" y=\"-374.8\" font-family=\"Helvetica,sans-Serif\" font-size=\"14.00\" fill=\"#000000\">value = [0.0714, 0.8512, 0.0774]</text>\n<text text-anchor=\"middle\" x=\"887.5\" y=\"-359.8\" font-family=\"Helvetica,sans-Serif\" font-size=\"14.00\" fill=\"#000000\">class = Insect_1</text>\n</g>\n<!-- 2&#45;&gt;4 -->\n<g id=\"edge4\" class=\"edge\">\n<title>2&#45;&gt;4</title>\n<path fill=\"none\" stroke=\"#000000\" d=\"M739.0812,-386C747.6094,-386 756.2416,-386 764.8284,-386\"/>\n<polygon fill=\"#000000\" stroke=\"#000000\" points=\"764.8788,-389.5001 774.8788,-386 764.8787,-382.5001 764.8788,-389.5001\"/>\n</g>\n<!-- 6 -->\n<g id=\"node7\" class=\"node\">\n<title>6</title>\n<path fill=\"#b8f6d2\" stroke=\"#000000\" d=\"M984,-334C984,-334 791,-334 791,-334 785,-334 779,-328 779,-322 779,-322 779,-278 779,-278 779,-272 785,-266 791,-266 791,-266 984,-266 984,-266 990,-266 996,-272 996,-278 996,-278 996,-322 996,-322 996,-328 990,-334 984,-334\"/>\n<text text-anchor=\"middle\" x=\"887.5\" y=\"-318.8\" font-family=\"Helvetica,sans-Serif\" font-size=\"14.00\" fill=\"#000000\">gini = 0.5153</text>\n<text text-anchor=\"middle\" x=\"887.5\" y=\"-303.8\" font-family=\"Helvetica,sans-Serif\" font-size=\"14.00\" fill=\"#000000\">samples = 18.9%</text>\n<text text-anchor=\"middle\" x=\"887.5\" y=\"-288.8\" font-family=\"Helvetica,sans-Serif\" font-size=\"14.00\" fill=\"#000000\">value = [0.365, 0.5913, 0.0437]</text>\n<text text-anchor=\"middle\" x=\"887.5\" y=\"-273.8\" font-family=\"Helvetica,sans-Serif\" font-size=\"14.00\" fill=\"#000000\">class = Insect_1</text>\n</g>\n<!-- 5&#45;&gt;6 -->\n<g id=\"edge6\" class=\"edge\">\n<title>5&#45;&gt;6</title>\n<path fill=\"none\" stroke=\"#000000\" d=\"M739.0812,-275.5479C748.809,-277.1505 758.6722,-278.7755 768.4491,-280.3862\"/>\n<polygon fill=\"#000000\" stroke=\"#000000\" points=\"768.161,-283.8859 778.597,-282.0581 769.299,-276.979 768.161,-283.8859\"/>\n</g>\n<!-- 7 -->\n<g id=\"node8\" class=\"node\">\n<title>7</title>\n<path fill=\"#f5cfb3\" stroke=\"#000000\" d=\"M988,-248C988,-248 787,-248 787,-248 781,-248 775,-242 775,-236 775,-236 775,-192 775,-192 775,-186 781,-180 787,-180 787,-180 988,-180 988,-180 994,-180 1000,-186 1000,-192 1000,-192 1000,-236 1000,-236 1000,-242 994,-248 988,-248\"/>\n<text text-anchor=\"middle\" x=\"887.5\" y=\"-232.8\" font-family=\"Helvetica,sans-Serif\" font-size=\"14.00\" fill=\"#000000\">gini = 0.5983</text>\n<text text-anchor=\"middle\" x=\"887.5\" y=\"-217.8\" font-family=\"Helvetica,sans-Serif\" font-size=\"14.00\" fill=\"#000000\">samples = 3.9%</text>\n<text text-anchor=\"middle\" x=\"887.5\" y=\"-202.8\" font-family=\"Helvetica,sans-Serif\" font-size=\"14.00\" fill=\"#000000\">value = [0.5435, 0.1957, 0.2609]</text>\n<text text-anchor=\"middle\" x=\"887.5\" y=\"-187.8\" font-family=\"Helvetica,sans-Serif\" font-size=\"14.00\" fill=\"#000000\">class = Insect_0</text>\n</g>\n<!-- 5&#45;&gt;7 -->\n<g id=\"edge7\" class=\"edge\">\n<title>5&#45;&gt;7</title>\n<path fill=\"none\" stroke=\"#000000\" d=\"M739.0812,-238.4521C747.6094,-237.0471 756.2416,-235.625 764.8284,-234.2103\"/>\n<polygon fill=\"#000000\" stroke=\"#000000\" points=\"765.5808,-237.6336 774.8788,-232.5545 764.4428,-230.7267 765.5808,-237.6336\"/>\n</g>\n<!-- 9 -->\n<g id=\"node10\" class=\"node\">\n<title>9</title>\n<path fill=\"#eb9d66\" stroke=\"#000000\" d=\"M724.5,-169.5C724.5,-169.5 528.5,-169.5 528.5,-169.5 522.5,-169.5 516.5,-163.5 516.5,-157.5 516.5,-157.5 516.5,-98.5 516.5,-98.5 516.5,-92.5 522.5,-86.5 528.5,-86.5 528.5,-86.5 724.5,-86.5 724.5,-86.5 730.5,-86.5 736.5,-92.5 736.5,-98.5 736.5,-98.5 736.5,-157.5 736.5,-157.5 736.5,-163.5 730.5,-169.5 724.5,-169.5\"/>\n<text text-anchor=\"middle\" x=\"626.5\" y=\"-154.3\" font-family=\"Helvetica,sans-Serif\" font-size=\"14.00\" fill=\"#000000\">Sensor_alpha_plus &lt;= 70.6048</text>\n<text text-anchor=\"middle\" x=\"626.5\" y=\"-139.3\" font-family=\"Helvetica,sans-Serif\" font-size=\"14.00\" fill=\"#000000\">gini = 0.324</text>\n<text text-anchor=\"middle\" x=\"626.5\" y=\"-124.3\" font-family=\"Helvetica,sans-Serif\" font-size=\"14.00\" fill=\"#000000\">samples = 44.1%</text>\n<text text-anchor=\"middle\" x=\"626.5\" y=\"-109.3\" font-family=\"Helvetica,sans-Serif\" font-size=\"14.00\" fill=\"#000000\">value = [0.8078, 0.1463, 0.046]</text>\n<text text-anchor=\"middle\" x=\"626.5\" y=\"-94.3\" font-family=\"Helvetica,sans-Serif\" font-size=\"14.00\" fill=\"#000000\">class = Insect_0</text>\n</g>\n<!-- 8&#45;&gt;9 -->\n<g id=\"edge9\" class=\"edge\">\n<title>8&#45;&gt;9</title>\n<path fill=\"none\" stroke=\"#000000\" d=\"M470.1548,-128C482.0101,-128 494.1619,-128 506.1973,-128\"/>\n<polygon fill=\"#000000\" stroke=\"#000000\" points=\"506.2706,-131.5001 516.2706,-128 506.2706,-124.5001 506.2706,-131.5001\"/>\n</g>\n<!-- 12 -->\n<g id=\"node13\" class=\"node\">\n<title>12</title>\n<path fill=\"#af81ee\" stroke=\"#000000\" d=\"M714.5,-68C714.5,-68 538.5,-68 538.5,-68 532.5,-68 526.5,-62 526.5,-56 526.5,-56 526.5,-12 526.5,-12 526.5,-6 532.5,0 538.5,0 538.5,0 714.5,0 714.5,0 720.5,0 726.5,-6 726.5,-12 726.5,-12 726.5,-56 726.5,-56 726.5,-62 720.5,-68 714.5,-68\"/>\n<text text-anchor=\"middle\" x=\"626.5\" y=\"-52.8\" font-family=\"Helvetica,sans-Serif\" font-size=\"14.00\" fill=\"#000000\">gini = 0.3916</text>\n<text text-anchor=\"middle\" x=\"626.5\" y=\"-37.8\" font-family=\"Helvetica,sans-Serif\" font-size=\"14.00\" fill=\"#000000\">samples = 3.3%</text>\n<text text-anchor=\"middle\" x=\"626.5\" y=\"-22.8\" font-family=\"Helvetica,sans-Serif\" font-size=\"14.00\" fill=\"#000000\">value = [0.2672, 0.0, 0.7328]</text>\n<text text-anchor=\"middle\" x=\"626.5\" y=\"-7.8\" font-family=\"Helvetica,sans-Serif\" font-size=\"14.00\" fill=\"#000000\">class = Insect_2</text>\n</g>\n<!-- 8&#45;&gt;12 -->\n<g id=\"edge12\" class=\"edge\">\n<title>8&#45;&gt;12</title>\n<path fill=\"none\" stroke=\"#000000\" d=\"M470.1548,-90.3082C487.386,-84.1023 505.2435,-77.6709 522.4596,-71.4705\"/>\n<polygon fill=\"#000000\" stroke=\"#000000\" points=\"523.7277,-74.7339 531.9501,-68.0524 521.3557,-68.148 523.7277,-74.7339\"/>\n</g>\n<!-- 10 -->\n<g id=\"node11\" class=\"node\">\n<title>10</title>\n<path fill=\"#f2bf9b\" stroke=\"#000000\" d=\"M988,-162C988,-162 787,-162 787,-162 781,-162 775,-156 775,-150 775,-150 775,-106 775,-106 775,-100 781,-94 787,-94 787,-94 988,-94 988,-94 994,-94 1000,-100 1000,-106 1000,-106 1000,-150 1000,-150 1000,-156 994,-162 988,-162\"/>\n<text text-anchor=\"middle\" x=\"887.5\" y=\"-146.8\" font-family=\"Helvetica,sans-Serif\" font-size=\"14.00\" fill=\"#000000\">gini = 0.4783</text>\n<text text-anchor=\"middle\" x=\"887.5\" y=\"-131.8\" font-family=\"Helvetica,sans-Serif\" font-size=\"14.00\" fill=\"#000000\">samples = 15.1%</text>\n<text text-anchor=\"middle\" x=\"887.5\" y=\"-116.8\" font-family=\"Helvetica,sans-Serif\" font-size=\"14.00\" fill=\"#000000\">value = [0.6547, 0.3019, 0.0434]</text>\n<text text-anchor=\"middle\" x=\"887.5\" y=\"-101.8\" font-family=\"Helvetica,sans-Serif\" font-size=\"14.00\" fill=\"#000000\">class = Insect_0</text>\n</g>\n<!-- 9&#45;&gt;10 -->\n<g id=\"edge10\" class=\"edge\">\n<title>9&#45;&gt;10</title>\n<path fill=\"none\" stroke=\"#000000\" d=\"M736.8092,-128C746.0046,-128 755.3371,-128 764.618,-128\"/>\n<polygon fill=\"#000000\" stroke=\"#000000\" points=\"764.6596,-131.5001 774.6596,-128 764.6595,-124.5001 764.6596,-131.5001\"/>\n</g>\n<!-- 11 -->\n<g id=\"node12\" class=\"node\">\n<title>11</title>\n<path fill=\"#e89051\" stroke=\"#000000\" d=\"M984,-76C984,-76 791,-76 791,-76 785,-76 779,-70 779,-64 779,-64 779,-20 779,-20 779,-14 785,-8 791,-8 791,-8 984,-8 984,-8 990,-8 996,-14 996,-20 996,-20 996,-64 996,-64 996,-70 990,-76 984,-76\"/>\n<text text-anchor=\"middle\" x=\"887.5\" y=\"-60.8\" font-family=\"Helvetica,sans-Serif\" font-size=\"14.00\" fill=\"#000000\">gini = 0.2056</text>\n<text text-anchor=\"middle\" x=\"887.5\" y=\"-45.8\" font-family=\"Helvetica,sans-Serif\" font-size=\"14.00\" fill=\"#000000\">samples = 29.0%</text>\n<text text-anchor=\"middle\" x=\"887.5\" y=\"-30.8\" font-family=\"Helvetica,sans-Serif\" font-size=\"14.00\" fill=\"#000000\">value = [0.8877, 0.065, 0.0473]</text>\n<text text-anchor=\"middle\" x=\"887.5\" y=\"-15.8\" font-family=\"Helvetica,sans-Serif\" font-size=\"14.00\" fill=\"#000000\">class = Insect_0</text>\n</g>\n<!-- 9&#45;&gt;11 -->\n<g id=\"edge11\" class=\"edge\">\n<title>9&#45;&gt;11</title>\n<path fill=\"none\" stroke=\"#000000\" d=\"M736.8092,-91.6529C749.3371,-87.5249 762.1194,-83.3131 774.6792,-79.1747\"/>\n<polygon fill=\"#000000\" stroke=\"#000000\" points=\"775.8301,-82.4806 784.2324,-76.0269 773.6394,-75.8322 775.8301,-82.4806\"/>\n</g>\n</g>\n</svg>\n"
          },
          "metadata": {},
          "execution_count": 1284
        }
      ],
      "source": [
        "graph = graphviz.Source(dot_data)\n",
        "graph"
      ]
    },
    {
      "cell_type": "markdown",
      "metadata": {
        "id": "hvjHkJYPZc54"
      },
      "source": [
        "Podemos hacer un análisis unidimensional de esta variable con las técnicas que hemos visto antes. "
      ]
    },
    {
      "cell_type": "markdown",
      "metadata": {
        "id": "W06mZ5z25aGm"
      },
      "source": [
        "Sensor alpha plus"
      ]
    },
    {
      "cell_type": "code",
      "execution_count": 853,
      "metadata": {
        "colab": {
          "base_uri": "https://localhost:8080/",
          "height": 206
        },
        "id": "IskISRI5ldnf",
        "outputId": "f242d414-bdba-4b87-f4fa-f2c0dd125d07"
      },
      "outputs": [
        {
          "output_type": "execute_result",
          "data": {
            "text/plain": [
              "   Sensor_alpha  Sensor_beta  Sensor_gamma  Sensor_alpha_plus  \\\n",
              "0    119.910995   242.838324   -316.819222         250.195048   \n",
              "1    -90.790536  -269.470767   -182.581844          95.394941   \n",
              "2    -20.028003  -147.070212     50.280872         -90.750386   \n",
              "3    -21.258567     0.467070    -86.164153         -21.813529   \n",
              "4    -58.154501   -13.051195   -156.501167          48.392938   \n",
              "\n",
              "   Sensor_beta_plus  Sensor_gamma_plus  Insect  \n",
              "0        -53.547777        -112.049983       2  \n",
              "1         37.291944          48.525180       0  \n",
              "2        -50.476556          85.399009       1  \n",
              "3       -209.256006          16.291882       0  \n",
              "4       -110.008860         -10.285138       2  "
            ],
            "text/html": [
              "\n",
              "  <div id=\"df-45d97479-21f9-4057-805b-8b5e25acd5f8\">\n",
              "    <div class=\"colab-df-container\">\n",
              "      <div>\n",
              "<style scoped>\n",
              "    .dataframe tbody tr th:only-of-type {\n",
              "        vertical-align: middle;\n",
              "    }\n",
              "\n",
              "    .dataframe tbody tr th {\n",
              "        vertical-align: top;\n",
              "    }\n",
              "\n",
              "    .dataframe thead th {\n",
              "        text-align: right;\n",
              "    }\n",
              "</style>\n",
              "<table border=\"1\" class=\"dataframe\">\n",
              "  <thead>\n",
              "    <tr style=\"text-align: right;\">\n",
              "      <th></th>\n",
              "      <th>Sensor_alpha</th>\n",
              "      <th>Sensor_beta</th>\n",
              "      <th>Sensor_gamma</th>\n",
              "      <th>Sensor_alpha_plus</th>\n",
              "      <th>Sensor_beta_plus</th>\n",
              "      <th>Sensor_gamma_plus</th>\n",
              "      <th>Insect</th>\n",
              "    </tr>\n",
              "  </thead>\n",
              "  <tbody>\n",
              "    <tr>\n",
              "      <th>0</th>\n",
              "      <td>119.910995</td>\n",
              "      <td>242.838324</td>\n",
              "      <td>-316.819222</td>\n",
              "      <td>250.195048</td>\n",
              "      <td>-53.547777</td>\n",
              "      <td>-112.049983</td>\n",
              "      <td>2</td>\n",
              "    </tr>\n",
              "    <tr>\n",
              "      <th>1</th>\n",
              "      <td>-90.790536</td>\n",
              "      <td>-269.470767</td>\n",
              "      <td>-182.581844</td>\n",
              "      <td>95.394941</td>\n",
              "      <td>37.291944</td>\n",
              "      <td>48.525180</td>\n",
              "      <td>0</td>\n",
              "    </tr>\n",
              "    <tr>\n",
              "      <th>2</th>\n",
              "      <td>-20.028003</td>\n",
              "      <td>-147.070212</td>\n",
              "      <td>50.280872</td>\n",
              "      <td>-90.750386</td>\n",
              "      <td>-50.476556</td>\n",
              "      <td>85.399009</td>\n",
              "      <td>1</td>\n",
              "    </tr>\n",
              "    <tr>\n",
              "      <th>3</th>\n",
              "      <td>-21.258567</td>\n",
              "      <td>0.467070</td>\n",
              "      <td>-86.164153</td>\n",
              "      <td>-21.813529</td>\n",
              "      <td>-209.256006</td>\n",
              "      <td>16.291882</td>\n",
              "      <td>0</td>\n",
              "    </tr>\n",
              "    <tr>\n",
              "      <th>4</th>\n",
              "      <td>-58.154501</td>\n",
              "      <td>-13.051195</td>\n",
              "      <td>-156.501167</td>\n",
              "      <td>48.392938</td>\n",
              "      <td>-110.008860</td>\n",
              "      <td>-10.285138</td>\n",
              "      <td>2</td>\n",
              "    </tr>\n",
              "  </tbody>\n",
              "</table>\n",
              "</div>\n",
              "      <button class=\"colab-df-convert\" onclick=\"convertToInteractive('df-45d97479-21f9-4057-805b-8b5e25acd5f8')\"\n",
              "              title=\"Convert this dataframe to an interactive table.\"\n",
              "              style=\"display:none;\">\n",
              "        \n",
              "  <svg xmlns=\"http://www.w3.org/2000/svg\" height=\"24px\"viewBox=\"0 0 24 24\"\n",
              "       width=\"24px\">\n",
              "    <path d=\"M0 0h24v24H0V0z\" fill=\"none\"/>\n",
              "    <path d=\"M18.56 5.44l.94 2.06.94-2.06 2.06-.94-2.06-.94-.94-2.06-.94 2.06-2.06.94zm-11 1L8.5 8.5l.94-2.06 2.06-.94-2.06-.94L8.5 2.5l-.94 2.06-2.06.94zm10 10l.94 2.06.94-2.06 2.06-.94-2.06-.94-.94-2.06-.94 2.06-2.06.94z\"/><path d=\"M17.41 7.96l-1.37-1.37c-.4-.4-.92-.59-1.43-.59-.52 0-1.04.2-1.43.59L10.3 9.45l-7.72 7.72c-.78.78-.78 2.05 0 2.83L4 21.41c.39.39.9.59 1.41.59.51 0 1.02-.2 1.41-.59l7.78-7.78 2.81-2.81c.8-.78.8-2.07 0-2.86zM5.41 20L4 18.59l7.72-7.72 1.47 1.35L5.41 20z\"/>\n",
              "  </svg>\n",
              "      </button>\n",
              "      \n",
              "  <style>\n",
              "    .colab-df-container {\n",
              "      display:flex;\n",
              "      flex-wrap:wrap;\n",
              "      gap: 12px;\n",
              "    }\n",
              "\n",
              "    .colab-df-convert {\n",
              "      background-color: #E8F0FE;\n",
              "      border: none;\n",
              "      border-radius: 50%;\n",
              "      cursor: pointer;\n",
              "      display: none;\n",
              "      fill: #1967D2;\n",
              "      height: 32px;\n",
              "      padding: 0 0 0 0;\n",
              "      width: 32px;\n",
              "    }\n",
              "\n",
              "    .colab-df-convert:hover {\n",
              "      background-color: #E2EBFA;\n",
              "      box-shadow: 0px 1px 2px rgba(60, 64, 67, 0.3), 0px 1px 3px 1px rgba(60, 64, 67, 0.15);\n",
              "      fill: #174EA6;\n",
              "    }\n",
              "\n",
              "    [theme=dark] .colab-df-convert {\n",
              "      background-color: #3B4455;\n",
              "      fill: #D2E3FC;\n",
              "    }\n",
              "\n",
              "    [theme=dark] .colab-df-convert:hover {\n",
              "      background-color: #434B5C;\n",
              "      box-shadow: 0px 1px 3px 1px rgba(0, 0, 0, 0.15);\n",
              "      filter: drop-shadow(0px 1px 2px rgba(0, 0, 0, 0.3));\n",
              "      fill: #FFFFFF;\n",
              "    }\n",
              "  </style>\n",
              "\n",
              "      <script>\n",
              "        const buttonEl =\n",
              "          document.querySelector('#df-45d97479-21f9-4057-805b-8b5e25acd5f8 button.colab-df-convert');\n",
              "        buttonEl.style.display =\n",
              "          google.colab.kernel.accessAllowed ? 'block' : 'none';\n",
              "\n",
              "        async function convertToInteractive(key) {\n",
              "          const element = document.querySelector('#df-45d97479-21f9-4057-805b-8b5e25acd5f8');\n",
              "          const dataTable =\n",
              "            await google.colab.kernel.invokeFunction('convertToInteractive',\n",
              "                                                     [key], {});\n",
              "          if (!dataTable) return;\n",
              "\n",
              "          const docLinkHtml = 'Like what you see? Visit the ' +\n",
              "            '<a target=\"_blank\" href=https://colab.research.google.com/notebooks/data_table.ipynb>data table notebook</a>'\n",
              "            + ' to learn more about interactive tables.';\n",
              "          element.innerHTML = '';\n",
              "          dataTable['output_type'] = 'display_data';\n",
              "          await google.colab.output.renderOutput(dataTable, element);\n",
              "          const docLink = document.createElement('div');\n",
              "          docLink.innerHTML = docLinkHtml;\n",
              "          element.appendChild(docLink);\n",
              "        }\n",
              "      </script>\n",
              "    </div>\n",
              "  </div>\n",
              "  "
            ]
          },
          "metadata": {},
          "execution_count": 853
        }
      ],
      "source": [
        "df_train.head()"
      ]
    },
    {
      "cell_type": "code",
      "execution_count": 854,
      "metadata": {
        "colab": {
          "base_uri": "https://localhost:8080/"
        },
        "id": "PzAKCXJ4mGoU",
        "outputId": "aa8a7d86-08c7-401a-87f0-eb7c0556d187"
      },
      "outputs": [
        {
          "output_type": "execute_result",
          "data": {
            "text/plain": [
              " 250.195048    1\n",
              "-39.567681     1\n",
              "-37.526827     1\n",
              "-48.303959     1\n",
              " 62.949590     1\n",
              "              ..\n",
              "-63.640490     1\n",
              "-75.457359     1\n",
              "-62.464783     1\n",
              "-37.969565     1\n",
              "-72.696385     1\n",
              "Name: Sensor_alpha_plus, Length: 7001, dtype: int64"
            ]
          },
          "metadata": {},
          "execution_count": 854
        }
      ],
      "source": [
        "df_train[\"Sensor_alpha_plus\"].value_counts()"
      ]
    },
    {
      "cell_type": "code",
      "execution_count": 855,
      "metadata": {
        "colab": {
          "base_uri": "https://localhost:8080/"
        },
        "id": "S85UoE9t5mZc",
        "outputId": "dcbc41bb-5376-4179-e1c6-c81b73f49b24"
      },
      "outputs": [
        {
          "output_type": "execute_result",
          "data": {
            "text/plain": [
              "count    7001.000000\n",
              "mean        7.188060\n",
              "std       122.327980\n",
              "min      -437.205393\n",
              "25%       -79.496687\n",
              "50%        -1.133567\n",
              "75%        93.285286\n",
              "max       462.556319\n",
              "Name: Sensor_alpha_plus, dtype: float64"
            ]
          },
          "metadata": {},
          "execution_count": 855
        }
      ],
      "source": [
        "df_train[\"Sensor_alpha_plus\"].describe()"
      ]
    },
    {
      "cell_type": "code",
      "source": [
        "val = dt.predict(X_test)\n",
        "\n",
        "lb = preprocessing.LabelBinarizer()\n",
        "lb.fit(y_test)\n",
        "\n",
        "y_test_lb = lb.transform(y_test)\n",
        "val_lb = lb.transform(val)\n",
        "\n",
        "roc_auc_score(y_test_lb, val_lb, average='macro')"
      ],
      "metadata": {
        "colab": {
          "base_uri": "https://localhost:8080/"
        },
        "id": "K8-mZmmiTDIL",
        "outputId": "1e15126c-d5e9-45d8-8e02-41e0c5ed069f"
      },
      "execution_count": 1285,
      "outputs": [
        {
          "output_type": "execute_result",
          "data": {
            "text/plain": [
              "0.725636722074876"
            ]
          },
          "metadata": {},
          "execution_count": 1285
        }
      ]
    },
    {
      "cell_type": "markdown",
      "source": [
        "#### Random Forest"
      ],
      "metadata": {
        "id": "dKkrshPzqZZp"
      }
    },
    {
      "cell_type": "code",
      "execution_count": 1286,
      "metadata": {
        "id": "AmHzajq85o6s",
        "colab": {
          "base_uri": "https://localhost:8080/"
        },
        "outputId": "d39f2d3e-158e-48de-fdca-a58011f1b9b0"
      },
      "outputs": [
        {
          "output_type": "execute_result",
          "data": {
            "text/plain": [
              "RandomForestClassifier(max_depth=8, min_samples_split=500, random_state=42)"
            ]
          },
          "metadata": {},
          "execution_count": 1286
        }
      ],
      "source": [
        "rf = RandomForestClassifier(n_estimators=100, max_depth=8, min_samples_split=500, random_state=42)\n",
        "rf.fit(X_train, np.ravel(y_train))"
      ]
    },
    {
      "cell_type": "code",
      "execution_count": 1287,
      "metadata": {
        "collapsed": true,
        "id": "XLjkwwgw5o6t"
      },
      "outputs": [],
      "source": [
        "y_score = pd.DataFrame(rf.predict_proba(X_test)[:,1], index=y_test.index, columns=['DetectionsScore'])"
      ]
    },
    {
      "cell_type": "code",
      "execution_count": 1288,
      "metadata": {
        "collapsed": true,
        "id": "p1iW689W5o6t"
      },
      "outputs": [],
      "source": [
        "results_df = y_test.join(y_score)"
      ]
    },
    {
      "cell_type": "code",
      "execution_count": 1289,
      "metadata": {
        "id": "33TTrPjk5o6t",
        "colab": {
          "base_uri": "https://localhost:8080/",
          "height": 363
        },
        "outputId": "a78bf06a-7462-44c5-89d9-5f8b98fc150d"
      },
      "outputs": [
        {
          "output_type": "execute_result",
          "data": {
            "text/plain": [
              "      Insect  DetectionsScore\n",
              "1501       0         0.416415\n",
              "2586       1         0.656382\n",
              "2653       0         0.177152\n",
              "1055       1         0.615750\n",
              "705        0         0.511887\n",
              "106        1         0.403221\n",
              "589        1         0.703647\n",
              "2468       0         0.096003\n",
              "2413       0         0.118867\n",
              "1600       1         0.551582"
            ],
            "text/html": [
              "\n",
              "  <div id=\"df-42599874-2358-4b53-b359-16135c640b1a\">\n",
              "    <div class=\"colab-df-container\">\n",
              "      <div>\n",
              "<style scoped>\n",
              "    .dataframe tbody tr th:only-of-type {\n",
              "        vertical-align: middle;\n",
              "    }\n",
              "\n",
              "    .dataframe tbody tr th {\n",
              "        vertical-align: top;\n",
              "    }\n",
              "\n",
              "    .dataframe thead th {\n",
              "        text-align: right;\n",
              "    }\n",
              "</style>\n",
              "<table border=\"1\" class=\"dataframe\">\n",
              "  <thead>\n",
              "    <tr style=\"text-align: right;\">\n",
              "      <th></th>\n",
              "      <th>Insect</th>\n",
              "      <th>DetectionsScore</th>\n",
              "    </tr>\n",
              "  </thead>\n",
              "  <tbody>\n",
              "    <tr>\n",
              "      <th>1501</th>\n",
              "      <td>0</td>\n",
              "      <td>0.416415</td>\n",
              "    </tr>\n",
              "    <tr>\n",
              "      <th>2586</th>\n",
              "      <td>1</td>\n",
              "      <td>0.656382</td>\n",
              "    </tr>\n",
              "    <tr>\n",
              "      <th>2653</th>\n",
              "      <td>0</td>\n",
              "      <td>0.177152</td>\n",
              "    </tr>\n",
              "    <tr>\n",
              "      <th>1055</th>\n",
              "      <td>1</td>\n",
              "      <td>0.615750</td>\n",
              "    </tr>\n",
              "    <tr>\n",
              "      <th>705</th>\n",
              "      <td>0</td>\n",
              "      <td>0.511887</td>\n",
              "    </tr>\n",
              "    <tr>\n",
              "      <th>106</th>\n",
              "      <td>1</td>\n",
              "      <td>0.403221</td>\n",
              "    </tr>\n",
              "    <tr>\n",
              "      <th>589</th>\n",
              "      <td>1</td>\n",
              "      <td>0.703647</td>\n",
              "    </tr>\n",
              "    <tr>\n",
              "      <th>2468</th>\n",
              "      <td>0</td>\n",
              "      <td>0.096003</td>\n",
              "    </tr>\n",
              "    <tr>\n",
              "      <th>2413</th>\n",
              "      <td>0</td>\n",
              "      <td>0.118867</td>\n",
              "    </tr>\n",
              "    <tr>\n",
              "      <th>1600</th>\n",
              "      <td>1</td>\n",
              "      <td>0.551582</td>\n",
              "    </tr>\n",
              "  </tbody>\n",
              "</table>\n",
              "</div>\n",
              "      <button class=\"colab-df-convert\" onclick=\"convertToInteractive('df-42599874-2358-4b53-b359-16135c640b1a')\"\n",
              "              title=\"Convert this dataframe to an interactive table.\"\n",
              "              style=\"display:none;\">\n",
              "        \n",
              "  <svg xmlns=\"http://www.w3.org/2000/svg\" height=\"24px\"viewBox=\"0 0 24 24\"\n",
              "       width=\"24px\">\n",
              "    <path d=\"M0 0h24v24H0V0z\" fill=\"none\"/>\n",
              "    <path d=\"M18.56 5.44l.94 2.06.94-2.06 2.06-.94-2.06-.94-.94-2.06-.94 2.06-2.06.94zm-11 1L8.5 8.5l.94-2.06 2.06-.94-2.06-.94L8.5 2.5l-.94 2.06-2.06.94zm10 10l.94 2.06.94-2.06 2.06-.94-2.06-.94-.94-2.06-.94 2.06-2.06.94z\"/><path d=\"M17.41 7.96l-1.37-1.37c-.4-.4-.92-.59-1.43-.59-.52 0-1.04.2-1.43.59L10.3 9.45l-7.72 7.72c-.78.78-.78 2.05 0 2.83L4 21.41c.39.39.9.59 1.41.59.51 0 1.02-.2 1.41-.59l7.78-7.78 2.81-2.81c.8-.78.8-2.07 0-2.86zM5.41 20L4 18.59l7.72-7.72 1.47 1.35L5.41 20z\"/>\n",
              "  </svg>\n",
              "      </button>\n",
              "      \n",
              "  <style>\n",
              "    .colab-df-container {\n",
              "      display:flex;\n",
              "      flex-wrap:wrap;\n",
              "      gap: 12px;\n",
              "    }\n",
              "\n",
              "    .colab-df-convert {\n",
              "      background-color: #E8F0FE;\n",
              "      border: none;\n",
              "      border-radius: 50%;\n",
              "      cursor: pointer;\n",
              "      display: none;\n",
              "      fill: #1967D2;\n",
              "      height: 32px;\n",
              "      padding: 0 0 0 0;\n",
              "      width: 32px;\n",
              "    }\n",
              "\n",
              "    .colab-df-convert:hover {\n",
              "      background-color: #E2EBFA;\n",
              "      box-shadow: 0px 1px 2px rgba(60, 64, 67, 0.3), 0px 1px 3px 1px rgba(60, 64, 67, 0.15);\n",
              "      fill: #174EA6;\n",
              "    }\n",
              "\n",
              "    [theme=dark] .colab-df-convert {\n",
              "      background-color: #3B4455;\n",
              "      fill: #D2E3FC;\n",
              "    }\n",
              "\n",
              "    [theme=dark] .colab-df-convert:hover {\n",
              "      background-color: #434B5C;\n",
              "      box-shadow: 0px 1px 3px 1px rgba(0, 0, 0, 0.15);\n",
              "      filter: drop-shadow(0px 1px 2px rgba(0, 0, 0, 0.3));\n",
              "      fill: #FFFFFF;\n",
              "    }\n",
              "  </style>\n",
              "\n",
              "      <script>\n",
              "        const buttonEl =\n",
              "          document.querySelector('#df-42599874-2358-4b53-b359-16135c640b1a button.colab-df-convert');\n",
              "        buttonEl.style.display =\n",
              "          google.colab.kernel.accessAllowed ? 'block' : 'none';\n",
              "\n",
              "        async function convertToInteractive(key) {\n",
              "          const element = document.querySelector('#df-42599874-2358-4b53-b359-16135c640b1a');\n",
              "          const dataTable =\n",
              "            await google.colab.kernel.invokeFunction('convertToInteractive',\n",
              "                                                     [key], {});\n",
              "          if (!dataTable) return;\n",
              "\n",
              "          const docLinkHtml = 'Like what you see? Visit the ' +\n",
              "            '<a target=\"_blank\" href=https://colab.research.google.com/notebooks/data_table.ipynb>data table notebook</a>'\n",
              "            + ' to learn more about interactive tables.';\n",
              "          element.innerHTML = '';\n",
              "          dataTable['output_type'] = 'display_data';\n",
              "          await google.colab.output.renderOutput(dataTable, element);\n",
              "          const docLink = document.createElement('div');\n",
              "          docLink.innerHTML = docLinkHtml;\n",
              "          element.appendChild(docLink);\n",
              "        }\n",
              "      </script>\n",
              "    </div>\n",
              "  </div>\n",
              "  "
            ]
          },
          "metadata": {},
          "execution_count": 1289
        }
      ],
      "source": [
        "results_df.head(10)"
      ]
    },
    {
      "cell_type": "code",
      "source": [
        "val = rf.predict(X_test)\n",
        "\n",
        "lb = preprocessing.LabelBinarizer()\n",
        "lb.fit(y_test)\n",
        "\n",
        "y_test_lb = lb.transform(y_test)\n",
        "val_lb = lb.transform(val)\n",
        "\n",
        "roc_auc_score(y_test_lb, val_lb, average='macro')"
      ],
      "metadata": {
        "colab": {
          "base_uri": "https://localhost:8080/"
        },
        "outputId": "42605f3e-1168-4c0c-c441-7af83cfe46c3",
        "id": "Flh7EUyB5o6t"
      },
      "execution_count": 1290,
      "outputs": [
        {
          "output_type": "execute_result",
          "data": {
            "text/plain": [
              "0.7003071124564345"
            ]
          },
          "metadata": {},
          "execution_count": 1290
        }
      ]
    },
    {
      "cell_type": "markdown",
      "source": [
        "#### XGBoost Classifier"
      ],
      "metadata": {
        "id": "74FfE016qjI8"
      }
    },
    {
      "cell_type": "code",
      "source": [
        "df_train"
      ],
      "metadata": {
        "id": "AS9I48Fd4DEd",
        "colab": {
          "base_uri": "https://localhost:8080/",
          "height": 468
        },
        "outputId": "c708e6eb-f9a6-49c3-de91-a8bfb3e3fc79"
      },
      "execution_count": 1291,
      "outputs": [
        {
          "output_type": "execute_result",
          "data": {
            "text/plain": [
              "      Sensor_alpha  Sensor_beta  Sensor_gamma  Sensor_alpha_plus  \\\n",
              "0       119.910995   242.838324   -316.819222         250.195048   \n",
              "1       -90.790536  -269.470767   -182.581844          95.394941   \n",
              "2       -20.028003  -147.070212     50.280872         -90.750386   \n",
              "3       -21.258567     0.467070    -86.164153         -21.813529   \n",
              "4       -58.154501   -13.051195   -156.501167          48.392938   \n",
              "...            ...          ...           ...                ...   \n",
              "6996      6.576106   301.050638    146.682819        -209.480741   \n",
              "6997     -6.169382  -317.652257   -161.644320         248.055724   \n",
              "6998     -7.289684  -406.732525   -212.097250         248.745127   \n",
              "6999    -92.317105  -191.555040     88.371271          38.728565   \n",
              "7000    -72.083585   -11.434977    -52.961743         -72.696385   \n",
              "\n",
              "      Sensor_beta_plus  Sensor_gamma_plus  Insect  \n",
              "0           -53.547777        -112.049983       2  \n",
              "1            37.291944          48.525180       0  \n",
              "2           -50.476556          85.399009       1  \n",
              "3          -209.256006          16.291882       0  \n",
              "4          -110.008860         -10.285138       2  \n",
              "...                ...                ...     ...  \n",
              "6996       -129.776336         -51.226256       1  \n",
              "6997       -112.626344          99.463913       0  \n",
              "6998        116.893077          32.806150       0  \n",
              "6999        -39.050466          20.356711       0  \n",
              "7000        145.299227        -143.856243       1  \n",
              "\n",
              "[7001 rows x 7 columns]"
            ],
            "text/html": [
              "\n",
              "  <div id=\"df-68664644-fef7-4167-81d0-d0f49eeb1937\">\n",
              "    <div class=\"colab-df-container\">\n",
              "      <div>\n",
              "<style scoped>\n",
              "    .dataframe tbody tr th:only-of-type {\n",
              "        vertical-align: middle;\n",
              "    }\n",
              "\n",
              "    .dataframe tbody tr th {\n",
              "        vertical-align: top;\n",
              "    }\n",
              "\n",
              "    .dataframe thead th {\n",
              "        text-align: right;\n",
              "    }\n",
              "</style>\n",
              "<table border=\"1\" class=\"dataframe\">\n",
              "  <thead>\n",
              "    <tr style=\"text-align: right;\">\n",
              "      <th></th>\n",
              "      <th>Sensor_alpha</th>\n",
              "      <th>Sensor_beta</th>\n",
              "      <th>Sensor_gamma</th>\n",
              "      <th>Sensor_alpha_plus</th>\n",
              "      <th>Sensor_beta_plus</th>\n",
              "      <th>Sensor_gamma_plus</th>\n",
              "      <th>Insect</th>\n",
              "    </tr>\n",
              "  </thead>\n",
              "  <tbody>\n",
              "    <tr>\n",
              "      <th>0</th>\n",
              "      <td>119.910995</td>\n",
              "      <td>242.838324</td>\n",
              "      <td>-316.819222</td>\n",
              "      <td>250.195048</td>\n",
              "      <td>-53.547777</td>\n",
              "      <td>-112.049983</td>\n",
              "      <td>2</td>\n",
              "    </tr>\n",
              "    <tr>\n",
              "      <th>1</th>\n",
              "      <td>-90.790536</td>\n",
              "      <td>-269.470767</td>\n",
              "      <td>-182.581844</td>\n",
              "      <td>95.394941</td>\n",
              "      <td>37.291944</td>\n",
              "      <td>48.525180</td>\n",
              "      <td>0</td>\n",
              "    </tr>\n",
              "    <tr>\n",
              "      <th>2</th>\n",
              "      <td>-20.028003</td>\n",
              "      <td>-147.070212</td>\n",
              "      <td>50.280872</td>\n",
              "      <td>-90.750386</td>\n",
              "      <td>-50.476556</td>\n",
              "      <td>85.399009</td>\n",
              "      <td>1</td>\n",
              "    </tr>\n",
              "    <tr>\n",
              "      <th>3</th>\n",
              "      <td>-21.258567</td>\n",
              "      <td>0.467070</td>\n",
              "      <td>-86.164153</td>\n",
              "      <td>-21.813529</td>\n",
              "      <td>-209.256006</td>\n",
              "      <td>16.291882</td>\n",
              "      <td>0</td>\n",
              "    </tr>\n",
              "    <tr>\n",
              "      <th>4</th>\n",
              "      <td>-58.154501</td>\n",
              "      <td>-13.051195</td>\n",
              "      <td>-156.501167</td>\n",
              "      <td>48.392938</td>\n",
              "      <td>-110.008860</td>\n",
              "      <td>-10.285138</td>\n",
              "      <td>2</td>\n",
              "    </tr>\n",
              "    <tr>\n",
              "      <th>...</th>\n",
              "      <td>...</td>\n",
              "      <td>...</td>\n",
              "      <td>...</td>\n",
              "      <td>...</td>\n",
              "      <td>...</td>\n",
              "      <td>...</td>\n",
              "      <td>...</td>\n",
              "    </tr>\n",
              "    <tr>\n",
              "      <th>6996</th>\n",
              "      <td>6.576106</td>\n",
              "      <td>301.050638</td>\n",
              "      <td>146.682819</td>\n",
              "      <td>-209.480741</td>\n",
              "      <td>-129.776336</td>\n",
              "      <td>-51.226256</td>\n",
              "      <td>1</td>\n",
              "    </tr>\n",
              "    <tr>\n",
              "      <th>6997</th>\n",
              "      <td>-6.169382</td>\n",
              "      <td>-317.652257</td>\n",
              "      <td>-161.644320</td>\n",
              "      <td>248.055724</td>\n",
              "      <td>-112.626344</td>\n",
              "      <td>99.463913</td>\n",
              "      <td>0</td>\n",
              "    </tr>\n",
              "    <tr>\n",
              "      <th>6998</th>\n",
              "      <td>-7.289684</td>\n",
              "      <td>-406.732525</td>\n",
              "      <td>-212.097250</td>\n",
              "      <td>248.745127</td>\n",
              "      <td>116.893077</td>\n",
              "      <td>32.806150</td>\n",
              "      <td>0</td>\n",
              "    </tr>\n",
              "    <tr>\n",
              "      <th>6999</th>\n",
              "      <td>-92.317105</td>\n",
              "      <td>-191.555040</td>\n",
              "      <td>88.371271</td>\n",
              "      <td>38.728565</td>\n",
              "      <td>-39.050466</td>\n",
              "      <td>20.356711</td>\n",
              "      <td>0</td>\n",
              "    </tr>\n",
              "    <tr>\n",
              "      <th>7000</th>\n",
              "      <td>-72.083585</td>\n",
              "      <td>-11.434977</td>\n",
              "      <td>-52.961743</td>\n",
              "      <td>-72.696385</td>\n",
              "      <td>145.299227</td>\n",
              "      <td>-143.856243</td>\n",
              "      <td>1</td>\n",
              "    </tr>\n",
              "  </tbody>\n",
              "</table>\n",
              "<p>7001 rows × 7 columns</p>\n",
              "</div>\n",
              "      <button class=\"colab-df-convert\" onclick=\"convertToInteractive('df-68664644-fef7-4167-81d0-d0f49eeb1937')\"\n",
              "              title=\"Convert this dataframe to an interactive table.\"\n",
              "              style=\"display:none;\">\n",
              "        \n",
              "  <svg xmlns=\"http://www.w3.org/2000/svg\" height=\"24px\"viewBox=\"0 0 24 24\"\n",
              "       width=\"24px\">\n",
              "    <path d=\"M0 0h24v24H0V0z\" fill=\"none\"/>\n",
              "    <path d=\"M18.56 5.44l.94 2.06.94-2.06 2.06-.94-2.06-.94-.94-2.06-.94 2.06-2.06.94zm-11 1L8.5 8.5l.94-2.06 2.06-.94-2.06-.94L8.5 2.5l-.94 2.06-2.06.94zm10 10l.94 2.06.94-2.06 2.06-.94-2.06-.94-.94-2.06-.94 2.06-2.06.94z\"/><path d=\"M17.41 7.96l-1.37-1.37c-.4-.4-.92-.59-1.43-.59-.52 0-1.04.2-1.43.59L10.3 9.45l-7.72 7.72c-.78.78-.78 2.05 0 2.83L4 21.41c.39.39.9.59 1.41.59.51 0 1.02-.2 1.41-.59l7.78-7.78 2.81-2.81c.8-.78.8-2.07 0-2.86zM5.41 20L4 18.59l7.72-7.72 1.47 1.35L5.41 20z\"/>\n",
              "  </svg>\n",
              "      </button>\n",
              "      \n",
              "  <style>\n",
              "    .colab-df-container {\n",
              "      display:flex;\n",
              "      flex-wrap:wrap;\n",
              "      gap: 12px;\n",
              "    }\n",
              "\n",
              "    .colab-df-convert {\n",
              "      background-color: #E8F0FE;\n",
              "      border: none;\n",
              "      border-radius: 50%;\n",
              "      cursor: pointer;\n",
              "      display: none;\n",
              "      fill: #1967D2;\n",
              "      height: 32px;\n",
              "      padding: 0 0 0 0;\n",
              "      width: 32px;\n",
              "    }\n",
              "\n",
              "    .colab-df-convert:hover {\n",
              "      background-color: #E2EBFA;\n",
              "      box-shadow: 0px 1px 2px rgba(60, 64, 67, 0.3), 0px 1px 3px 1px rgba(60, 64, 67, 0.15);\n",
              "      fill: #174EA6;\n",
              "    }\n",
              "\n",
              "    [theme=dark] .colab-df-convert {\n",
              "      background-color: #3B4455;\n",
              "      fill: #D2E3FC;\n",
              "    }\n",
              "\n",
              "    [theme=dark] .colab-df-convert:hover {\n",
              "      background-color: #434B5C;\n",
              "      box-shadow: 0px 1px 3px 1px rgba(0, 0, 0, 0.15);\n",
              "      filter: drop-shadow(0px 1px 2px rgba(0, 0, 0, 0.3));\n",
              "      fill: #FFFFFF;\n",
              "    }\n",
              "  </style>\n",
              "\n",
              "      <script>\n",
              "        const buttonEl =\n",
              "          document.querySelector('#df-68664644-fef7-4167-81d0-d0f49eeb1937 button.colab-df-convert');\n",
              "        buttonEl.style.display =\n",
              "          google.colab.kernel.accessAllowed ? 'block' : 'none';\n",
              "\n",
              "        async function convertToInteractive(key) {\n",
              "          const element = document.querySelector('#df-68664644-fef7-4167-81d0-d0f49eeb1937');\n",
              "          const dataTable =\n",
              "            await google.colab.kernel.invokeFunction('convertToInteractive',\n",
              "                                                     [key], {});\n",
              "          if (!dataTable) return;\n",
              "\n",
              "          const docLinkHtml = 'Like what you see? Visit the ' +\n",
              "            '<a target=\"_blank\" href=https://colab.research.google.com/notebooks/data_table.ipynb>data table notebook</a>'\n",
              "            + ' to learn more about interactive tables.';\n",
              "          element.innerHTML = '';\n",
              "          dataTable['output_type'] = 'display_data';\n",
              "          await google.colab.output.renderOutput(dataTable, element);\n",
              "          const docLink = document.createElement('div');\n",
              "          docLink.innerHTML = docLinkHtml;\n",
              "          element.appendChild(docLink);\n",
              "        }\n",
              "      </script>\n",
              "    </div>\n",
              "  </div>\n",
              "  "
            ]
          },
          "metadata": {},
          "execution_count": 1291
        }
      ]
    },
    {
      "cell_type": "code",
      "source": [
        "# split train input and output data\n",
        "X = df_train.drop(axis=0, columns=['Insect'])\n",
        "Y = df_train[\"Insect\"]\n",
        "\n",
        "#Print the shape of X and Y\n",
        "print(X.shape)\n",
        "print(Y.shape)"
      ],
      "metadata": {
        "colab": {
          "base_uri": "https://localhost:8080/"
        },
        "id": "0K7S7xTj37-B",
        "outputId": "eb205513-e09a-4dee-c1c2-13e1cc2aec80"
      },
      "execution_count": 1292,
      "outputs": [
        {
          "output_type": "stream",
          "name": "stdout",
          "text": [
            "(7001, 6)\n",
            "(7001,)\n"
          ]
        }
      ]
    },
    {
      "cell_type": "code",
      "source": [
        "# Split into training and test sets\n",
        "X_train, X_test, y_train, y_test = train_test_split(X, Y, test_size=0.33, random_state=42)"
      ],
      "metadata": {
        "id": "xSqHuCef376c"
      },
      "execution_count": 1293,
      "outputs": []
    },
    {
      "cell_type": "code",
      "source": [
        "df_train[\"Insect\"].unique()"
      ],
      "metadata": {
        "colab": {
          "base_uri": "https://localhost:8080/"
        },
        "id": "TLYxeu24G0LD",
        "outputId": "090af79e-cab1-4baf-e01e-cd7add033204"
      },
      "execution_count": 1294,
      "outputs": [
        {
          "output_type": "execute_result",
          "data": {
            "text/plain": [
              "array([2, 0, 1])"
            ]
          },
          "metadata": {},
          "execution_count": 1294
        }
      ]
    },
    {
      "cell_type": "code",
      "source": [
        "num_of_classes = len(df_train[\"Insect\"].unique())"
      ],
      "metadata": {
        "id": "ri-Vo9t0EPkg"
      },
      "execution_count": 1295,
      "outputs": []
    },
    {
      "cell_type": "code",
      "source": [
        "# Create a classifier\n",
        "xgb = XGBClassifier(booster='gbtree', objective='multi:softmax', \n",
        "                    max_depth = 20,  \n",
        "                    random_state=42, eval_metric=\"auc\", num_class=num_of_classes)\n"
      ],
      "metadata": {
        "id": "cMXMLUVE27kD"
      },
      "execution_count": 1296,
      "outputs": []
    },
    {
      "cell_type": "code",
      "source": [
        "\n",
        "# Fit the classifier with the training data\n",
        "xgb.fit(X_train,y_train)\n",
        "xgb.fit(X_train,y_train)"
      ],
      "metadata": {
        "id": "mpyZTw-E29-9",
        "colab": {
          "base_uri": "https://localhost:8080/"
        },
        "outputId": "59c1a6fd-f563-492e-b868-48a478adaf10"
      },
      "execution_count": 1297,
      "outputs": [
        {
          "output_type": "execute_result",
          "data": {
            "text/plain": [
              "XGBClassifier(eval_metric='auc', max_depth=20, num_class=3,\n",
              "              objective='multi:softprob', random_state=42)"
            ]
          },
          "metadata": {},
          "execution_count": 1297
        }
      ]
    },
    {
      "cell_type": "code",
      "source": [
        "# Use trained model to predict output of test dataset\n",
        "val = xgb.predict(X_test)\n",
        "\n",
        "lb = preprocessing.LabelBinarizer()\n",
        "lb.fit(y_test)\n",
        "\n",
        "y_test_lb = lb.transform(y_test)\n",
        "val_lb = lb.transform(val)\n",
        "\n",
        "roc_auc_score(y_test_lb, val_lb, average='macro')"
      ],
      "metadata": {
        "id": "QwZ4IpD53cw6",
        "colab": {
          "base_uri": "https://localhost:8080/"
        },
        "outputId": "787d7197-99da-4d84-b8fe-913fc443b182"
      },
      "execution_count": 1298,
      "outputs": [
        {
          "output_type": "execute_result",
          "data": {
            "text/plain": [
              "0.8446152957286764"
            ]
          },
          "metadata": {},
          "execution_count": 1298
        }
      ]
    },
    {
      "cell_type": "code",
      "source": [
        "output = pd.DataFrame()\n",
        "output['Expected Output'] = y_test\n",
        "output['Predicted Output'] = val\n",
        "output.head()"
      ],
      "metadata": {
        "id": "wMS1qrqQ3vPX",
        "colab": {
          "base_uri": "https://localhost:8080/",
          "height": 206
        },
        "outputId": "6bb7cf64-2b3b-44a6-8e27-babbdcfb9078"
      },
      "execution_count": 1299,
      "outputs": [
        {
          "output_type": "execute_result",
          "data": {
            "text/plain": [
              "      Expected Output  Predicted Output\n",
              "5760                1                 1\n",
              "2944                1                 1\n",
              "2024                0                 0\n",
              "263                 1                 0\n",
              "4421                0                 0"
            ],
            "text/html": [
              "\n",
              "  <div id=\"df-89d201ca-f0d3-4b4a-8b4c-772f87c4594d\">\n",
              "    <div class=\"colab-df-container\">\n",
              "      <div>\n",
              "<style scoped>\n",
              "    .dataframe tbody tr th:only-of-type {\n",
              "        vertical-align: middle;\n",
              "    }\n",
              "\n",
              "    .dataframe tbody tr th {\n",
              "        vertical-align: top;\n",
              "    }\n",
              "\n",
              "    .dataframe thead th {\n",
              "        text-align: right;\n",
              "    }\n",
              "</style>\n",
              "<table border=\"1\" class=\"dataframe\">\n",
              "  <thead>\n",
              "    <tr style=\"text-align: right;\">\n",
              "      <th></th>\n",
              "      <th>Expected Output</th>\n",
              "      <th>Predicted Output</th>\n",
              "    </tr>\n",
              "  </thead>\n",
              "  <tbody>\n",
              "    <tr>\n",
              "      <th>5760</th>\n",
              "      <td>1</td>\n",
              "      <td>1</td>\n",
              "    </tr>\n",
              "    <tr>\n",
              "      <th>2944</th>\n",
              "      <td>1</td>\n",
              "      <td>1</td>\n",
              "    </tr>\n",
              "    <tr>\n",
              "      <th>2024</th>\n",
              "      <td>0</td>\n",
              "      <td>0</td>\n",
              "    </tr>\n",
              "    <tr>\n",
              "      <th>263</th>\n",
              "      <td>1</td>\n",
              "      <td>0</td>\n",
              "    </tr>\n",
              "    <tr>\n",
              "      <th>4421</th>\n",
              "      <td>0</td>\n",
              "      <td>0</td>\n",
              "    </tr>\n",
              "  </tbody>\n",
              "</table>\n",
              "</div>\n",
              "      <button class=\"colab-df-convert\" onclick=\"convertToInteractive('df-89d201ca-f0d3-4b4a-8b4c-772f87c4594d')\"\n",
              "              title=\"Convert this dataframe to an interactive table.\"\n",
              "              style=\"display:none;\">\n",
              "        \n",
              "  <svg xmlns=\"http://www.w3.org/2000/svg\" height=\"24px\"viewBox=\"0 0 24 24\"\n",
              "       width=\"24px\">\n",
              "    <path d=\"M0 0h24v24H0V0z\" fill=\"none\"/>\n",
              "    <path d=\"M18.56 5.44l.94 2.06.94-2.06 2.06-.94-2.06-.94-.94-2.06-.94 2.06-2.06.94zm-11 1L8.5 8.5l.94-2.06 2.06-.94-2.06-.94L8.5 2.5l-.94 2.06-2.06.94zm10 10l.94 2.06.94-2.06 2.06-.94-2.06-.94-.94-2.06-.94 2.06-2.06.94z\"/><path d=\"M17.41 7.96l-1.37-1.37c-.4-.4-.92-.59-1.43-.59-.52 0-1.04.2-1.43.59L10.3 9.45l-7.72 7.72c-.78.78-.78 2.05 0 2.83L4 21.41c.39.39.9.59 1.41.59.51 0 1.02-.2 1.41-.59l7.78-7.78 2.81-2.81c.8-.78.8-2.07 0-2.86zM5.41 20L4 18.59l7.72-7.72 1.47 1.35L5.41 20z\"/>\n",
              "  </svg>\n",
              "      </button>\n",
              "      \n",
              "  <style>\n",
              "    .colab-df-container {\n",
              "      display:flex;\n",
              "      flex-wrap:wrap;\n",
              "      gap: 12px;\n",
              "    }\n",
              "\n",
              "    .colab-df-convert {\n",
              "      background-color: #E8F0FE;\n",
              "      border: none;\n",
              "      border-radius: 50%;\n",
              "      cursor: pointer;\n",
              "      display: none;\n",
              "      fill: #1967D2;\n",
              "      height: 32px;\n",
              "      padding: 0 0 0 0;\n",
              "      width: 32px;\n",
              "    }\n",
              "\n",
              "    .colab-df-convert:hover {\n",
              "      background-color: #E2EBFA;\n",
              "      box-shadow: 0px 1px 2px rgba(60, 64, 67, 0.3), 0px 1px 3px 1px rgba(60, 64, 67, 0.15);\n",
              "      fill: #174EA6;\n",
              "    }\n",
              "\n",
              "    [theme=dark] .colab-df-convert {\n",
              "      background-color: #3B4455;\n",
              "      fill: #D2E3FC;\n",
              "    }\n",
              "\n",
              "    [theme=dark] .colab-df-convert:hover {\n",
              "      background-color: #434B5C;\n",
              "      box-shadow: 0px 1px 3px 1px rgba(0, 0, 0, 0.15);\n",
              "      filter: drop-shadow(0px 1px 2px rgba(0, 0, 0, 0.3));\n",
              "      fill: #FFFFFF;\n",
              "    }\n",
              "  </style>\n",
              "\n",
              "      <script>\n",
              "        const buttonEl =\n",
              "          document.querySelector('#df-89d201ca-f0d3-4b4a-8b4c-772f87c4594d button.colab-df-convert');\n",
              "        buttonEl.style.display =\n",
              "          google.colab.kernel.accessAllowed ? 'block' : 'none';\n",
              "\n",
              "        async function convertToInteractive(key) {\n",
              "          const element = document.querySelector('#df-89d201ca-f0d3-4b4a-8b4c-772f87c4594d');\n",
              "          const dataTable =\n",
              "            await google.colab.kernel.invokeFunction('convertToInteractive',\n",
              "                                                     [key], {});\n",
              "          if (!dataTable) return;\n",
              "\n",
              "          const docLinkHtml = 'Like what you see? Visit the ' +\n",
              "            '<a target=\"_blank\" href=https://colab.research.google.com/notebooks/data_table.ipynb>data table notebook</a>'\n",
              "            + ' to learn more about interactive tables.';\n",
              "          element.innerHTML = '';\n",
              "          dataTable['output_type'] = 'display_data';\n",
              "          await google.colab.output.renderOutput(dataTable, element);\n",
              "          const docLink = document.createElement('div');\n",
              "          docLink.innerHTML = docLinkHtml;\n",
              "          element.appendChild(docLink);\n",
              "        }\n",
              "      </script>\n",
              "    </div>\n",
              "  </div>\n",
              "  "
            ]
          },
          "metadata": {},
          "execution_count": 1299
        }
      ]
    },
    {
      "cell_type": "markdown",
      "source": [
        "Con el Undersampler"
      ],
      "metadata": {
        "id": "jfGVq56S3yaX"
      }
    },
    {
      "cell_type": "code",
      "source": [
        "rus = RandomUnderSampler(random_state=0)\n",
        "X_rus_train,y_rus_train = rus.fit_resample(X_train,y_train)\n",
        "X_rus_test,y_rus_test = rus.fit_resample(X_test,y_test)"
      ],
      "metadata": {
        "id": "PIGYh_3V38TA"
      },
      "execution_count": 1300,
      "outputs": []
    },
    {
      "cell_type": "code",
      "source": [
        "num_of_classes = len(df_train[\"Insect\"].unique())"
      ],
      "metadata": {
        "id": "0hISlgWn4Cp0"
      },
      "execution_count": 1301,
      "outputs": []
    },
    {
      "cell_type": "code",
      "source": [
        "# Create a classifier\n",
        "xgbrus = XGBClassifier(booster='gbtree', objective='multi:softprob', random_state=42, eval_metric=\"auc\", num_class=num_of_classes)\n"
      ],
      "metadata": {
        "id": "ioQQOwWP4Cp1"
      },
      "execution_count": 1302,
      "outputs": []
    },
    {
      "cell_type": "code",
      "source": [
        "\n",
        "# Fit the classifier with the training data\n",
        "xgbrus.fit(X_rus_train,y_rus_train)"
      ],
      "metadata": {
        "id": "1ON4FvlM33pG",
        "colab": {
          "base_uri": "https://localhost:8080/"
        },
        "outputId": "8f1117ea-2216-4809-a446-4c9525bc823e"
      },
      "execution_count": 1303,
      "outputs": [
        {
          "output_type": "execute_result",
          "data": {
            "text/plain": [
              "XGBClassifier(eval_metric='auc', num_class=3, objective='multi:softprob',\n",
              "              random_state=42)"
            ]
          },
          "metadata": {},
          "execution_count": 1303
        }
      ]
    },
    {
      "cell_type": "code",
      "source": [
        "# Use trained model to predict output of test dataset\n",
        "val = xgbrus.predict(X_rus_test)\n",
        "\n",
        "lb = preprocessing.LabelBinarizer()\n",
        "lb.fit(y_test)\n",
        "\n",
        "y_test_lb = lb.transform(y_rus_test)\n",
        "val_lb = lb.transform(val)\n",
        "\n",
        "roc_auc_score(y_test_lb, val_lb, average='macro')"
      ],
      "metadata": {
        "colab": {
          "base_uri": "https://localhost:8080/"
        },
        "id": "f_uBRJjdDDpS",
        "outputId": "58c738cd-9b07-44f6-bcaa-3134cab5c6e6"
      },
      "execution_count": 1304,
      "outputs": [
        {
          "output_type": "execute_result",
          "data": {
            "text/plain": [
              "0.8261363636363637"
            ]
          },
          "metadata": {},
          "execution_count": 1304
        }
      ]
    },
    {
      "cell_type": "code",
      "source": [
        "output = pd.DataFrame()\n",
        "output['Expected Output'] = y_rus_test\n",
        "output['Predicted Output'] = val\n",
        "output.head()"
      ],
      "metadata": {
        "colab": {
          "base_uri": "https://localhost:8080/",
          "height": 206
        },
        "id": "p3yWFIYF33pH",
        "outputId": "711c3cf2-71c5-424c-f0c3-7608e03515d4"
      },
      "execution_count": 1305,
      "outputs": [
        {
          "output_type": "execute_result",
          "data": {
            "text/plain": [
              "   Expected Output  Predicted Output\n",
              "0                0                 0\n",
              "1                0                 2\n",
              "2                0                 1\n",
              "3                0                 0\n",
              "4                0                 0"
            ],
            "text/html": [
              "\n",
              "  <div id=\"df-09898006-997b-4db9-82c1-4260ed58da9c\">\n",
              "    <div class=\"colab-df-container\">\n",
              "      <div>\n",
              "<style scoped>\n",
              "    .dataframe tbody tr th:only-of-type {\n",
              "        vertical-align: middle;\n",
              "    }\n",
              "\n",
              "    .dataframe tbody tr th {\n",
              "        vertical-align: top;\n",
              "    }\n",
              "\n",
              "    .dataframe thead th {\n",
              "        text-align: right;\n",
              "    }\n",
              "</style>\n",
              "<table border=\"1\" class=\"dataframe\">\n",
              "  <thead>\n",
              "    <tr style=\"text-align: right;\">\n",
              "      <th></th>\n",
              "      <th>Expected Output</th>\n",
              "      <th>Predicted Output</th>\n",
              "    </tr>\n",
              "  </thead>\n",
              "  <tbody>\n",
              "    <tr>\n",
              "      <th>0</th>\n",
              "      <td>0</td>\n",
              "      <td>0</td>\n",
              "    </tr>\n",
              "    <tr>\n",
              "      <th>1</th>\n",
              "      <td>0</td>\n",
              "      <td>2</td>\n",
              "    </tr>\n",
              "    <tr>\n",
              "      <th>2</th>\n",
              "      <td>0</td>\n",
              "      <td>1</td>\n",
              "    </tr>\n",
              "    <tr>\n",
              "      <th>3</th>\n",
              "      <td>0</td>\n",
              "      <td>0</td>\n",
              "    </tr>\n",
              "    <tr>\n",
              "      <th>4</th>\n",
              "      <td>0</td>\n",
              "      <td>0</td>\n",
              "    </tr>\n",
              "  </tbody>\n",
              "</table>\n",
              "</div>\n",
              "      <button class=\"colab-df-convert\" onclick=\"convertToInteractive('df-09898006-997b-4db9-82c1-4260ed58da9c')\"\n",
              "              title=\"Convert this dataframe to an interactive table.\"\n",
              "              style=\"display:none;\">\n",
              "        \n",
              "  <svg xmlns=\"http://www.w3.org/2000/svg\" height=\"24px\"viewBox=\"0 0 24 24\"\n",
              "       width=\"24px\">\n",
              "    <path d=\"M0 0h24v24H0V0z\" fill=\"none\"/>\n",
              "    <path d=\"M18.56 5.44l.94 2.06.94-2.06 2.06-.94-2.06-.94-.94-2.06-.94 2.06-2.06.94zm-11 1L8.5 8.5l.94-2.06 2.06-.94-2.06-.94L8.5 2.5l-.94 2.06-2.06.94zm10 10l.94 2.06.94-2.06 2.06-.94-2.06-.94-.94-2.06-.94 2.06-2.06.94z\"/><path d=\"M17.41 7.96l-1.37-1.37c-.4-.4-.92-.59-1.43-.59-.52 0-1.04.2-1.43.59L10.3 9.45l-7.72 7.72c-.78.78-.78 2.05 0 2.83L4 21.41c.39.39.9.59 1.41.59.51 0 1.02-.2 1.41-.59l7.78-7.78 2.81-2.81c.8-.78.8-2.07 0-2.86zM5.41 20L4 18.59l7.72-7.72 1.47 1.35L5.41 20z\"/>\n",
              "  </svg>\n",
              "      </button>\n",
              "      \n",
              "  <style>\n",
              "    .colab-df-container {\n",
              "      display:flex;\n",
              "      flex-wrap:wrap;\n",
              "      gap: 12px;\n",
              "    }\n",
              "\n",
              "    .colab-df-convert {\n",
              "      background-color: #E8F0FE;\n",
              "      border: none;\n",
              "      border-radius: 50%;\n",
              "      cursor: pointer;\n",
              "      display: none;\n",
              "      fill: #1967D2;\n",
              "      height: 32px;\n",
              "      padding: 0 0 0 0;\n",
              "      width: 32px;\n",
              "    }\n",
              "\n",
              "    .colab-df-convert:hover {\n",
              "      background-color: #E2EBFA;\n",
              "      box-shadow: 0px 1px 2px rgba(60, 64, 67, 0.3), 0px 1px 3px 1px rgba(60, 64, 67, 0.15);\n",
              "      fill: #174EA6;\n",
              "    }\n",
              "\n",
              "    [theme=dark] .colab-df-convert {\n",
              "      background-color: #3B4455;\n",
              "      fill: #D2E3FC;\n",
              "    }\n",
              "\n",
              "    [theme=dark] .colab-df-convert:hover {\n",
              "      background-color: #434B5C;\n",
              "      box-shadow: 0px 1px 3px 1px rgba(0, 0, 0, 0.15);\n",
              "      filter: drop-shadow(0px 1px 2px rgba(0, 0, 0, 0.3));\n",
              "      fill: #FFFFFF;\n",
              "    }\n",
              "  </style>\n",
              "\n",
              "      <script>\n",
              "        const buttonEl =\n",
              "          document.querySelector('#df-09898006-997b-4db9-82c1-4260ed58da9c button.colab-df-convert');\n",
              "        buttonEl.style.display =\n",
              "          google.colab.kernel.accessAllowed ? 'block' : 'none';\n",
              "\n",
              "        async function convertToInteractive(key) {\n",
              "          const element = document.querySelector('#df-09898006-997b-4db9-82c1-4260ed58da9c');\n",
              "          const dataTable =\n",
              "            await google.colab.kernel.invokeFunction('convertToInteractive',\n",
              "                                                     [key], {});\n",
              "          if (!dataTable) return;\n",
              "\n",
              "          const docLinkHtml = 'Like what you see? Visit the ' +\n",
              "            '<a target=\"_blank\" href=https://colab.research.google.com/notebooks/data_table.ipynb>data table notebook</a>'\n",
              "            + ' to learn more about interactive tables.';\n",
              "          element.innerHTML = '';\n",
              "          dataTable['output_type'] = 'display_data';\n",
              "          await google.colab.output.renderOutput(dataTable, element);\n",
              "          const docLink = document.createElement('div');\n",
              "          docLink.innerHTML = docLinkHtml;\n",
              "          element.appendChild(docLink);\n",
              "        }\n",
              "      </script>\n",
              "    </div>\n",
              "  </div>\n",
              "  "
            ]
          },
          "metadata": {},
          "execution_count": 1305
        }
      ]
    },
    {
      "cell_type": "code",
      "source": [
        "output[\"Expected Output\"].value_counts()"
      ],
      "metadata": {
        "id": "FGJaBw5XRVSu",
        "colab": {
          "base_uri": "https://localhost:8080/"
        },
        "outputId": "58d0dcc5-c03c-48f1-f18c-47b5be3a97cc"
      },
      "execution_count": 1306,
      "outputs": [
        {
          "output_type": "execute_result",
          "data": {
            "text/plain": [
              "0    220\n",
              "1    220\n",
              "2    220\n",
              "Name: Expected Output, dtype: int64"
            ]
          },
          "metadata": {},
          "execution_count": 1306
        }
      ]
    },
    {
      "cell_type": "code",
      "source": [
        "output.info()"
      ],
      "metadata": {
        "id": "MYW86KnZ_dvG",
        "colab": {
          "base_uri": "https://localhost:8080/"
        },
        "outputId": "0ac07eec-6f79-4dcd-ec55-40d5fda7bd08"
      },
      "execution_count": 1307,
      "outputs": [
        {
          "output_type": "stream",
          "name": "stdout",
          "text": [
            "<class 'pandas.core.frame.DataFrame'>\n",
            "RangeIndex: 660 entries, 0 to 659\n",
            "Data columns (total 2 columns):\n",
            " #   Column            Non-Null Count  Dtype\n",
            "---  ------            --------------  -----\n",
            " 0   Expected Output   660 non-null    int64\n",
            " 1   Predicted Output  660 non-null    int64\n",
            "dtypes: int64(2)\n",
            "memory usage: 10.4 KB\n"
          ]
        }
      ]
    },
    {
      "cell_type": "code",
      "source": [
        "output[\"Success\"] = output['Expected Output'] == output['Predicted Output'].astype(int)"
      ],
      "metadata": {
        "id": "EGpBYb3K_iAl"
      },
      "execution_count": 1308,
      "outputs": []
    },
    {
      "cell_type": "code",
      "source": [
        "output.head()"
      ],
      "metadata": {
        "colab": {
          "base_uri": "https://localhost:8080/",
          "height": 206
        },
        "id": "rdBhbK_l_rEC",
        "outputId": "c7df2f10-3a29-473a-d291-e4802435e7d4"
      },
      "execution_count": 1309,
      "outputs": [
        {
          "output_type": "execute_result",
          "data": {
            "text/plain": [
              "   Expected Output  Predicted Output  Success\n",
              "0                0                 0     True\n",
              "1                0                 2    False\n",
              "2                0                 1    False\n",
              "3                0                 0     True\n",
              "4                0                 0     True"
            ],
            "text/html": [
              "\n",
              "  <div id=\"df-ca173a8b-f947-4880-ae5f-a93c34647580\">\n",
              "    <div class=\"colab-df-container\">\n",
              "      <div>\n",
              "<style scoped>\n",
              "    .dataframe tbody tr th:only-of-type {\n",
              "        vertical-align: middle;\n",
              "    }\n",
              "\n",
              "    .dataframe tbody tr th {\n",
              "        vertical-align: top;\n",
              "    }\n",
              "\n",
              "    .dataframe thead th {\n",
              "        text-align: right;\n",
              "    }\n",
              "</style>\n",
              "<table border=\"1\" class=\"dataframe\">\n",
              "  <thead>\n",
              "    <tr style=\"text-align: right;\">\n",
              "      <th></th>\n",
              "      <th>Expected Output</th>\n",
              "      <th>Predicted Output</th>\n",
              "      <th>Success</th>\n",
              "    </tr>\n",
              "  </thead>\n",
              "  <tbody>\n",
              "    <tr>\n",
              "      <th>0</th>\n",
              "      <td>0</td>\n",
              "      <td>0</td>\n",
              "      <td>True</td>\n",
              "    </tr>\n",
              "    <tr>\n",
              "      <th>1</th>\n",
              "      <td>0</td>\n",
              "      <td>2</td>\n",
              "      <td>False</td>\n",
              "    </tr>\n",
              "    <tr>\n",
              "      <th>2</th>\n",
              "      <td>0</td>\n",
              "      <td>1</td>\n",
              "      <td>False</td>\n",
              "    </tr>\n",
              "    <tr>\n",
              "      <th>3</th>\n",
              "      <td>0</td>\n",
              "      <td>0</td>\n",
              "      <td>True</td>\n",
              "    </tr>\n",
              "    <tr>\n",
              "      <th>4</th>\n",
              "      <td>0</td>\n",
              "      <td>0</td>\n",
              "      <td>True</td>\n",
              "    </tr>\n",
              "  </tbody>\n",
              "</table>\n",
              "</div>\n",
              "      <button class=\"colab-df-convert\" onclick=\"convertToInteractive('df-ca173a8b-f947-4880-ae5f-a93c34647580')\"\n",
              "              title=\"Convert this dataframe to an interactive table.\"\n",
              "              style=\"display:none;\">\n",
              "        \n",
              "  <svg xmlns=\"http://www.w3.org/2000/svg\" height=\"24px\"viewBox=\"0 0 24 24\"\n",
              "       width=\"24px\">\n",
              "    <path d=\"M0 0h24v24H0V0z\" fill=\"none\"/>\n",
              "    <path d=\"M18.56 5.44l.94 2.06.94-2.06 2.06-.94-2.06-.94-.94-2.06-.94 2.06-2.06.94zm-11 1L8.5 8.5l.94-2.06 2.06-.94-2.06-.94L8.5 2.5l-.94 2.06-2.06.94zm10 10l.94 2.06.94-2.06 2.06-.94-2.06-.94-.94-2.06-.94 2.06-2.06.94z\"/><path d=\"M17.41 7.96l-1.37-1.37c-.4-.4-.92-.59-1.43-.59-.52 0-1.04.2-1.43.59L10.3 9.45l-7.72 7.72c-.78.78-.78 2.05 0 2.83L4 21.41c.39.39.9.59 1.41.59.51 0 1.02-.2 1.41-.59l7.78-7.78 2.81-2.81c.8-.78.8-2.07 0-2.86zM5.41 20L4 18.59l7.72-7.72 1.47 1.35L5.41 20z\"/>\n",
              "  </svg>\n",
              "      </button>\n",
              "      \n",
              "  <style>\n",
              "    .colab-df-container {\n",
              "      display:flex;\n",
              "      flex-wrap:wrap;\n",
              "      gap: 12px;\n",
              "    }\n",
              "\n",
              "    .colab-df-convert {\n",
              "      background-color: #E8F0FE;\n",
              "      border: none;\n",
              "      border-radius: 50%;\n",
              "      cursor: pointer;\n",
              "      display: none;\n",
              "      fill: #1967D2;\n",
              "      height: 32px;\n",
              "      padding: 0 0 0 0;\n",
              "      width: 32px;\n",
              "    }\n",
              "\n",
              "    .colab-df-convert:hover {\n",
              "      background-color: #E2EBFA;\n",
              "      box-shadow: 0px 1px 2px rgba(60, 64, 67, 0.3), 0px 1px 3px 1px rgba(60, 64, 67, 0.15);\n",
              "      fill: #174EA6;\n",
              "    }\n",
              "\n",
              "    [theme=dark] .colab-df-convert {\n",
              "      background-color: #3B4455;\n",
              "      fill: #D2E3FC;\n",
              "    }\n",
              "\n",
              "    [theme=dark] .colab-df-convert:hover {\n",
              "      background-color: #434B5C;\n",
              "      box-shadow: 0px 1px 3px 1px rgba(0, 0, 0, 0.15);\n",
              "      filter: drop-shadow(0px 1px 2px rgba(0, 0, 0, 0.3));\n",
              "      fill: #FFFFFF;\n",
              "    }\n",
              "  </style>\n",
              "\n",
              "      <script>\n",
              "        const buttonEl =\n",
              "          document.querySelector('#df-ca173a8b-f947-4880-ae5f-a93c34647580 button.colab-df-convert');\n",
              "        buttonEl.style.display =\n",
              "          google.colab.kernel.accessAllowed ? 'block' : 'none';\n",
              "\n",
              "        async function convertToInteractive(key) {\n",
              "          const element = document.querySelector('#df-ca173a8b-f947-4880-ae5f-a93c34647580');\n",
              "          const dataTable =\n",
              "            await google.colab.kernel.invokeFunction('convertToInteractive',\n",
              "                                                     [key], {});\n",
              "          if (!dataTable) return;\n",
              "\n",
              "          const docLinkHtml = 'Like what you see? Visit the ' +\n",
              "            '<a target=\"_blank\" href=https://colab.research.google.com/notebooks/data_table.ipynb>data table notebook</a>'\n",
              "            + ' to learn more about interactive tables.';\n",
              "          element.innerHTML = '';\n",
              "          dataTable['output_type'] = 'display_data';\n",
              "          await google.colab.output.renderOutput(dataTable, element);\n",
              "          const docLink = document.createElement('div');\n",
              "          docLink.innerHTML = docLinkHtml;\n",
              "          element.appendChild(docLink);\n",
              "        }\n",
              "      </script>\n",
              "    </div>\n",
              "  </div>\n",
              "  "
            ]
          },
          "metadata": {},
          "execution_count": 1309
        }
      ]
    },
    {
      "cell_type": "code",
      "source": [
        "output[\"Success\"].value_counts()"
      ],
      "metadata": {
        "colab": {
          "base_uri": "https://localhost:8080/"
        },
        "id": "O0ZeRN0I_vAC",
        "outputId": "a5dd9eac-26cb-4b1e-8169-eb44c2bcac61"
      },
      "execution_count": 1310,
      "outputs": [
        {
          "output_type": "execute_result",
          "data": {
            "text/plain": [
              "True     507\n",
              "False    153\n",
              "Name: Success, dtype: int64"
            ]
          },
          "metadata": {},
          "execution_count": 1310
        }
      ]
    },
    {
      "cell_type": "code",
      "source": [
        "val = xgb.predict(X_rus_test)\n",
        "\n",
        "lb = preprocessing.LabelBinarizer()\n",
        "lb.fit(y_rus_test)\n",
        "\n",
        "y_test_lb = lb.transform(y_rus_test)\n",
        "val_lb = lb.transform(val)\n",
        "\n",
        "roc_auc_score(y_test_lb, val_lb, average='macro')"
      ],
      "metadata": {
        "colab": {
          "base_uri": "https://localhost:8080/"
        },
        "id": "ZVfKwCOBTiBx",
        "outputId": "42b009af-8be0-45f3-e262-3d20a4fa6112"
      },
      "execution_count": 1311,
      "outputs": [
        {
          "output_type": "execute_result",
          "data": {
            "text/plain": [
              "0.8363636363636364"
            ]
          },
          "metadata": {},
          "execution_count": 1311
        }
      ]
    },
    {
      "cell_type": "markdown",
      "metadata": {
        "id": "XKkpeObuZc55"
      },
      "source": [
        "## 4.3 Evaluación del modelo. Decision Tree"
      ]
    },
    {
      "cell_type": "markdown",
      "metadata": {
        "id": "JxkFet_eZc55"
      },
      "source": [
        "#### Opción 1: a través de los resultados"
      ]
    },
    {
      "cell_type": "code",
      "execution_count": 1465,
      "metadata": {
        "collapsed": true,
        "id": "1DGx8h7OZc55"
      },
      "outputs": [],
      "source": [
        "#y_test_pred = pd.DataFrame(dt.predict(X_rus_test), index=y_rus_test.index, columns=['Predicciones'])\n",
        "y_test_pred = pd.DataFrame(dt.predict(X_test), index=y_test.index, columns=['Predicciones'])\n"
      ]
    },
    {
      "cell_type": "code",
      "execution_count": 1466,
      "metadata": {
        "id": "tF8nRMShZc55",
        "colab": {
          "base_uri": "https://localhost:8080/",
          "height": 206
        },
        "outputId": "9493d46b-b622-4074-e4d5-a02874a49b51"
      },
      "outputs": [
        {
          "output_type": "execute_result",
          "data": {
            "text/plain": [
              "    Predicciones\n",
              "4              0\n",
              "16             1\n",
              "34             1\n",
              "64             0\n",
              "98             1"
            ],
            "text/html": [
              "\n",
              "  <div id=\"df-712a7cd1-fab5-4480-b5e6-9eea9ff1ad60\">\n",
              "    <div class=\"colab-df-container\">\n",
              "      <div>\n",
              "<style scoped>\n",
              "    .dataframe tbody tr th:only-of-type {\n",
              "        vertical-align: middle;\n",
              "    }\n",
              "\n",
              "    .dataframe tbody tr th {\n",
              "        vertical-align: top;\n",
              "    }\n",
              "\n",
              "    .dataframe thead th {\n",
              "        text-align: right;\n",
              "    }\n",
              "</style>\n",
              "<table border=\"1\" class=\"dataframe\">\n",
              "  <thead>\n",
              "    <tr style=\"text-align: right;\">\n",
              "      <th></th>\n",
              "      <th>Predicciones</th>\n",
              "    </tr>\n",
              "  </thead>\n",
              "  <tbody>\n",
              "    <tr>\n",
              "      <th>4</th>\n",
              "      <td>0</td>\n",
              "    </tr>\n",
              "    <tr>\n",
              "      <th>16</th>\n",
              "      <td>1</td>\n",
              "    </tr>\n",
              "    <tr>\n",
              "      <th>34</th>\n",
              "      <td>1</td>\n",
              "    </tr>\n",
              "    <tr>\n",
              "      <th>64</th>\n",
              "      <td>0</td>\n",
              "    </tr>\n",
              "    <tr>\n",
              "      <th>98</th>\n",
              "      <td>1</td>\n",
              "    </tr>\n",
              "  </tbody>\n",
              "</table>\n",
              "</div>\n",
              "      <button class=\"colab-df-convert\" onclick=\"convertToInteractive('df-712a7cd1-fab5-4480-b5e6-9eea9ff1ad60')\"\n",
              "              title=\"Convert this dataframe to an interactive table.\"\n",
              "              style=\"display:none;\">\n",
              "        \n",
              "  <svg xmlns=\"http://www.w3.org/2000/svg\" height=\"24px\"viewBox=\"0 0 24 24\"\n",
              "       width=\"24px\">\n",
              "    <path d=\"M0 0h24v24H0V0z\" fill=\"none\"/>\n",
              "    <path d=\"M18.56 5.44l.94 2.06.94-2.06 2.06-.94-2.06-.94-.94-2.06-.94 2.06-2.06.94zm-11 1L8.5 8.5l.94-2.06 2.06-.94-2.06-.94L8.5 2.5l-.94 2.06-2.06.94zm10 10l.94 2.06.94-2.06 2.06-.94-2.06-.94-.94-2.06-.94 2.06-2.06.94z\"/><path d=\"M17.41 7.96l-1.37-1.37c-.4-.4-.92-.59-1.43-.59-.52 0-1.04.2-1.43.59L10.3 9.45l-7.72 7.72c-.78.78-.78 2.05 0 2.83L4 21.41c.39.39.9.59 1.41.59.51 0 1.02-.2 1.41-.59l7.78-7.78 2.81-2.81c.8-.78.8-2.07 0-2.86zM5.41 20L4 18.59l7.72-7.72 1.47 1.35L5.41 20z\"/>\n",
              "  </svg>\n",
              "      </button>\n",
              "      \n",
              "  <style>\n",
              "    .colab-df-container {\n",
              "      display:flex;\n",
              "      flex-wrap:wrap;\n",
              "      gap: 12px;\n",
              "    }\n",
              "\n",
              "    .colab-df-convert {\n",
              "      background-color: #E8F0FE;\n",
              "      border: none;\n",
              "      border-radius: 50%;\n",
              "      cursor: pointer;\n",
              "      display: none;\n",
              "      fill: #1967D2;\n",
              "      height: 32px;\n",
              "      padding: 0 0 0 0;\n",
              "      width: 32px;\n",
              "    }\n",
              "\n",
              "    .colab-df-convert:hover {\n",
              "      background-color: #E2EBFA;\n",
              "      box-shadow: 0px 1px 2px rgba(60, 64, 67, 0.3), 0px 1px 3px 1px rgba(60, 64, 67, 0.15);\n",
              "      fill: #174EA6;\n",
              "    }\n",
              "\n",
              "    [theme=dark] .colab-df-convert {\n",
              "      background-color: #3B4455;\n",
              "      fill: #D2E3FC;\n",
              "    }\n",
              "\n",
              "    [theme=dark] .colab-df-convert:hover {\n",
              "      background-color: #434B5C;\n",
              "      box-shadow: 0px 1px 3px 1px rgba(0, 0, 0, 0.15);\n",
              "      filter: drop-shadow(0px 1px 2px rgba(0, 0, 0, 0.3));\n",
              "      fill: #FFFFFF;\n",
              "    }\n",
              "  </style>\n",
              "\n",
              "      <script>\n",
              "        const buttonEl =\n",
              "          document.querySelector('#df-712a7cd1-fab5-4480-b5e6-9eea9ff1ad60 button.colab-df-convert');\n",
              "        buttonEl.style.display =\n",
              "          google.colab.kernel.accessAllowed ? 'block' : 'none';\n",
              "\n",
              "        async function convertToInteractive(key) {\n",
              "          const element = document.querySelector('#df-712a7cd1-fab5-4480-b5e6-9eea9ff1ad60');\n",
              "          const dataTable =\n",
              "            await google.colab.kernel.invokeFunction('convertToInteractive',\n",
              "                                                     [key], {});\n",
              "          if (!dataTable) return;\n",
              "\n",
              "          const docLinkHtml = 'Like what you see? Visit the ' +\n",
              "            '<a target=\"_blank\" href=https://colab.research.google.com/notebooks/data_table.ipynb>data table notebook</a>'\n",
              "            + ' to learn more about interactive tables.';\n",
              "          element.innerHTML = '';\n",
              "          dataTable['output_type'] = 'display_data';\n",
              "          await google.colab.output.renderOutput(dataTable, element);\n",
              "          const docLink = document.createElement('div');\n",
              "          docLink.innerHTML = docLinkHtml;\n",
              "          element.appendChild(docLink);\n",
              "        }\n",
              "      </script>\n",
              "    </div>\n",
              "  </div>\n",
              "  "
            ]
          },
          "metadata": {},
          "execution_count": 1466
        }
      ],
      "source": [
        "y_test_pred.head()"
      ]
    },
    {
      "cell_type": "code",
      "execution_count": 1467,
      "metadata": {
        "id": "6Tu4NP9NZc55",
        "colab": {
          "base_uri": "https://localhost:8080/"
        },
        "outputId": "c1fcd066-05fc-42da-a600-0d7b535476e6"
      },
      "outputs": [
        {
          "output_type": "stream",
          "name": "stdout",
          "text": [
            "<class 'pandas.core.frame.DataFrame'>\n",
            "Int64Index: 500 entries, 4 to 4994\n",
            "Data columns (total 1 columns):\n",
            " #   Column        Non-Null Count  Dtype\n",
            "---  ------        --------------  -----\n",
            " 0   Predicciones  500 non-null    int64\n",
            "dtypes: int64(1)\n",
            "memory usage: 24.0 KB\n"
          ]
        }
      ],
      "source": [
        "y_test_pred.info()"
      ]
    },
    {
      "cell_type": "code",
      "execution_count": 1468,
      "metadata": {
        "id": "MtK7D2ToZc55",
        "colab": {
          "base_uri": "https://localhost:8080/"
        },
        "outputId": "d941c3d9-f127-4d99-8d16-29e72fe00e98"
      },
      "outputs": [
        {
          "output_type": "execute_result",
          "data": {
            "text/plain": [
              "(500, 1)"
            ]
          },
          "metadata": {},
          "execution_count": 1468
        }
      ],
      "source": [
        "y_test_pred.shape"
      ]
    },
    {
      "cell_type": "code",
      "source": [
        "y_test = pd.DataFrame(y_test)"
      ],
      "metadata": {
        "id": "KzisXLk-DRDY"
      },
      "execution_count": 1469,
      "outputs": []
    },
    {
      "cell_type": "code",
      "source": [
        "y_test"
      ],
      "metadata": {
        "colab": {
          "base_uri": "https://localhost:8080/",
          "height": 424
        },
        "id": "lwjg10bnDaZV",
        "outputId": "6c0bf187-0a7c-43ac-efe9-04ad104ad507"
      },
      "execution_count": 1470,
      "outputs": [
        {
          "output_type": "execute_result",
          "data": {
            "text/plain": [
              "      Insect\n",
              "4          2\n",
              "16         0\n",
              "34         0\n",
              "64         0\n",
              "98         0\n",
              "...      ...\n",
              "4953       2\n",
              "4985       1\n",
              "4986       1\n",
              "4992       1\n",
              "4994       0\n",
              "\n",
              "[500 rows x 1 columns]"
            ],
            "text/html": [
              "\n",
              "  <div id=\"df-81218444-2ca2-47b1-933d-d2750188710d\">\n",
              "    <div class=\"colab-df-container\">\n",
              "      <div>\n",
              "<style scoped>\n",
              "    .dataframe tbody tr th:only-of-type {\n",
              "        vertical-align: middle;\n",
              "    }\n",
              "\n",
              "    .dataframe tbody tr th {\n",
              "        vertical-align: top;\n",
              "    }\n",
              "\n",
              "    .dataframe thead th {\n",
              "        text-align: right;\n",
              "    }\n",
              "</style>\n",
              "<table border=\"1\" class=\"dataframe\">\n",
              "  <thead>\n",
              "    <tr style=\"text-align: right;\">\n",
              "      <th></th>\n",
              "      <th>Insect</th>\n",
              "    </tr>\n",
              "  </thead>\n",
              "  <tbody>\n",
              "    <tr>\n",
              "      <th>4</th>\n",
              "      <td>2</td>\n",
              "    </tr>\n",
              "    <tr>\n",
              "      <th>16</th>\n",
              "      <td>0</td>\n",
              "    </tr>\n",
              "    <tr>\n",
              "      <th>34</th>\n",
              "      <td>0</td>\n",
              "    </tr>\n",
              "    <tr>\n",
              "      <th>64</th>\n",
              "      <td>0</td>\n",
              "    </tr>\n",
              "    <tr>\n",
              "      <th>98</th>\n",
              "      <td>0</td>\n",
              "    </tr>\n",
              "    <tr>\n",
              "      <th>...</th>\n",
              "      <td>...</td>\n",
              "    </tr>\n",
              "    <tr>\n",
              "      <th>4953</th>\n",
              "      <td>2</td>\n",
              "    </tr>\n",
              "    <tr>\n",
              "      <th>4985</th>\n",
              "      <td>1</td>\n",
              "    </tr>\n",
              "    <tr>\n",
              "      <th>4986</th>\n",
              "      <td>1</td>\n",
              "    </tr>\n",
              "    <tr>\n",
              "      <th>4992</th>\n",
              "      <td>1</td>\n",
              "    </tr>\n",
              "    <tr>\n",
              "      <th>4994</th>\n",
              "      <td>0</td>\n",
              "    </tr>\n",
              "  </tbody>\n",
              "</table>\n",
              "<p>500 rows × 1 columns</p>\n",
              "</div>\n",
              "      <button class=\"colab-df-convert\" onclick=\"convertToInteractive('df-81218444-2ca2-47b1-933d-d2750188710d')\"\n",
              "              title=\"Convert this dataframe to an interactive table.\"\n",
              "              style=\"display:none;\">\n",
              "        \n",
              "  <svg xmlns=\"http://www.w3.org/2000/svg\" height=\"24px\"viewBox=\"0 0 24 24\"\n",
              "       width=\"24px\">\n",
              "    <path d=\"M0 0h24v24H0V0z\" fill=\"none\"/>\n",
              "    <path d=\"M18.56 5.44l.94 2.06.94-2.06 2.06-.94-2.06-.94-.94-2.06-.94 2.06-2.06.94zm-11 1L8.5 8.5l.94-2.06 2.06-.94-2.06-.94L8.5 2.5l-.94 2.06-2.06.94zm10 10l.94 2.06.94-2.06 2.06-.94-2.06-.94-.94-2.06-.94 2.06-2.06.94z\"/><path d=\"M17.41 7.96l-1.37-1.37c-.4-.4-.92-.59-1.43-.59-.52 0-1.04.2-1.43.59L10.3 9.45l-7.72 7.72c-.78.78-.78 2.05 0 2.83L4 21.41c.39.39.9.59 1.41.59.51 0 1.02-.2 1.41-.59l7.78-7.78 2.81-2.81c.8-.78.8-2.07 0-2.86zM5.41 20L4 18.59l7.72-7.72 1.47 1.35L5.41 20z\"/>\n",
              "  </svg>\n",
              "      </button>\n",
              "      \n",
              "  <style>\n",
              "    .colab-df-container {\n",
              "      display:flex;\n",
              "      flex-wrap:wrap;\n",
              "      gap: 12px;\n",
              "    }\n",
              "\n",
              "    .colab-df-convert {\n",
              "      background-color: #E8F0FE;\n",
              "      border: none;\n",
              "      border-radius: 50%;\n",
              "      cursor: pointer;\n",
              "      display: none;\n",
              "      fill: #1967D2;\n",
              "      height: 32px;\n",
              "      padding: 0 0 0 0;\n",
              "      width: 32px;\n",
              "    }\n",
              "\n",
              "    .colab-df-convert:hover {\n",
              "      background-color: #E2EBFA;\n",
              "      box-shadow: 0px 1px 2px rgba(60, 64, 67, 0.3), 0px 1px 3px 1px rgba(60, 64, 67, 0.15);\n",
              "      fill: #174EA6;\n",
              "    }\n",
              "\n",
              "    [theme=dark] .colab-df-convert {\n",
              "      background-color: #3B4455;\n",
              "      fill: #D2E3FC;\n",
              "    }\n",
              "\n",
              "    [theme=dark] .colab-df-convert:hover {\n",
              "      background-color: #434B5C;\n",
              "      box-shadow: 0px 1px 3px 1px rgba(0, 0, 0, 0.15);\n",
              "      filter: drop-shadow(0px 1px 2px rgba(0, 0, 0, 0.3));\n",
              "      fill: #FFFFFF;\n",
              "    }\n",
              "  </style>\n",
              "\n",
              "      <script>\n",
              "        const buttonEl =\n",
              "          document.querySelector('#df-81218444-2ca2-47b1-933d-d2750188710d button.colab-df-convert');\n",
              "        buttonEl.style.display =\n",
              "          google.colab.kernel.accessAllowed ? 'block' : 'none';\n",
              "\n",
              "        async function convertToInteractive(key) {\n",
              "          const element = document.querySelector('#df-81218444-2ca2-47b1-933d-d2750188710d');\n",
              "          const dataTable =\n",
              "            await google.colab.kernel.invokeFunction('convertToInteractive',\n",
              "                                                     [key], {});\n",
              "          if (!dataTable) return;\n",
              "\n",
              "          const docLinkHtml = 'Like what you see? Visit the ' +\n",
              "            '<a target=\"_blank\" href=https://colab.research.google.com/notebooks/data_table.ipynb>data table notebook</a>'\n",
              "            + ' to learn more about interactive tables.';\n",
              "          element.innerHTML = '';\n",
              "          dataTable['output_type'] = 'display_data';\n",
              "          await google.colab.output.renderOutput(dataTable, element);\n",
              "          const docLink = document.createElement('div');\n",
              "          docLink.innerHTML = docLinkHtml;\n",
              "          element.appendChild(docLink);\n",
              "        }\n",
              "      </script>\n",
              "    </div>\n",
              "  </div>\n",
              "  "
            ]
          },
          "metadata": {},
          "execution_count": 1470
        }
      ]
    },
    {
      "cell_type": "code",
      "execution_count": 1471,
      "metadata": {
        "collapsed": true,
        "id": "-lbRgOfOZc55"
      },
      "outputs": [],
      "source": [
        "results_df = y_test.join(y_test_pred, how= 'inner')"
      ]
    },
    {
      "cell_type": "code",
      "source": [
        "results_df.info()"
      ],
      "metadata": {
        "colab": {
          "base_uri": "https://localhost:8080/"
        },
        "id": "UFLVTVK1bNA1",
        "outputId": "88828d57-f837-4736-c300-b58e8b6da5e4"
      },
      "execution_count": 1472,
      "outputs": [
        {
          "output_type": "stream",
          "name": "stdout",
          "text": [
            "<class 'pandas.core.frame.DataFrame'>\n",
            "Int64Index: 500 entries, 4 to 4994\n",
            "Data columns (total 2 columns):\n",
            " #   Column        Non-Null Count  Dtype\n",
            "---  ------        --------------  -----\n",
            " 0   Insect        500 non-null    int64\n",
            " 1   Predicciones  500 non-null    int64\n",
            "dtypes: int64(2)\n",
            "memory usage: 27.9 KB\n"
          ]
        }
      ]
    },
    {
      "cell_type": "code",
      "execution_count": 1473,
      "metadata": {
        "id": "4krOL1hioD9s",
        "colab": {
          "base_uri": "https://localhost:8080/",
          "height": 206
        },
        "outputId": "e988dbea-7a01-40e5-b24b-e4a80c236d18"
      },
      "outputs": [
        {
          "output_type": "execute_result",
          "data": {
            "text/plain": [
              "    Insect  Predicciones\n",
              "4        2             0\n",
              "16       0             1\n",
              "34       0             1\n",
              "64       0             0\n",
              "98       0             1"
            ],
            "text/html": [
              "\n",
              "  <div id=\"df-510e82e6-fe7a-4808-b33f-a904147d980f\">\n",
              "    <div class=\"colab-df-container\">\n",
              "      <div>\n",
              "<style scoped>\n",
              "    .dataframe tbody tr th:only-of-type {\n",
              "        vertical-align: middle;\n",
              "    }\n",
              "\n",
              "    .dataframe tbody tr th {\n",
              "        vertical-align: top;\n",
              "    }\n",
              "\n",
              "    .dataframe thead th {\n",
              "        text-align: right;\n",
              "    }\n",
              "</style>\n",
              "<table border=\"1\" class=\"dataframe\">\n",
              "  <thead>\n",
              "    <tr style=\"text-align: right;\">\n",
              "      <th></th>\n",
              "      <th>Insect</th>\n",
              "      <th>Predicciones</th>\n",
              "    </tr>\n",
              "  </thead>\n",
              "  <tbody>\n",
              "    <tr>\n",
              "      <th>4</th>\n",
              "      <td>2</td>\n",
              "      <td>0</td>\n",
              "    </tr>\n",
              "    <tr>\n",
              "      <th>16</th>\n",
              "      <td>0</td>\n",
              "      <td>1</td>\n",
              "    </tr>\n",
              "    <tr>\n",
              "      <th>34</th>\n",
              "      <td>0</td>\n",
              "      <td>1</td>\n",
              "    </tr>\n",
              "    <tr>\n",
              "      <th>64</th>\n",
              "      <td>0</td>\n",
              "      <td>0</td>\n",
              "    </tr>\n",
              "    <tr>\n",
              "      <th>98</th>\n",
              "      <td>0</td>\n",
              "      <td>1</td>\n",
              "    </tr>\n",
              "  </tbody>\n",
              "</table>\n",
              "</div>\n",
              "      <button class=\"colab-df-convert\" onclick=\"convertToInteractive('df-510e82e6-fe7a-4808-b33f-a904147d980f')\"\n",
              "              title=\"Convert this dataframe to an interactive table.\"\n",
              "              style=\"display:none;\">\n",
              "        \n",
              "  <svg xmlns=\"http://www.w3.org/2000/svg\" height=\"24px\"viewBox=\"0 0 24 24\"\n",
              "       width=\"24px\">\n",
              "    <path d=\"M0 0h24v24H0V0z\" fill=\"none\"/>\n",
              "    <path d=\"M18.56 5.44l.94 2.06.94-2.06 2.06-.94-2.06-.94-.94-2.06-.94 2.06-2.06.94zm-11 1L8.5 8.5l.94-2.06 2.06-.94-2.06-.94L8.5 2.5l-.94 2.06-2.06.94zm10 10l.94 2.06.94-2.06 2.06-.94-2.06-.94-.94-2.06-.94 2.06-2.06.94z\"/><path d=\"M17.41 7.96l-1.37-1.37c-.4-.4-.92-.59-1.43-.59-.52 0-1.04.2-1.43.59L10.3 9.45l-7.72 7.72c-.78.78-.78 2.05 0 2.83L4 21.41c.39.39.9.59 1.41.59.51 0 1.02-.2 1.41-.59l7.78-7.78 2.81-2.81c.8-.78.8-2.07 0-2.86zM5.41 20L4 18.59l7.72-7.72 1.47 1.35L5.41 20z\"/>\n",
              "  </svg>\n",
              "      </button>\n",
              "      \n",
              "  <style>\n",
              "    .colab-df-container {\n",
              "      display:flex;\n",
              "      flex-wrap:wrap;\n",
              "      gap: 12px;\n",
              "    }\n",
              "\n",
              "    .colab-df-convert {\n",
              "      background-color: #E8F0FE;\n",
              "      border: none;\n",
              "      border-radius: 50%;\n",
              "      cursor: pointer;\n",
              "      display: none;\n",
              "      fill: #1967D2;\n",
              "      height: 32px;\n",
              "      padding: 0 0 0 0;\n",
              "      width: 32px;\n",
              "    }\n",
              "\n",
              "    .colab-df-convert:hover {\n",
              "      background-color: #E2EBFA;\n",
              "      box-shadow: 0px 1px 2px rgba(60, 64, 67, 0.3), 0px 1px 3px 1px rgba(60, 64, 67, 0.15);\n",
              "      fill: #174EA6;\n",
              "    }\n",
              "\n",
              "    [theme=dark] .colab-df-convert {\n",
              "      background-color: #3B4455;\n",
              "      fill: #D2E3FC;\n",
              "    }\n",
              "\n",
              "    [theme=dark] .colab-df-convert:hover {\n",
              "      background-color: #434B5C;\n",
              "      box-shadow: 0px 1px 3px 1px rgba(0, 0, 0, 0.15);\n",
              "      filter: drop-shadow(0px 1px 2px rgba(0, 0, 0, 0.3));\n",
              "      fill: #FFFFFF;\n",
              "    }\n",
              "  </style>\n",
              "\n",
              "      <script>\n",
              "        const buttonEl =\n",
              "          document.querySelector('#df-510e82e6-fe7a-4808-b33f-a904147d980f button.colab-df-convert');\n",
              "        buttonEl.style.display =\n",
              "          google.colab.kernel.accessAllowed ? 'block' : 'none';\n",
              "\n",
              "        async function convertToInteractive(key) {\n",
              "          const element = document.querySelector('#df-510e82e6-fe7a-4808-b33f-a904147d980f');\n",
              "          const dataTable =\n",
              "            await google.colab.kernel.invokeFunction('convertToInteractive',\n",
              "                                                     [key], {});\n",
              "          if (!dataTable) return;\n",
              "\n",
              "          const docLinkHtml = 'Like what you see? Visit the ' +\n",
              "            '<a target=\"_blank\" href=https://colab.research.google.com/notebooks/data_table.ipynb>data table notebook</a>'\n",
              "            + ' to learn more about interactive tables.';\n",
              "          element.innerHTML = '';\n",
              "          dataTable['output_type'] = 'display_data';\n",
              "          await google.colab.output.renderOutput(dataTable, element);\n",
              "          const docLink = document.createElement('div');\n",
              "          docLink.innerHTML = docLinkHtml;\n",
              "          element.appendChild(docLink);\n",
              "        }\n",
              "      </script>\n",
              "    </div>\n",
              "  </div>\n",
              "  "
            ]
          },
          "metadata": {},
          "execution_count": 1473
        }
      ],
      "source": [
        "results_df.head()"
      ]
    },
    {
      "cell_type": "code",
      "execution_count": 1474,
      "metadata": {
        "id": "8hn42Xnx6kCP",
        "colab": {
          "base_uri": "https://localhost:8080/"
        },
        "outputId": "f8c6676b-2d06-4f44-d6d7-1fbd0512a8f6"
      },
      "outputs": [
        {
          "output_type": "execute_result",
          "data": {
            "text/plain": [
              "0    261\n",
              "1    191\n",
              "2     48\n",
              "Name: Insect, dtype: int64"
            ]
          },
          "metadata": {},
          "execution_count": 1474
        }
      ],
      "source": [
        "results_df[\"Insect\"].value_counts()"
      ]
    },
    {
      "cell_type": "code",
      "execution_count": 1475,
      "metadata": {
        "collapsed": true,
        "id": "OwQ-IQXZZc55"
      },
      "outputs": [],
      "source": [
        "results_df['Success'] = (results_df['Insect'] == results_df['Predicciones']).astype(int)"
      ]
    },
    {
      "cell_type": "code",
      "execution_count": 1476,
      "metadata": {
        "id": "3Hz3wr3zZc55",
        "colab": {
          "base_uri": "https://localhost:8080/",
          "height": 206
        },
        "outputId": "a8a8af9c-d97b-4352-f00c-7145c9b494e8"
      },
      "outputs": [
        {
          "output_type": "execute_result",
          "data": {
            "text/plain": [
              "    Insect  Predicciones  Success\n",
              "4        2             0        0\n",
              "16       0             1        0\n",
              "34       0             1        0\n",
              "64       0             0        1\n",
              "98       0             1        0"
            ],
            "text/html": [
              "\n",
              "  <div id=\"df-773cefe7-4386-4038-9476-acefb07e2d71\">\n",
              "    <div class=\"colab-df-container\">\n",
              "      <div>\n",
              "<style scoped>\n",
              "    .dataframe tbody tr th:only-of-type {\n",
              "        vertical-align: middle;\n",
              "    }\n",
              "\n",
              "    .dataframe tbody tr th {\n",
              "        vertical-align: top;\n",
              "    }\n",
              "\n",
              "    .dataframe thead th {\n",
              "        text-align: right;\n",
              "    }\n",
              "</style>\n",
              "<table border=\"1\" class=\"dataframe\">\n",
              "  <thead>\n",
              "    <tr style=\"text-align: right;\">\n",
              "      <th></th>\n",
              "      <th>Insect</th>\n",
              "      <th>Predicciones</th>\n",
              "      <th>Success</th>\n",
              "    </tr>\n",
              "  </thead>\n",
              "  <tbody>\n",
              "    <tr>\n",
              "      <th>4</th>\n",
              "      <td>2</td>\n",
              "      <td>0</td>\n",
              "      <td>0</td>\n",
              "    </tr>\n",
              "    <tr>\n",
              "      <th>16</th>\n",
              "      <td>0</td>\n",
              "      <td>1</td>\n",
              "      <td>0</td>\n",
              "    </tr>\n",
              "    <tr>\n",
              "      <th>34</th>\n",
              "      <td>0</td>\n",
              "      <td>1</td>\n",
              "      <td>0</td>\n",
              "    </tr>\n",
              "    <tr>\n",
              "      <th>64</th>\n",
              "      <td>0</td>\n",
              "      <td>0</td>\n",
              "      <td>1</td>\n",
              "    </tr>\n",
              "    <tr>\n",
              "      <th>98</th>\n",
              "      <td>0</td>\n",
              "      <td>1</td>\n",
              "      <td>0</td>\n",
              "    </tr>\n",
              "  </tbody>\n",
              "</table>\n",
              "</div>\n",
              "      <button class=\"colab-df-convert\" onclick=\"convertToInteractive('df-773cefe7-4386-4038-9476-acefb07e2d71')\"\n",
              "              title=\"Convert this dataframe to an interactive table.\"\n",
              "              style=\"display:none;\">\n",
              "        \n",
              "  <svg xmlns=\"http://www.w3.org/2000/svg\" height=\"24px\"viewBox=\"0 0 24 24\"\n",
              "       width=\"24px\">\n",
              "    <path d=\"M0 0h24v24H0V0z\" fill=\"none\"/>\n",
              "    <path d=\"M18.56 5.44l.94 2.06.94-2.06 2.06-.94-2.06-.94-.94-2.06-.94 2.06-2.06.94zm-11 1L8.5 8.5l.94-2.06 2.06-.94-2.06-.94L8.5 2.5l-.94 2.06-2.06.94zm10 10l.94 2.06.94-2.06 2.06-.94-2.06-.94-.94-2.06-.94 2.06-2.06.94z\"/><path d=\"M17.41 7.96l-1.37-1.37c-.4-.4-.92-.59-1.43-.59-.52 0-1.04.2-1.43.59L10.3 9.45l-7.72 7.72c-.78.78-.78 2.05 0 2.83L4 21.41c.39.39.9.59 1.41.59.51 0 1.02-.2 1.41-.59l7.78-7.78 2.81-2.81c.8-.78.8-2.07 0-2.86zM5.41 20L4 18.59l7.72-7.72 1.47 1.35L5.41 20z\"/>\n",
              "  </svg>\n",
              "      </button>\n",
              "      \n",
              "  <style>\n",
              "    .colab-df-container {\n",
              "      display:flex;\n",
              "      flex-wrap:wrap;\n",
              "      gap: 12px;\n",
              "    }\n",
              "\n",
              "    .colab-df-convert {\n",
              "      background-color: #E8F0FE;\n",
              "      border: none;\n",
              "      border-radius: 50%;\n",
              "      cursor: pointer;\n",
              "      display: none;\n",
              "      fill: #1967D2;\n",
              "      height: 32px;\n",
              "      padding: 0 0 0 0;\n",
              "      width: 32px;\n",
              "    }\n",
              "\n",
              "    .colab-df-convert:hover {\n",
              "      background-color: #E2EBFA;\n",
              "      box-shadow: 0px 1px 2px rgba(60, 64, 67, 0.3), 0px 1px 3px 1px rgba(60, 64, 67, 0.15);\n",
              "      fill: #174EA6;\n",
              "    }\n",
              "\n",
              "    [theme=dark] .colab-df-convert {\n",
              "      background-color: #3B4455;\n",
              "      fill: #D2E3FC;\n",
              "    }\n",
              "\n",
              "    [theme=dark] .colab-df-convert:hover {\n",
              "      background-color: #434B5C;\n",
              "      box-shadow: 0px 1px 3px 1px rgba(0, 0, 0, 0.15);\n",
              "      filter: drop-shadow(0px 1px 2px rgba(0, 0, 0, 0.3));\n",
              "      fill: #FFFFFF;\n",
              "    }\n",
              "  </style>\n",
              "\n",
              "      <script>\n",
              "        const buttonEl =\n",
              "          document.querySelector('#df-773cefe7-4386-4038-9476-acefb07e2d71 button.colab-df-convert');\n",
              "        buttonEl.style.display =\n",
              "          google.colab.kernel.accessAllowed ? 'block' : 'none';\n",
              "\n",
              "        async function convertToInteractive(key) {\n",
              "          const element = document.querySelector('#df-773cefe7-4386-4038-9476-acefb07e2d71');\n",
              "          const dataTable =\n",
              "            await google.colab.kernel.invokeFunction('convertToInteractive',\n",
              "                                                     [key], {});\n",
              "          if (!dataTable) return;\n",
              "\n",
              "          const docLinkHtml = 'Like what you see? Visit the ' +\n",
              "            '<a target=\"_blank\" href=https://colab.research.google.com/notebooks/data_table.ipynb>data table notebook</a>'\n",
              "            + ' to learn more about interactive tables.';\n",
              "          element.innerHTML = '';\n",
              "          dataTable['output_type'] = 'display_data';\n",
              "          await google.colab.output.renderOutput(dataTable, element);\n",
              "          const docLink = document.createElement('div');\n",
              "          docLink.innerHTML = docLinkHtml;\n",
              "          element.appendChild(docLink);\n",
              "        }\n",
              "      </script>\n",
              "    </div>\n",
              "  </div>\n",
              "  "
            ]
          },
          "metadata": {},
          "execution_count": 1476
        }
      ],
      "source": [
        "results_df.head()"
      ]
    },
    {
      "cell_type": "code",
      "execution_count": 1477,
      "metadata": {
        "id": "WbhsjgyYZc55",
        "colab": {
          "base_uri": "https://localhost:8080/"
        },
        "outputId": "7ff2b88e-3a1a-4f77-8259-a0cf29c00bab"
      },
      "outputs": [
        {
          "output_type": "execute_result",
          "data": {
            "text/plain": [
              "500"
            ]
          },
          "metadata": {},
          "execution_count": 1477
        }
      ],
      "source": [
        "results_df['Success'].count()"
      ]
    },
    {
      "cell_type": "code",
      "execution_count": 1478,
      "metadata": {
        "id": "NfkPxFPTZc56",
        "colab": {
          "base_uri": "https://localhost:8080/"
        },
        "outputId": "e16e31e3-4055-4274-a989-fe6248bba106"
      },
      "outputs": [
        {
          "output_type": "execute_result",
          "data": {
            "text/plain": [
              "357"
            ]
          },
          "metadata": {},
          "execution_count": 1478
        }
      ],
      "source": [
        "results_df['Success'].sum()"
      ]
    },
    {
      "cell_type": "code",
      "execution_count": 1479,
      "metadata": {
        "id": "2MCbaWcLZc56",
        "colab": {
          "base_uri": "https://localhost:8080/"
        },
        "outputId": "eac3defe-4a0c-4517-dacf-7281c438f0b2"
      },
      "outputs": [
        {
          "output_type": "execute_result",
          "data": {
            "text/plain": [
              "0.714"
            ]
          },
          "metadata": {},
          "execution_count": 1479
        }
      ],
      "source": [
        "results_df['Success'].mean()"
      ]
    },
    {
      "cell_type": "code",
      "execution_count": 1480,
      "metadata": {
        "id": "ZWZsj46WZc56",
        "colab": {
          "base_uri": "https://localhost:8080/"
        },
        "outputId": "d77c47af-f8d7-4e32-d5c8-8353a9a12939"
      },
      "outputs": [
        {
          "output_type": "stream",
          "name": "stdout",
          "text": [
            "Hemos acertado 357 registros de un total de 500, por tanto el Accuracy es 0.714.\n"
          ]
        }
      ],
      "source": [
        "print('Hemos acertado {} registros de un total de {}, por tanto el Accuracy es {}.'.format(results_df['Success'].sum(), results_df['Success'].count(), results_df['Success'].mean()))"
      ]
    },
    {
      "cell_type": "markdown",
      "metadata": {
        "id": "J0AEx1kIZc56"
      },
      "source": [
        "#### Opción 2: a través de la matriz de confusión"
      ]
    },
    {
      "cell_type": "code",
      "execution_count": 1481,
      "metadata": {
        "collapsed": true,
        "id": "_Km-UhWiEbuQ"
      },
      "outputs": [],
      "source": [
        "confusion_matrix = pd.crosstab(results_df['Insect'], results_df['Predicciones'])"
      ]
    },
    {
      "cell_type": "code",
      "execution_count": 1482,
      "metadata": {
        "id": "IQXtonQEEbuQ",
        "colab": {
          "base_uri": "https://localhost:8080/",
          "height": 175
        },
        "outputId": "bcb6ff71-7e14-490c-a58f-21e01c2882ea"
      },
      "outputs": [
        {
          "output_type": "execute_result",
          "data": {
            "text/plain": [
              "Predicciones    0    1   2\n",
              "Insect                    \n",
              "0             188   71   2\n",
              "1              37  154   0\n",
              "2               7   26  15"
            ],
            "text/html": [
              "\n",
              "  <div id=\"df-e800c6a4-134b-4c15-bbf7-9b63b02f78c4\">\n",
              "    <div class=\"colab-df-container\">\n",
              "      <div>\n",
              "<style scoped>\n",
              "    .dataframe tbody tr th:only-of-type {\n",
              "        vertical-align: middle;\n",
              "    }\n",
              "\n",
              "    .dataframe tbody tr th {\n",
              "        vertical-align: top;\n",
              "    }\n",
              "\n",
              "    .dataframe thead th {\n",
              "        text-align: right;\n",
              "    }\n",
              "</style>\n",
              "<table border=\"1\" class=\"dataframe\">\n",
              "  <thead>\n",
              "    <tr style=\"text-align: right;\">\n",
              "      <th>Predicciones</th>\n",
              "      <th>0</th>\n",
              "      <th>1</th>\n",
              "      <th>2</th>\n",
              "    </tr>\n",
              "    <tr>\n",
              "      <th>Insect</th>\n",
              "      <th></th>\n",
              "      <th></th>\n",
              "      <th></th>\n",
              "    </tr>\n",
              "  </thead>\n",
              "  <tbody>\n",
              "    <tr>\n",
              "      <th>0</th>\n",
              "      <td>188</td>\n",
              "      <td>71</td>\n",
              "      <td>2</td>\n",
              "    </tr>\n",
              "    <tr>\n",
              "      <th>1</th>\n",
              "      <td>37</td>\n",
              "      <td>154</td>\n",
              "      <td>0</td>\n",
              "    </tr>\n",
              "    <tr>\n",
              "      <th>2</th>\n",
              "      <td>7</td>\n",
              "      <td>26</td>\n",
              "      <td>15</td>\n",
              "    </tr>\n",
              "  </tbody>\n",
              "</table>\n",
              "</div>\n",
              "      <button class=\"colab-df-convert\" onclick=\"convertToInteractive('df-e800c6a4-134b-4c15-bbf7-9b63b02f78c4')\"\n",
              "              title=\"Convert this dataframe to an interactive table.\"\n",
              "              style=\"display:none;\">\n",
              "        \n",
              "  <svg xmlns=\"http://www.w3.org/2000/svg\" height=\"24px\"viewBox=\"0 0 24 24\"\n",
              "       width=\"24px\">\n",
              "    <path d=\"M0 0h24v24H0V0z\" fill=\"none\"/>\n",
              "    <path d=\"M18.56 5.44l.94 2.06.94-2.06 2.06-.94-2.06-.94-.94-2.06-.94 2.06-2.06.94zm-11 1L8.5 8.5l.94-2.06 2.06-.94-2.06-.94L8.5 2.5l-.94 2.06-2.06.94zm10 10l.94 2.06.94-2.06 2.06-.94-2.06-.94-.94-2.06-.94 2.06-2.06.94z\"/><path d=\"M17.41 7.96l-1.37-1.37c-.4-.4-.92-.59-1.43-.59-.52 0-1.04.2-1.43.59L10.3 9.45l-7.72 7.72c-.78.78-.78 2.05 0 2.83L4 21.41c.39.39.9.59 1.41.59.51 0 1.02-.2 1.41-.59l7.78-7.78 2.81-2.81c.8-.78.8-2.07 0-2.86zM5.41 20L4 18.59l7.72-7.72 1.47 1.35L5.41 20z\"/>\n",
              "  </svg>\n",
              "      </button>\n",
              "      \n",
              "  <style>\n",
              "    .colab-df-container {\n",
              "      display:flex;\n",
              "      flex-wrap:wrap;\n",
              "      gap: 12px;\n",
              "    }\n",
              "\n",
              "    .colab-df-convert {\n",
              "      background-color: #E8F0FE;\n",
              "      border: none;\n",
              "      border-radius: 50%;\n",
              "      cursor: pointer;\n",
              "      display: none;\n",
              "      fill: #1967D2;\n",
              "      height: 32px;\n",
              "      padding: 0 0 0 0;\n",
              "      width: 32px;\n",
              "    }\n",
              "\n",
              "    .colab-df-convert:hover {\n",
              "      background-color: #E2EBFA;\n",
              "      box-shadow: 0px 1px 2px rgba(60, 64, 67, 0.3), 0px 1px 3px 1px rgba(60, 64, 67, 0.15);\n",
              "      fill: #174EA6;\n",
              "    }\n",
              "\n",
              "    [theme=dark] .colab-df-convert {\n",
              "      background-color: #3B4455;\n",
              "      fill: #D2E3FC;\n",
              "    }\n",
              "\n",
              "    [theme=dark] .colab-df-convert:hover {\n",
              "      background-color: #434B5C;\n",
              "      box-shadow: 0px 1px 3px 1px rgba(0, 0, 0, 0.15);\n",
              "      filter: drop-shadow(0px 1px 2px rgba(0, 0, 0, 0.3));\n",
              "      fill: #FFFFFF;\n",
              "    }\n",
              "  </style>\n",
              "\n",
              "      <script>\n",
              "        const buttonEl =\n",
              "          document.querySelector('#df-e800c6a4-134b-4c15-bbf7-9b63b02f78c4 button.colab-df-convert');\n",
              "        buttonEl.style.display =\n",
              "          google.colab.kernel.accessAllowed ? 'block' : 'none';\n",
              "\n",
              "        async function convertToInteractive(key) {\n",
              "          const element = document.querySelector('#df-e800c6a4-134b-4c15-bbf7-9b63b02f78c4');\n",
              "          const dataTable =\n",
              "            await google.colab.kernel.invokeFunction('convertToInteractive',\n",
              "                                                     [key], {});\n",
              "          if (!dataTable) return;\n",
              "\n",
              "          const docLinkHtml = 'Like what you see? Visit the ' +\n",
              "            '<a target=\"_blank\" href=https://colab.research.google.com/notebooks/data_table.ipynb>data table notebook</a>'\n",
              "            + ' to learn more about interactive tables.';\n",
              "          element.innerHTML = '';\n",
              "          dataTable['output_type'] = 'display_data';\n",
              "          await google.colab.output.renderOutput(dataTable, element);\n",
              "          const docLink = document.createElement('div');\n",
              "          docLink.innerHTML = docLinkHtml;\n",
              "          element.appendChild(docLink);\n",
              "        }\n",
              "      </script>\n",
              "    </div>\n",
              "  </div>\n",
              "  "
            ]
          },
          "metadata": {},
          "execution_count": 1482
        }
      ],
      "source": [
        "confusion_matrix"
      ]
    },
    {
      "cell_type": "code",
      "source": [
        "plt.figure(figsize=(5,4))\n",
        "sns.heatmap(confusion_matrix, fmt=\"d\", cmap = \"Blues\", annot=True)\n",
        "plt.title('Confusion Matrix')\n",
        "plt.ylabel('Insect')\n",
        "plt.xlabel('Predicciones')\n",
        "plt.show()"
      ],
      "metadata": {
        "colab": {
          "base_uri": "https://localhost:8080/",
          "height": 294
        },
        "id": "oNJBU-3taGZX",
        "outputId": "7a5621ea-4bf3-4f1b-98f7-fc5c781868ce"
      },
      "execution_count": 1483,
      "outputs": [
        {
          "output_type": "display_data",
          "data": {
            "text/plain": [
              "<Figure size 360x288 with 2 Axes>"
            ],
            "image/png": "[encoded data removed]"
          },
          "metadata": {}
        }
      ]
    },
    {
      "cell_type": "markdown",
      "source": [
        "Calculando el Positive predictive value for each class (PPV)"
      ],
      "metadata": {
        "id": "2wV_dmkYfW3J"
      }
    },
    {
      "cell_type": "code",
      "source": [
        "PPV_0 = 188/(188+37+7)\n",
        "PPV_0"
      ],
      "metadata": {
        "colab": {
          "base_uri": "https://localhost:8080/"
        },
        "id": "k2IyotvrdImS",
        "outputId": "f0c57ada-321c-4d4f-c504-58c9d94a99e8"
      },
      "execution_count": 1572,
      "outputs": [
        {
          "output_type": "execute_result",
          "data": {
            "text/plain": [
              "0.8103448275862069"
            ]
          },
          "metadata": {},
          "execution_count": 1572
        }
      ]
    },
    {
      "cell_type": "code",
      "source": [
        "PPV_1 = 154/(71+154+26)\n",
        "PPV_1"
      ],
      "metadata": {
        "colab": {
          "base_uri": "https://localhost:8080/"
        },
        "id": "NysBewXqeCHY",
        "outputId": "2899d2fc-4003-4e76-82e5-cbcc6e3f9ab8"
      },
      "execution_count": 1573,
      "outputs": [
        {
          "output_type": "execute_result",
          "data": {
            "text/plain": [
              "0.6135458167330677"
            ]
          },
          "metadata": {},
          "execution_count": 1573
        }
      ]
    },
    {
      "cell_type": "code",
      "source": [
        "PPV_2 = 15/(2+0+15)\n",
        "PPV_2"
      ],
      "metadata": {
        "colab": {
          "base_uri": "https://localhost:8080/"
        },
        "id": "evzs5fqxeB35",
        "outputId": "5e08daae-b874-4bd7-ca4f-8f592bbf40e9"
      },
      "execution_count": 1574,
      "outputs": [
        {
          "output_type": "execute_result",
          "data": {
            "text/plain": [
              "0.8823529411764706"
            ]
          },
          "metadata": {},
          "execution_count": 1574
        }
      ]
    },
    {
      "cell_type": "code",
      "execution_count": 1487,
      "metadata": {
        "collapsed": true,
        "id": "NcrJMTLMZc56"
      },
      "outputs": [],
      "source": [
        "confusion_matrix_porcentajes = pd.crosstab(results_df['Insect'], results_df['Predicciones'])/len(results_df[\"Insect\"])*100"
      ]
    },
    {
      "cell_type": "code",
      "execution_count": 1488,
      "metadata": {
        "id": "qJT3RJ6fZc56",
        "colab": {
          "base_uri": "https://localhost:8080/",
          "height": 175
        },
        "outputId": "1f8bf199-b388-442e-850e-bf391a0803e3"
      },
      "outputs": [
        {
          "output_type": "execute_result",
          "data": {
            "text/plain": [
              "Predicciones     0     1    2\n",
              "Insect                       \n",
              "0             37.6  14.2  0.4\n",
              "1              7.4  30.8  0.0\n",
              "2              1.4   5.2  3.0"
            ],
            "text/html": [
              "\n",
              "  <div id=\"df-01c676c4-bc67-478a-b361-8493b2d5faf5\">\n",
              "    <div class=\"colab-df-container\">\n",
              "      <div>\n",
              "<style scoped>\n",
              "    .dataframe tbody tr th:only-of-type {\n",
              "        vertical-align: middle;\n",
              "    }\n",
              "\n",
              "    .dataframe tbody tr th {\n",
              "        vertical-align: top;\n",
              "    }\n",
              "\n",
              "    .dataframe thead th {\n",
              "        text-align: right;\n",
              "    }\n",
              "</style>\n",
              "<table border=\"1\" class=\"dataframe\">\n",
              "  <thead>\n",
              "    <tr style=\"text-align: right;\">\n",
              "      <th>Predicciones</th>\n",
              "      <th>0</th>\n",
              "      <th>1</th>\n",
              "      <th>2</th>\n",
              "    </tr>\n",
              "    <tr>\n",
              "      <th>Insect</th>\n",
              "      <th></th>\n",
              "      <th></th>\n",
              "      <th></th>\n",
              "    </tr>\n",
              "  </thead>\n",
              "  <tbody>\n",
              "    <tr>\n",
              "      <th>0</th>\n",
              "      <td>37.6</td>\n",
              "      <td>14.2</td>\n",
              "      <td>0.4</td>\n",
              "    </tr>\n",
              "    <tr>\n",
              "      <th>1</th>\n",
              "      <td>7.4</td>\n",
              "      <td>30.8</td>\n",
              "      <td>0.0</td>\n",
              "    </tr>\n",
              "    <tr>\n",
              "      <th>2</th>\n",
              "      <td>1.4</td>\n",
              "      <td>5.2</td>\n",
              "      <td>3.0</td>\n",
              "    </tr>\n",
              "  </tbody>\n",
              "</table>\n",
              "</div>\n",
              "      <button class=\"colab-df-convert\" onclick=\"convertToInteractive('df-01c676c4-bc67-478a-b361-8493b2d5faf5')\"\n",
              "              title=\"Convert this dataframe to an interactive table.\"\n",
              "              style=\"display:none;\">\n",
              "        \n",
              "  <svg xmlns=\"http://www.w3.org/2000/svg\" height=\"24px\"viewBox=\"0 0 24 24\"\n",
              "       width=\"24px\">\n",
              "    <path d=\"M0 0h24v24H0V0z\" fill=\"none\"/>\n",
              "    <path d=\"M18.56 5.44l.94 2.06.94-2.06 2.06-.94-2.06-.94-.94-2.06-.94 2.06-2.06.94zm-11 1L8.5 8.5l.94-2.06 2.06-.94-2.06-.94L8.5 2.5l-.94 2.06-2.06.94zm10 10l.94 2.06.94-2.06 2.06-.94-2.06-.94-.94-2.06-.94 2.06-2.06.94z\"/><path d=\"M17.41 7.96l-1.37-1.37c-.4-.4-.92-.59-1.43-.59-.52 0-1.04.2-1.43.59L10.3 9.45l-7.72 7.72c-.78.78-.78 2.05 0 2.83L4 21.41c.39.39.9.59 1.41.59.51 0 1.02-.2 1.41-.59l7.78-7.78 2.81-2.81c.8-.78.8-2.07 0-2.86zM5.41 20L4 18.59l7.72-7.72 1.47 1.35L5.41 20z\"/>\n",
              "  </svg>\n",
              "      </button>\n",
              "      \n",
              "  <style>\n",
              "    .colab-df-container {\n",
              "      display:flex;\n",
              "      flex-wrap:wrap;\n",
              "      gap: 12px;\n",
              "    }\n",
              "\n",
              "    .colab-df-convert {\n",
              "      background-color: #E8F0FE;\n",
              "      border: none;\n",
              "      border-radius: 50%;\n",
              "      cursor: pointer;\n",
              "      display: none;\n",
              "      fill: #1967D2;\n",
              "      height: 32px;\n",
              "      padding: 0 0 0 0;\n",
              "      width: 32px;\n",
              "    }\n",
              "\n",
              "    .colab-df-convert:hover {\n",
              "      background-color: #E2EBFA;\n",
              "      box-shadow: 0px 1px 2px rgba(60, 64, 67, 0.3), 0px 1px 3px 1px rgba(60, 64, 67, 0.15);\n",
              "      fill: #174EA6;\n",
              "    }\n",
              "\n",
              "    [theme=dark] .colab-df-convert {\n",
              "      background-color: #3B4455;\n",
              "      fill: #D2E3FC;\n",
              "    }\n",
              "\n",
              "    [theme=dark] .colab-df-convert:hover {\n",
              "      background-color: #434B5C;\n",
              "      box-shadow: 0px 1px 3px 1px rgba(0, 0, 0, 0.15);\n",
              "      filter: drop-shadow(0px 1px 2px rgba(0, 0, 0, 0.3));\n",
              "      fill: #FFFFFF;\n",
              "    }\n",
              "  </style>\n",
              "\n",
              "      <script>\n",
              "        const buttonEl =\n",
              "          document.querySelector('#df-01c676c4-bc67-478a-b361-8493b2d5faf5 button.colab-df-convert');\n",
              "        buttonEl.style.display =\n",
              "          google.colab.kernel.accessAllowed ? 'block' : 'none';\n",
              "\n",
              "        async function convertToInteractive(key) {\n",
              "          const element = document.querySelector('#df-01c676c4-bc67-478a-b361-8493b2d5faf5');\n",
              "          const dataTable =\n",
              "            await google.colab.kernel.invokeFunction('convertToInteractive',\n",
              "                                                     [key], {});\n",
              "          if (!dataTable) return;\n",
              "\n",
              "          const docLinkHtml = 'Like what you see? Visit the ' +\n",
              "            '<a target=\"_blank\" href=https://colab.research.google.com/notebooks/data_table.ipynb>data table notebook</a>'\n",
              "            + ' to learn more about interactive tables.';\n",
              "          element.innerHTML = '';\n",
              "          dataTable['output_type'] = 'display_data';\n",
              "          await google.colab.output.renderOutput(dataTable, element);\n",
              "          const docLink = document.createElement('div');\n",
              "          docLink.innerHTML = docLinkHtml;\n",
              "          element.appendChild(docLink);\n",
              "        }\n",
              "      </script>\n",
              "    </div>\n",
              "  </div>\n",
              "  "
            ]
          },
          "metadata": {},
          "execution_count": 1488
        }
      ],
      "source": [
        "confusion_matrix_porcentajes.round(2)"
      ]
    },
    {
      "cell_type": "markdown",
      "metadata": {
        "id": "e9TBN_12Zc56"
      },
      "source": [
        "#### Opción 3: Usando el módulo metrics"
      ]
    },
    {
      "cell_type": "code",
      "execution_count": 1489,
      "metadata": {
        "id": "XB65Wtg2Zc56",
        "colab": {
          "base_uri": "https://localhost:8080/"
        },
        "outputId": "4f319414-72a6-4248-9a35-44cbc1c57fa1"
      },
      "outputs": [
        {
          "output_type": "execute_result",
          "data": {
            "text/plain": [
              "0.714"
            ]
          },
          "metadata": {},
          "execution_count": 1489
        }
      ],
      "source": [
        "metrics.accuracy_score(results_df['Insect'], results_df['Predicciones'])"
      ]
    },
    {
      "cell_type": "markdown",
      "metadata": {
        "id": "TC0EPmrXZc56"
      },
      "source": [
        "#### Opción 4: Usando el modelo"
      ]
    },
    {
      "cell_type": "code",
      "execution_count": 1490,
      "metadata": {
        "id": "vTyP-PA1Zc57",
        "colab": {
          "base_uri": "https://localhost:8080/"
        },
        "outputId": "68aa4d1e-70d8-4b2f-bd93-b816ef626976"
      },
      "outputs": [
        {
          "output_type": "execute_result",
          "data": {
            "text/plain": [
              "0.714"
            ]
          },
          "metadata": {},
          "execution_count": 1490
        }
      ],
      "source": [
        "dt.score(X_test, y_test)"
      ]
    },
    {
      "cell_type": "markdown",
      "metadata": {
        "id": "nk2sLJpwZc58"
      },
      "source": [
        "#### Prueba de diversas estrategias de validación"
      ]
    },
    {
      "cell_type": "markdown",
      "metadata": {
        "id": "lp9RX4W7Zc58"
      },
      "source": [
        "Vamos a probar distintas estrategias de parámetros"
      ]
    },
    {
      "cell_type": "code",
      "execution_count": 1491,
      "metadata": {
        "id": "InE9rkS8Zc58",
        "colab": {
          "base_uri": "https://localhost:8080/"
        },
        "outputId": "97305d97-8a56-41ce-bbb6-c76c15ea4775"
      },
      "outputs": [
        {
          "output_type": "stream",
          "name": "stdout",
          "text": [
            "Profundidad del árbol: 1. Train: 0.7051111111111111 - Test: 0.706\n",
            "Profundidad del árbol: 2. Train: 0.7191111111111111 - Test: 0.732\n",
            "Profundidad del árbol: 3. Train: 0.7313333333333333 - Test: 0.736\n",
            "Profundidad del árbol: 4. Train: 0.7564444444444445 - Test: 0.77\n",
            "Profundidad del árbol: 5. Train: 0.794 - Test: 0.772\n",
            "Profundidad del árbol: 6. Train: 0.8071111111111111 - Test: 0.784\n",
            "Profundidad del árbol: 7. Train: 0.8331111111111111 - Test: 0.814\n",
            "Profundidad del árbol: 8. Train: 0.8611111111111112 - Test: 0.81\n",
            "Profundidad del árbol: 9. Train: 0.8822222222222222 - Test: 0.802\n",
            "Profundidad del árbol: 10. Train: 0.9002222222222223 - Test: 0.802\n",
            "Profundidad del árbol: 11. Train: 0.9193333333333333 - Test: 0.792\n",
            "Profundidad del árbol: 12. Train: 0.9366666666666666 - Test: 0.796\n",
            "Profundidad del árbol: 13. Train: 0.9526666666666667 - Test: 0.79\n",
            "Profundidad del árbol: 14. Train: 0.9671111111111111 - Test: 0.794\n",
            "Profundidad del árbol: 15. Train: 0.9755555555555555 - Test: 0.792\n",
            "Profundidad del árbol: 16. Train: 0.9808888888888889 - Test: 0.79\n",
            "Profundidad del árbol: 17. Train: 0.9853333333333333 - Test: 0.79\n",
            "Profundidad del árbol: 18. Train: 0.99 - Test: 0.778\n",
            "Profundidad del árbol: 19. Train: 0.9931111111111111 - Test: 0.782\n"
          ]
        }
      ],
      "source": [
        "for i in range(1, 20):\n",
        "    dt = DecisionTreeClassifier(max_depth=i, random_state=42)\n",
        "    dt.fit(X_train, y_train)\n",
        "    train_accuracy = dt.score(X_train, y_train)\n",
        "    test_accuracy = dt.score(X_test, y_test)\n",
        "    print('Profundidad del árbol: {}. Train: {} - Test: {}'.format(i, train_accuracy, test_accuracy))"
      ]
    },
    {
      "cell_type": "markdown",
      "metadata": {
        "id": "DCrmIklEw-Ka"
      },
      "source": [
        "Vamos a probar con min_samples_split en 500, 1000 y 1500, para ver qué pasa"
      ]
    },
    {
      "cell_type": "code",
      "execution_count": 1492,
      "metadata": {
        "id": "vdtifjYCxYyn",
        "colab": {
          "base_uri": "https://localhost:8080/"
        },
        "outputId": "fbc8ac35-2132-4fe3-a5db-83f1cdf8f585"
      },
      "outputs": [
        {
          "output_type": "stream",
          "name": "stdout",
          "text": [
            "Profundidad del árbol: 1. Train: 0.7051111111111111 - Test: 0.706\n",
            "Profundidad del árbol: 2. Train: 0.7191111111111111 - Test: 0.732\n",
            "Profundidad del árbol: 3. Train: 0.7217777777777777 - Test: 0.732\n",
            "Profundidad del árbol: 4. Train: 0.7415555555555555 - Test: 0.764\n",
            "Profundidad del árbol: 5. Train: 0.7573333333333333 - Test: 0.756\n",
            "Profundidad del árbol: 6. Train: 0.7573333333333333 - Test: 0.756\n",
            "Profundidad del árbol: 7. Train: 0.7573333333333333 - Test: 0.756\n",
            "Profundidad del árbol: 8. Train: 0.7573333333333333 - Test: 0.756\n",
            "Profundidad del árbol: 9. Train: 0.7573333333333333 - Test: 0.756\n",
            "Profundidad del árbol: 10. Train: 0.7573333333333333 - Test: 0.756\n",
            "Profundidad del árbol: 11. Train: 0.7573333333333333 - Test: 0.756\n",
            "Profundidad del árbol: 12. Train: 0.7573333333333333 - Test: 0.756\n",
            "Profundidad del árbol: 13. Train: 0.7573333333333333 - Test: 0.756\n",
            "Profundidad del árbol: 14. Train: 0.7573333333333333 - Test: 0.756\n",
            "Profundidad del árbol: 15. Train: 0.7573333333333333 - Test: 0.756\n",
            "Profundidad del árbol: 16. Train: 0.7573333333333333 - Test: 0.756\n",
            "Profundidad del árbol: 17. Train: 0.7573333333333333 - Test: 0.756\n",
            "Profundidad del árbol: 18. Train: 0.7573333333333333 - Test: 0.756\n",
            "Profundidad del árbol: 19. Train: 0.7573333333333333 - Test: 0.756\n"
          ]
        }
      ],
      "source": [
        "for i in range(1, 20):\n",
        "    dt = DecisionTreeClassifier(max_depth=i, random_state=42, min_samples_split=500)\n",
        "    dt.fit(X_train, y_train)\n",
        "    train_accuracy = dt.score(X_train, y_train)\n",
        "    test_accuracy = dt.score(X_test, y_test)\n",
        "    print('Profundidad del árbol: {}. Train: {} - Test: {}'.format(i, train_accuracy, test_accuracy))"
      ]
    },
    {
      "cell_type": "code",
      "execution_count": 1493,
      "metadata": {
        "id": "oBRfQbiFxXto",
        "colab": {
          "base_uri": "https://localhost:8080/"
        },
        "outputId": "8d1ddb80-b0a7-40c7-f522-7c552d198297"
      },
      "outputs": [
        {
          "output_type": "stream",
          "name": "stdout",
          "text": [
            "Profundidad del árbol: 1. Train: 0.7051111111111111 - Test: 0.706\n",
            "Profundidad del árbol: 2. Train: 0.7191111111111111 - Test: 0.732\n",
            "Profundidad del árbol: 3. Train: 0.7191111111111111 - Test: 0.732\n",
            "Profundidad del árbol: 4. Train: 0.7388888888888889 - Test: 0.764\n",
            "Profundidad del árbol: 5. Train: 0.7388888888888889 - Test: 0.764\n",
            "Profundidad del árbol: 6. Train: 0.7388888888888889 - Test: 0.764\n",
            "Profundidad del árbol: 7. Train: 0.7388888888888889 - Test: 0.764\n",
            "Profundidad del árbol: 8. Train: 0.7388888888888889 - Test: 0.764\n",
            "Profundidad del árbol: 9. Train: 0.7388888888888889 - Test: 0.764\n",
            "Profundidad del árbol: 10. Train: 0.7388888888888889 - Test: 0.764\n",
            "Profundidad del árbol: 11. Train: 0.7388888888888889 - Test: 0.764\n",
            "Profundidad del árbol: 12. Train: 0.7388888888888889 - Test: 0.764\n",
            "Profundidad del árbol: 13. Train: 0.7388888888888889 - Test: 0.764\n",
            "Profundidad del árbol: 14. Train: 0.7388888888888889 - Test: 0.764\n",
            "Profundidad del árbol: 15. Train: 0.7388888888888889 - Test: 0.764\n",
            "Profundidad del árbol: 16. Train: 0.7388888888888889 - Test: 0.764\n",
            "Profundidad del árbol: 17. Train: 0.7388888888888889 - Test: 0.764\n",
            "Profundidad del árbol: 18. Train: 0.7388888888888889 - Test: 0.764\n",
            "Profundidad del árbol: 19. Train: 0.7388888888888889 - Test: 0.764\n"
          ]
        }
      ],
      "source": [
        "for i in range(1, 20):\n",
        "    dt = DecisionTreeClassifier(max_depth=i, random_state=42, min_samples_split=1000)\n",
        "    dt.fit(X_train, y_train)\n",
        "    train_accuracy = dt.score(X_train, y_train)\n",
        "    test_accuracy = dt.score(X_test, y_test)\n",
        "    print('Profundidad del árbol: {}. Train: {} - Test: {}'.format(i, train_accuracy, test_accuracy))"
      ]
    },
    {
      "cell_type": "code",
      "execution_count": 1494,
      "metadata": {
        "id": "bB5efUqtxXjU",
        "colab": {
          "base_uri": "https://localhost:8080/"
        },
        "outputId": "a156e1c5-096e-4b7f-97bb-6a1bb7a2a31e"
      },
      "outputs": [
        {
          "output_type": "stream",
          "name": "stdout",
          "text": [
            "Profundidad del árbol: 1. Train: 0.7051111111111111 - Test: 0.706\n",
            "Profundidad del árbol: 2. Train: 0.7191111111111111 - Test: 0.732\n",
            "Profundidad del árbol: 3. Train: 0.7191111111111111 - Test: 0.732\n",
            "Profundidad del árbol: 4. Train: 0.7191111111111111 - Test: 0.732\n",
            "Profundidad del árbol: 5. Train: 0.7191111111111111 - Test: 0.732\n",
            "Profundidad del árbol: 6. Train: 0.7191111111111111 - Test: 0.732\n",
            "Profundidad del árbol: 7. Train: 0.7191111111111111 - Test: 0.732\n",
            "Profundidad del árbol: 8. Train: 0.7191111111111111 - Test: 0.732\n",
            "Profundidad del árbol: 9. Train: 0.7191111111111111 - Test: 0.732\n",
            "Profundidad del árbol: 10. Train: 0.7191111111111111 - Test: 0.732\n",
            "Profundidad del árbol: 11. Train: 0.7191111111111111 - Test: 0.732\n",
            "Profundidad del árbol: 12. Train: 0.7191111111111111 - Test: 0.732\n",
            "Profundidad del árbol: 13. Train: 0.7191111111111111 - Test: 0.732\n",
            "Profundidad del árbol: 14. Train: 0.7191111111111111 - Test: 0.732\n",
            "Profundidad del árbol: 15. Train: 0.7191111111111111 - Test: 0.732\n",
            "Profundidad del árbol: 16. Train: 0.7191111111111111 - Test: 0.732\n",
            "Profundidad del árbol: 17. Train: 0.7191111111111111 - Test: 0.732\n",
            "Profundidad del árbol: 18. Train: 0.7191111111111111 - Test: 0.732\n",
            "Profundidad del árbol: 19. Train: 0.7191111111111111 - Test: 0.732\n"
          ]
        }
      ],
      "source": [
        "for i in range(1, 20):\n",
        "    dt = DecisionTreeClassifier(max_depth=i, random_state=42, min_samples_split=1500)\n",
        "    dt.fit(X_train, y_train)\n",
        "    train_accuracy = dt.score(X_train, y_train)\n",
        "    test_accuracy = dt.score(X_test, y_test)\n",
        "    print('Profundidad del árbol: {}. Train: {} - Test: {}'.format(i, train_accuracy, test_accuracy))"
      ]
    },
    {
      "cell_type": "markdown",
      "metadata": {
        "id": "Ldd31jdJZc59"
      },
      "source": [
        "#### Podemos medir la efectividad en el conjunto de validación del mejor estimador"
      ]
    },
    {
      "cell_type": "code",
      "execution_count": 1495,
      "metadata": {
        "id": "FDE7iKw9Zc59",
        "colab": {
          "base_uri": "https://localhost:8080/"
        },
        "outputId": "37397c81-b139-4ea1-82e1-616bb18285ec"
      },
      "outputs": [
        {
          "output_type": "execute_result",
          "data": {
            "text/plain": [
              "DecisionTreeClassifier(max_depth=3, min_samples_split=500, random_state=42)"
            ]
          },
          "metadata": {},
          "execution_count": 1495
        }
      ],
      "source": [
        "dt = DecisionTreeClassifier(max_depth=3, random_state=42, min_samples_split=500)\n",
        "dt.fit(X_train, y_train)"
      ]
    },
    {
      "cell_type": "code",
      "execution_count": 1496,
      "metadata": {
        "id": "2QukJ9zpZc59",
        "colab": {
          "base_uri": "https://localhost:8080/"
        },
        "outputId": "42a964e4-d1f8-403b-a492-b22651bc2890"
      },
      "outputs": [
        {
          "output_type": "execute_result",
          "data": {
            "text/plain": [
              "0.7217777777777777"
            ]
          },
          "metadata": {},
          "execution_count": 1496
        }
      ],
      "source": [
        "dt.score(X_train, y_train)"
      ]
    },
    {
      "cell_type": "code",
      "execution_count": 1497,
      "metadata": {
        "id": "cWdV9EkTZc59",
        "colab": {
          "base_uri": "https://localhost:8080/"
        },
        "outputId": "aca91e37-a2b8-443a-940d-267dc23279ec"
      },
      "outputs": [
        {
          "output_type": "execute_result",
          "data": {
            "text/plain": [
              "0.732"
            ]
          },
          "metadata": {},
          "execution_count": 1497
        }
      ],
      "source": [
        "dt.score(X_test, y_test)"
      ]
    },
    {
      "cell_type": "code",
      "execution_count": 1498,
      "metadata": {
        "id": "ClKO04l2Zc59",
        "colab": {
          "base_uri": "https://localhost:8080/"
        },
        "outputId": "a3083583-013c-464f-bdb7-08ec2a5d09a4"
      },
      "outputs": [
        {
          "output_type": "execute_result",
          "data": {
            "text/plain": [
              "0.7076461769115442"
            ]
          },
          "metadata": {},
          "execution_count": 1498
        }
      ],
      "source": [
        "dt.score(val_df_X, val_df_y)"
      ]
    },
    {
      "cell_type": "markdown",
      "metadata": {
        "id": "Khw-BUpkOeML"
      },
      "source": [
        "Observamos mejores resultados en la validación cuando aumentamos la profundidad, lo mismo para el score en training y test."
      ]
    },
    {
      "cell_type": "markdown",
      "metadata": {
        "id": "2ZufhyeXZc5-"
      },
      "source": [
        "#### Podemos probar el k-fold como estrategia de validación"
      ]
    },
    {
      "cell_type": "code",
      "execution_count": 1499,
      "metadata": {
        "collapsed": true,
        "id": "GM6ZNhY6Zc5-"
      },
      "outputs": [],
      "source": [
        "kf = model_selection.KFold(n_splits=10, random_state=42, shuffle=True)"
      ]
    },
    {
      "cell_type": "code",
      "execution_count": 1500,
      "metadata": {
        "id": "a9-bDdnsZc5-",
        "colab": {
          "base_uri": "https://localhost:8080/"
        },
        "outputId": "4955cd7f-1038-4f69-a5f0-310028168988"
      },
      "outputs": [
        {
          "output_type": "execute_result",
          "data": {
            "text/plain": [
              "[0.774, 0.792, 0.772, 0.788, 0.786, 0.824, 0.776, 0.818, 0.786, 0.81]"
            ]
          },
          "metadata": {},
          "execution_count": 1500
        }
      ],
      "source": [
        "scores_list = []\n",
        "for train_index, test_index in kf.split(dev_df):\n",
        "    #print(\"TRAIN:\", train_index, \"TEST:\", test_index)\n",
        "    X_train, X_test = dev_df_X.iloc[train_index], dev_df_X.iloc[test_index]\n",
        "    y_train, y_test = dev_df_y.iloc[train_index], dev_df_y.iloc[test_index]\n",
        "    dt = DecisionTreeClassifier(max_depth=8, random_state=42)\n",
        "    dt.fit(X_train, y_train)\n",
        "    _score = dt.score(X_test, y_test)\n",
        "    scores_list.append(_score)\n",
        "    #print(_scores)\n",
        "scores_list"
      ]
    },
    {
      "cell_type": "code",
      "execution_count": 1501,
      "metadata": {
        "id": "aFa25CGtZc5-",
        "colab": {
          "base_uri": "https://localhost:8080/"
        },
        "outputId": "02a676f1-4522-44b1-ddec-cff977fe73ad"
      },
      "outputs": [
        {
          "output_type": "execute_result",
          "data": {
            "text/plain": [
              "0.7926"
            ]
          },
          "metadata": {},
          "execution_count": 1501
        }
      ],
      "source": [
        "np.mean(scores_list)"
      ]
    },
    {
      "cell_type": "code",
      "execution_count": 1502,
      "metadata": {
        "id": "XS083Uu0Zc5-",
        "colab": {
          "base_uri": "https://localhost:8080/"
        },
        "outputId": "59c81004-35e3-41ec-ea49-bae0a8a4da03"
      },
      "outputs": [
        {
          "output_type": "execute_result",
          "data": {
            "text/plain": [
              "0.017573844200970922"
            ]
          },
          "metadata": {},
          "execution_count": 1502
        }
      ],
      "source": [
        "np.std(scores_list)"
      ]
    },
    {
      "cell_type": "code",
      "execution_count": 1503,
      "metadata": {
        "collapsed": true,
        "id": "IQwgy-NRZc5-"
      },
      "outputs": [],
      "source": [
        "dt = DecisionTreeClassifier(max_depth=8, random_state=42)"
      ]
    },
    {
      "cell_type": "code",
      "execution_count": 1504,
      "metadata": {
        "collapsed": true,
        "id": "MXKS0lzNZc5-"
      },
      "outputs": [],
      "source": [
        "scores = model_selection.cross_val_score(dt, dev_df_X, dev_df_y, cv=kf)"
      ]
    },
    {
      "cell_type": "code",
      "execution_count": 1505,
      "metadata": {
        "id": "1qMiDhUcZc5-",
        "colab": {
          "base_uri": "https://localhost:8080/"
        },
        "outputId": "e84ff141-d909-4692-cb0f-c3c3c39813a9"
      },
      "outputs": [
        {
          "output_type": "execute_result",
          "data": {
            "text/plain": [
              "array([0.774, 0.792, 0.772, 0.788, 0.786, 0.824, 0.776, 0.818, 0.786,\n",
              "       0.81 ])"
            ]
          },
          "metadata": {},
          "execution_count": 1505
        }
      ],
      "source": [
        "scores"
      ]
    },
    {
      "cell_type": "code",
      "execution_count": 1506,
      "metadata": {
        "id": "0ZSReCX5Zc5-",
        "colab": {
          "base_uri": "https://localhost:8080/"
        },
        "outputId": "f28b3010-5a86-44e2-c04e-fecb33bf3bfd"
      },
      "outputs": [
        {
          "output_type": "stream",
          "name": "stdout",
          "text": [
            "Accuracy: 0.793 (+/- 0.035)\n"
          ]
        }
      ],
      "source": [
        "print(\"Accuracy: %0.3f (+/- %0.3f)\" % (scores.mean(), scores.std() * 2))"
      ]
    },
    {
      "cell_type": "markdown",
      "metadata": {
        "id": "Oa48pBP09XR5"
      },
      "source": [
        "## 4.4 Evaluación del modelo. Random Forest."
      ]
    },
    {
      "cell_type": "markdown",
      "source": [
        "#### Opción 1: a través de los resultados"
      ],
      "metadata": {
        "id": "ya8p9sWQFgGD"
      }
    },
    {
      "cell_type": "code",
      "execution_count": 1507,
      "metadata": {
        "collapsed": true,
        "id": "VovFxKW09XR7"
      },
      "outputs": [],
      "source": [
        "#y_test_pred = pd.DataFrame(xgb.predict(X_rus_test), index=y_rus_test.index, columns=['Predicciones'])\n",
        "y_test_pred = pd.DataFrame(rf.predict(X_test), index=y_test.index, columns=['Predicciones'])\n"
      ]
    },
    {
      "cell_type": "code",
      "execution_count": 1508,
      "metadata": {
        "id": "fcoJr4WY9XR7",
        "colab": {
          "base_uri": "https://localhost:8080/",
          "height": 206
        },
        "outputId": "948b38a9-6360-4d97-a089-7d513dadcefb"
      },
      "outputs": [
        {
          "output_type": "execute_result",
          "data": {
            "text/plain": [
              "    Predicciones\n",
              "4              0\n",
              "16             0\n",
              "34             0\n",
              "64             0\n",
              "98             0"
            ],
            "text/html": [
              "\n",
              "  <div id=\"df-32b1b57e-7e85-4ca4-a0ed-10c31a546c2d\">\n",
              "    <div class=\"colab-df-container\">\n",
              "      <div>\n",
              "<style scoped>\n",
              "    .dataframe tbody tr th:only-of-type {\n",
              "        vertical-align: middle;\n",
              "    }\n",
              "\n",
              "    .dataframe tbody tr th {\n",
              "        vertical-align: top;\n",
              "    }\n",
              "\n",
              "    .dataframe thead th {\n",
              "        text-align: right;\n",
              "    }\n",
              "</style>\n",
              "<table border=\"1\" class=\"dataframe\">\n",
              "  <thead>\n",
              "    <tr style=\"text-align: right;\">\n",
              "      <th></th>\n",
              "      <th>Predicciones</th>\n",
              "    </tr>\n",
              "  </thead>\n",
              "  <tbody>\n",
              "    <tr>\n",
              "      <th>4</th>\n",
              "      <td>0</td>\n",
              "    </tr>\n",
              "    <tr>\n",
              "      <th>16</th>\n",
              "      <td>0</td>\n",
              "    </tr>\n",
              "    <tr>\n",
              "      <th>34</th>\n",
              "      <td>0</td>\n",
              "    </tr>\n",
              "    <tr>\n",
              "      <th>64</th>\n",
              "      <td>0</td>\n",
              "    </tr>\n",
              "    <tr>\n",
              "      <th>98</th>\n",
              "      <td>0</td>\n",
              "    </tr>\n",
              "  </tbody>\n",
              "</table>\n",
              "</div>\n",
              "      <button class=\"colab-df-convert\" onclick=\"convertToInteractive('df-32b1b57e-7e85-4ca4-a0ed-10c31a546c2d')\"\n",
              "              title=\"Convert this dataframe to an interactive table.\"\n",
              "              style=\"display:none;\">\n",
              "        \n",
              "  <svg xmlns=\"http://www.w3.org/2000/svg\" height=\"24px\"viewBox=\"0 0 24 24\"\n",
              "       width=\"24px\">\n",
              "    <path d=\"M0 0h24v24H0V0z\" fill=\"none\"/>\n",
              "    <path d=\"M18.56 5.44l.94 2.06.94-2.06 2.06-.94-2.06-.94-.94-2.06-.94 2.06-2.06.94zm-11 1L8.5 8.5l.94-2.06 2.06-.94-2.06-.94L8.5 2.5l-.94 2.06-2.06.94zm10 10l.94 2.06.94-2.06 2.06-.94-2.06-.94-.94-2.06-.94 2.06-2.06.94z\"/><path d=\"M17.41 7.96l-1.37-1.37c-.4-.4-.92-.59-1.43-.59-.52 0-1.04.2-1.43.59L10.3 9.45l-7.72 7.72c-.78.78-.78 2.05 0 2.83L4 21.41c.39.39.9.59 1.41.59.51 0 1.02-.2 1.41-.59l7.78-7.78 2.81-2.81c.8-.78.8-2.07 0-2.86zM5.41 20L4 18.59l7.72-7.72 1.47 1.35L5.41 20z\"/>\n",
              "  </svg>\n",
              "      </button>\n",
              "      \n",
              "  <style>\n",
              "    .colab-df-container {\n",
              "      display:flex;\n",
              "      flex-wrap:wrap;\n",
              "      gap: 12px;\n",
              "    }\n",
              "\n",
              "    .colab-df-convert {\n",
              "      background-color: #E8F0FE;\n",
              "      border: none;\n",
              "      border-radius: 50%;\n",
              "      cursor: pointer;\n",
              "      display: none;\n",
              "      fill: #1967D2;\n",
              "      height: 32px;\n",
              "      padding: 0 0 0 0;\n",
              "      width: 32px;\n",
              "    }\n",
              "\n",
              "    .colab-df-convert:hover {\n",
              "      background-color: #E2EBFA;\n",
              "      box-shadow: 0px 1px 2px rgba(60, 64, 67, 0.3), 0px 1px 3px 1px rgba(60, 64, 67, 0.15);\n",
              "      fill: #174EA6;\n",
              "    }\n",
              "\n",
              "    [theme=dark] .colab-df-convert {\n",
              "      background-color: #3B4455;\n",
              "      fill: #D2E3FC;\n",
              "    }\n",
              "\n",
              "    [theme=dark] .colab-df-convert:hover {\n",
              "      background-color: #434B5C;\n",
              "      box-shadow: 0px 1px 3px 1px rgba(0, 0, 0, 0.15);\n",
              "      filter: drop-shadow(0px 1px 2px rgba(0, 0, 0, 0.3));\n",
              "      fill: #FFFFFF;\n",
              "    }\n",
              "  </style>\n",
              "\n",
              "      <script>\n",
              "        const buttonEl =\n",
              "          document.querySelector('#df-32b1b57e-7e85-4ca4-a0ed-10c31a546c2d button.colab-df-convert');\n",
              "        buttonEl.style.display =\n",
              "          google.colab.kernel.accessAllowed ? 'block' : 'none';\n",
              "\n",
              "        async function convertToInteractive(key) {\n",
              "          const element = document.querySelector('#df-32b1b57e-7e85-4ca4-a0ed-10c31a546c2d');\n",
              "          const dataTable =\n",
              "            await google.colab.kernel.invokeFunction('convertToInteractive',\n",
              "                                                     [key], {});\n",
              "          if (!dataTable) return;\n",
              "\n",
              "          const docLinkHtml = 'Like what you see? Visit the ' +\n",
              "            '<a target=\"_blank\" href=https://colab.research.google.com/notebooks/data_table.ipynb>data table notebook</a>'\n",
              "            + ' to learn more about interactive tables.';\n",
              "          element.innerHTML = '';\n",
              "          dataTable['output_type'] = 'display_data';\n",
              "          await google.colab.output.renderOutput(dataTable, element);\n",
              "          const docLink = document.createElement('div');\n",
              "          docLink.innerHTML = docLinkHtml;\n",
              "          element.appendChild(docLink);\n",
              "        }\n",
              "      </script>\n",
              "    </div>\n",
              "  </div>\n",
              "  "
            ]
          },
          "metadata": {},
          "execution_count": 1508
        }
      ],
      "source": [
        "y_test_pred.head()"
      ]
    },
    {
      "cell_type": "code",
      "execution_count": 1509,
      "metadata": {
        "id": "vA0fQn4O9XR8",
        "colab": {
          "base_uri": "https://localhost:8080/"
        },
        "outputId": "3e74db4f-c53b-4714-8bf2-6bc7f8cdd39a"
      },
      "outputs": [
        {
          "output_type": "stream",
          "name": "stdout",
          "text": [
            "<class 'pandas.core.frame.DataFrame'>\n",
            "Int64Index: 500 entries, 4 to 4994\n",
            "Data columns (total 1 columns):\n",
            " #   Column        Non-Null Count  Dtype\n",
            "---  ------        --------------  -----\n",
            " 0   Predicciones  500 non-null    int64\n",
            "dtypes: int64(1)\n",
            "memory usage: 7.8 KB\n"
          ]
        }
      ],
      "source": [
        "y_test_pred.info()"
      ]
    },
    {
      "cell_type": "code",
      "execution_count": 1510,
      "metadata": {
        "id": "clkzxz8R9XR8",
        "colab": {
          "base_uri": "https://localhost:8080/"
        },
        "outputId": "007ef52a-c73c-4d35-ab04-4d7bd3a26fbc"
      },
      "outputs": [
        {
          "output_type": "execute_result",
          "data": {
            "text/plain": [
              "(500, 1)"
            ]
          },
          "metadata": {},
          "execution_count": 1510
        }
      ],
      "source": [
        "y_test_pred.shape"
      ]
    },
    {
      "cell_type": "code",
      "execution_count": 1511,
      "metadata": {
        "collapsed": true,
        "id": "4JjHHEQe9XR8"
      },
      "outputs": [],
      "source": [
        "results_df = y_test.join(y_test_pred, how= 'inner')"
      ]
    },
    {
      "cell_type": "code",
      "execution_count": 1512,
      "metadata": {
        "id": "MEwRmBn99XR8",
        "colab": {
          "base_uri": "https://localhost:8080/",
          "height": 206
        },
        "outputId": "55f36e4f-530a-4bc6-a928-3ce87e8a80e7"
      },
      "outputs": [
        {
          "output_type": "execute_result",
          "data": {
            "text/plain": [
              "    Insect  Predicciones\n",
              "4        2             0\n",
              "16       0             0\n",
              "34       0             0\n",
              "64       0             0\n",
              "98       0             0"
            ],
            "text/html": [
              "\n",
              "  <div id=\"df-8e0a11a3-09a1-4f10-b097-196b52c63dc7\">\n",
              "    <div class=\"colab-df-container\">\n",
              "      <div>\n",
              "<style scoped>\n",
              "    .dataframe tbody tr th:only-of-type {\n",
              "        vertical-align: middle;\n",
              "    }\n",
              "\n",
              "    .dataframe tbody tr th {\n",
              "        vertical-align: top;\n",
              "    }\n",
              "\n",
              "    .dataframe thead th {\n",
              "        text-align: right;\n",
              "    }\n",
              "</style>\n",
              "<table border=\"1\" class=\"dataframe\">\n",
              "  <thead>\n",
              "    <tr style=\"text-align: right;\">\n",
              "      <th></th>\n",
              "      <th>Insect</th>\n",
              "      <th>Predicciones</th>\n",
              "    </tr>\n",
              "  </thead>\n",
              "  <tbody>\n",
              "    <tr>\n",
              "      <th>4</th>\n",
              "      <td>2</td>\n",
              "      <td>0</td>\n",
              "    </tr>\n",
              "    <tr>\n",
              "      <th>16</th>\n",
              "      <td>0</td>\n",
              "      <td>0</td>\n",
              "    </tr>\n",
              "    <tr>\n",
              "      <th>34</th>\n",
              "      <td>0</td>\n",
              "      <td>0</td>\n",
              "    </tr>\n",
              "    <tr>\n",
              "      <th>64</th>\n",
              "      <td>0</td>\n",
              "      <td>0</td>\n",
              "    </tr>\n",
              "    <tr>\n",
              "      <th>98</th>\n",
              "      <td>0</td>\n",
              "      <td>0</td>\n",
              "    </tr>\n",
              "  </tbody>\n",
              "</table>\n",
              "</div>\n",
              "      <button class=\"colab-df-convert\" onclick=\"convertToInteractive('df-8e0a11a3-09a1-4f10-b097-196b52c63dc7')\"\n",
              "              title=\"Convert this dataframe to an interactive table.\"\n",
              "              style=\"display:none;\">\n",
              "        \n",
              "  <svg xmlns=\"http://www.w3.org/2000/svg\" height=\"24px\"viewBox=\"0 0 24 24\"\n",
              "       width=\"24px\">\n",
              "    <path d=\"M0 0h24v24H0V0z\" fill=\"none\"/>\n",
              "    <path d=\"M18.56 5.44l.94 2.06.94-2.06 2.06-.94-2.06-.94-.94-2.06-.94 2.06-2.06.94zm-11 1L8.5 8.5l.94-2.06 2.06-.94-2.06-.94L8.5 2.5l-.94 2.06-2.06.94zm10 10l.94 2.06.94-2.06 2.06-.94-2.06-.94-.94-2.06-.94 2.06-2.06.94z\"/><path d=\"M17.41 7.96l-1.37-1.37c-.4-.4-.92-.59-1.43-.59-.52 0-1.04.2-1.43.59L10.3 9.45l-7.72 7.72c-.78.78-.78 2.05 0 2.83L4 21.41c.39.39.9.59 1.41.59.51 0 1.02-.2 1.41-.59l7.78-7.78 2.81-2.81c.8-.78.8-2.07 0-2.86zM5.41 20L4 18.59l7.72-7.72 1.47 1.35L5.41 20z\"/>\n",
              "  </svg>\n",
              "      </button>\n",
              "      \n",
              "  <style>\n",
              "    .colab-df-container {\n",
              "      display:flex;\n",
              "      flex-wrap:wrap;\n",
              "      gap: 12px;\n",
              "    }\n",
              "\n",
              "    .colab-df-convert {\n",
              "      background-color: #E8F0FE;\n",
              "      border: none;\n",
              "      border-radius: 50%;\n",
              "      cursor: pointer;\n",
              "      display: none;\n",
              "      fill: #1967D2;\n",
              "      height: 32px;\n",
              "      padding: 0 0 0 0;\n",
              "      width: 32px;\n",
              "    }\n",
              "\n",
              "    .colab-df-convert:hover {\n",
              "      background-color: #E2EBFA;\n",
              "      box-shadow: 0px 1px 2px rgba(60, 64, 67, 0.3), 0px 1px 3px 1px rgba(60, 64, 67, 0.15);\n",
              "      fill: #174EA6;\n",
              "    }\n",
              "\n",
              "    [theme=dark] .colab-df-convert {\n",
              "      background-color: #3B4455;\n",
              "      fill: #D2E3FC;\n",
              "    }\n",
              "\n",
              "    [theme=dark] .colab-df-convert:hover {\n",
              "      background-color: #434B5C;\n",
              "      box-shadow: 0px 1px 3px 1px rgba(0, 0, 0, 0.15);\n",
              "      filter: drop-shadow(0px 1px 2px rgba(0, 0, 0, 0.3));\n",
              "      fill: #FFFFFF;\n",
              "    }\n",
              "  </style>\n",
              "\n",
              "      <script>\n",
              "        const buttonEl =\n",
              "          document.querySelector('#df-8e0a11a3-09a1-4f10-b097-196b52c63dc7 button.colab-df-convert');\n",
              "        buttonEl.style.display =\n",
              "          google.colab.kernel.accessAllowed ? 'block' : 'none';\n",
              "\n",
              "        async function convertToInteractive(key) {\n",
              "          const element = document.querySelector('#df-8e0a11a3-09a1-4f10-b097-196b52c63dc7');\n",
              "          const dataTable =\n",
              "            await google.colab.kernel.invokeFunction('convertToInteractive',\n",
              "                                                     [key], {});\n",
              "          if (!dataTable) return;\n",
              "\n",
              "          const docLinkHtml = 'Like what you see? Visit the ' +\n",
              "            '<a target=\"_blank\" href=https://colab.research.google.com/notebooks/data_table.ipynb>data table notebook</a>'\n",
              "            + ' to learn more about interactive tables.';\n",
              "          element.innerHTML = '';\n",
              "          dataTable['output_type'] = 'display_data';\n",
              "          await google.colab.output.renderOutput(dataTable, element);\n",
              "          const docLink = document.createElement('div');\n",
              "          docLink.innerHTML = docLinkHtml;\n",
              "          element.appendChild(docLink);\n",
              "        }\n",
              "      </script>\n",
              "    </div>\n",
              "  </div>\n",
              "  "
            ]
          },
          "metadata": {},
          "execution_count": 1512
        }
      ],
      "source": [
        "results_df.head()"
      ]
    },
    {
      "cell_type": "code",
      "execution_count": 1513,
      "metadata": {
        "id": "DVa9U3BK9XR8",
        "colab": {
          "base_uri": "https://localhost:8080/"
        },
        "outputId": "e509c9c4-2398-43ab-dafc-ac9524ae2d02"
      },
      "outputs": [
        {
          "output_type": "execute_result",
          "data": {
            "text/plain": [
              "0    261\n",
              "1    191\n",
              "2     48\n",
              "Name: Insect, dtype: int64"
            ]
          },
          "metadata": {},
          "execution_count": 1513
        }
      ],
      "source": [
        "results_df[\"Insect\"].value_counts()"
      ]
    },
    {
      "cell_type": "code",
      "execution_count": 1514,
      "metadata": {
        "collapsed": true,
        "id": "am0dynRE9XR9"
      },
      "outputs": [],
      "source": [
        "results_df['Success'] = (results_df['Insect'] == results_df['Predicciones']).astype(int)"
      ]
    },
    {
      "cell_type": "code",
      "execution_count": 1515,
      "metadata": {
        "id": "0tAsQOGc9XR9",
        "colab": {
          "base_uri": "https://localhost:8080/",
          "height": 206
        },
        "outputId": "fc91fb4a-1de9-46df-cd04-124bf756cc61"
      },
      "outputs": [
        {
          "output_type": "execute_result",
          "data": {
            "text/plain": [
              "    Insect  Predicciones  Success\n",
              "4        2             0        0\n",
              "16       0             0        1\n",
              "34       0             0        1\n",
              "64       0             0        1\n",
              "98       0             0        1"
            ],
            "text/html": [
              "\n",
              "  <div id=\"df-5d10a398-0aa8-41b1-aa2a-fc2468dbaa2e\">\n",
              "    <div class=\"colab-df-container\">\n",
              "      <div>\n",
              "<style scoped>\n",
              "    .dataframe tbody tr th:only-of-type {\n",
              "        vertical-align: middle;\n",
              "    }\n",
              "\n",
              "    .dataframe tbody tr th {\n",
              "        vertical-align: top;\n",
              "    }\n",
              "\n",
              "    .dataframe thead th {\n",
              "        text-align: right;\n",
              "    }\n",
              "</style>\n",
              "<table border=\"1\" class=\"dataframe\">\n",
              "  <thead>\n",
              "    <tr style=\"text-align: right;\">\n",
              "      <th></th>\n",
              "      <th>Insect</th>\n",
              "      <th>Predicciones</th>\n",
              "      <th>Success</th>\n",
              "    </tr>\n",
              "  </thead>\n",
              "  <tbody>\n",
              "    <tr>\n",
              "      <th>4</th>\n",
              "      <td>2</td>\n",
              "      <td>0</td>\n",
              "      <td>0</td>\n",
              "    </tr>\n",
              "    <tr>\n",
              "      <th>16</th>\n",
              "      <td>0</td>\n",
              "      <td>0</td>\n",
              "      <td>1</td>\n",
              "    </tr>\n",
              "    <tr>\n",
              "      <th>34</th>\n",
              "      <td>0</td>\n",
              "      <td>0</td>\n",
              "      <td>1</td>\n",
              "    </tr>\n",
              "    <tr>\n",
              "      <th>64</th>\n",
              "      <td>0</td>\n",
              "      <td>0</td>\n",
              "      <td>1</td>\n",
              "    </tr>\n",
              "    <tr>\n",
              "      <th>98</th>\n",
              "      <td>0</td>\n",
              "      <td>0</td>\n",
              "      <td>1</td>\n",
              "    </tr>\n",
              "  </tbody>\n",
              "</table>\n",
              "</div>\n",
              "      <button class=\"colab-df-convert\" onclick=\"convertToInteractive('df-5d10a398-0aa8-41b1-aa2a-fc2468dbaa2e')\"\n",
              "              title=\"Convert this dataframe to an interactive table.\"\n",
              "              style=\"display:none;\">\n",
              "        \n",
              "  <svg xmlns=\"http://www.w3.org/2000/svg\" height=\"24px\"viewBox=\"0 0 24 24\"\n",
              "       width=\"24px\">\n",
              "    <path d=\"M0 0h24v24H0V0z\" fill=\"none\"/>\n",
              "    <path d=\"M18.56 5.44l.94 2.06.94-2.06 2.06-.94-2.06-.94-.94-2.06-.94 2.06-2.06.94zm-11 1L8.5 8.5l.94-2.06 2.06-.94-2.06-.94L8.5 2.5l-.94 2.06-2.06.94zm10 10l.94 2.06.94-2.06 2.06-.94-2.06-.94-.94-2.06-.94 2.06-2.06.94z\"/><path d=\"M17.41 7.96l-1.37-1.37c-.4-.4-.92-.59-1.43-.59-.52 0-1.04.2-1.43.59L10.3 9.45l-7.72 7.72c-.78.78-.78 2.05 0 2.83L4 21.41c.39.39.9.59 1.41.59.51 0 1.02-.2 1.41-.59l7.78-7.78 2.81-2.81c.8-.78.8-2.07 0-2.86zM5.41 20L4 18.59l7.72-7.72 1.47 1.35L5.41 20z\"/>\n",
              "  </svg>\n",
              "      </button>\n",
              "      \n",
              "  <style>\n",
              "    .colab-df-container {\n",
              "      display:flex;\n",
              "      flex-wrap:wrap;\n",
              "      gap: 12px;\n",
              "    }\n",
              "\n",
              "    .colab-df-convert {\n",
              "      background-color: #E8F0FE;\n",
              "      border: none;\n",
              "      border-radius: 50%;\n",
              "      cursor: pointer;\n",
              "      display: none;\n",
              "      fill: #1967D2;\n",
              "      height: 32px;\n",
              "      padding: 0 0 0 0;\n",
              "      width: 32px;\n",
              "    }\n",
              "\n",
              "    .colab-df-convert:hover {\n",
              "      background-color: #E2EBFA;\n",
              "      box-shadow: 0px 1px 2px rgba(60, 64, 67, 0.3), 0px 1px 3px 1px rgba(60, 64, 67, 0.15);\n",
              "      fill: #174EA6;\n",
              "    }\n",
              "\n",
              "    [theme=dark] .colab-df-convert {\n",
              "      background-color: #3B4455;\n",
              "      fill: #D2E3FC;\n",
              "    }\n",
              "\n",
              "    [theme=dark] .colab-df-convert:hover {\n",
              "      background-color: #434B5C;\n",
              "      box-shadow: 0px 1px 3px 1px rgba(0, 0, 0, 0.15);\n",
              "      filter: drop-shadow(0px 1px 2px rgba(0, 0, 0, 0.3));\n",
              "      fill: #FFFFFF;\n",
              "    }\n",
              "  </style>\n",
              "\n",
              "      <script>\n",
              "        const buttonEl =\n",
              "          document.querySelector('#df-5d10a398-0aa8-41b1-aa2a-fc2468dbaa2e button.colab-df-convert');\n",
              "        buttonEl.style.display =\n",
              "          google.colab.kernel.accessAllowed ? 'block' : 'none';\n",
              "\n",
              "        async function convertToInteractive(key) {\n",
              "          const element = document.querySelector('#df-5d10a398-0aa8-41b1-aa2a-fc2468dbaa2e');\n",
              "          const dataTable =\n",
              "            await google.colab.kernel.invokeFunction('convertToInteractive',\n",
              "                                                     [key], {});\n",
              "          if (!dataTable) return;\n",
              "\n",
              "          const docLinkHtml = 'Like what you see? Visit the ' +\n",
              "            '<a target=\"_blank\" href=https://colab.research.google.com/notebooks/data_table.ipynb>data table notebook</a>'\n",
              "            + ' to learn more about interactive tables.';\n",
              "          element.innerHTML = '';\n",
              "          dataTable['output_type'] = 'display_data';\n",
              "          await google.colab.output.renderOutput(dataTable, element);\n",
              "          const docLink = document.createElement('div');\n",
              "          docLink.innerHTML = docLinkHtml;\n",
              "          element.appendChild(docLink);\n",
              "        }\n",
              "      </script>\n",
              "    </div>\n",
              "  </div>\n",
              "  "
            ]
          },
          "metadata": {},
          "execution_count": 1515
        }
      ],
      "source": [
        "results_df.head()"
      ]
    },
    {
      "cell_type": "code",
      "execution_count": 1516,
      "metadata": {
        "id": "emlfx6SL9XR9",
        "colab": {
          "base_uri": "https://localhost:8080/"
        },
        "outputId": "ce0d24a1-bd02-4fb1-d08d-8613be30d826"
      },
      "outputs": [
        {
          "output_type": "execute_result",
          "data": {
            "text/plain": [
              "500"
            ]
          },
          "metadata": {},
          "execution_count": 1516
        }
      ],
      "source": [
        "results_df['Success'].count()"
      ]
    },
    {
      "cell_type": "code",
      "execution_count": 1517,
      "metadata": {
        "id": "1_t01dDW9XR9",
        "colab": {
          "base_uri": "https://localhost:8080/"
        },
        "outputId": "3e3be4f8-ce0b-4be1-effd-a789c9144d28"
      },
      "outputs": [
        {
          "output_type": "execute_result",
          "data": {
            "text/plain": [
              "360"
            ]
          },
          "metadata": {},
          "execution_count": 1517
        }
      ],
      "source": [
        "results_df['Success'].sum()"
      ]
    },
    {
      "cell_type": "code",
      "execution_count": 1518,
      "metadata": {
        "id": "w8V1Ndib9XR9",
        "colab": {
          "base_uri": "https://localhost:8080/"
        },
        "outputId": "8d17fbe9-bffc-482a-abfb-294b31320a13"
      },
      "outputs": [
        {
          "output_type": "execute_result",
          "data": {
            "text/plain": [
              "0.72"
            ]
          },
          "metadata": {},
          "execution_count": 1518
        }
      ],
      "source": [
        "results_df['Success'].mean()"
      ]
    },
    {
      "cell_type": "code",
      "execution_count": 1519,
      "metadata": {
        "id": "IvUMtwxO9XR9",
        "colab": {
          "base_uri": "https://localhost:8080/"
        },
        "outputId": "7981cf80-3873-45c7-b71d-f652ddba35b8"
      },
      "outputs": [
        {
          "output_type": "stream",
          "name": "stdout",
          "text": [
            "Hemos acertado 360 registros de un total de 500, por tanto el Accuracy es 0.72.\n"
          ]
        }
      ],
      "source": [
        "print('Hemos acertado {} registros de un total de {}, por tanto el Accuracy es {}.'.format(results_df['Success'].sum(), results_df['Success'].count(), results_df['Success'].mean()))"
      ]
    },
    {
      "cell_type": "markdown",
      "metadata": {
        "id": "arXvvIar9XR-"
      },
      "source": [
        "#### Opción 2: a través de la matriz de confusión"
      ]
    },
    {
      "cell_type": "code",
      "execution_count": 1520,
      "metadata": {
        "collapsed": true,
        "id": "BuyKD9G19XR-"
      },
      "outputs": [],
      "source": [
        "confusion_matrix = pd.crosstab(results_df['Insect'], results_df['Predicciones'])"
      ]
    },
    {
      "cell_type": "code",
      "execution_count": 1521,
      "metadata": {
        "id": "MHn7F9rV9XR-",
        "colab": {
          "base_uri": "https://localhost:8080/",
          "height": 175
        },
        "outputId": "f301e56b-cad6-4276-881d-778ea45953c3"
      },
      "outputs": [
        {
          "output_type": "execute_result",
          "data": {
            "text/plain": [
              "Predicciones    0    1  2\n",
              "Insect                   \n",
              "0             207   54  0\n",
              "1              46  145  0\n",
              "2              17   23  8"
            ],
            "text/html": [
              "\n",
              "  <div id=\"df-0b0980a0-22b1-4a3a-b646-f4b52b6d4bb6\">\n",
              "    <div class=\"colab-df-container\">\n",
              "      <div>\n",
              "<style scoped>\n",
              "    .dataframe tbody tr th:only-of-type {\n",
              "        vertical-align: middle;\n",
              "    }\n",
              "\n",
              "    .dataframe tbody tr th {\n",
              "        vertical-align: top;\n",
              "    }\n",
              "\n",
              "    .dataframe thead th {\n",
              "        text-align: right;\n",
              "    }\n",
              "</style>\n",
              "<table border=\"1\" class=\"dataframe\">\n",
              "  <thead>\n",
              "    <tr style=\"text-align: right;\">\n",
              "      <th>Predicciones</th>\n",
              "      <th>0</th>\n",
              "      <th>1</th>\n",
              "      <th>2</th>\n",
              "    </tr>\n",
              "    <tr>\n",
              "      <th>Insect</th>\n",
              "      <th></th>\n",
              "      <th></th>\n",
              "      <th></th>\n",
              "    </tr>\n",
              "  </thead>\n",
              "  <tbody>\n",
              "    <tr>\n",
              "      <th>0</th>\n",
              "      <td>207</td>\n",
              "      <td>54</td>\n",
              "      <td>0</td>\n",
              "    </tr>\n",
              "    <tr>\n",
              "      <th>1</th>\n",
              "      <td>46</td>\n",
              "      <td>145</td>\n",
              "      <td>0</td>\n",
              "    </tr>\n",
              "    <tr>\n",
              "      <th>2</th>\n",
              "      <td>17</td>\n",
              "      <td>23</td>\n",
              "      <td>8</td>\n",
              "    </tr>\n",
              "  </tbody>\n",
              "</table>\n",
              "</div>\n",
              "      <button class=\"colab-df-convert\" onclick=\"convertToInteractive('df-0b0980a0-22b1-4a3a-b646-f4b52b6d4bb6')\"\n",
              "              title=\"Convert this dataframe to an interactive table.\"\n",
              "              style=\"display:none;\">\n",
              "        \n",
              "  <svg xmlns=\"http://www.w3.org/2000/svg\" height=\"24px\"viewBox=\"0 0 24 24\"\n",
              "       width=\"24px\">\n",
              "    <path d=\"M0 0h24v24H0V0z\" fill=\"none\"/>\n",
              "    <path d=\"M18.56 5.44l.94 2.06.94-2.06 2.06-.94-2.06-.94-.94-2.06-.94 2.06-2.06.94zm-11 1L8.5 8.5l.94-2.06 2.06-.94-2.06-.94L8.5 2.5l-.94 2.06-2.06.94zm10 10l.94 2.06.94-2.06 2.06-.94-2.06-.94-.94-2.06-.94 2.06-2.06.94z\"/><path d=\"M17.41 7.96l-1.37-1.37c-.4-.4-.92-.59-1.43-.59-.52 0-1.04.2-1.43.59L10.3 9.45l-7.72 7.72c-.78.78-.78 2.05 0 2.83L4 21.41c.39.39.9.59 1.41.59.51 0 1.02-.2 1.41-.59l7.78-7.78 2.81-2.81c.8-.78.8-2.07 0-2.86zM5.41 20L4 18.59l7.72-7.72 1.47 1.35L5.41 20z\"/>\n",
              "  </svg>\n",
              "      </button>\n",
              "      \n",
              "  <style>\n",
              "    .colab-df-container {\n",
              "      display:flex;\n",
              "      flex-wrap:wrap;\n",
              "      gap: 12px;\n",
              "    }\n",
              "\n",
              "    .colab-df-convert {\n",
              "      background-color: #E8F0FE;\n",
              "      border: none;\n",
              "      border-radius: 50%;\n",
              "      cursor: pointer;\n",
              "      display: none;\n",
              "      fill: #1967D2;\n",
              "      height: 32px;\n",
              "      padding: 0 0 0 0;\n",
              "      width: 32px;\n",
              "    }\n",
              "\n",
              "    .colab-df-convert:hover {\n",
              "      background-color: #E2EBFA;\n",
              "      box-shadow: 0px 1px 2px rgba(60, 64, 67, 0.3), 0px 1px 3px 1px rgba(60, 64, 67, 0.15);\n",
              "      fill: #174EA6;\n",
              "    }\n",
              "\n",
              "    [theme=dark] .colab-df-convert {\n",
              "      background-color: #3B4455;\n",
              "      fill: #D2E3FC;\n",
              "    }\n",
              "\n",
              "    [theme=dark] .colab-df-convert:hover {\n",
              "      background-color: #434B5C;\n",
              "      box-shadow: 0px 1px 3px 1px rgba(0, 0, 0, 0.15);\n",
              "      filter: drop-shadow(0px 1px 2px rgba(0, 0, 0, 0.3));\n",
              "      fill: #FFFFFF;\n",
              "    }\n",
              "  </style>\n",
              "\n",
              "      <script>\n",
              "        const buttonEl =\n",
              "          document.querySelector('#df-0b0980a0-22b1-4a3a-b646-f4b52b6d4bb6 button.colab-df-convert');\n",
              "        buttonEl.style.display =\n",
              "          google.colab.kernel.accessAllowed ? 'block' : 'none';\n",
              "\n",
              "        async function convertToInteractive(key) {\n",
              "          const element = document.querySelector('#df-0b0980a0-22b1-4a3a-b646-f4b52b6d4bb6');\n",
              "          const dataTable =\n",
              "            await google.colab.kernel.invokeFunction('convertToInteractive',\n",
              "                                                     [key], {});\n",
              "          if (!dataTable) return;\n",
              "\n",
              "          const docLinkHtml = 'Like what you see? Visit the ' +\n",
              "            '<a target=\"_blank\" href=https://colab.research.google.com/notebooks/data_table.ipynb>data table notebook</a>'\n",
              "            + ' to learn more about interactive tables.';\n",
              "          element.innerHTML = '';\n",
              "          dataTable['output_type'] = 'display_data';\n",
              "          await google.colab.output.renderOutput(dataTable, element);\n",
              "          const docLink = document.createElement('div');\n",
              "          docLink.innerHTML = docLinkHtml;\n",
              "          element.appendChild(docLink);\n",
              "        }\n",
              "      </script>\n",
              "    </div>\n",
              "  </div>\n",
              "  "
            ]
          },
          "metadata": {},
          "execution_count": 1521
        }
      ],
      "source": [
        "confusion_matrix"
      ]
    },
    {
      "cell_type": "code",
      "source": [
        "plt.figure(figsize=(5,4))\n",
        "sns.heatmap(confusion_matrix, fmt=\"d\", cmap = \"Blues\", annot=True)\n",
        "plt.title('Confusion Matrix')\n",
        "plt.ylabel('Insect')\n",
        "plt.xlabel('Predicciones')\n",
        "plt.show()"
      ],
      "metadata": {
        "colab": {
          "base_uri": "https://localhost:8080/",
          "height": 294
        },
        "id": "K30We6n6fuat",
        "outputId": "b8f7c514-4e9a-4cc5-8b1b-bb03b5caa960"
      },
      "execution_count": 1522,
      "outputs": [
        {
          "output_type": "display_data",
          "data": {
            "text/plain": [
              "<Figure size 360x288 with 2 Axes>"
            ],
            "image/png": "[encoded data removed]"
          },
          "metadata": {}
        }
      ]
    },
    {
      "cell_type": "markdown",
      "source": [
        "Calculando el Positive predictive value for each class (PPV)"
      ],
      "metadata": {
        "id": "w-6J4rqyfuat"
      }
    },
    {
      "cell_type": "code",
      "source": [
        "PPV_0 = 207/(207+46+17)\n",
        "PPV_0"
      ],
      "metadata": {
        "colab": {
          "base_uri": "https://localhost:8080/"
        },
        "outputId": "3f1dfa7c-7d1b-421c-fde6-bd66a7c218bb",
        "id": "0d0x2seIfuau"
      },
      "execution_count": 1575,
      "outputs": [
        {
          "output_type": "execute_result",
          "data": {
            "text/plain": [
              "0.7666666666666667"
            ]
          },
          "metadata": {},
          "execution_count": 1575
        }
      ]
    },
    {
      "cell_type": "code",
      "source": [
        "PPV_1 = 145/(54+145+23)\n",
        "PPV_1"
      ],
      "metadata": {
        "colab": {
          "base_uri": "https://localhost:8080/"
        },
        "outputId": "9ec6b895-fa52-457e-80a3-f6643931dbb1",
        "id": "RrfqLX-cfuau"
      },
      "execution_count": 1576,
      "outputs": [
        {
          "output_type": "execute_result",
          "data": {
            "text/plain": [
              "0.6531531531531531"
            ]
          },
          "metadata": {},
          "execution_count": 1576
        }
      ]
    },
    {
      "cell_type": "code",
      "source": [
        "PPV_2 = 8/(0+0+8)\n",
        "PPV_2"
      ],
      "metadata": {
        "colab": {
          "base_uri": "https://localhost:8080/"
        },
        "outputId": "4c6be4e7-e143-4d2c-ef6b-5ab0d63a0110",
        "id": "Rh5c5j-_fuau"
      },
      "execution_count": 1577,
      "outputs": [
        {
          "output_type": "execute_result",
          "data": {
            "text/plain": [
              "1.0"
            ]
          },
          "metadata": {},
          "execution_count": 1577
        }
      ]
    },
    {
      "cell_type": "code",
      "execution_count": 1526,
      "metadata": {
        "collapsed": true,
        "id": "-kWRofZ_9XR-"
      },
      "outputs": [],
      "source": [
        "confusion_matrix_porcentajes = pd.crosstab(results_df['Insect'], results_df['Predicciones'])/len(results_df[\"Insect\"])*100"
      ]
    },
    {
      "cell_type": "code",
      "execution_count": 1527,
      "metadata": {
        "id": "pvJOJCe89XR-",
        "colab": {
          "base_uri": "https://localhost:8080/",
          "height": 175
        },
        "outputId": "e1a5c58f-da96-48fc-fc01-46f156c7f087"
      },
      "outputs": [
        {
          "output_type": "execute_result",
          "data": {
            "text/plain": [
              "Predicciones     0     1    2\n",
              "Insect                       \n",
              "0             41.4  10.8  0.0\n",
              "1              9.2  29.0  0.0\n",
              "2              3.4   4.6  1.6"
            ],
            "text/html": [
              "\n",
              "  <div id=\"df-b5f9d759-7862-4760-b422-d3b27baf43b7\">\n",
              "    <div class=\"colab-df-container\">\n",
              "      <div>\n",
              "<style scoped>\n",
              "    .dataframe tbody tr th:only-of-type {\n",
              "        vertical-align: middle;\n",
              "    }\n",
              "\n",
              "    .dataframe tbody tr th {\n",
              "        vertical-align: top;\n",
              "    }\n",
              "\n",
              "    .dataframe thead th {\n",
              "        text-align: right;\n",
              "    }\n",
              "</style>\n",
              "<table border=\"1\" class=\"dataframe\">\n",
              "  <thead>\n",
              "    <tr style=\"text-align: right;\">\n",
              "      <th>Predicciones</th>\n",
              "      <th>0</th>\n",
              "      <th>1</th>\n",
              "      <th>2</th>\n",
              "    </tr>\n",
              "    <tr>\n",
              "      <th>Insect</th>\n",
              "      <th></th>\n",
              "      <th></th>\n",
              "      <th></th>\n",
              "    </tr>\n",
              "  </thead>\n",
              "  <tbody>\n",
              "    <tr>\n",
              "      <th>0</th>\n",
              "      <td>41.4</td>\n",
              "      <td>10.8</td>\n",
              "      <td>0.0</td>\n",
              "    </tr>\n",
              "    <tr>\n",
              "      <th>1</th>\n",
              "      <td>9.2</td>\n",
              "      <td>29.0</td>\n",
              "      <td>0.0</td>\n",
              "    </tr>\n",
              "    <tr>\n",
              "      <th>2</th>\n",
              "      <td>3.4</td>\n",
              "      <td>4.6</td>\n",
              "      <td>1.6</td>\n",
              "    </tr>\n",
              "  </tbody>\n",
              "</table>\n",
              "</div>\n",
              "      <button class=\"colab-df-convert\" onclick=\"convertToInteractive('df-b5f9d759-7862-4760-b422-d3b27baf43b7')\"\n",
              "              title=\"Convert this dataframe to an interactive table.\"\n",
              "              style=\"display:none;\">\n",
              "        \n",
              "  <svg xmlns=\"http://www.w3.org/2000/svg\" height=\"24px\"viewBox=\"0 0 24 24\"\n",
              "       width=\"24px\">\n",
              "    <path d=\"M0 0h24v24H0V0z\" fill=\"none\"/>\n",
              "    <path d=\"M18.56 5.44l.94 2.06.94-2.06 2.06-.94-2.06-.94-.94-2.06-.94 2.06-2.06.94zm-11 1L8.5 8.5l.94-2.06 2.06-.94-2.06-.94L8.5 2.5l-.94 2.06-2.06.94zm10 10l.94 2.06.94-2.06 2.06-.94-2.06-.94-.94-2.06-.94 2.06-2.06.94z\"/><path d=\"M17.41 7.96l-1.37-1.37c-.4-.4-.92-.59-1.43-.59-.52 0-1.04.2-1.43.59L10.3 9.45l-7.72 7.72c-.78.78-.78 2.05 0 2.83L4 21.41c.39.39.9.59 1.41.59.51 0 1.02-.2 1.41-.59l7.78-7.78 2.81-2.81c.8-.78.8-2.07 0-2.86zM5.41 20L4 18.59l7.72-7.72 1.47 1.35L5.41 20z\"/>\n",
              "  </svg>\n",
              "      </button>\n",
              "      \n",
              "  <style>\n",
              "    .colab-df-container {\n",
              "      display:flex;\n",
              "      flex-wrap:wrap;\n",
              "      gap: 12px;\n",
              "    }\n",
              "\n",
              "    .colab-df-convert {\n",
              "      background-color: #E8F0FE;\n",
              "      border: none;\n",
              "      border-radius: 50%;\n",
              "      cursor: pointer;\n",
              "      display: none;\n",
              "      fill: #1967D2;\n",
              "      height: 32px;\n",
              "      padding: 0 0 0 0;\n",
              "      width: 32px;\n",
              "    }\n",
              "\n",
              "    .colab-df-convert:hover {\n",
              "      background-color: #E2EBFA;\n",
              "      box-shadow: 0px 1px 2px rgba(60, 64, 67, 0.3), 0px 1px 3px 1px rgba(60, 64, 67, 0.15);\n",
              "      fill: #174EA6;\n",
              "    }\n",
              "\n",
              "    [theme=dark] .colab-df-convert {\n",
              "      background-color: #3B4455;\n",
              "      fill: #D2E3FC;\n",
              "    }\n",
              "\n",
              "    [theme=dark] .colab-df-convert:hover {\n",
              "      background-color: #434B5C;\n",
              "      box-shadow: 0px 1px 3px 1px rgba(0, 0, 0, 0.15);\n",
              "      filter: drop-shadow(0px 1px 2px rgba(0, 0, 0, 0.3));\n",
              "      fill: #FFFFFF;\n",
              "    }\n",
              "  </style>\n",
              "\n",
              "      <script>\n",
              "        const buttonEl =\n",
              "          document.querySelector('#df-b5f9d759-7862-4760-b422-d3b27baf43b7 button.colab-df-convert');\n",
              "        buttonEl.style.display =\n",
              "          google.colab.kernel.accessAllowed ? 'block' : 'none';\n",
              "\n",
              "        async function convertToInteractive(key) {\n",
              "          const element = document.querySelector('#df-b5f9d759-7862-4760-b422-d3b27baf43b7');\n",
              "          const dataTable =\n",
              "            await google.colab.kernel.invokeFunction('convertToInteractive',\n",
              "                                                     [key], {});\n",
              "          if (!dataTable) return;\n",
              "\n",
              "          const docLinkHtml = 'Like what you see? Visit the ' +\n",
              "            '<a target=\"_blank\" href=https://colab.research.google.com/notebooks/data_table.ipynb>data table notebook</a>'\n",
              "            + ' to learn more about interactive tables.';\n",
              "          element.innerHTML = '';\n",
              "          dataTable['output_type'] = 'display_data';\n",
              "          await google.colab.output.renderOutput(dataTable, element);\n",
              "          const docLink = document.createElement('div');\n",
              "          docLink.innerHTML = docLinkHtml;\n",
              "          element.appendChild(docLink);\n",
              "        }\n",
              "      </script>\n",
              "    </div>\n",
              "  </div>\n",
              "  "
            ]
          },
          "metadata": {},
          "execution_count": 1527
        }
      ],
      "source": [
        "confusion_matrix_porcentajes.round(2)"
      ]
    },
    {
      "cell_type": "markdown",
      "metadata": {
        "id": "_rEQaW0g9XR_"
      },
      "source": [
        "#### Opción 3: Usando el módulo metrics"
      ]
    },
    {
      "cell_type": "code",
      "execution_count": 1528,
      "metadata": {
        "id": "LCv61hV89XR_",
        "colab": {
          "base_uri": "https://localhost:8080/"
        },
        "outputId": "40ae8586-313e-4e3a-8d08-e9b0f5c2e819"
      },
      "outputs": [
        {
          "output_type": "execute_result",
          "data": {
            "text/plain": [
              "0.72"
            ]
          },
          "metadata": {},
          "execution_count": 1528
        }
      ],
      "source": [
        "metrics.accuracy_score(results_df['Insect'], results_df['Predicciones'])"
      ]
    },
    {
      "cell_type": "markdown",
      "metadata": {
        "id": "0XhMoGoE9XR_"
      },
      "source": [
        "#### Opción 4: Usando el modelo"
      ]
    },
    {
      "cell_type": "code",
      "execution_count": 1529,
      "metadata": {
        "id": "zhyx9aJd9XR_",
        "colab": {
          "base_uri": "https://localhost:8080/"
        },
        "outputId": "029c082d-2ea3-42d4-95d5-4d2b9b6fd7d7"
      },
      "outputs": [
        {
          "output_type": "execute_result",
          "data": {
            "text/plain": [
              "0.72"
            ]
          },
          "metadata": {},
          "execution_count": 1529
        }
      ],
      "source": [
        "rf.score(X_test, y_test)"
      ]
    },
    {
      "cell_type": "markdown",
      "metadata": {
        "id": "ztQ3mJeR9XSD"
      },
      "source": [
        "#### Podemos medir la efectividad en el conjunto de validación del mejor estimador"
      ]
    },
    {
      "cell_type": "code",
      "execution_count": 1530,
      "metadata": {
        "id": "_Craj-5q9XSD",
        "colab": {
          "base_uri": "https://localhost:8080/"
        },
        "outputId": "a58ca811-90d6-4fbc-d718-b56ab7cc4081"
      },
      "outputs": [
        {
          "output_type": "execute_result",
          "data": {
            "text/plain": [
              "RandomForestClassifier(max_depth=8, min_samples_split=500, n_estimators=200,\n",
              "                       random_state=42)"
            ]
          },
          "metadata": {},
          "execution_count": 1530
        }
      ],
      "source": [
        "rf = RandomForestClassifier(n_estimators=200, max_depth=8, min_samples_split=500, random_state=42)\n",
        "rf.fit(X_train, np.ravel(y_train))"
      ]
    },
    {
      "cell_type": "code",
      "execution_count": 1531,
      "metadata": {
        "id": "ky-J4P0B9XSD",
        "colab": {
          "base_uri": "https://localhost:8080/"
        },
        "outputId": "884c7630-dc38-4774-ed4e-ebac9151476c"
      },
      "outputs": [
        {
          "output_type": "execute_result",
          "data": {
            "text/plain": [
              "0.7384444444444445"
            ]
          },
          "metadata": {},
          "execution_count": 1531
        }
      ],
      "source": [
        "rf.score(X_train, y_train)"
      ]
    },
    {
      "cell_type": "code",
      "execution_count": 1532,
      "metadata": {
        "id": "3EV7X99F9XSD",
        "colab": {
          "base_uri": "https://localhost:8080/"
        },
        "outputId": "9e59ffe2-3517-42b5-ef0a-7e027e280132"
      },
      "outputs": [
        {
          "output_type": "execute_result",
          "data": {
            "text/plain": [
              "0.724"
            ]
          },
          "metadata": {},
          "execution_count": 1532
        }
      ],
      "source": [
        "rf.score(X_test, y_test)"
      ]
    },
    {
      "cell_type": "code",
      "execution_count": 1533,
      "metadata": {
        "id": "A9b1z7O99XSD",
        "colab": {
          "base_uri": "https://localhost:8080/"
        },
        "outputId": "8f9095e4-42bb-4779-a91a-e21d5d92cd9e"
      },
      "outputs": [
        {
          "output_type": "execute_result",
          "data": {
            "text/plain": [
              "0.711144427786107"
            ]
          },
          "metadata": {},
          "execution_count": 1533
        }
      ],
      "source": [
        "rf.score(val_df_X, val_df_y)"
      ]
    },
    {
      "cell_type": "markdown",
      "metadata": {
        "id": "OZloHscv9XSG"
      },
      "source": [
        "#### Podemos probar el k-fold como estrategia de validación"
      ]
    },
    {
      "cell_type": "code",
      "execution_count": 1534,
      "metadata": {
        "collapsed": true,
        "id": "Lnob2wU99XSG"
      },
      "outputs": [],
      "source": [
        "kf =  model_selection.KFold(n_splits=10, random_state=42, shuffle=True)"
      ]
    },
    {
      "cell_type": "code",
      "execution_count": 1535,
      "metadata": {
        "id": "5YlDPIBq9XSG",
        "colab": {
          "base_uri": "https://localhost:8080/"
        },
        "outputId": "2907d5fa-1935-4580-cb9e-54aaf524d1fd"
      },
      "outputs": [
        {
          "output_type": "stream",
          "name": "stderr",
          "text": [
            "/usr/local/lib/python3.7/dist-packages/ipykernel_launcher.py:7: DataConversionWarning: A column-vector y was passed when a 1d array was expected. Please change the shape of y to (n_samples,), for example using ravel().\n",
            "  import sys\n",
            "/usr/local/lib/python3.7/dist-packages/ipykernel_launcher.py:7: DataConversionWarning: A column-vector y was passed when a 1d array was expected. Please change the shape of y to (n_samples,), for example using ravel().\n",
            "  import sys\n",
            "/usr/local/lib/python3.7/dist-packages/ipykernel_launcher.py:7: DataConversionWarning: A column-vector y was passed when a 1d array was expected. Please change the shape of y to (n_samples,), for example using ravel().\n",
            "  import sys\n",
            "/usr/local/lib/python3.7/dist-packages/ipykernel_launcher.py:7: DataConversionWarning: A column-vector y was passed when a 1d array was expected. Please change the shape of y to (n_samples,), for example using ravel().\n",
            "  import sys\n",
            "/usr/local/lib/python3.7/dist-packages/ipykernel_launcher.py:7: DataConversionWarning: A column-vector y was passed when a 1d array was expected. Please change the shape of y to (n_samples,), for example using ravel().\n",
            "  import sys\n",
            "/usr/local/lib/python3.7/dist-packages/ipykernel_launcher.py:7: DataConversionWarning: A column-vector y was passed when a 1d array was expected. Please change the shape of y to (n_samples,), for example using ravel().\n",
            "  import sys\n",
            "/usr/local/lib/python3.7/dist-packages/ipykernel_launcher.py:7: DataConversionWarning: A column-vector y was passed when a 1d array was expected. Please change the shape of y to (n_samples,), for example using ravel().\n",
            "  import sys\n",
            "/usr/local/lib/python3.7/dist-packages/ipykernel_launcher.py:7: DataConversionWarning: A column-vector y was passed when a 1d array was expected. Please change the shape of y to (n_samples,), for example using ravel().\n",
            "  import sys\n",
            "/usr/local/lib/python3.7/dist-packages/ipykernel_launcher.py:7: DataConversionWarning: A column-vector y was passed when a 1d array was expected. Please change the shape of y to (n_samples,), for example using ravel().\n",
            "  import sys\n",
            "/usr/local/lib/python3.7/dist-packages/ipykernel_launcher.py:7: DataConversionWarning: A column-vector y was passed when a 1d array was expected. Please change the shape of y to (n_samples,), for example using ravel().\n",
            "  import sys\n"
          ]
        },
        {
          "output_type": "execute_result",
          "data": {
            "text/plain": [
              "[0.746, 0.726, 0.742, 0.734, 0.718, 0.722, 0.732, 0.754, 0.704, 0.72]"
            ]
          },
          "metadata": {},
          "execution_count": 1535
        }
      ],
      "source": [
        "scores_list = []\n",
        "for train_index, test_index in kf.split(dev_df):\n",
        "    #print(\"TRAIN:\", train_index, \"TEST:\", test_index)\n",
        "    X_train, X_test = dev_df_X.iloc[train_index], dev_df_X.iloc[test_index]\n",
        "    y_train, y_test = dev_df_y.iloc[train_index], dev_df_y.iloc[test_index]\n",
        "    rf = RandomForestClassifier(n_estimators=100, max_depth=8, min_samples_split=500, random_state=42)\n",
        "    rf.fit(X_train, y_train)\n",
        "    _score = rf.score(X_test, y_test)\n",
        "    scores_list.append(_score)\n",
        "    #print(_scores)\n",
        "scores_list"
      ]
    },
    {
      "cell_type": "code",
      "execution_count": 1536,
      "metadata": {
        "id": "GxWv6J_W9XSG",
        "colab": {
          "base_uri": "https://localhost:8080/"
        },
        "outputId": "96b25cbf-c11e-4e80-978e-5b5a978dbe1b"
      },
      "outputs": [
        {
          "output_type": "execute_result",
          "data": {
            "text/plain": [
              "0.7298"
            ]
          },
          "metadata": {},
          "execution_count": 1536
        }
      ],
      "source": [
        "np.mean(scores_list)"
      ]
    },
    {
      "cell_type": "code",
      "execution_count": 1537,
      "metadata": {
        "id": "45lAgbDR9XSG",
        "colab": {
          "base_uri": "https://localhost:8080/"
        },
        "outputId": "228005f3-2865-43b0-993d-49e3d7ed5229"
      },
      "outputs": [
        {
          "output_type": "execute_result",
          "data": {
            "text/plain": [
              "0.014126570709128256"
            ]
          },
          "metadata": {},
          "execution_count": 1537
        }
      ],
      "source": [
        "np.std(scores_list)"
      ]
    },
    {
      "cell_type": "code",
      "execution_count": 1538,
      "metadata": {
        "collapsed": true,
        "id": "58s1FMxR9XSG"
      },
      "outputs": [],
      "source": [
        "scores = model_selection.cross_val_score(dt, dev_df_X, dev_df_y, cv=kf)"
      ]
    },
    {
      "cell_type": "code",
      "execution_count": 1539,
      "metadata": {
        "id": "ZeQ5Ftea9XSG",
        "colab": {
          "base_uri": "https://localhost:8080/"
        },
        "outputId": "074f835f-ec60-4c37-fecf-c559c7ab9afc"
      },
      "outputs": [
        {
          "output_type": "execute_result",
          "data": {
            "text/plain": [
              "array([0.774, 0.792, 0.772, 0.788, 0.786, 0.824, 0.776, 0.818, 0.786,\n",
              "       0.81 ])"
            ]
          },
          "metadata": {},
          "execution_count": 1539
        }
      ],
      "source": [
        "scores"
      ]
    },
    {
      "cell_type": "code",
      "execution_count": 1540,
      "metadata": {
        "id": "lmccGvHN9XSG",
        "colab": {
          "base_uri": "https://localhost:8080/"
        },
        "outputId": "f07e1af9-8a19-41e3-d889-d0ad7cf2bded"
      },
      "outputs": [
        {
          "output_type": "stream",
          "name": "stdout",
          "text": [
            "Accuracy: 0.793 (+/- 0.035)\n"
          ]
        }
      ],
      "source": [
        "print(\"Accuracy: %0.3f (+/- %0.3f)\" % (scores.mean(), scores.std() * 2))"
      ]
    },
    {
      "cell_type": "markdown",
      "metadata": {
        "id": "rjgNJnMl9fgD"
      },
      "source": [
        "## 4.5 Evaluación del modelo. XGB Classifier."
      ]
    },
    {
      "cell_type": "markdown",
      "metadata": {
        "id": "KcCofOVn9fgF"
      },
      "source": [
        "#### Opción 1: a través de los resultados"
      ]
    },
    {
      "cell_type": "code",
      "execution_count": 1541,
      "metadata": {
        "collapsed": true,
        "id": "6rilUt3X9fgF"
      },
      "outputs": [],
      "source": [
        "#y_test_pred = pd.DataFrame(xgbrus.predict(X_rus_test), index=y_rus_test.index, columns=['Predicciones'])\n",
        "y_test_pred = pd.DataFrame(xgb.predict(X_test), index=y_test.index, columns=['Predicciones'])\n"
      ]
    },
    {
      "cell_type": "code",
      "execution_count": 1542,
      "metadata": {
        "colab": {
          "base_uri": "https://localhost:8080/",
          "height": 206
        },
        "outputId": "4479e14e-ffd9-4f68-81f4-e1d2528f96ae",
        "id": "x6MTJp6n9fgF"
      },
      "outputs": [
        {
          "output_type": "execute_result",
          "data": {
            "text/plain": [
              "    Predicciones\n",
              "4              2\n",
              "16             0\n",
              "34             0\n",
              "64             0\n",
              "98             0"
            ],
            "text/html": [
              "\n",
              "  <div id=\"df-2a68ed1c-eedc-4099-9fa6-99488fb08d43\">\n",
              "    <div class=\"colab-df-container\">\n",
              "      <div>\n",
              "<style scoped>\n",
              "    .dataframe tbody tr th:only-of-type {\n",
              "        vertical-align: middle;\n",
              "    }\n",
              "\n",
              "    .dataframe tbody tr th {\n",
              "        vertical-align: top;\n",
              "    }\n",
              "\n",
              "    .dataframe thead th {\n",
              "        text-align: right;\n",
              "    }\n",
              "</style>\n",
              "<table border=\"1\" class=\"dataframe\">\n",
              "  <thead>\n",
              "    <tr style=\"text-align: right;\">\n",
              "      <th></th>\n",
              "      <th>Predicciones</th>\n",
              "    </tr>\n",
              "  </thead>\n",
              "  <tbody>\n",
              "    <tr>\n",
              "      <th>4</th>\n",
              "      <td>2</td>\n",
              "    </tr>\n",
              "    <tr>\n",
              "      <th>16</th>\n",
              "      <td>0</td>\n",
              "    </tr>\n",
              "    <tr>\n",
              "      <th>34</th>\n",
              "      <td>0</td>\n",
              "    </tr>\n",
              "    <tr>\n",
              "      <th>64</th>\n",
              "      <td>0</td>\n",
              "    </tr>\n",
              "    <tr>\n",
              "      <th>98</th>\n",
              "      <td>0</td>\n",
              "    </tr>\n",
              "  </tbody>\n",
              "</table>\n",
              "</div>\n",
              "      <button class=\"colab-df-convert\" onclick=\"convertToInteractive('df-2a68ed1c-eedc-4099-9fa6-99488fb08d43')\"\n",
              "              title=\"Convert this dataframe to an interactive table.\"\n",
              "              style=\"display:none;\">\n",
              "        \n",
              "  <svg xmlns=\"http://www.w3.org/2000/svg\" height=\"24px\"viewBox=\"0 0 24 24\"\n",
              "       width=\"24px\">\n",
              "    <path d=\"M0 0h24v24H0V0z\" fill=\"none\"/>\n",
              "    <path d=\"M18.56 5.44l.94 2.06.94-2.06 2.06-.94-2.06-.94-.94-2.06-.94 2.06-2.06.94zm-11 1L8.5 8.5l.94-2.06 2.06-.94-2.06-.94L8.5 2.5l-.94 2.06-2.06.94zm10 10l.94 2.06.94-2.06 2.06-.94-2.06-.94-.94-2.06-.94 2.06-2.06.94z\"/><path d=\"M17.41 7.96l-1.37-1.37c-.4-.4-.92-.59-1.43-.59-.52 0-1.04.2-1.43.59L10.3 9.45l-7.72 7.72c-.78.78-.78 2.05 0 2.83L4 21.41c.39.39.9.59 1.41.59.51 0 1.02-.2 1.41-.59l7.78-7.78 2.81-2.81c.8-.78.8-2.07 0-2.86zM5.41 20L4 18.59l7.72-7.72 1.47 1.35L5.41 20z\"/>\n",
              "  </svg>\n",
              "      </button>\n",
              "      \n",
              "  <style>\n",
              "    .colab-df-container {\n",
              "      display:flex;\n",
              "      flex-wrap:wrap;\n",
              "      gap: 12px;\n",
              "    }\n",
              "\n",
              "    .colab-df-convert {\n",
              "      background-color: #E8F0FE;\n",
              "      border: none;\n",
              "      border-radius: 50%;\n",
              "      cursor: pointer;\n",
              "      display: none;\n",
              "      fill: #1967D2;\n",
              "      height: 32px;\n",
              "      padding: 0 0 0 0;\n",
              "      width: 32px;\n",
              "    }\n",
              "\n",
              "    .colab-df-convert:hover {\n",
              "      background-color: #E2EBFA;\n",
              "      box-shadow: 0px 1px 2px rgba(60, 64, 67, 0.3), 0px 1px 3px 1px rgba(60, 64, 67, 0.15);\n",
              "      fill: #174EA6;\n",
              "    }\n",
              "\n",
              "    [theme=dark] .colab-df-convert {\n",
              "      background-color: #3B4455;\n",
              "      fill: #D2E3FC;\n",
              "    }\n",
              "\n",
              "    [theme=dark] .colab-df-convert:hover {\n",
              "      background-color: #434B5C;\n",
              "      box-shadow: 0px 1px 3px 1px rgba(0, 0, 0, 0.15);\n",
              "      filter: drop-shadow(0px 1px 2px rgba(0, 0, 0, 0.3));\n",
              "      fill: #FFFFFF;\n",
              "    }\n",
              "  </style>\n",
              "\n",
              "      <script>\n",
              "        const buttonEl =\n",
              "          document.querySelector('#df-2a68ed1c-eedc-4099-9fa6-99488fb08d43 button.colab-df-convert');\n",
              "        buttonEl.style.display =\n",
              "          google.colab.kernel.accessAllowed ? 'block' : 'none';\n",
              "\n",
              "        async function convertToInteractive(key) {\n",
              "          const element = document.querySelector('#df-2a68ed1c-eedc-4099-9fa6-99488fb08d43');\n",
              "          const dataTable =\n",
              "            await google.colab.kernel.invokeFunction('convertToInteractive',\n",
              "                                                     [key], {});\n",
              "          if (!dataTable) return;\n",
              "\n",
              "          const docLinkHtml = 'Like what you see? Visit the ' +\n",
              "            '<a target=\"_blank\" href=https://colab.research.google.com/notebooks/data_table.ipynb>data table notebook</a>'\n",
              "            + ' to learn more about interactive tables.';\n",
              "          element.innerHTML = '';\n",
              "          dataTable['output_type'] = 'display_data';\n",
              "          await google.colab.output.renderOutput(dataTable, element);\n",
              "          const docLink = document.createElement('div');\n",
              "          docLink.innerHTML = docLinkHtml;\n",
              "          element.appendChild(docLink);\n",
              "        }\n",
              "      </script>\n",
              "    </div>\n",
              "  </div>\n",
              "  "
            ]
          },
          "metadata": {},
          "execution_count": 1542
        }
      ],
      "source": [
        "y_test_pred.head()"
      ]
    },
    {
      "cell_type": "code",
      "execution_count": 1543,
      "metadata": {
        "colab": {
          "base_uri": "https://localhost:8080/"
        },
        "outputId": "c07519f9-0934-4f81-edbe-d7525353a83a",
        "id": "VsxjaB7c9fgF"
      },
      "outputs": [
        {
          "output_type": "stream",
          "name": "stdout",
          "text": [
            "<class 'pandas.core.frame.DataFrame'>\n",
            "Int64Index: 500 entries, 4 to 4994\n",
            "Data columns (total 1 columns):\n",
            " #   Column        Non-Null Count  Dtype\n",
            "---  ------        --------------  -----\n",
            " 0   Predicciones  500 non-null    int64\n",
            "dtypes: int64(1)\n",
            "memory usage: 7.8 KB\n"
          ]
        }
      ],
      "source": [
        "y_test_pred.info()"
      ]
    },
    {
      "cell_type": "code",
      "execution_count": 1544,
      "metadata": {
        "colab": {
          "base_uri": "https://localhost:8080/"
        },
        "outputId": "2a7fd987-dcf4-4398-ccf9-0a6bb5ab26dd",
        "id": "OoMzITAz9fgG"
      },
      "outputs": [
        {
          "output_type": "execute_result",
          "data": {
            "text/plain": [
              "(500, 1)"
            ]
          },
          "metadata": {},
          "execution_count": 1544
        }
      ],
      "source": [
        "y_test_pred.shape"
      ]
    },
    {
      "cell_type": "code",
      "execution_count": 1545,
      "metadata": {
        "collapsed": true,
        "id": "fbVemAlm9fgG"
      },
      "outputs": [],
      "source": [
        "results_df = y_test.join(y_test_pred, how= 'inner')"
      ]
    },
    {
      "cell_type": "code",
      "execution_count": 1546,
      "metadata": {
        "colab": {
          "base_uri": "https://localhost:8080/",
          "height": 206
        },
        "outputId": "499d2e18-53a7-491f-c878-04c3151bb9d2",
        "id": "IZnhm9UJ9fgG"
      },
      "outputs": [
        {
          "output_type": "execute_result",
          "data": {
            "text/plain": [
              "    Insect  Predicciones\n",
              "4        2             2\n",
              "16       0             0\n",
              "34       0             0\n",
              "64       0             0\n",
              "98       0             0"
            ],
            "text/html": [
              "\n",
              "  <div id=\"df-174a5f51-7fa3-48e5-bfae-b95f5f10a351\">\n",
              "    <div class=\"colab-df-container\">\n",
              "      <div>\n",
              "<style scoped>\n",
              "    .dataframe tbody tr th:only-of-type {\n",
              "        vertical-align: middle;\n",
              "    }\n",
              "\n",
              "    .dataframe tbody tr th {\n",
              "        vertical-align: top;\n",
              "    }\n",
              "\n",
              "    .dataframe thead th {\n",
              "        text-align: right;\n",
              "    }\n",
              "</style>\n",
              "<table border=\"1\" class=\"dataframe\">\n",
              "  <thead>\n",
              "    <tr style=\"text-align: right;\">\n",
              "      <th></th>\n",
              "      <th>Insect</th>\n",
              "      <th>Predicciones</th>\n",
              "    </tr>\n",
              "  </thead>\n",
              "  <tbody>\n",
              "    <tr>\n",
              "      <th>4</th>\n",
              "      <td>2</td>\n",
              "      <td>2</td>\n",
              "    </tr>\n",
              "    <tr>\n",
              "      <th>16</th>\n",
              "      <td>0</td>\n",
              "      <td>0</td>\n",
              "    </tr>\n",
              "    <tr>\n",
              "      <th>34</th>\n",
              "      <td>0</td>\n",
              "      <td>0</td>\n",
              "    </tr>\n",
              "    <tr>\n",
              "      <th>64</th>\n",
              "      <td>0</td>\n",
              "      <td>0</td>\n",
              "    </tr>\n",
              "    <tr>\n",
              "      <th>98</th>\n",
              "      <td>0</td>\n",
              "      <td>0</td>\n",
              "    </tr>\n",
              "  </tbody>\n",
              "</table>\n",
              "</div>\n",
              "      <button class=\"colab-df-convert\" onclick=\"convertToInteractive('df-174a5f51-7fa3-48e5-bfae-b95f5f10a351')\"\n",
              "              title=\"Convert this dataframe to an interactive table.\"\n",
              "              style=\"display:none;\">\n",
              "        \n",
              "  <svg xmlns=\"http://www.w3.org/2000/svg\" height=\"24px\"viewBox=\"0 0 24 24\"\n",
              "       width=\"24px\">\n",
              "    <path d=\"M0 0h24v24H0V0z\" fill=\"none\"/>\n",
              "    <path d=\"M18.56 5.44l.94 2.06.94-2.06 2.06-.94-2.06-.94-.94-2.06-.94 2.06-2.06.94zm-11 1L8.5 8.5l.94-2.06 2.06-.94-2.06-.94L8.5 2.5l-.94 2.06-2.06.94zm10 10l.94 2.06.94-2.06 2.06-.94-2.06-.94-.94-2.06-.94 2.06-2.06.94z\"/><path d=\"M17.41 7.96l-1.37-1.37c-.4-.4-.92-.59-1.43-.59-.52 0-1.04.2-1.43.59L10.3 9.45l-7.72 7.72c-.78.78-.78 2.05 0 2.83L4 21.41c.39.39.9.59 1.41.59.51 0 1.02-.2 1.41-.59l7.78-7.78 2.81-2.81c.8-.78.8-2.07 0-2.86zM5.41 20L4 18.59l7.72-7.72 1.47 1.35L5.41 20z\"/>\n",
              "  </svg>\n",
              "      </button>\n",
              "      \n",
              "  <style>\n",
              "    .colab-df-container {\n",
              "      display:flex;\n",
              "      flex-wrap:wrap;\n",
              "      gap: 12px;\n",
              "    }\n",
              "\n",
              "    .colab-df-convert {\n",
              "      background-color: #E8F0FE;\n",
              "      border: none;\n",
              "      border-radius: 50%;\n",
              "      cursor: pointer;\n",
              "      display: none;\n",
              "      fill: #1967D2;\n",
              "      height: 32px;\n",
              "      padding: 0 0 0 0;\n",
              "      width: 32px;\n",
              "    }\n",
              "\n",
              "    .colab-df-convert:hover {\n",
              "      background-color: #E2EBFA;\n",
              "      box-shadow: 0px 1px 2px rgba(60, 64, 67, 0.3), 0px 1px 3px 1px rgba(60, 64, 67, 0.15);\n",
              "      fill: #174EA6;\n",
              "    }\n",
              "\n",
              "    [theme=dark] .colab-df-convert {\n",
              "      background-color: #3B4455;\n",
              "      fill: #D2E3FC;\n",
              "    }\n",
              "\n",
              "    [theme=dark] .colab-df-convert:hover {\n",
              "      background-color: #434B5C;\n",
              "      box-shadow: 0px 1px 3px 1px rgba(0, 0, 0, 0.15);\n",
              "      filter: drop-shadow(0px 1px 2px rgba(0, 0, 0, 0.3));\n",
              "      fill: #FFFFFF;\n",
              "    }\n",
              "  </style>\n",
              "\n",
              "      <script>\n",
              "        const buttonEl =\n",
              "          document.querySelector('#df-174a5f51-7fa3-48e5-bfae-b95f5f10a351 button.colab-df-convert');\n",
              "        buttonEl.style.display =\n",
              "          google.colab.kernel.accessAllowed ? 'block' : 'none';\n",
              "\n",
              "        async function convertToInteractive(key) {\n",
              "          const element = document.querySelector('#df-174a5f51-7fa3-48e5-bfae-b95f5f10a351');\n",
              "          const dataTable =\n",
              "            await google.colab.kernel.invokeFunction('convertToInteractive',\n",
              "                                                     [key], {});\n",
              "          if (!dataTable) return;\n",
              "\n",
              "          const docLinkHtml = 'Like what you see? Visit the ' +\n",
              "            '<a target=\"_blank\" href=https://colab.research.google.com/notebooks/data_table.ipynb>data table notebook</a>'\n",
              "            + ' to learn more about interactive tables.';\n",
              "          element.innerHTML = '';\n",
              "          dataTable['output_type'] = 'display_data';\n",
              "          await google.colab.output.renderOutput(dataTable, element);\n",
              "          const docLink = document.createElement('div');\n",
              "          docLink.innerHTML = docLinkHtml;\n",
              "          element.appendChild(docLink);\n",
              "        }\n",
              "      </script>\n",
              "    </div>\n",
              "  </div>\n",
              "  "
            ]
          },
          "metadata": {},
          "execution_count": 1546
        }
      ],
      "source": [
        "results_df.head()"
      ]
    },
    {
      "cell_type": "code",
      "execution_count": 1547,
      "metadata": {
        "id": "zSSe7xLn9fgG",
        "colab": {
          "base_uri": "https://localhost:8080/"
        },
        "outputId": "691d2e95-8dc4-41ef-875a-9bf1d11f88e1"
      },
      "outputs": [
        {
          "output_type": "execute_result",
          "data": {
            "text/plain": [
              "0    261\n",
              "1    191\n",
              "2     48\n",
              "Name: Insect, dtype: int64"
            ]
          },
          "metadata": {},
          "execution_count": 1547
        }
      ],
      "source": [
        "results_df[\"Insect\"].value_counts()"
      ]
    },
    {
      "cell_type": "code",
      "execution_count": 1548,
      "metadata": {
        "collapsed": true,
        "id": "hd9N8TRu9fgG"
      },
      "outputs": [],
      "source": [
        "results_df['Success'] = (results_df['Insect'] == results_df['Predicciones']).astype(int)"
      ]
    },
    {
      "cell_type": "code",
      "execution_count": 1549,
      "metadata": {
        "id": "RG_appn89fgG",
        "colab": {
          "base_uri": "https://localhost:8080/",
          "height": 206
        },
        "outputId": "683d8645-32e5-4b8c-f6df-7dd0e48ce672"
      },
      "outputs": [
        {
          "output_type": "execute_result",
          "data": {
            "text/plain": [
              "    Insect  Predicciones  Success\n",
              "4        2             2        1\n",
              "16       0             0        1\n",
              "34       0             0        1\n",
              "64       0             0        1\n",
              "98       0             0        1"
            ],
            "text/html": [
              "\n",
              "  <div id=\"df-74cc2ad9-fe0b-4938-a309-af39586cbe57\">\n",
              "    <div class=\"colab-df-container\">\n",
              "      <div>\n",
              "<style scoped>\n",
              "    .dataframe tbody tr th:only-of-type {\n",
              "        vertical-align: middle;\n",
              "    }\n",
              "\n",
              "    .dataframe tbody tr th {\n",
              "        vertical-align: top;\n",
              "    }\n",
              "\n",
              "    .dataframe thead th {\n",
              "        text-align: right;\n",
              "    }\n",
              "</style>\n",
              "<table border=\"1\" class=\"dataframe\">\n",
              "  <thead>\n",
              "    <tr style=\"text-align: right;\">\n",
              "      <th></th>\n",
              "      <th>Insect</th>\n",
              "      <th>Predicciones</th>\n",
              "      <th>Success</th>\n",
              "    </tr>\n",
              "  </thead>\n",
              "  <tbody>\n",
              "    <tr>\n",
              "      <th>4</th>\n",
              "      <td>2</td>\n",
              "      <td>2</td>\n",
              "      <td>1</td>\n",
              "    </tr>\n",
              "    <tr>\n",
              "      <th>16</th>\n",
              "      <td>0</td>\n",
              "      <td>0</td>\n",
              "      <td>1</td>\n",
              "    </tr>\n",
              "    <tr>\n",
              "      <th>34</th>\n",
              "      <td>0</td>\n",
              "      <td>0</td>\n",
              "      <td>1</td>\n",
              "    </tr>\n",
              "    <tr>\n",
              "      <th>64</th>\n",
              "      <td>0</td>\n",
              "      <td>0</td>\n",
              "      <td>1</td>\n",
              "    </tr>\n",
              "    <tr>\n",
              "      <th>98</th>\n",
              "      <td>0</td>\n",
              "      <td>0</td>\n",
              "      <td>1</td>\n",
              "    </tr>\n",
              "  </tbody>\n",
              "</table>\n",
              "</div>\n",
              "      <button class=\"colab-df-convert\" onclick=\"convertToInteractive('df-74cc2ad9-fe0b-4938-a309-af39586cbe57')\"\n",
              "              title=\"Convert this dataframe to an interactive table.\"\n",
              "              style=\"display:none;\">\n",
              "        \n",
              "  <svg xmlns=\"http://www.w3.org/2000/svg\" height=\"24px\"viewBox=\"0 0 24 24\"\n",
              "       width=\"24px\">\n",
              "    <path d=\"M0 0h24v24H0V0z\" fill=\"none\"/>\n",
              "    <path d=\"M18.56 5.44l.94 2.06.94-2.06 2.06-.94-2.06-.94-.94-2.06-.94 2.06-2.06.94zm-11 1L8.5 8.5l.94-2.06 2.06-.94-2.06-.94L8.5 2.5l-.94 2.06-2.06.94zm10 10l.94 2.06.94-2.06 2.06-.94-2.06-.94-.94-2.06-.94 2.06-2.06.94z\"/><path d=\"M17.41 7.96l-1.37-1.37c-.4-.4-.92-.59-1.43-.59-.52 0-1.04.2-1.43.59L10.3 9.45l-7.72 7.72c-.78.78-.78 2.05 0 2.83L4 21.41c.39.39.9.59 1.41.59.51 0 1.02-.2 1.41-.59l7.78-7.78 2.81-2.81c.8-.78.8-2.07 0-2.86zM5.41 20L4 18.59l7.72-7.72 1.47 1.35L5.41 20z\"/>\n",
              "  </svg>\n",
              "      </button>\n",
              "      \n",
              "  <style>\n",
              "    .colab-df-container {\n",
              "      display:flex;\n",
              "      flex-wrap:wrap;\n",
              "      gap: 12px;\n",
              "    }\n",
              "\n",
              "    .colab-df-convert {\n",
              "      background-color: #E8F0FE;\n",
              "      border: none;\n",
              "      border-radius: 50%;\n",
              "      cursor: pointer;\n",
              "      display: none;\n",
              "      fill: #1967D2;\n",
              "      height: 32px;\n",
              "      padding: 0 0 0 0;\n",
              "      width: 32px;\n",
              "    }\n",
              "\n",
              "    .colab-df-convert:hover {\n",
              "      background-color: #E2EBFA;\n",
              "      box-shadow: 0px 1px 2px rgba(60, 64, 67, 0.3), 0px 1px 3px 1px rgba(60, 64, 67, 0.15);\n",
              "      fill: #174EA6;\n",
              "    }\n",
              "\n",
              "    [theme=dark] .colab-df-convert {\n",
              "      background-color: #3B4455;\n",
              "      fill: #D2E3FC;\n",
              "    }\n",
              "\n",
              "    [theme=dark] .colab-df-convert:hover {\n",
              "      background-color: #434B5C;\n",
              "      box-shadow: 0px 1px 3px 1px rgba(0, 0, 0, 0.15);\n",
              "      filter: drop-shadow(0px 1px 2px rgba(0, 0, 0, 0.3));\n",
              "      fill: #FFFFFF;\n",
              "    }\n",
              "  </style>\n",
              "\n",
              "      <script>\n",
              "        const buttonEl =\n",
              "          document.querySelector('#df-74cc2ad9-fe0b-4938-a309-af39586cbe57 button.colab-df-convert');\n",
              "        buttonEl.style.display =\n",
              "          google.colab.kernel.accessAllowed ? 'block' : 'none';\n",
              "\n",
              "        async function convertToInteractive(key) {\n",
              "          const element = document.querySelector('#df-74cc2ad9-fe0b-4938-a309-af39586cbe57');\n",
              "          const dataTable =\n",
              "            await google.colab.kernel.invokeFunction('convertToInteractive',\n",
              "                                                     [key], {});\n",
              "          if (!dataTable) return;\n",
              "\n",
              "          const docLinkHtml = 'Like what you see? Visit the ' +\n",
              "            '<a target=\"_blank\" href=https://colab.research.google.com/notebooks/data_table.ipynb>data table notebook</a>'\n",
              "            + ' to learn more about interactive tables.';\n",
              "          element.innerHTML = '';\n",
              "          dataTable['output_type'] = 'display_data';\n",
              "          await google.colab.output.renderOutput(dataTable, element);\n",
              "          const docLink = document.createElement('div');\n",
              "          docLink.innerHTML = docLinkHtml;\n",
              "          element.appendChild(docLink);\n",
              "        }\n",
              "      </script>\n",
              "    </div>\n",
              "  </div>\n",
              "  "
            ]
          },
          "metadata": {},
          "execution_count": 1549
        }
      ],
      "source": [
        "results_df.head()"
      ]
    },
    {
      "cell_type": "code",
      "execution_count": 1550,
      "metadata": {
        "colab": {
          "base_uri": "https://localhost:8080/"
        },
        "outputId": "4e9d027d-43e9-4de5-9f62-135ebd05d215",
        "id": "6MmNsMeH9fgG"
      },
      "outputs": [
        {
          "output_type": "execute_result",
          "data": {
            "text/plain": [
              "500"
            ]
          },
          "metadata": {},
          "execution_count": 1550
        }
      ],
      "source": [
        "results_df['Success'].count()"
      ]
    },
    {
      "cell_type": "code",
      "execution_count": 1551,
      "metadata": {
        "colab": {
          "base_uri": "https://localhost:8080/"
        },
        "outputId": "99beb793-4e9d-475c-c98e-cb639276e7e1",
        "id": "IcZzRXaR9fgH"
      },
      "outputs": [
        {
          "output_type": "execute_result",
          "data": {
            "text/plain": [
              "496"
            ]
          },
          "metadata": {},
          "execution_count": 1551
        }
      ],
      "source": [
        "results_df['Success'].sum()"
      ]
    },
    {
      "cell_type": "code",
      "execution_count": 1552,
      "metadata": {
        "colab": {
          "base_uri": "https://localhost:8080/"
        },
        "outputId": "584711f8-50eb-4cc1-d67c-a38480ca7148",
        "id": "uglFuBwG9fgH"
      },
      "outputs": [
        {
          "output_type": "execute_result",
          "data": {
            "text/plain": [
              "0.992"
            ]
          },
          "metadata": {},
          "execution_count": 1552
        }
      ],
      "source": [
        "results_df['Success'].mean()"
      ]
    },
    {
      "cell_type": "code",
      "execution_count": 1553,
      "metadata": {
        "colab": {
          "base_uri": "https://localhost:8080/"
        },
        "outputId": "b2520b4b-0e5a-4fbe-e2f1-b0b38a95caee",
        "id": "OfDcjWaB9fgH"
      },
      "outputs": [
        {
          "output_type": "stream",
          "name": "stdout",
          "text": [
            "Hemos acertado 496 registros de un total de 500, por tanto el Accuracy es 0.992.\n"
          ]
        }
      ],
      "source": [
        "print('Hemos acertado {} registros de un total de {}, por tanto el Accuracy es {}.'.format(results_df['Success'].sum(), results_df['Success'].count(), results_df['Success'].mean()))"
      ]
    },
    {
      "cell_type": "markdown",
      "metadata": {
        "id": "lOSGlxzn9fgH"
      },
      "source": [
        "#### Opción 2: a través de la matriz de confusión"
      ]
    },
    {
      "cell_type": "code",
      "execution_count": 1554,
      "metadata": {
        "collapsed": true,
        "id": "NmCFBPJ99fgH"
      },
      "outputs": [],
      "source": [
        "confusion_matrix = pd.crosstab(results_df['Insect'], results_df['Predicciones'])"
      ]
    },
    {
      "cell_type": "code",
      "execution_count": 1555,
      "metadata": {
        "colab": {
          "base_uri": "https://localhost:8080/",
          "height": 175
        },
        "outputId": "9bc685bb-da10-4139-c882-d6326a1a5ce9",
        "id": "Nv2A_umd9fgH"
      },
      "outputs": [
        {
          "output_type": "execute_result",
          "data": {
            "text/plain": [
              "Predicciones    0    1   2\n",
              "Insect                    \n",
              "0             257    4   0\n",
              "1               0  191   0\n",
              "2               0    0  48"
            ],
            "text/html": [
              "\n",
              "  <div id=\"df-f075a6c3-2249-464e-b2f7-e5446e8bf7de\">\n",
              "    <div class=\"colab-df-container\">\n",
              "      <div>\n",
              "<style scoped>\n",
              "    .dataframe tbody tr th:only-of-type {\n",
              "        vertical-align: middle;\n",
              "    }\n",
              "\n",
              "    .dataframe tbody tr th {\n",
              "        vertical-align: top;\n",
              "    }\n",
              "\n",
              "    .dataframe thead th {\n",
              "        text-align: right;\n",
              "    }\n",
              "</style>\n",
              "<table border=\"1\" class=\"dataframe\">\n",
              "  <thead>\n",
              "    <tr style=\"text-align: right;\">\n",
              "      <th>Predicciones</th>\n",
              "      <th>0</th>\n",
              "      <th>1</th>\n",
              "      <th>2</th>\n",
              "    </tr>\n",
              "    <tr>\n",
              "      <th>Insect</th>\n",
              "      <th></th>\n",
              "      <th></th>\n",
              "      <th></th>\n",
              "    </tr>\n",
              "  </thead>\n",
              "  <tbody>\n",
              "    <tr>\n",
              "      <th>0</th>\n",
              "      <td>257</td>\n",
              "      <td>4</td>\n",
              "      <td>0</td>\n",
              "    </tr>\n",
              "    <tr>\n",
              "      <th>1</th>\n",
              "      <td>0</td>\n",
              "      <td>191</td>\n",
              "      <td>0</td>\n",
              "    </tr>\n",
              "    <tr>\n",
              "      <th>2</th>\n",
              "      <td>0</td>\n",
              "      <td>0</td>\n",
              "      <td>48</td>\n",
              "    </tr>\n",
              "  </tbody>\n",
              "</table>\n",
              "</div>\n",
              "      <button class=\"colab-df-convert\" onclick=\"convertToInteractive('df-f075a6c3-2249-464e-b2f7-e5446e8bf7de')\"\n",
              "              title=\"Convert this dataframe to an interactive table.\"\n",
              "              style=\"display:none;\">\n",
              "        \n",
              "  <svg xmlns=\"http://www.w3.org/2000/svg\" height=\"24px\"viewBox=\"0 0 24 24\"\n",
              "       width=\"24px\">\n",
              "    <path d=\"M0 0h24v24H0V0z\" fill=\"none\"/>\n",
              "    <path d=\"M18.56 5.44l.94 2.06.94-2.06 2.06-.94-2.06-.94-.94-2.06-.94 2.06-2.06.94zm-11 1L8.5 8.5l.94-2.06 2.06-.94-2.06-.94L8.5 2.5l-.94 2.06-2.06.94zm10 10l.94 2.06.94-2.06 2.06-.94-2.06-.94-.94-2.06-.94 2.06-2.06.94z\"/><path d=\"M17.41 7.96l-1.37-1.37c-.4-.4-.92-.59-1.43-.59-.52 0-1.04.2-1.43.59L10.3 9.45l-7.72 7.72c-.78.78-.78 2.05 0 2.83L4 21.41c.39.39.9.59 1.41.59.51 0 1.02-.2 1.41-.59l7.78-7.78 2.81-2.81c.8-.78.8-2.07 0-2.86zM5.41 20L4 18.59l7.72-7.72 1.47 1.35L5.41 20z\"/>\n",
              "  </svg>\n",
              "      </button>\n",
              "      \n",
              "  <style>\n",
              "    .colab-df-container {\n",
              "      display:flex;\n",
              "      flex-wrap:wrap;\n",
              "      gap: 12px;\n",
              "    }\n",
              "\n",
              "    .colab-df-convert {\n",
              "      background-color: #E8F0FE;\n",
              "      border: none;\n",
              "      border-radius: 50%;\n",
              "      cursor: pointer;\n",
              "      display: none;\n",
              "      fill: #1967D2;\n",
              "      height: 32px;\n",
              "      padding: 0 0 0 0;\n",
              "      width: 32px;\n",
              "    }\n",
              "\n",
              "    .colab-df-convert:hover {\n",
              "      background-color: #E2EBFA;\n",
              "      box-shadow: 0px 1px 2px rgba(60, 64, 67, 0.3), 0px 1px 3px 1px rgba(60, 64, 67, 0.15);\n",
              "      fill: #174EA6;\n",
              "    }\n",
              "\n",
              "    [theme=dark] .colab-df-convert {\n",
              "      background-color: #3B4455;\n",
              "      fill: #D2E3FC;\n",
              "    }\n",
              "\n",
              "    [theme=dark] .colab-df-convert:hover {\n",
              "      background-color: #434B5C;\n",
              "      box-shadow: 0px 1px 3px 1px rgba(0, 0, 0, 0.15);\n",
              "      filter: drop-shadow(0px 1px 2px rgba(0, 0, 0, 0.3));\n",
              "      fill: #FFFFFF;\n",
              "    }\n",
              "  </style>\n",
              "\n",
              "      <script>\n",
              "        const buttonEl =\n",
              "          document.querySelector('#df-f075a6c3-2249-464e-b2f7-e5446e8bf7de button.colab-df-convert');\n",
              "        buttonEl.style.display =\n",
              "          google.colab.kernel.accessAllowed ? 'block' : 'none';\n",
              "\n",
              "        async function convertToInteractive(key) {\n",
              "          const element = document.querySelector('#df-f075a6c3-2249-464e-b2f7-e5446e8bf7de');\n",
              "          const dataTable =\n",
              "            await google.colab.kernel.invokeFunction('convertToInteractive',\n",
              "                                                     [key], {});\n",
              "          if (!dataTable) return;\n",
              "\n",
              "          const docLinkHtml = 'Like what you see? Visit the ' +\n",
              "            '<a target=\"_blank\" href=https://colab.research.google.com/notebooks/data_table.ipynb>data table notebook</a>'\n",
              "            + ' to learn more about interactive tables.';\n",
              "          element.innerHTML = '';\n",
              "          dataTable['output_type'] = 'display_data';\n",
              "          await google.colab.output.renderOutput(dataTable, element);\n",
              "          const docLink = document.createElement('div');\n",
              "          docLink.innerHTML = docLinkHtml;\n",
              "          element.appendChild(docLink);\n",
              "        }\n",
              "      </script>\n",
              "    </div>\n",
              "  </div>\n",
              "  "
            ]
          },
          "metadata": {},
          "execution_count": 1555
        }
      ],
      "source": [
        "confusion_matrix"
      ]
    },
    {
      "cell_type": "code",
      "source": [
        "plt.figure(figsize=(5,4))\n",
        "sns.heatmap(confusion_matrix, fmt=\"d\", cmap = \"Blues\", annot=True)\n",
        "plt.title('Confusion Matrix')\n",
        "plt.ylabel('Insect')\n",
        "plt.xlabel('Predicciones')\n",
        "plt.show()"
      ],
      "metadata": {
        "colab": {
          "base_uri": "https://localhost:8080/",
          "height": 294
        },
        "id": "auUH0uW0f9Xv",
        "outputId": "b2035c93-8c46-4aa6-ee67-c5fb90c1c7b0"
      },
      "execution_count": 1556,
      "outputs": [
        {
          "output_type": "display_data",
          "data": {
            "text/plain": [
              "<Figure size 360x288 with 2 Axes>"
            ],
            "image/png": "[encoded data removed]"
          },
          "metadata": {}
        }
      ]
    },
    {
      "cell_type": "markdown",
      "source": [
        "Calculando el Positive predictive value for each class (PPV)"
      ],
      "metadata": {
        "id": "9m4_eXrYf9Xw"
      }
    },
    {
      "cell_type": "code",
      "source": [
        "PPV_0 = 257/(257+0+0)\n",
        "PPV_0"
      ],
      "metadata": {
        "colab": {
          "base_uri": "https://localhost:8080/"
        },
        "outputId": "a4f5337d-16d6-4c7a-d8c3-74db01910387",
        "id": "rdL6w3aKf9Xw"
      },
      "execution_count": 1578,
      "outputs": [
        {
          "output_type": "execute_result",
          "data": {
            "text/plain": [
              "1.0"
            ]
          },
          "metadata": {},
          "execution_count": 1578
        }
      ]
    },
    {
      "cell_type": "code",
      "source": [
        "PPV_1 = 191/(4+191+0)\n",
        "PPV_1"
      ],
      "metadata": {
        "colab": {
          "base_uri": "https://localhost:8080/"
        },
        "outputId": "a921ef31-092b-470f-8c4a-6203b818b944",
        "id": "CXS5iI3of9Xw"
      },
      "execution_count": 1579,
      "outputs": [
        {
          "output_type": "execute_result",
          "data": {
            "text/plain": [
              "0.9794871794871794"
            ]
          },
          "metadata": {},
          "execution_count": 1579
        }
      ]
    },
    {
      "cell_type": "code",
      "source": [
        "PPV_2 = 48/(0+0+48)\n",
        "PPV_2"
      ],
      "metadata": {
        "colab": {
          "base_uri": "https://localhost:8080/"
        },
        "outputId": "acc6e0f5-03da-4d38-aa7f-8d0e40c679f6",
        "id": "8pLSI7Jef9X0"
      },
      "execution_count": 1580,
      "outputs": [
        {
          "output_type": "execute_result",
          "data": {
            "text/plain": [
              "1.0"
            ]
          },
          "metadata": {},
          "execution_count": 1580
        }
      ]
    },
    {
      "cell_type": "code",
      "execution_count": 1560,
      "metadata": {
        "collapsed": true,
        "id": "nmR5fE5Q9fgI"
      },
      "outputs": [],
      "source": [
        "confusion_matrix_porcentajes = pd.crosstab(results_df['Insect'], results_df['Predicciones'])/len(results_df[\"Insect\"])*100"
      ]
    },
    {
      "cell_type": "code",
      "execution_count": 1561,
      "metadata": {
        "colab": {
          "base_uri": "https://localhost:8080/",
          "height": 175
        },
        "outputId": "8333e80e-7ce3-49a4-d073-28960f40bc43",
        "id": "TtBhqS_c9fgI"
      },
      "outputs": [
        {
          "output_type": "execute_result",
          "data": {
            "text/plain": [
              "Predicciones     0     1    2\n",
              "Insect                       \n",
              "0             51.4   0.8  0.0\n",
              "1              0.0  38.2  0.0\n",
              "2              0.0   0.0  9.6"
            ],
            "text/html": [
              "\n",
              "  <div id=\"df-8722c5e2-f88f-4815-b0b8-d68c31ec4a1e\">\n",
              "    <div class=\"colab-df-container\">\n",
              "      <div>\n",
              "<style scoped>\n",
              "    .dataframe tbody tr th:only-of-type {\n",
              "        vertical-align: middle;\n",
              "    }\n",
              "\n",
              "    .dataframe tbody tr th {\n",
              "        vertical-align: top;\n",
              "    }\n",
              "\n",
              "    .dataframe thead th {\n",
              "        text-align: right;\n",
              "    }\n",
              "</style>\n",
              "<table border=\"1\" class=\"dataframe\">\n",
              "  <thead>\n",
              "    <tr style=\"text-align: right;\">\n",
              "      <th>Predicciones</th>\n",
              "      <th>0</th>\n",
              "      <th>1</th>\n",
              "      <th>2</th>\n",
              "    </tr>\n",
              "    <tr>\n",
              "      <th>Insect</th>\n",
              "      <th></th>\n",
              "      <th></th>\n",
              "      <th></th>\n",
              "    </tr>\n",
              "  </thead>\n",
              "  <tbody>\n",
              "    <tr>\n",
              "      <th>0</th>\n",
              "      <td>51.4</td>\n",
              "      <td>0.8</td>\n",
              "      <td>0.0</td>\n",
              "    </tr>\n",
              "    <tr>\n",
              "      <th>1</th>\n",
              "      <td>0.0</td>\n",
              "      <td>38.2</td>\n",
              "      <td>0.0</td>\n",
              "    </tr>\n",
              "    <tr>\n",
              "      <th>2</th>\n",
              "      <td>0.0</td>\n",
              "      <td>0.0</td>\n",
              "      <td>9.6</td>\n",
              "    </tr>\n",
              "  </tbody>\n",
              "</table>\n",
              "</div>\n",
              "      <button class=\"colab-df-convert\" onclick=\"convertToInteractive('df-8722c5e2-f88f-4815-b0b8-d68c31ec4a1e')\"\n",
              "              title=\"Convert this dataframe to an interactive table.\"\n",
              "              style=\"display:none;\">\n",
              "        \n",
              "  <svg xmlns=\"http://www.w3.org/2000/svg\" height=\"24px\"viewBox=\"0 0 24 24\"\n",
              "       width=\"24px\">\n",
              "    <path d=\"M0 0h24v24H0V0z\" fill=\"none\"/>\n",
              "    <path d=\"M18.56 5.44l.94 2.06.94-2.06 2.06-.94-2.06-.94-.94-2.06-.94 2.06-2.06.94zm-11 1L8.5 8.5l.94-2.06 2.06-.94-2.06-.94L8.5 2.5l-.94 2.06-2.06.94zm10 10l.94 2.06.94-2.06 2.06-.94-2.06-.94-.94-2.06-.94 2.06-2.06.94z\"/><path d=\"M17.41 7.96l-1.37-1.37c-.4-.4-.92-.59-1.43-.59-.52 0-1.04.2-1.43.59L10.3 9.45l-7.72 7.72c-.78.78-.78 2.05 0 2.83L4 21.41c.39.39.9.59 1.41.59.51 0 1.02-.2 1.41-.59l7.78-7.78 2.81-2.81c.8-.78.8-2.07 0-2.86zM5.41 20L4 18.59l7.72-7.72 1.47 1.35L5.41 20z\"/>\n",
              "  </svg>\n",
              "      </button>\n",
              "      \n",
              "  <style>\n",
              "    .colab-df-container {\n",
              "      display:flex;\n",
              "      flex-wrap:wrap;\n",
              "      gap: 12px;\n",
              "    }\n",
              "\n",
              "    .colab-df-convert {\n",
              "      background-color: #E8F0FE;\n",
              "      border: none;\n",
              "      border-radius: 50%;\n",
              "      cursor: pointer;\n",
              "      display: none;\n",
              "      fill: #1967D2;\n",
              "      height: 32px;\n",
              "      padding: 0 0 0 0;\n",
              "      width: 32px;\n",
              "    }\n",
              "\n",
              "    .colab-df-convert:hover {\n",
              "      background-color: #E2EBFA;\n",
              "      box-shadow: 0px 1px 2px rgba(60, 64, 67, 0.3), 0px 1px 3px 1px rgba(60, 64, 67, 0.15);\n",
              "      fill: #174EA6;\n",
              "    }\n",
              "\n",
              "    [theme=dark] .colab-df-convert {\n",
              "      background-color: #3B4455;\n",
              "      fill: #D2E3FC;\n",
              "    }\n",
              "\n",
              "    [theme=dark] .colab-df-convert:hover {\n",
              "      background-color: #434B5C;\n",
              "      box-shadow: 0px 1px 3px 1px rgba(0, 0, 0, 0.15);\n",
              "      filter: drop-shadow(0px 1px 2px rgba(0, 0, 0, 0.3));\n",
              "      fill: #FFFFFF;\n",
              "    }\n",
              "  </style>\n",
              "\n",
              "      <script>\n",
              "        const buttonEl =\n",
              "          document.querySelector('#df-8722c5e2-f88f-4815-b0b8-d68c31ec4a1e button.colab-df-convert');\n",
              "        buttonEl.style.display =\n",
              "          google.colab.kernel.accessAllowed ? 'block' : 'none';\n",
              "\n",
              "        async function convertToInteractive(key) {\n",
              "          const element = document.querySelector('#df-8722c5e2-f88f-4815-b0b8-d68c31ec4a1e');\n",
              "          const dataTable =\n",
              "            await google.colab.kernel.invokeFunction('convertToInteractive',\n",
              "                                                     [key], {});\n",
              "          if (!dataTable) return;\n",
              "\n",
              "          const docLinkHtml = 'Like what you see? Visit the ' +\n",
              "            '<a target=\"_blank\" href=https://colab.research.google.com/notebooks/data_table.ipynb>data table notebook</a>'\n",
              "            + ' to learn more about interactive tables.';\n",
              "          element.innerHTML = '';\n",
              "          dataTable['output_type'] = 'display_data';\n",
              "          await google.colab.output.renderOutput(dataTable, element);\n",
              "          const docLink = document.createElement('div');\n",
              "          docLink.innerHTML = docLinkHtml;\n",
              "          element.appendChild(docLink);\n",
              "        }\n",
              "      </script>\n",
              "    </div>\n",
              "  </div>\n",
              "  "
            ]
          },
          "metadata": {},
          "execution_count": 1561
        }
      ],
      "source": [
        "confusion_matrix_porcentajes.round(2)"
      ]
    },
    {
      "cell_type": "markdown",
      "metadata": {
        "id": "vJ52tZqf9fgI"
      },
      "source": [
        "#### Opción 3: Usando el módulo metrics"
      ]
    },
    {
      "cell_type": "code",
      "execution_count": 1562,
      "metadata": {
        "colab": {
          "base_uri": "https://localhost:8080/"
        },
        "outputId": "4b055cdc-71d0-46df-d846-1d76818b2859",
        "id": "P-bbY0_X9fgI"
      },
      "outputs": [
        {
          "output_type": "execute_result",
          "data": {
            "text/plain": [
              "0.992"
            ]
          },
          "metadata": {},
          "execution_count": 1562
        }
      ],
      "source": [
        "metrics.accuracy_score(results_df['Insect'], results_df['Predicciones'])"
      ]
    },
    {
      "cell_type": "markdown",
      "metadata": {
        "id": "3xP4O0vZ9fgJ"
      },
      "source": [
        "#### Opción 4: Usando el modelo"
      ]
    },
    {
      "cell_type": "code",
      "execution_count": 1563,
      "metadata": {
        "colab": {
          "base_uri": "https://localhost:8080/"
        },
        "outputId": "3952341b-5f5a-41bd-d748-88fbcd6b2eac",
        "id": "YF8gybkm9fgJ"
      },
      "outputs": [
        {
          "output_type": "execute_result",
          "data": {
            "text/plain": [
              "0.992"
            ]
          },
          "metadata": {},
          "execution_count": 1563
        }
      ],
      "source": [
        "xgb.score(X_test, y_test)"
      ]
    },
    {
      "cell_type": "markdown",
      "metadata": {
        "id": "U33_spCk9fgJ"
      },
      "source": [
        "Normalmente, usaremos esta forma (el score del modelo) por comodidad, pero es bueno ser capaces de generar los distintos métodos para obtener la puntuación para ver otros casos (por ejemplo, que tal han validado las días según mes) (No somos Noob, somos Pro). "
      ]
    },
    {
      "cell_type": "markdown",
      "metadata": {
        "id": "2ISqK6gS9fgP"
      },
      "source": [
        "#### Podemos probar el k-fold como estrategia de validación"
      ]
    },
    {
      "cell_type": "code",
      "execution_count": 1564,
      "metadata": {
        "collapsed": true,
        "id": "efeA04n69fgP"
      },
      "outputs": [],
      "source": [
        "kf = model_selection.KFold(n_splits=10, random_state=42, shuffle=True)"
      ]
    },
    {
      "cell_type": "code",
      "execution_count": 1565,
      "metadata": {
        "id": "y1grF2qb9fgP",
        "colab": {
          "base_uri": "https://localhost:8080/"
        },
        "outputId": "d188cea0-f6fe-4a1e-9295-4569c282ae11"
      },
      "outputs": [
        {
          "output_type": "stream",
          "name": "stderr",
          "text": [
            "/usr/local/lib/python3.7/dist-packages/sklearn/preprocessing/_label.py:98: DataConversionWarning: A column-vector y was passed when a 1d array was expected. Please change the shape of y to (n_samples, ), for example using ravel().\n",
            "  y = column_or_1d(y, warn=True)\n",
            "/usr/local/lib/python3.7/dist-packages/sklearn/preprocessing/_label.py:133: DataConversionWarning: A column-vector y was passed when a 1d array was expected. Please change the shape of y to (n_samples, ), for example using ravel().\n",
            "  y = column_or_1d(y, warn=True)\n",
            "/usr/local/lib/python3.7/dist-packages/sklearn/preprocessing/_label.py:98: DataConversionWarning: A column-vector y was passed when a 1d array was expected. Please change the shape of y to (n_samples, ), for example using ravel().\n",
            "  y = column_or_1d(y, warn=True)\n",
            "/usr/local/lib/python3.7/dist-packages/sklearn/preprocessing/_label.py:133: DataConversionWarning: A column-vector y was passed when a 1d array was expected. Please change the shape of y to (n_samples, ), for example using ravel().\n",
            "  y = column_or_1d(y, warn=True)\n",
            "/usr/local/lib/python3.7/dist-packages/sklearn/preprocessing/_label.py:98: DataConversionWarning: A column-vector y was passed when a 1d array was expected. Please change the shape of y to (n_samples, ), for example using ravel().\n",
            "  y = column_or_1d(y, warn=True)\n",
            "/usr/local/lib/python3.7/dist-packages/sklearn/preprocessing/_label.py:133: DataConversionWarning: A column-vector y was passed when a 1d array was expected. Please change the shape of y to (n_samples, ), for example using ravel().\n",
            "  y = column_or_1d(y, warn=True)\n",
            "/usr/local/lib/python3.7/dist-packages/sklearn/preprocessing/_label.py:98: DataConversionWarning: A column-vector y was passed when a 1d array was expected. Please change the shape of y to (n_samples, ), for example using ravel().\n",
            "  y = column_or_1d(y, warn=True)\n",
            "/usr/local/lib/python3.7/dist-packages/sklearn/preprocessing/_label.py:133: DataConversionWarning: A column-vector y was passed when a 1d array was expected. Please change the shape of y to (n_samples, ), for example using ravel().\n",
            "  y = column_or_1d(y, warn=True)\n",
            "/usr/local/lib/python3.7/dist-packages/sklearn/preprocessing/_label.py:98: DataConversionWarning: A column-vector y was passed when a 1d array was expected. Please change the shape of y to (n_samples, ), for example using ravel().\n",
            "  y = column_or_1d(y, warn=True)\n",
            "/usr/local/lib/python3.7/dist-packages/sklearn/preprocessing/_label.py:133: DataConversionWarning: A column-vector y was passed when a 1d array was expected. Please change the shape of y to (n_samples, ), for example using ravel().\n",
            "  y = column_or_1d(y, warn=True)\n",
            "/usr/local/lib/python3.7/dist-packages/sklearn/preprocessing/_label.py:98: DataConversionWarning: A column-vector y was passed when a 1d array was expected. Please change the shape of y to (n_samples, ), for example using ravel().\n",
            "  y = column_or_1d(y, warn=True)\n",
            "/usr/local/lib/python3.7/dist-packages/sklearn/preprocessing/_label.py:133: DataConversionWarning: A column-vector y was passed when a 1d array was expected. Please change the shape of y to (n_samples, ), for example using ravel().\n",
            "  y = column_or_1d(y, warn=True)\n",
            "/usr/local/lib/python3.7/dist-packages/sklearn/preprocessing/_label.py:98: DataConversionWarning: A column-vector y was passed when a 1d array was expected. Please change the shape of y to (n_samples, ), for example using ravel().\n",
            "  y = column_or_1d(y, warn=True)\n",
            "/usr/local/lib/python3.7/dist-packages/sklearn/preprocessing/_label.py:133: DataConversionWarning: A column-vector y was passed when a 1d array was expected. Please change the shape of y to (n_samples, ), for example using ravel().\n",
            "  y = column_or_1d(y, warn=True)\n",
            "/usr/local/lib/python3.7/dist-packages/sklearn/preprocessing/_label.py:98: DataConversionWarning: A column-vector y was passed when a 1d array was expected. Please change the shape of y to (n_samples, ), for example using ravel().\n",
            "  y = column_or_1d(y, warn=True)\n",
            "/usr/local/lib/python3.7/dist-packages/sklearn/preprocessing/_label.py:133: DataConversionWarning: A column-vector y was passed when a 1d array was expected. Please change the shape of y to (n_samples, ), for example using ravel().\n",
            "  y = column_or_1d(y, warn=True)\n",
            "/usr/local/lib/python3.7/dist-packages/sklearn/preprocessing/_label.py:98: DataConversionWarning: A column-vector y was passed when a 1d array was expected. Please change the shape of y to (n_samples, ), for example using ravel().\n",
            "  y = column_or_1d(y, warn=True)\n",
            "/usr/local/lib/python3.7/dist-packages/sklearn/preprocessing/_label.py:133: DataConversionWarning: A column-vector y was passed when a 1d array was expected. Please change the shape of y to (n_samples, ), for example using ravel().\n",
            "  y = column_or_1d(y, warn=True)\n",
            "/usr/local/lib/python3.7/dist-packages/sklearn/preprocessing/_label.py:98: DataConversionWarning: A column-vector y was passed when a 1d array was expected. Please change the shape of y to (n_samples, ), for example using ravel().\n",
            "  y = column_or_1d(y, warn=True)\n",
            "/usr/local/lib/python3.7/dist-packages/sklearn/preprocessing/_label.py:133: DataConversionWarning: A column-vector y was passed when a 1d array was expected. Please change the shape of y to (n_samples, ), for example using ravel().\n",
            "  y = column_or_1d(y, warn=True)\n"
          ]
        },
        {
          "output_type": "execute_result",
          "data": {
            "text/plain": [
              "[0.808, 0.802, 0.82, 0.808, 0.806, 0.814, 0.81, 0.818, 0.77, 0.796]"
            ]
          },
          "metadata": {},
          "execution_count": 1565
        }
      ],
      "source": [
        "scores_list = []\n",
        "for train_index, test_index in kf.split(dev_df):\n",
        "    #print(\"TRAIN:\", train_index, \"TEST:\", test_index)\n",
        "    X_train, X_test = dev_df_X.iloc[train_index], dev_df_X.iloc[test_index]\n",
        "    y_train, y_test = dev_df_y.iloc[train_index], dev_df_y.iloc[test_index]\n",
        "    xgb = XGBClassifier(booster='gbtree', objective='multi:softprob', \n",
        "        random_state=42, eval_metric=\"auc\", num_class=num_of_classes)\n",
        "    xgb.fit(X_train, y_train)\n",
        "    _score = xgb.score(X_test, y_test)\n",
        "    scores_list.append(_score)\n",
        "    #print(_scores)\n",
        "scores_list"
      ]
    },
    {
      "cell_type": "code",
      "execution_count": 1566,
      "metadata": {
        "id": "4Tyb6Uvj9fgQ",
        "colab": {
          "base_uri": "https://localhost:8080/"
        },
        "outputId": "3df2d972-d130-4f6c-ab4d-8fab32e14d4f"
      },
      "outputs": [
        {
          "output_type": "execute_result",
          "data": {
            "text/plain": [
              "0.8051999999999999"
            ]
          },
          "metadata": {},
          "execution_count": 1566
        }
      ],
      "source": [
        "np.mean(scores_list)"
      ]
    },
    {
      "cell_type": "code",
      "execution_count": 1567,
      "metadata": {
        "id": "65OBHqYi9fgQ",
        "colab": {
          "base_uri": "https://localhost:8080/"
        },
        "outputId": "5a6f6f2b-ef0f-4ed3-a679-52b37f968e9e"
      },
      "outputs": [
        {
          "output_type": "execute_result",
          "data": {
            "text/plain": [
              "0.013541048703848587"
            ]
          },
          "metadata": {},
          "execution_count": 1567
        }
      ],
      "source": [
        "np.std(scores_list)"
      ]
    },
    {
      "cell_type": "code",
      "execution_count": 1569,
      "metadata": {
        "collapsed": true,
        "id": "lJz_Cc939fgQ"
      },
      "outputs": [],
      "source": [
        "scores = model_selection.cross_val_score(dt, dev_df_X, dev_df_y, cv=kf)"
      ]
    },
    {
      "cell_type": "code",
      "execution_count": 1570,
      "metadata": {
        "id": "PfSlyaJT9fgQ",
        "colab": {
          "base_uri": "https://localhost:8080/"
        },
        "outputId": "4cbc4a73-8b0b-43b1-9125-eb8eae9cfae2"
      },
      "outputs": [
        {
          "output_type": "execute_result",
          "data": {
            "text/plain": [
              "array([0.774, 0.792, 0.772, 0.788, 0.786, 0.824, 0.776, 0.818, 0.786,\n",
              "       0.81 ])"
            ]
          },
          "metadata": {},
          "execution_count": 1570
        }
      ],
      "source": [
        "scores"
      ]
    },
    {
      "cell_type": "code",
      "execution_count": 1571,
      "metadata": {
        "id": "cmLw6nO69fgQ",
        "colab": {
          "base_uri": "https://localhost:8080/"
        },
        "outputId": "42d39852-dcaa-413d-96d4-45ab4b806c4b"
      },
      "outputs": [
        {
          "output_type": "stream",
          "name": "stdout",
          "text": [
            "Accuracy: 0.793 (+/- 0.035)\n"
          ]
        }
      ],
      "source": [
        "print(\"Accuracy: %0.3f (+/- %0.3f)\" % (scores.mean(), scores.std() * 2))"
      ]
    },
    {
      "cell_type": "code",
      "source": [
        ""
      ],
      "metadata": {
        "id": "yg1GDOJiQdrz"
      },
      "execution_count": null,
      "outputs": []
    },
    {
      "cell_type": "markdown",
      "metadata": {
        "id": "B38fIH_zmBx7"
      },
      "source": [
        "# PREDICCIONES SOBRE TEST\n",
        "\n",
        "Un\n",
        "archivo 'results.csv'\n",
        "con las predicciones de tu algoritmo al meterle como input el dataset test_x. Este archivo con los resultados ha de tener una columna con el índice y otra con las predicciones del 'Insect'."
      ]
    },
    {
      "cell_type": "code",
      "source": [
        "df_test.head()"
      ],
      "metadata": {
        "colab": {
          "base_uri": "https://localhost:8080/",
          "height": 270
        },
        "id": "yGt-c95tY8oi",
        "outputId": "492d4466-7c8d-4374-a83f-b64efbd7f944"
      },
      "execution_count": 1603,
      "outputs": [
        {
          "output_type": "execute_result",
          "data": {
            "text/plain": [
              "      Hour  Minutes  Sensor_alpha  Sensor_beta  Sensor_gamma  \\\n",
              "7000    21       31    -72.083585   -11.434977    -52.961743   \n",
              "7001    21        3   -193.619980    40.137081     85.419244   \n",
              "7002    22       31     42.578382   -51.613402    125.055611   \n",
              "7003    21       25    -64.150951   287.306752    -70.965473   \n",
              "7004    18       11    193.750787   -61.989533   -110.347066   \n",
              "\n",
              "      Sensor_alpha_plus  Sensor_beta_plus  Sensor_gamma_plus  \n",
              "7000         -72.696385        145.299227        -143.856243  \n",
              "7001         -26.266801       -125.391237          80.904973  \n",
              "7002         182.136746         -9.726951        -114.913402  \n",
              "7003          13.789738         38.187260         137.761691  \n",
              "7004         -16.864786        148.541916         232.424616  "
            ],
            "text/html": [
              "\n",
              "  <div id=\"df-74652768-a405-4441-b432-c0e3740ceb6f\">\n",
              "    <div class=\"colab-df-container\">\n",
              "      <div>\n",
              "<style scoped>\n",
              "    .dataframe tbody tr th:only-of-type {\n",
              "        vertical-align: middle;\n",
              "    }\n",
              "\n",
              "    .dataframe tbody tr th {\n",
              "        vertical-align: top;\n",
              "    }\n",
              "\n",
              "    .dataframe thead th {\n",
              "        text-align: right;\n",
              "    }\n",
              "</style>\n",
              "<table border=\"1\" class=\"dataframe\">\n",
              "  <thead>\n",
              "    <tr style=\"text-align: right;\">\n",
              "      <th></th>\n",
              "      <th>Hour</th>\n",
              "      <th>Minutes</th>\n",
              "      <th>Sensor_alpha</th>\n",
              "      <th>Sensor_beta</th>\n",
              "      <th>Sensor_gamma</th>\n",
              "      <th>Sensor_alpha_plus</th>\n",
              "      <th>Sensor_beta_plus</th>\n",
              "      <th>Sensor_gamma_plus</th>\n",
              "    </tr>\n",
              "  </thead>\n",
              "  <tbody>\n",
              "    <tr>\n",
              "      <th>7000</th>\n",
              "      <td>21</td>\n",
              "      <td>31</td>\n",
              "      <td>-72.083585</td>\n",
              "      <td>-11.434977</td>\n",
              "      <td>-52.961743</td>\n",
              "      <td>-72.696385</td>\n",
              "      <td>145.299227</td>\n",
              "      <td>-143.856243</td>\n",
              "    </tr>\n",
              "    <tr>\n",
              "      <th>7001</th>\n",
              "      <td>21</td>\n",
              "      <td>3</td>\n",
              "      <td>-193.619980</td>\n",
              "      <td>40.137081</td>\n",
              "      <td>85.419244</td>\n",
              "      <td>-26.266801</td>\n",
              "      <td>-125.391237</td>\n",
              "      <td>80.904973</td>\n",
              "    </tr>\n",
              "    <tr>\n",
              "      <th>7002</th>\n",
              "      <td>22</td>\n",
              "      <td>31</td>\n",
              "      <td>42.578382</td>\n",
              "      <td>-51.613402</td>\n",
              "      <td>125.055611</td>\n",
              "      <td>182.136746</td>\n",
              "      <td>-9.726951</td>\n",
              "      <td>-114.913402</td>\n",
              "    </tr>\n",
              "    <tr>\n",
              "      <th>7003</th>\n",
              "      <td>21</td>\n",
              "      <td>25</td>\n",
              "      <td>-64.150951</td>\n",
              "      <td>287.306752</td>\n",
              "      <td>-70.965473</td>\n",
              "      <td>13.789738</td>\n",
              "      <td>38.187260</td>\n",
              "      <td>137.761691</td>\n",
              "    </tr>\n",
              "    <tr>\n",
              "      <th>7004</th>\n",
              "      <td>18</td>\n",
              "      <td>11</td>\n",
              "      <td>193.750787</td>\n",
              "      <td>-61.989533</td>\n",
              "      <td>-110.347066</td>\n",
              "      <td>-16.864786</td>\n",
              "      <td>148.541916</td>\n",
              "      <td>232.424616</td>\n",
              "    </tr>\n",
              "  </tbody>\n",
              "</table>\n",
              "</div>\n",
              "      <button class=\"colab-df-convert\" onclick=\"convertToInteractive('df-74652768-a405-4441-b432-c0e3740ceb6f')\"\n",
              "              title=\"Convert this dataframe to an interactive table.\"\n",
              "              style=\"display:none;\">\n",
              "        \n",
              "  <svg xmlns=\"http://www.w3.org/2000/svg\" height=\"24px\"viewBox=\"0 0 24 24\"\n",
              "       width=\"24px\">\n",
              "    <path d=\"M0 0h24v24H0V0z\" fill=\"none\"/>\n",
              "    <path d=\"M18.56 5.44l.94 2.06.94-2.06 2.06-.94-2.06-.94-.94-2.06-.94 2.06-2.06.94zm-11 1L8.5 8.5l.94-2.06 2.06-.94-2.06-.94L8.5 2.5l-.94 2.06-2.06.94zm10 10l.94 2.06.94-2.06 2.06-.94-2.06-.94-.94-2.06-.94 2.06-2.06.94z\"/><path d=\"M17.41 7.96l-1.37-1.37c-.4-.4-.92-.59-1.43-.59-.52 0-1.04.2-1.43.59L10.3 9.45l-7.72 7.72c-.78.78-.78 2.05 0 2.83L4 21.41c.39.39.9.59 1.41.59.51 0 1.02-.2 1.41-.59l7.78-7.78 2.81-2.81c.8-.78.8-2.07 0-2.86zM5.41 20L4 18.59l7.72-7.72 1.47 1.35L5.41 20z\"/>\n",
              "  </svg>\n",
              "      </button>\n",
              "      \n",
              "  <style>\n",
              "    .colab-df-container {\n",
              "      display:flex;\n",
              "      flex-wrap:wrap;\n",
              "      gap: 12px;\n",
              "    }\n",
              "\n",
              "    .colab-df-convert {\n",
              "      background-color: #E8F0FE;\n",
              "      border: none;\n",
              "      border-radius: 50%;\n",
              "      cursor: pointer;\n",
              "      display: none;\n",
              "      fill: #1967D2;\n",
              "      height: 32px;\n",
              "      padding: 0 0 0 0;\n",
              "      width: 32px;\n",
              "    }\n",
              "\n",
              "    .colab-df-convert:hover {\n",
              "      background-color: #E2EBFA;\n",
              "      box-shadow: 0px 1px 2px rgba(60, 64, 67, 0.3), 0px 1px 3px 1px rgba(60, 64, 67, 0.15);\n",
              "      fill: #174EA6;\n",
              "    }\n",
              "\n",
              "    [theme=dark] .colab-df-convert {\n",
              "      background-color: #3B4455;\n",
              "      fill: #D2E3FC;\n",
              "    }\n",
              "\n",
              "    [theme=dark] .colab-df-convert:hover {\n",
              "      background-color: #434B5C;\n",
              "      box-shadow: 0px 1px 3px 1px rgba(0, 0, 0, 0.15);\n",
              "      filter: drop-shadow(0px 1px 2px rgba(0, 0, 0, 0.3));\n",
              "      fill: #FFFFFF;\n",
              "    }\n",
              "  </style>\n",
              "\n",
              "      <script>\n",
              "        const buttonEl =\n",
              "          document.querySelector('#df-74652768-a405-4441-b432-c0e3740ceb6f button.colab-df-convert');\n",
              "        buttonEl.style.display =\n",
              "          google.colab.kernel.accessAllowed ? 'block' : 'none';\n",
              "\n",
              "        async function convertToInteractive(key) {\n",
              "          const element = document.querySelector('#df-74652768-a405-4441-b432-c0e3740ceb6f');\n",
              "          const dataTable =\n",
              "            await google.colab.kernel.invokeFunction('convertToInteractive',\n",
              "                                                     [key], {});\n",
              "          if (!dataTable) return;\n",
              "\n",
              "          const docLinkHtml = 'Like what you see? Visit the ' +\n",
              "            '<a target=\"_blank\" href=https://colab.research.google.com/notebooks/data_table.ipynb>data table notebook</a>'\n",
              "            + ' to learn more about interactive tables.';\n",
              "          element.innerHTML = '';\n",
              "          dataTable['output_type'] = 'display_data';\n",
              "          await google.colab.output.renderOutput(dataTable, element);\n",
              "          const docLink = document.createElement('div');\n",
              "          docLink.innerHTML = docLinkHtml;\n",
              "          element.appendChild(docLink);\n",
              "        }\n",
              "      </script>\n",
              "    </div>\n",
              "  </div>\n",
              "  "
            ]
          },
          "metadata": {},
          "execution_count": 1603
        }
      ]
    },
    {
      "cell_type": "code",
      "source": [
        "df_test.drop([\"Hour\", \"Minutes\"], axis = 1, inplace = True)"
      ],
      "metadata": {
        "id": "D0RAyloOY-1q"
      },
      "execution_count": 1604,
      "outputs": []
    },
    {
      "cell_type": "markdown",
      "source": [
        "##Predicción con Decision Tree (dt)"
      ],
      "metadata": {
        "id": "pU-IE1O4NaxN"
      }
    },
    {
      "cell_type": "code",
      "source": [
        "prediction = dt.predict(df_test)"
      ],
      "metadata": {
        "id": "dLAnQBWTHqzv"
      },
      "execution_count": 1634,
      "outputs": []
    },
    {
      "cell_type": "code",
      "source": [
        "prediction"
      ],
      "metadata": {
        "id": "5unqvHJ4IgI_",
        "colab": {
          "base_uri": "https://localhost:8080/"
        },
        "outputId": "1299b9f4-f98f-4153-d594-7458c7b685d8"
      },
      "execution_count": 1635,
      "outputs": [
        {
          "output_type": "execute_result",
          "data": {
            "text/plain": [
              "array([1, 1, 0, ..., 1, 0, 0])"
            ]
          },
          "metadata": {},
          "execution_count": 1635
        }
      ]
    },
    {
      "cell_type": "code",
      "source": [
        "prediction = pd.DataFrame(prediction)"
      ],
      "metadata": {
        "id": "VTTjP8lsIZb3"
      },
      "execution_count": 1636,
      "outputs": []
    },
    {
      "cell_type": "code",
      "source": [
        "prediction.info()"
      ],
      "metadata": {
        "id": "iN0FEcDzI7VD",
        "colab": {
          "base_uri": "https://localhost:8080/"
        },
        "outputId": "380ad364-1997-448c-cd95-6f697d9973a4"
      },
      "execution_count": 1637,
      "outputs": [
        {
          "output_type": "stream",
          "name": "stdout",
          "text": [
            "<class 'pandas.core.frame.DataFrame'>\n",
            "RangeIndex: 3000 entries, 0 to 2999\n",
            "Data columns (total 1 columns):\n",
            " #   Column  Non-Null Count  Dtype\n",
            "---  ------  --------------  -----\n",
            " 0   0       3000 non-null   int64\n",
            "dtypes: int64(1)\n",
            "memory usage: 23.6 KB\n"
          ]
        }
      ]
    },
    {
      "cell_type": "code",
      "source": [
        "prediction.rename(columns = {0:'Predicciones'}, inplace = True)\n"
      ],
      "metadata": {
        "id": "8LbqOGxgNwmp"
      },
      "execution_count": 1638,
      "outputs": []
    },
    {
      "cell_type": "code",
      "source": [
        "prediction.head()"
      ],
      "metadata": {
        "id": "W9DYcO_zI4of",
        "colab": {
          "base_uri": "https://localhost:8080/",
          "height": 206
        },
        "outputId": "fc7eee40-bd30-474d-efe5-94f300b3979c"
      },
      "execution_count": 1639,
      "outputs": [
        {
          "output_type": "execute_result",
          "data": {
            "text/plain": [
              "   Predicciones\n",
              "0             1\n",
              "1             1\n",
              "2             0\n",
              "3             2\n",
              "4             1"
            ],
            "text/html": [
              "\n",
              "  <div id=\"df-5615a6fb-16ad-4672-af39-b4d04bd6bc54\">\n",
              "    <div class=\"colab-df-container\">\n",
              "      <div>\n",
              "<style scoped>\n",
              "    .dataframe tbody tr th:only-of-type {\n",
              "        vertical-align: middle;\n",
              "    }\n",
              "\n",
              "    .dataframe tbody tr th {\n",
              "        vertical-align: top;\n",
              "    }\n",
              "\n",
              "    .dataframe thead th {\n",
              "        text-align: right;\n",
              "    }\n",
              "</style>\n",
              "<table border=\"1\" class=\"dataframe\">\n",
              "  <thead>\n",
              "    <tr style=\"text-align: right;\">\n",
              "      <th></th>\n",
              "      <th>Predicciones</th>\n",
              "    </tr>\n",
              "  </thead>\n",
              "  <tbody>\n",
              "    <tr>\n",
              "      <th>0</th>\n",
              "      <td>1</td>\n",
              "    </tr>\n",
              "    <tr>\n",
              "      <th>1</th>\n",
              "      <td>1</td>\n",
              "    </tr>\n",
              "    <tr>\n",
              "      <th>2</th>\n",
              "      <td>0</td>\n",
              "    </tr>\n",
              "    <tr>\n",
              "      <th>3</th>\n",
              "      <td>2</td>\n",
              "    </tr>\n",
              "    <tr>\n",
              "      <th>4</th>\n",
              "      <td>1</td>\n",
              "    </tr>\n",
              "  </tbody>\n",
              "</table>\n",
              "</div>\n",
              "      <button class=\"colab-df-convert\" onclick=\"convertToInteractive('df-5615a6fb-16ad-4672-af39-b4d04bd6bc54')\"\n",
              "              title=\"Convert this dataframe to an interactive table.\"\n",
              "              style=\"display:none;\">\n",
              "        \n",
              "  <svg xmlns=\"http://www.w3.org/2000/svg\" height=\"24px\"viewBox=\"0 0 24 24\"\n",
              "       width=\"24px\">\n",
              "    <path d=\"M0 0h24v24H0V0z\" fill=\"none\"/>\n",
              "    <path d=\"M18.56 5.44l.94 2.06.94-2.06 2.06-.94-2.06-.94-.94-2.06-.94 2.06-2.06.94zm-11 1L8.5 8.5l.94-2.06 2.06-.94-2.06-.94L8.5 2.5l-.94 2.06-2.06.94zm10 10l.94 2.06.94-2.06 2.06-.94-2.06-.94-.94-2.06-.94 2.06-2.06.94z\"/><path d=\"M17.41 7.96l-1.37-1.37c-.4-.4-.92-.59-1.43-.59-.52 0-1.04.2-1.43.59L10.3 9.45l-7.72 7.72c-.78.78-.78 2.05 0 2.83L4 21.41c.39.39.9.59 1.41.59.51 0 1.02-.2 1.41-.59l7.78-7.78 2.81-2.81c.8-.78.8-2.07 0-2.86zM5.41 20L4 18.59l7.72-7.72 1.47 1.35L5.41 20z\"/>\n",
              "  </svg>\n",
              "      </button>\n",
              "      \n",
              "  <style>\n",
              "    .colab-df-container {\n",
              "      display:flex;\n",
              "      flex-wrap:wrap;\n",
              "      gap: 12px;\n",
              "    }\n",
              "\n",
              "    .colab-df-convert {\n",
              "      background-color: #E8F0FE;\n",
              "      border: none;\n",
              "      border-radius: 50%;\n",
              "      cursor: pointer;\n",
              "      display: none;\n",
              "      fill: #1967D2;\n",
              "      height: 32px;\n",
              "      padding: 0 0 0 0;\n",
              "      width: 32px;\n",
              "    }\n",
              "\n",
              "    .colab-df-convert:hover {\n",
              "      background-color: #E2EBFA;\n",
              "      box-shadow: 0px 1px 2px rgba(60, 64, 67, 0.3), 0px 1px 3px 1px rgba(60, 64, 67, 0.15);\n",
              "      fill: #174EA6;\n",
              "    }\n",
              "\n",
              "    [theme=dark] .colab-df-convert {\n",
              "      background-color: #3B4455;\n",
              "      fill: #D2E3FC;\n",
              "    }\n",
              "\n",
              "    [theme=dark] .colab-df-convert:hover {\n",
              "      background-color: #434B5C;\n",
              "      box-shadow: 0px 1px 3px 1px rgba(0, 0, 0, 0.15);\n",
              "      filter: drop-shadow(0px 1px 2px rgba(0, 0, 0, 0.3));\n",
              "      fill: #FFFFFF;\n",
              "    }\n",
              "  </style>\n",
              "\n",
              "      <script>\n",
              "        const buttonEl =\n",
              "          document.querySelector('#df-5615a6fb-16ad-4672-af39-b4d04bd6bc54 button.colab-df-convert');\n",
              "        buttonEl.style.display =\n",
              "          google.colab.kernel.accessAllowed ? 'block' : 'none';\n",
              "\n",
              "        async function convertToInteractive(key) {\n",
              "          const element = document.querySelector('#df-5615a6fb-16ad-4672-af39-b4d04bd6bc54');\n",
              "          const dataTable =\n",
              "            await google.colab.kernel.invokeFunction('convertToInteractive',\n",
              "                                                     [key], {});\n",
              "          if (!dataTable) return;\n",
              "\n",
              "          const docLinkHtml = 'Like what you see? Visit the ' +\n",
              "            '<a target=\"_blank\" href=https://colab.research.google.com/notebooks/data_table.ipynb>data table notebook</a>'\n",
              "            + ' to learn more about interactive tables.';\n",
              "          element.innerHTML = '';\n",
              "          dataTable['output_type'] = 'display_data';\n",
              "          await google.colab.output.renderOutput(dataTable, element);\n",
              "          const docLink = document.createElement('div');\n",
              "          docLink.innerHTML = docLinkHtml;\n",
              "          element.appendChild(docLink);\n",
              "        }\n",
              "      </script>\n",
              "    </div>\n",
              "  </div>\n",
              "  "
            ]
          },
          "metadata": {},
          "execution_count": 1639
        }
      ]
    },
    {
      "cell_type": "code",
      "source": [
        "prediction[\"Predicciones\"].value_counts()"
      ],
      "metadata": {
        "id": "svaCzdHM67Qj",
        "colab": {
          "base_uri": "https://localhost:8080/"
        },
        "outputId": "df93eebd-19be-4c02-a9d9-1c14ea2bffdf"
      },
      "execution_count": 1640,
      "outputs": [
        {
          "output_type": "execute_result",
          "data": {
            "text/plain": [
              "1    1568\n",
              "0    1303\n",
              "2     129\n",
              "Name: Predicciones, dtype: int64"
            ]
          },
          "metadata": {},
          "execution_count": 1640
        }
      ]
    },
    {
      "cell_type": "code",
      "execution_count": 1641,
      "metadata": {
        "id": "w5IZYMqhJOIE"
      },
      "outputs": [],
      "source": [
        "prediction.to_csv(\"Results_dt.csv\")"
      ]
    },
    {
      "cell_type": "code",
      "execution_count": 1642,
      "metadata": {
        "id": "xxXnK6eYJOIF",
        "colab": {
          "base_uri": "https://localhost:8080/",
          "height": 17
        },
        "outputId": "2b6d9014-0689-4294-bf0e-fd1db9e0381a"
      },
      "outputs": [
        {
          "output_type": "display_data",
          "data": {
            "text/plain": [
              "<IPython.core.display.Javascript object>"
            ],
            "application/javascript": [
              "\n",
              "    async function download(id, filename, size) {\n",
              "      if (!google.colab.kernel.accessAllowed) {\n",
              "        return;\n",
              "      }\n",
              "      const div = document.createElement('div');\n",
              "      const label = document.createElement('label');\n",
              "      label.textContent = `Downloading \"${filename}\": `;\n",
              "      div.appendChild(label);\n",
              "      const progress = document.createElement('progress');\n",
              "      progress.max = size;\n",
              "      div.appendChild(progress);\n",
              "      document.body.appendChild(div);\n",
              "\n",
              "      const buffers = [];\n",
              "      let downloaded = 0;\n",
              "\n",
              "      const channel = await google.colab.kernel.comms.open(id);\n",
              "      // Send a message to notify the kernel that we're ready.\n",
              "      channel.send({})\n",
              "\n",
              "      for await (const message of channel.messages) {\n",
              "        // Send a message to notify the kernel that we're ready.\n",
              "        channel.send({})\n",
              "        if (message.buffers) {\n",
              "          for (const buffer of message.buffers) {\n",
              "            buffers.push(buffer);\n",
              "            downloaded += buffer.byteLength;\n",
              "            progress.value = downloaded;\n",
              "          }\n",
              "        }\n",
              "      }\n",
              "      const blob = new Blob(buffers, {type: 'application/binary'});\n",
              "      const a = document.createElement('a');\n",
              "      a.href = window.URL.createObjectURL(blob);\n",
              "      a.download = filename;\n",
              "      div.appendChild(a);\n",
              "      a.click();\n",
              "      div.remove();\n",
              "    }\n",
              "  "
            ]
          },
          "metadata": {}
        },
        {
          "output_type": "display_data",
          "data": {
            "text/plain": [
              "<IPython.core.display.Javascript object>"
            ],
            "application/javascript": [
              "download(\"download_4fca5fb2-8467-47a2-a367-64f54ebd702a\", \"Results_dt.csv\", 19904)"
            ]
          },
          "metadata": {}
        }
      ],
      "source": [
        "from google.colab import files\n",
        "files.download (\"Results_dt.csv\")"
      ]
    },
    {
      "cell_type": "markdown",
      "source": [
        "##Predicción con Random Forest (rf)"
      ],
      "metadata": {
        "id": "4RyaIz4LOHpb"
      }
    },
    {
      "cell_type": "code",
      "source": [
        "prediction = rf.predict(df_test)"
      ],
      "metadata": {
        "id": "jaip6SJAOHpb"
      },
      "execution_count": 1614,
      "outputs": []
    },
    {
      "cell_type": "code",
      "source": [
        "prediction"
      ],
      "metadata": {
        "colab": {
          "base_uri": "https://localhost:8080/"
        },
        "outputId": "465200d7-ec74-491f-d67e-2c0956d725ac",
        "id": "sw6Y4OHoOHpc"
      },
      "execution_count": 1615,
      "outputs": [
        {
          "output_type": "execute_result",
          "data": {
            "text/plain": [
              "array([1, 1, 0, ..., 1, 0, 0])"
            ]
          },
          "metadata": {},
          "execution_count": 1615
        }
      ]
    },
    {
      "cell_type": "code",
      "source": [
        "prediction = pd.DataFrame(prediction)"
      ],
      "metadata": {
        "id": "K1i663fzOHpc"
      },
      "execution_count": 1616,
      "outputs": []
    },
    {
      "cell_type": "code",
      "source": [
        "prediction.info()"
      ],
      "metadata": {
        "colab": {
          "base_uri": "https://localhost:8080/"
        },
        "outputId": "ccab9d49-5b9f-426d-fed7-f9dae1bd83c5",
        "id": "W-yHrl44OHpc"
      },
      "execution_count": 1617,
      "outputs": [
        {
          "output_type": "stream",
          "name": "stdout",
          "text": [
            "<class 'pandas.core.frame.DataFrame'>\n",
            "RangeIndex: 3000 entries, 0 to 2999\n",
            "Data columns (total 1 columns):\n",
            " #   Column  Non-Null Count  Dtype\n",
            "---  ------  --------------  -----\n",
            " 0   0       3000 non-null   int64\n",
            "dtypes: int64(1)\n",
            "memory usage: 23.6 KB\n"
          ]
        }
      ]
    },
    {
      "cell_type": "code",
      "source": [
        "prediction.rename(columns = {0:'Predicciones'}, inplace = True)\n"
      ],
      "metadata": {
        "id": "J1E9V8RyOHpd"
      },
      "execution_count": 1618,
      "outputs": []
    },
    {
      "cell_type": "code",
      "source": [
        "prediction.head()"
      ],
      "metadata": {
        "colab": {
          "base_uri": "https://localhost:8080/",
          "height": 206
        },
        "outputId": "fbe4583a-70df-46a5-d3fe-9c95fc720aa3",
        "id": "1-MFTeFuOHpd"
      },
      "execution_count": 1619,
      "outputs": [
        {
          "output_type": "execute_result",
          "data": {
            "text/plain": [
              "   Predicciones\n",
              "0             1\n",
              "1             1\n",
              "2             0\n",
              "3             0\n",
              "4             1"
            ],
            "text/html": [
              "\n",
              "  <div id=\"df-91165999-31ff-4e64-b406-b0847d580a37\">\n",
              "    <div class=\"colab-df-container\">\n",
              "      <div>\n",
              "<style scoped>\n",
              "    .dataframe tbody tr th:only-of-type {\n",
              "        vertical-align: middle;\n",
              "    }\n",
              "\n",
              "    .dataframe tbody tr th {\n",
              "        vertical-align: top;\n",
              "    }\n",
              "\n",
              "    .dataframe thead th {\n",
              "        text-align: right;\n",
              "    }\n",
              "</style>\n",
              "<table border=\"1\" class=\"dataframe\">\n",
              "  <thead>\n",
              "    <tr style=\"text-align: right;\">\n",
              "      <th></th>\n",
              "      <th>Predicciones</th>\n",
              "    </tr>\n",
              "  </thead>\n",
              "  <tbody>\n",
              "    <tr>\n",
              "      <th>0</th>\n",
              "      <td>1</td>\n",
              "    </tr>\n",
              "    <tr>\n",
              "      <th>1</th>\n",
              "      <td>1</td>\n",
              "    </tr>\n",
              "    <tr>\n",
              "      <th>2</th>\n",
              "      <td>0</td>\n",
              "    </tr>\n",
              "    <tr>\n",
              "      <th>3</th>\n",
              "      <td>0</td>\n",
              "    </tr>\n",
              "    <tr>\n",
              "      <th>4</th>\n",
              "      <td>1</td>\n",
              "    </tr>\n",
              "  </tbody>\n",
              "</table>\n",
              "</div>\n",
              "      <button class=\"colab-df-convert\" onclick=\"convertToInteractive('df-91165999-31ff-4e64-b406-b0847d580a37')\"\n",
              "              title=\"Convert this dataframe to an interactive table.\"\n",
              "              style=\"display:none;\">\n",
              "        \n",
              "  <svg xmlns=\"http://www.w3.org/2000/svg\" height=\"24px\"viewBox=\"0 0 24 24\"\n",
              "       width=\"24px\">\n",
              "    <path d=\"M0 0h24v24H0V0z\" fill=\"none\"/>\n",
              "    <path d=\"M18.56 5.44l.94 2.06.94-2.06 2.06-.94-2.06-.94-.94-2.06-.94 2.06-2.06.94zm-11 1L8.5 8.5l.94-2.06 2.06-.94-2.06-.94L8.5 2.5l-.94 2.06-2.06.94zm10 10l.94 2.06.94-2.06 2.06-.94-2.06-.94-.94-2.06-.94 2.06-2.06.94z\"/><path d=\"M17.41 7.96l-1.37-1.37c-.4-.4-.92-.59-1.43-.59-.52 0-1.04.2-1.43.59L10.3 9.45l-7.72 7.72c-.78.78-.78 2.05 0 2.83L4 21.41c.39.39.9.59 1.41.59.51 0 1.02-.2 1.41-.59l7.78-7.78 2.81-2.81c.8-.78.8-2.07 0-2.86zM5.41 20L4 18.59l7.72-7.72 1.47 1.35L5.41 20z\"/>\n",
              "  </svg>\n",
              "      </button>\n",
              "      \n",
              "  <style>\n",
              "    .colab-df-container {\n",
              "      display:flex;\n",
              "      flex-wrap:wrap;\n",
              "      gap: 12px;\n",
              "    }\n",
              "\n",
              "    .colab-df-convert {\n",
              "      background-color: #E8F0FE;\n",
              "      border: none;\n",
              "      border-radius: 50%;\n",
              "      cursor: pointer;\n",
              "      display: none;\n",
              "      fill: #1967D2;\n",
              "      height: 32px;\n",
              "      padding: 0 0 0 0;\n",
              "      width: 32px;\n",
              "    }\n",
              "\n",
              "    .colab-df-convert:hover {\n",
              "      background-color: #E2EBFA;\n",
              "      box-shadow: 0px 1px 2px rgba(60, 64, 67, 0.3), 0px 1px 3px 1px rgba(60, 64, 67, 0.15);\n",
              "      fill: #174EA6;\n",
              "    }\n",
              "\n",
              "    [theme=dark] .colab-df-convert {\n",
              "      background-color: #3B4455;\n",
              "      fill: #D2E3FC;\n",
              "    }\n",
              "\n",
              "    [theme=dark] .colab-df-convert:hover {\n",
              "      background-color: #434B5C;\n",
              "      box-shadow: 0px 1px 3px 1px rgba(0, 0, 0, 0.15);\n",
              "      filter: drop-shadow(0px 1px 2px rgba(0, 0, 0, 0.3));\n",
              "      fill: #FFFFFF;\n",
              "    }\n",
              "  </style>\n",
              "\n",
              "      <script>\n",
              "        const buttonEl =\n",
              "          document.querySelector('#df-91165999-31ff-4e64-b406-b0847d580a37 button.colab-df-convert');\n",
              "        buttonEl.style.display =\n",
              "          google.colab.kernel.accessAllowed ? 'block' : 'none';\n",
              "\n",
              "        async function convertToInteractive(key) {\n",
              "          const element = document.querySelector('#df-91165999-31ff-4e64-b406-b0847d580a37');\n",
              "          const dataTable =\n",
              "            await google.colab.kernel.invokeFunction('convertToInteractive',\n",
              "                                                     [key], {});\n",
              "          if (!dataTable) return;\n",
              "\n",
              "          const docLinkHtml = 'Like what you see? Visit the ' +\n",
              "            '<a target=\"_blank\" href=https://colab.research.google.com/notebooks/data_table.ipynb>data table notebook</a>'\n",
              "            + ' to learn more about interactive tables.';\n",
              "          element.innerHTML = '';\n",
              "          dataTable['output_type'] = 'display_data';\n",
              "          await google.colab.output.renderOutput(dataTable, element);\n",
              "          const docLink = document.createElement('div');\n",
              "          docLink.innerHTML = docLinkHtml;\n",
              "          element.appendChild(docLink);\n",
              "        }\n",
              "      </script>\n",
              "    </div>\n",
              "  </div>\n",
              "  "
            ]
          },
          "metadata": {},
          "execution_count": 1619
        }
      ]
    },
    {
      "cell_type": "code",
      "source": [
        "prediction[\"Predicciones\"].value_counts()"
      ],
      "metadata": {
        "colab": {
          "base_uri": "https://localhost:8080/"
        },
        "outputId": "a350bb1e-5e28-4606-d3bc-c8e730192dfd",
        "id": "sYIt84dvOHpd"
      },
      "execution_count": 1620,
      "outputs": [
        {
          "output_type": "execute_result",
          "data": {
            "text/plain": [
              "0    1526\n",
              "1    1440\n",
              "2      34\n",
              "Name: Predicciones, dtype: int64"
            ]
          },
          "metadata": {},
          "execution_count": 1620
        }
      ]
    },
    {
      "cell_type": "code",
      "execution_count": 1621,
      "metadata": {
        "id": "j-o-CAdPOHpe"
      },
      "outputs": [],
      "source": [
        "prediction.to_csv(\"Results_rf.csv\")"
      ]
    },
    {
      "cell_type": "code",
      "execution_count": 1622,
      "metadata": {
        "colab": {
          "base_uri": "https://localhost:8080/",
          "height": 17
        },
        "outputId": "bf9d737d-432b-4735-96bf-851edbc137ca",
        "id": "5npx372pOHpe"
      },
      "outputs": [
        {
          "output_type": "display_data",
          "data": {
            "text/plain": [
              "<IPython.core.display.Javascript object>"
            ],
            "application/javascript": [
              "\n",
              "    async function download(id, filename, size) {\n",
              "      if (!google.colab.kernel.accessAllowed) {\n",
              "        return;\n",
              "      }\n",
              "      const div = document.createElement('div');\n",
              "      const label = document.createElement('label');\n",
              "      label.textContent = `Downloading \"${filename}\": `;\n",
              "      div.appendChild(label);\n",
              "      const progress = document.createElement('progress');\n",
              "      progress.max = size;\n",
              "      div.appendChild(progress);\n",
              "      document.body.appendChild(div);\n",
              "\n",
              "      const buffers = [];\n",
              "      let downloaded = 0;\n",
              "\n",
              "      const channel = await google.colab.kernel.comms.open(id);\n",
              "      // Send a message to notify the kernel that we're ready.\n",
              "      channel.send({})\n",
              "\n",
              "      for await (const message of channel.messages) {\n",
              "        // Send a message to notify the kernel that we're ready.\n",
              "        channel.send({})\n",
              "        if (message.buffers) {\n",
              "          for (const buffer of message.buffers) {\n",
              "            buffers.push(buffer);\n",
              "            downloaded += buffer.byteLength;\n",
              "            progress.value = downloaded;\n",
              "          }\n",
              "        }\n",
              "      }\n",
              "      const blob = new Blob(buffers, {type: 'application/binary'});\n",
              "      const a = document.createElement('a');\n",
              "      a.href = window.URL.createObjectURL(blob);\n",
              "      a.download = filename;\n",
              "      div.appendChild(a);\n",
              "      a.click();\n",
              "      div.remove();\n",
              "    }\n",
              "  "
            ]
          },
          "metadata": {}
        },
        {
          "output_type": "display_data",
          "data": {
            "text/plain": [
              "<IPython.core.display.Javascript object>"
            ],
            "application/javascript": [
              "download(\"download_0946e9a7-7cbb-45fd-be69-1ea55b783f3f\", \"Results_rf.csv\", 19904)"
            ]
          },
          "metadata": {}
        }
      ],
      "source": [
        "from google.colab import files\n",
        "files.download (\"Results_rf.csv\")"
      ]
    },
    {
      "cell_type": "markdown",
      "source": [
        "##Predicción con Extreme Gradient Boosting Classifier (xgb)"
      ],
      "metadata": {
        "id": "NWV0HIXQOJIN"
      }
    },
    {
      "cell_type": "code",
      "source": [
        "prediction = xgb.predict(df_test)"
      ],
      "metadata": {
        "id": "vR757kA3OJIO"
      },
      "execution_count": 1623,
      "outputs": []
    },
    {
      "cell_type": "code",
      "source": [
        "prediction"
      ],
      "metadata": {
        "colab": {
          "base_uri": "https://localhost:8080/"
        },
        "outputId": "c16bb96e-f6a3-4b13-815c-1fbb519c6710",
        "id": "BVZ8cuKLOJIO"
      },
      "execution_count": 1624,
      "outputs": [
        {
          "output_type": "execute_result",
          "data": {
            "text/plain": [
              "array([1, 1, 0, ..., 1, 0, 2])"
            ]
          },
          "metadata": {},
          "execution_count": 1624
        }
      ]
    },
    {
      "cell_type": "code",
      "source": [
        "prediction = pd.DataFrame(prediction)"
      ],
      "metadata": {
        "id": "lLVPhcsROJIP"
      },
      "execution_count": 1625,
      "outputs": []
    },
    {
      "cell_type": "code",
      "source": [
        "prediction.info()"
      ],
      "metadata": {
        "colab": {
          "base_uri": "https://localhost:8080/"
        },
        "outputId": "ae2f8517-f05f-4956-9c12-3dee7d734c0c",
        "id": "8ZgAsR-bOJIP"
      },
      "execution_count": 1626,
      "outputs": [
        {
          "output_type": "stream",
          "name": "stdout",
          "text": [
            "<class 'pandas.core.frame.DataFrame'>\n",
            "RangeIndex: 3000 entries, 0 to 2999\n",
            "Data columns (total 1 columns):\n",
            " #   Column  Non-Null Count  Dtype\n",
            "---  ------  --------------  -----\n",
            " 0   0       3000 non-null   int64\n",
            "dtypes: int64(1)\n",
            "memory usage: 23.6 KB\n"
          ]
        }
      ]
    },
    {
      "cell_type": "code",
      "source": [
        "prediction.rename(columns = {0:'Predicciones'}, inplace = True)\n"
      ],
      "metadata": {
        "id": "XDr8QRTAOJIP"
      },
      "execution_count": 1627,
      "outputs": []
    },
    {
      "cell_type": "code",
      "source": [
        "prediction.head()"
      ],
      "metadata": {
        "colab": {
          "base_uri": "https://localhost:8080/",
          "height": 206
        },
        "outputId": "ab916227-0b0d-43f2-e07b-31079cac3cef",
        "id": "eu2BC87dOJIP"
      },
      "execution_count": 1628,
      "outputs": [
        {
          "output_type": "execute_result",
          "data": {
            "text/plain": [
              "   Predicciones\n",
              "0             1\n",
              "1             1\n",
              "2             0\n",
              "3             2\n",
              "4             1"
            ],
            "text/html": [
              "\n",
              "  <div id=\"df-830291d1-b272-437b-ac9d-0782c92e47de\">\n",
              "    <div class=\"colab-df-container\">\n",
              "      <div>\n",
              "<style scoped>\n",
              "    .dataframe tbody tr th:only-of-type {\n",
              "        vertical-align: middle;\n",
              "    }\n",
              "\n",
              "    .dataframe tbody tr th {\n",
              "        vertical-align: top;\n",
              "    }\n",
              "\n",
              "    .dataframe thead th {\n",
              "        text-align: right;\n",
              "    }\n",
              "</style>\n",
              "<table border=\"1\" class=\"dataframe\">\n",
              "  <thead>\n",
              "    <tr style=\"text-align: right;\">\n",
              "      <th></th>\n",
              "      <th>Predicciones</th>\n",
              "    </tr>\n",
              "  </thead>\n",
              "  <tbody>\n",
              "    <tr>\n",
              "      <th>0</th>\n",
              "      <td>1</td>\n",
              "    </tr>\n",
              "    <tr>\n",
              "      <th>1</th>\n",
              "      <td>1</td>\n",
              "    </tr>\n",
              "    <tr>\n",
              "      <th>2</th>\n",
              "      <td>0</td>\n",
              "    </tr>\n",
              "    <tr>\n",
              "      <th>3</th>\n",
              "      <td>2</td>\n",
              "    </tr>\n",
              "    <tr>\n",
              "      <th>4</th>\n",
              "      <td>1</td>\n",
              "    </tr>\n",
              "  </tbody>\n",
              "</table>\n",
              "</div>\n",
              "      <button class=\"colab-df-convert\" onclick=\"convertToInteractive('df-830291d1-b272-437b-ac9d-0782c92e47de')\"\n",
              "              title=\"Convert this dataframe to an interactive table.\"\n",
              "              style=\"display:none;\">\n",
              "        \n",
              "  <svg xmlns=\"http://www.w3.org/2000/svg\" height=\"24px\"viewBox=\"0 0 24 24\"\n",
              "       width=\"24px\">\n",
              "    <path d=\"M0 0h24v24H0V0z\" fill=\"none\"/>\n",
              "    <path d=\"M18.56 5.44l.94 2.06.94-2.06 2.06-.94-2.06-.94-.94-2.06-.94 2.06-2.06.94zm-11 1L8.5 8.5l.94-2.06 2.06-.94-2.06-.94L8.5 2.5l-.94 2.06-2.06.94zm10 10l.94 2.06.94-2.06 2.06-.94-2.06-.94-.94-2.06-.94 2.06-2.06.94z\"/><path d=\"M17.41 7.96l-1.37-1.37c-.4-.4-.92-.59-1.43-.59-.52 0-1.04.2-1.43.59L10.3 9.45l-7.72 7.72c-.78.78-.78 2.05 0 2.83L4 21.41c.39.39.9.59 1.41.59.51 0 1.02-.2 1.41-.59l7.78-7.78 2.81-2.81c.8-.78.8-2.07 0-2.86zM5.41 20L4 18.59l7.72-7.72 1.47 1.35L5.41 20z\"/>\n",
              "  </svg>\n",
              "      </button>\n",
              "      \n",
              "  <style>\n",
              "    .colab-df-container {\n",
              "      display:flex;\n",
              "      flex-wrap:wrap;\n",
              "      gap: 12px;\n",
              "    }\n",
              "\n",
              "    .colab-df-convert {\n",
              "      background-color: #E8F0FE;\n",
              "      border: none;\n",
              "      border-radius: 50%;\n",
              "      cursor: pointer;\n",
              "      display: none;\n",
              "      fill: #1967D2;\n",
              "      height: 32px;\n",
              "      padding: 0 0 0 0;\n",
              "      width: 32px;\n",
              "    }\n",
              "\n",
              "    .colab-df-convert:hover {\n",
              "      background-color: #E2EBFA;\n",
              "      box-shadow: 0px 1px 2px rgba(60, 64, 67, 0.3), 0px 1px 3px 1px rgba(60, 64, 67, 0.15);\n",
              "      fill: #174EA6;\n",
              "    }\n",
              "\n",
              "    [theme=dark] .colab-df-convert {\n",
              "      background-color: #3B4455;\n",
              "      fill: #D2E3FC;\n",
              "    }\n",
              "\n",
              "    [theme=dark] .colab-df-convert:hover {\n",
              "      background-color: #434B5C;\n",
              "      box-shadow: 0px 1px 3px 1px rgba(0, 0, 0, 0.15);\n",
              "      filter: drop-shadow(0px 1px 2px rgba(0, 0, 0, 0.3));\n",
              "      fill: #FFFFFF;\n",
              "    }\n",
              "  </style>\n",
              "\n",
              "      <script>\n",
              "        const buttonEl =\n",
              "          document.querySelector('#df-830291d1-b272-437b-ac9d-0782c92e47de button.colab-df-convert');\n",
              "        buttonEl.style.display =\n",
              "          google.colab.kernel.accessAllowed ? 'block' : 'none';\n",
              "\n",
              "        async function convertToInteractive(key) {\n",
              "          const element = document.querySelector('#df-830291d1-b272-437b-ac9d-0782c92e47de');\n",
              "          const dataTable =\n",
              "            await google.colab.kernel.invokeFunction('convertToInteractive',\n",
              "                                                     [key], {});\n",
              "          if (!dataTable) return;\n",
              "\n",
              "          const docLinkHtml = 'Like what you see? Visit the ' +\n",
              "            '<a target=\"_blank\" href=https://colab.research.google.com/notebooks/data_table.ipynb>data table notebook</a>'\n",
              "            + ' to learn more about interactive tables.';\n",
              "          element.innerHTML = '';\n",
              "          dataTable['output_type'] = 'display_data';\n",
              "          await google.colab.output.renderOutput(dataTable, element);\n",
              "          const docLink = document.createElement('div');\n",
              "          docLink.innerHTML = docLinkHtml;\n",
              "          element.appendChild(docLink);\n",
              "        }\n",
              "      </script>\n",
              "    </div>\n",
              "  </div>\n",
              "  "
            ]
          },
          "metadata": {},
          "execution_count": 1628
        }
      ]
    },
    {
      "cell_type": "code",
      "source": [
        "prediction[\"Predicciones\"].value_counts()"
      ],
      "metadata": {
        "colab": {
          "base_uri": "https://localhost:8080/"
        },
        "outputId": "570369eb-a523-433a-fdf0-30f6e5c533bd",
        "id": "F4tB35X4OJIQ"
      },
      "execution_count": 1629,
      "outputs": [
        {
          "output_type": "execute_result",
          "data": {
            "text/plain": [
              "0    1469\n",
              "1    1361\n",
              "2     170\n",
              "Name: Predicciones, dtype: int64"
            ]
          },
          "metadata": {},
          "execution_count": 1629
        }
      ]
    },
    {
      "cell_type": "code",
      "execution_count": 1630,
      "metadata": {
        "id": "KgATOozpOJIQ"
      },
      "outputs": [],
      "source": [
        "prediction.to_csv(\"Results_xgb.csv\")"
      ]
    },
    {
      "cell_type": "code",
      "execution_count": 1631,
      "metadata": {
        "colab": {
          "base_uri": "https://localhost:8080/",
          "height": 17
        },
        "outputId": "798e33a4-13e5-48da-aa2b-ee3e25820d53",
        "id": "fEWnaV4cOJIQ"
      },
      "outputs": [
        {
          "output_type": "display_data",
          "data": {
            "text/plain": [
              "<IPython.core.display.Javascript object>"
            ],
            "application/javascript": [
              "\n",
              "    async function download(id, filename, size) {\n",
              "      if (!google.colab.kernel.accessAllowed) {\n",
              "        return;\n",
              "      }\n",
              "      const div = document.createElement('div');\n",
              "      const label = document.createElement('label');\n",
              "      label.textContent = `Downloading \"${filename}\": `;\n",
              "      div.appendChild(label);\n",
              "      const progress = document.createElement('progress');\n",
              "      progress.max = size;\n",
              "      div.appendChild(progress);\n",
              "      document.body.appendChild(div);\n",
              "\n",
              "      const buffers = [];\n",
              "      let downloaded = 0;\n",
              "\n",
              "      const channel = await google.colab.kernel.comms.open(id);\n",
              "      // Send a message to notify the kernel that we're ready.\n",
              "      channel.send({})\n",
              "\n",
              "      for await (const message of channel.messages) {\n",
              "        // Send a message to notify the kernel that we're ready.\n",
              "        channel.send({})\n",
              "        if (message.buffers) {\n",
              "          for (const buffer of message.buffers) {\n",
              "            buffers.push(buffer);\n",
              "            downloaded += buffer.byteLength;\n",
              "            progress.value = downloaded;\n",
              "          }\n",
              "        }\n",
              "      }\n",
              "      const blob = new Blob(buffers, {type: 'application/binary'});\n",
              "      const a = document.createElement('a');\n",
              "      a.href = window.URL.createObjectURL(blob);\n",
              "      a.download = filename;\n",
              "      div.appendChild(a);\n",
              "      a.click();\n",
              "      div.remove();\n",
              "    }\n",
              "  "
            ]
          },
          "metadata": {}
        },
        {
          "output_type": "display_data",
          "data": {
            "text/plain": [
              "<IPython.core.display.Javascript object>"
            ],
            "application/javascript": [
              "download(\"download_01472f81-bbff-41ab-b79e-e54d8cb2d3cf\", \"Results_xgb.csv\", 19904)"
            ]
          },
          "metadata": {}
        }
      ],
      "source": [
        "from google.colab import files\n",
        "files.download (\"Results_xgb.csv\")"
      ]
    }
  ],
  "metadata": {
    "colab": {
      "collapsed_sections": [
        "q3fFVaCA1XZ5",
        "ztQ3mJeR9XSD",
        "3xP4O0vZ9fgJ"
      ],
      "name": "EDA&Predictivo_Insectos.ipynb",
      "toc_visible": true,
      "provenance": []
    },
    "kernelspec": {
      "display_name": "Python 3",
      "name": "python3"
    },
    "language_info": {
      "name": "python"
    }
  },
  "nbformat": 4,
  "nbformat_minor": 0
}